{
 "cells": [
  {
   "cell_type": "code",
   "execution_count": null,
   "metadata": {
    "scrolled": true
   },
   "outputs": [],
   "source": [
    "s = input()"
   ]
  },
  {
   "cell_type": "code",
   "execution_count": null,
   "metadata": {},
   "outputs": [],
   "source": [
    "cnt=0\n",
    "while True:\n",
    "    if \"c=\" in s:\n",
    "        cnt+=s.count(\"c=\")\n",
    "        s = s.replace(\"c=\",\" \")\n",
    "    elif \"c-\" in s:\n",
    "        cnt+=s.count(\"c-\")\n",
    "        s = s.replace(\"c-\",\" \")\n",
    "    elif \"dz=\" in s:\n",
    "        cnt+=s.count(\"dz=\")\n",
    "        s = s.replace(\"dz=\",\" \")\n",
    "    elif \"d-\" in s:\n",
    "        cnt+=s.count(\"d-\")\n",
    "        s = s.replace(\"d-\",\" \")\n",
    "    elif \"lj\" in s:\n",
    "        cnt+=s.count(\"lj\")\n",
    "        s = s.replace(\"lj\",\" \")\n",
    "    elif \"nj\" in s:\n",
    "        cnt+=s.count(\"nj\")\n",
    "        s = s.replace(\"nj\",\" \")\n",
    "    elif \"s=\" in s:\n",
    "        cnt+=s.count(\"s=\")\n",
    "        s = s.replace(\"s=\",\" \")\n",
    "    elif \"z=\" in s:\n",
    "        cnt+=s.count(\"z=\")\n",
    "        s = s.replace(\"z=\",\" \")\n",
    "    else:\n",
    "        s = s.replace(\" \",\"\")\n",
    "        cnt+=len(s)\n",
    "        s = ''    \n",
    "    if s == '':\n",
    "        break\n",
    "print(cnt)"
   ]
  },
  {
   "cell_type": "code",
   "execution_count": null,
   "metadata": {
    "scrolled": true
   },
   "outputs": [],
   "source": [
    "N = input()\n",
    "words=[]\n",
    "for i in range(int(N)):\n",
    "    a = input()\n",
    "    words.append(a)\n",
    "print(words)"
   ]
  },
  {
   "cell_type": "code",
   "execution_count": null,
   "metadata": {},
   "outputs": [],
   "source": [
    "cnt=0\n",
    "for word in words:\n",
    "    for j in range(len(word)):\n",
    "        li=[]\n",
    "        w = j[-1]\n",
    "        li.append(w)\n",
    "        j = j.replace(w,\"\")\n",
    "        if w==j[-1] and j[-1] in li:\n",
    "            pass\n",
    "        elif w:\n",
    "    s=[]\n",
    "    cnt=0\n",
    "    w = word[-1]\n",
    "    word = word.replace(w,\"\")\n",
    "    if w==word[-1] and word[-1] not in s:\n",
    "        print('group word')\n",
    "\n",
    "    elif w in word and w not in s:\n",
    "        \n",
    "    s.append(w)\n",
    "print(cnt)"
   ]
  },
  {
   "cell_type": "code",
   "execution_count": null,
   "metadata": {},
   "outputs": [],
   "source": [
    "word = 'ababbb'\n",
    "w = word[-1]\n",
    "word = word.replace(w,\"\")\n",
    "word"
   ]
  },
  {
   "cell_type": "code",
   "execution_count": null,
   "metadata": {},
   "outputs": [],
   "source": [
    "word = 'ababbb'\n",
    "li=[]\n",
    "for i in range(len(word)):\n",
    "    w = word[-1]\n",
    "    word = word.replace(w,\"\")\n",
    "    if word[-1]!=w and word[-1] in li:\n",
    "        print(\"not group word\")\n",
    "    else:\n",
    "        print(\"group word\")"
   ]
  },
  {
   "cell_type": "code",
   "execution_count": null,
   "metadata": {},
   "outputs": [],
   "source": [
    "word = 'ababbb'\n",
    "word = list(word)\n",
    "word = word.remove(word.pop())\n",
    "word"
   ]
  },
  {
   "cell_type": "code",
   "execution_count": null,
   "metadata": {},
   "outputs": [],
   "source": [
    "word = ['a','b','c']\n",
    "word.remove('c')\n",
    "word"
   ]
  },
  {
   "cell_type": "code",
   "execution_count": null,
   "metadata": {},
   "outputs": [],
   "source": [
    "word = \"ababbb\"\n",
    "word = list(word)\n",
    "last = word[-1]\n",
    "word = del(word.pop())\n",
    "if last==word[-1]:\n",
    "    print('group word')\n",
    "    word."
   ]
  },
  {
   "cell_type": "code",
   "execution_count": null,
   "metadata": {},
   "outputs": [],
   "source": [
    "word = 'ababbb'\n",
    "word = list(word)\n",
    "letters=[]\n",
    "for i in range(len(word)):\n",
    "    last = word[-1]\n",
    "    letters.append(last)\n",
    "    word.remove(last)\n",
    "    if word[-1]!=last and word[-1] in letters:\n",
    "        print('not group word')\n",
    "    else:\n",
    "        print('group word')"
   ]
  },
  {
   "cell_type": "code",
   "execution_count": null,
   "metadata": {},
   "outputs": [],
   "source": [
    "li=[]\n",
    "word = 'abc'\n",
    "word = list(word)\n",
    "li.append(word[-1])\n",
    "li\n",
    "word.remove(word[-1])\n",
    "word"
   ]
  },
  {
   "cell_type": "code",
   "execution_count": null,
   "metadata": {},
   "outputs": [],
   "source": [
    "N = input()\n",
    "for i in range(int(N)):\n",
    "    word = input()\n",
    "    word = list(word)\n",
    "    li=[]\n",
    "    last = word[-1]\n",
    "    li.append(last)\n",
    "    word.remove(last)\n",
    "    if word[-1]!=last and last not in li:\n",
    "        print(\"no group\")\n",
    "        last = word[-1]\n",
    "        li.append(last)\n",
    "        word.remove(last)\n",
    "    else:\n",
    "        print(\"group\")\n",
    "        last = word[-1]\n",
    "        li.append(last)\n",
    "        word.remove(last)"
   ]
  },
  {
   "cell_type": "code",
   "execution_count": null,
   "metadata": {},
   "outputs": [],
   "source": [
    "w = ['a','b','c']\n",
    "w.pop()\n",
    "w"
   ]
  },
  {
   "cell_type": "code",
   "execution_count": null,
   "metadata": {},
   "outputs": [],
   "source": [
    "w = ['a']\n",
    "w.pop()\n",
    "w\n",
    "len(w)"
   ]
  },
  {
   "cell_type": "code",
   "execution_count": null,
   "metadata": {},
   "outputs": [],
   "source": [
    "N = input()\n",
    "cnt=0\n",
    "for i in range(int(N)):\n",
    "    wrd = input()\n",
    "    if len(wrd)==1:\n",
    "        cnt+=1\n",
    "    else:\n",
    "        i=0\n",
    "        li=[]\n",
    "        wrd = list(wrd)\n",
    "        for j in range(len(wrd)-1):\n",
    "            last = wrd[-1]\n",
    "            li.append(last)\n",
    "            wrd.pop()\n",
    "            if wrd[-1]!=last and wrd[-1] in li:  #no group word\n",
    "                i+=1\n",
    "            else:\n",
    "                pass\n",
    "    if i>=1:\n",
    "        cnt=0\n",
    "    else:\n",
    "        cnt+=1\n",
    "\n",
    "print(cnt)"
   ]
  },
  {
   "cell_type": "code",
   "execution_count": null,
   "metadata": {
    "scrolled": true
   },
   "outputs": [],
   "source": [
    "word = 'abc'\n",
    "word = list(word)\n",
    "c = word[-1]\n",
    "word.pop()\n",
    "word[-1]\n",
    "c"
   ]
  },
  {
   "cell_type": "code",
   "execution_count": null,
   "metadata": {},
   "outputs": [],
   "source": [
    "word = ['a','b','c']\n",
    "lis=[]\n",
    "w = word[-1]\n",
    "lis.append(w)\n",
    "lis\n",
    "word.pop()"
   ]
  },
  {
   "cell_type": "code",
   "execution_count": null,
   "metadata": {},
   "outputs": [],
   "source": [
    "word"
   ]
  },
  {
   "cell_type": "code",
   "execution_count": null,
   "metadata": {},
   "outputs": [],
   "source": [
    "cnt=0\n",
    "i=0\n",
    "wrd = 'christmas'\n",
    "wrd = list(wrd)\n",
    "for i in range(len(wrd)-1):\n",
    "    li=[]\n",
    "    last = wrd[-1]\n",
    "    li.append(last)\n",
    "    wrd.pop()\n",
    "    if wrd[-1]!=last and wrd[-1] in li:\n",
    "        pass\n",
    "    else:\n",
    "        i+=1\n",
    "    if i>= 1:\n",
    "        cnt+=1\n",
    "print(cnt)"
   ]
  },
  {
   "cell_type": "code",
   "execution_count": null,
   "metadata": {},
   "outputs": [],
   "source": [
    "if \n",
    "word = input().strip().split(' ')\n",
    "print(len(word))"
   ]
  },
  {
   "cell_type": "code",
   "execution_count": null,
   "metadata": {},
   "outputs": [],
   "source": [
    "word = input()"
   ]
  },
  {
   "cell_type": "code",
   "execution_count": null,
   "metadata": {},
   "outputs": [],
   "source": [
    "words = input()"
   ]
  },
  {
   "cell_type": "code",
   "execution_count": null,
   "metadata": {},
   "outputs": [],
   "source": [
    "words = input()\n",
    "words = word"
   ]
  },
  {
   "cell_type": "code",
   "execution_count": null,
   "metadata": {},
   "outputs": [],
   "source": [
    "def count(x):\n",
    "    x = x.strip().split(' ')\n",
    "    return len(x)"
   ]
  },
  {
   "cell_type": "code",
   "execution_count": null,
   "metadata": {},
   "outputs": [],
   "source": [
    "word = input()\n",
    "count(word)"
   ]
  },
  {
   "cell_type": "code",
   "execution_count": null,
   "metadata": {},
   "outputs": [],
   "source": [
    "word = input()\n",
    "words = word"
   ]
  },
  {
   "cell_type": "code",
   "execution_count": null,
   "metadata": {},
   "outputs": [],
   "source": [
    "word = input().strip()\n",
    "word = list(word)\n",
    "words = \"\"\n",
    "word_copy=[]\n",
    "for i in range(len(word)-1):\n",
    "    if word[-1]==' ' and word[-2]==' ':\n",
    "        break\n",
    "    else:\n",
    "        word_copy.append(word[-1])\n",
    "        del(word[-1])\n",
    "\n",
    "if len(word)!=0:\n",
    "    word_copy.append(word[0])\n",
    "    del(word[0])\n",
    "\n",
    "for j in word_copy:\n",
    "    words+=j\n",
    "words = words.split(\" \")\n",
    "print(len(words))"
   ]
  },
  {
   "cell_type": "code",
   "execution_count": null,
   "metadata": {},
   "outputs": [],
   "source": [
    "def word():\n",
    "    word = input().strip()\n",
    "    return word"
   ]
  },
  {
   "cell_type": "code",
   "execution_count": null,
   "metadata": {},
   "outputs": [],
   "source": [
    "w = word()\n",
    "w"
   ]
  },
  {
   "cell_type": "code",
   "execution_count": null,
   "metadata": {},
   "outputs": [],
   "source": [
    "len(w)"
   ]
  },
  {
   "cell_type": "code",
   "execution_count": null,
   "metadata": {},
   "outputs": [],
   "source": [
    "word_copy=[]\n",
    "while True:\n",
    "    if w[-1]==' ' and w[-2]==' ':\n",
    "        return w\n",
    "    else:\n",
    "        word_copy.append(w[-1])\n",
    "        del(w[-1])\n",
    "    if len(w)==0:\n",
    "        break\n",
    "print(word_copy)"
   ]
  },
  {
   "cell_type": "code",
   "execution_count": null,
   "metadata": {},
   "outputs": [],
   "source": [
    "X = int(input())"
   ]
  },
  {
   "cell_type": "code",
   "execution_count": null,
   "metadata": {},
   "outputs": [],
   "source": [
    "n=1\n",
    "cnt=[]\n",
    "while True:\n",
    "    if n*(n-1)>2*X:\n",
    "        break\n",
    "    else:\n",
    "        cnt.append(n)\n",
    "        n+=1\n",
    "        \n",
    "print(max(cnt))"
   ]
  },
  {
   "cell_type": "code",
   "execution_count": null,
   "metadata": {},
   "outputs": [],
   "source": [
    "g = max(cnt)-1\n",
    "g = g*(g+1)/2\n",
    "order = int(X-g)\n",
    "number = str(max(cnt)+1-order)+'/'+str(order)\n",
    "print(number)"
   ]
  },
  {
   "cell_type": "code",
   "execution_count": null,
   "metadata": {},
   "outputs": [],
   "source": [
    "s = input().split(\" \")\n",
    "A = int(s[0])\n",
    "B = int(s[1])\n",
    "V = int(s[2])\n",
    "print(A,B,V)"
   ]
  },
  {
   "cell_type": "code",
   "execution_count": null,
   "metadata": {},
   "outputs": [],
   "source": [
    "height=0\n",
    "i=0\n",
    "while True:\n",
    "    height = height+A-B\n",
    "    if height==V:\n",
    "        break\n",
    "    i+=1\n",
    "print(i)"
   ]
  }
 ],
 "metadata": {
  "kernelspec": {
   "display_name": "Python 3",
   "language": "python",
   "name": "python3"
  },
  "language_info": {
   "codemirror_mode": {
    "name": "ipython",
    "version": 3
   },
   "file_extension": ".py",
   "mimetype": "text/x-python",
   "name": "python",
   "nbconvert_exporter": "python",
   "pygments_lexer": "ipython3",
   "version": "3.7.4"
  }
 },
 "nbformat": 4,
 "nbformat_minor": 2
}
