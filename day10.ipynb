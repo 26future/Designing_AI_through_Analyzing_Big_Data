{
 "cells": [
  {
   "cell_type": "code",
   "execution_count": 1,
   "metadata": {},
   "outputs": [],
   "source": [
    "#계수정렬: 숫자, 밑줄"
   ]
  },
  {
   "cell_type": "code",
   "execution_count": 2,
   "metadata": {},
   "outputs": [],
   "source": [
    "from bs4 import BeautifulSoup"
   ]
  },
  {
   "cell_type": "code",
   "execution_count": 3,
   "metadata": {},
   "outputs": [],
   "source": [
    "html = \"\"\"\n",
    "<html><body>\n",
    "<h1>스크래핑</h1>\n",
    "<p>웹 페이지 분석</p>\n",
    "<p>원하는 부분 추출</p>\n",
    "</body></html>\n",
    "\n",
    "\"\"\"\n",
    "\n",
    "soup = BeautifulSoup(html, 'html.parser')\n",
    "#html 문서 분석"
   ]
  },
  {
   "cell_type": "code",
   "execution_count": 4,
   "metadata": {},
   "outputs": [],
   "source": [
    "h1 = soup.html.body.h1\n",
    "p1 = soup.html.body.p #가장 처음으로 만나는 p태그 \n",
    "p2 = p1.next_sibling.next_sibling\n",
    "#p1 -> 엔터문자 -> 형제태그"
   ]
  },
  {
   "cell_type": "code",
   "execution_count": 5,
   "metadata": {},
   "outputs": [
    {
     "data": {
      "text/plain": [
       "'원하는 부분 추출'"
      ]
     },
     "execution_count": 5,
     "metadata": {},
     "output_type": "execute_result"
    }
   ],
   "source": [
    "h1.string\n",
    "p1.string\n",
    "p2.string"
   ]
  },
  {
   "cell_type": "code",
   "execution_count": 6,
   "metadata": {},
   "outputs": [],
   "source": [
    "#find함수: id를 이용하여 직접 접근\n",
    "html = \"\"\"\n",
    "<html><body>\n",
    "<h1 id='title'>스크래핑</h1>\n",
    "<p id='body'>웹 페이지 분석</p>\n",
    "<p>원하는 부분 추출</p>\n",
    "</body></html>\n",
    "\n",
    "\"\"\"\n",
    "\n",
    "soup = BeautifulSoup(html, 'html.parser')"
   ]
  },
  {
   "cell_type": "code",
   "execution_count": 7,
   "metadata": {},
   "outputs": [
    {
     "name": "stdout",
     "output_type": "stream",
     "text": [
      "title=스크래핑\n",
      "body=웹 페이지 분석\n"
     ]
    }
   ],
   "source": [
    "title = soup.find(id='title')\n",
    "body = soup.find(id='body')\n",
    "print('title='+title.string)\n",
    "print('body='+body.string)"
   ]
  },
  {
   "cell_type": "code",
   "execution_count": 8,
   "metadata": {},
   "outputs": [],
   "source": [
    " #find_all(): 여러 개의 태그를 한번에 추출\n",
    "html = \"\"\"\n",
    "<html><body>\n",
    "<ul>\n",
    "<li><a href=\"http://www.naver.com\">naver</a></li>\n",
    "<li><a href=\"http://www.daum.net\">daum</a></li>\n",
    "</ul>\n",
    "</body></html>\n",
    "\n",
    "\"\"\""
   ]
  },
  {
   "cell_type": "code",
   "execution_count": 9,
   "metadata": {},
   "outputs": [
    {
     "name": "stdout",
     "output_type": "stream",
     "text": [
      "naver -> http://www.naver.com\n",
      "daum -> http://www.daum.net\n"
     ]
    },
    {
     "data": {
      "text/plain": [
       "\n",
       "<html><body>\n",
       "<ul>\n",
       "<li><a href=\"http://www.naver.com\">naver</a></li>\n",
       "<li><a href=\"http://www.daum.net\">daum</a></li>\n",
       "</ul>\n",
       "</body></html>"
      ]
     },
     "execution_count": 9,
     "metadata": {},
     "output_type": "execute_result"
    }
   ],
   "source": [
    "soup = BeautifulSoup(html,'html.parser')\n",
    "links = soup.find_all(\"a\")\n",
    "\n",
    "for a in links:\n",
    "#     if 'href' in a.attrs :\n",
    "    href=a.attrs['href']\n",
    "    text=a.string\n",
    "    print(text,'->',href)\n",
    "#     print(href)\n",
    "\n",
    "soup"
   ]
  },
  {
   "cell_type": "code",
   "execution_count": 10,
   "metadata": {},
   "outputs": [],
   "source": [
    "#기상예보에서 특정 내용 추출"
   ]
  },
  {
   "cell_type": "code",
   "execution_count": 11,
   "metadata": {},
   "outputs": [],
   "source": [
    "import urllib.request as req"
   ]
  },
  {
   "cell_type": "code",
   "execution_count": 12,
   "metadata": {},
   "outputs": [],
   "source": [
    "url = \"http://www.weather.go.kr/weather/forecast/mid-term-rss3.jsp\""
   ]
  },
  {
   "cell_type": "code",
   "execution_count": 13,
   "metadata": {},
   "outputs": [
    {
     "data": {
      "text/plain": [
       "'○ (강수) 전남권은 11일(월)에 눈이 오겠고, 제주도는 11일(월)~12일(화)에 비 또는 눈이 오겠습니다. 16일(토)은 수도권과 강원영서, 충청권, 전북에 비 또는 눈이 오겠습니다.<br />○ (기온) 11일(월)~12일(화), 17일(일)~18일(월) 아침 기온은 -13~1도, 낮 기온은 -3~6도로 오늘(아침 기온 -22~-12도, 낮 기온 -11~-2도)보다 높겠으나, <br />          평년(최저기온 -10~0도, 최고기온 1~9도)보다 낮겠습니다.<br />          13일(수)~16일(토) 아침 기온은 -7~5도, 낮 기온은 1~12도로 오늘보다 높겠고, 평년과 비슷하거나 조금 높겠습니다.<br /><br />* 12일(화)까지 찬 대륙고기압의 영향으로 기온이 낮아 춥겠으니, 건강관리와 시설물관리에 유의하기 바랍니다.'"
      ]
     },
     "execution_count": 13,
     "metadata": {},
     "output_type": "execute_result"
    }
   ],
   "source": [
    "res = req.urlopen(url)\n",
    "soup = BeautifulSoup(res,'html.parser')\n",
    "\n",
    "#title 검색 <title>기상청 육상 중기예보\n",
    "#soup.title.string\n",
    "title = soup.find(\"title\").string\n",
    "\n",
    "#wf 태그값 추출\n",
    "soup.wf.string\n",
    "soup.find(\"wf\").string"
   ]
  },
  {
   "cell_type": "code",
   "execution_count": 14,
   "metadata": {},
   "outputs": [],
   "source": [
    "#css 선택자(크롬->개발자도구->객체선택->copy selector) 사용하기\n",
    "# soup.select_one(선택자): 선택자로 지정된 요소 하나를 추출\n",
    "# soup.select(선택자): 선택자로 지정된 여러 개 요소를 추출"
   ]
  },
  {
   "cell_type": "code",
   "execution_count": 15,
   "metadata": {},
   "outputs": [],
   "source": [
    "html = \"\"\"\n",
    "<html><body>\n",
    "<div id='myid'>\n",
    "<h1>2020년</h1>\n",
    "<ul class='day'>\n",
    "<li>월요일</li>\n",
    "<li>화요일</li>\n",
    "<li>수요일</li>\n",
    "</ul>\n",
    "</div>\n",
    "</body></html>\n",
    "\"\"\""
   ]
  },
  {
   "cell_type": "code",
   "execution_count": 16,
   "metadata": {},
   "outputs": [
    {
     "name": "stdout",
     "output_type": "stream",
     "text": [
      "2020년\n",
      "월요일\n",
      "화요일\n",
      "수요일\n"
     ]
    }
   ],
   "source": [
    "soup = BeautifulSoup(html,'html.parser')\n",
    "#print(soup.select_one('div#myid h1'))\n",
    "print(soup.select_one('div#myid > h1').string)\n",
    "\n",
    "myList = soup.select('div#myid>ul.day >li')\n",
    "for a in myList:\n",
    "    print(a.string)"
   ]
  },
  {
   "cell_type": "code",
   "execution_count": 17,
   "metadata": {},
   "outputs": [],
   "source": [
    "import urllib.request as req"
   ]
  },
  {
   "cell_type": "code",
   "execution_count": 18,
   "metadata": {},
   "outputs": [],
   "source": [
    "url = \"https://finance.yahoo.com/quote/005930.KS?p=005930.KS&.tsrc=fin-srch\""
   ]
  },
  {
   "cell_type": "code",
   "execution_count": 19,
   "metadata": {},
   "outputs": [],
   "source": [
    "res = req.urlopen(url)\n",
    "soup = BeautifulSoup(res,'html.parser')\n",
    "\n",
    "#print(soup.select_one('div#'))\n",
    "\n",
    "\n",
    "#quote-header-info > div.My\\(6px\\).Pos\\(r\\).smartphone_Mt\\(6px\\) > div > div > span.Trsdu\\(0\\.3s\\).Fw\\(b\\).Fz\\(36px\\).Mb\\(-4px\\).D\\(ib\\)"
   ]
  },
  {
   "cell_type": "code",
   "execution_count": 21,
   "metadata": {},
   "outputs": [
    {
     "data": {
      "text/plain": [
       "[<div class=\"W(100%) Bdts(s) Bdtw(7px) Bdtc($positiveColor)\" data-reactid=\"3\"></div>,\n",
       " <div class=\"Mt(15px)\" data-reactid=\"4\"><div class=\"D(ib) Mt(-5px) Mend(20px) Maw(56%)--tab768 Maw(52%) Ov(h) smartphone_Maw(85%) smartphone_Mend(0px)\" data-reactid=\"5\"><div class=\"D(ib)\" data-reactid=\"6\"><h1 class=\"D(ib) Fz(18px)\" data-reactid=\"7\">Samsung Electronics Co., Ltd. (005930.KS)</h1></div><div class=\"C($tertiaryColor) Fz(12px)\" data-reactid=\"8\"><span data-reactid=\"9\">KSE - KSE Delayed Price. Currency in KRW</span></div></div><div class=\"D(ib) Va(t) Mt(-8px) Mend(15px) smartphone_Mend(0px) smartphone_Fl(end) smartphone_Mt(0px)\" data-reactid=\"10\"><div class=\"qsp-watchlist-add Td(u):h\" data-reactid=\"11\" data-test=\"dropdown\"><div class=\"Pos(r) D(ib) O(n):f Cur(p)\" data-reactid=\"12\" tabindex=\"0\"><div class=\"addButton Cur(p) Pstart(13px) Pend(16px) Pt(5px) Pb(7px) Mt(8px) Fz(12px) Fw(500) C($tertiaryColor) Bd Bdc($linkColor) Bdrs(15px) Bgc($linkColor):h C(white):h\" data-reactid=\"13\"><svg class=\"Mend(5px) addButton:h_Stk(white)! addButton:h_Fill(white)! Cur(p)\" data-icon=\"star\" data-reactid=\"14\" height=\"16\" style=\"fill:#0081f2;stroke:#0081f2;stroke-width:0;vertical-align:bottom;\" viewbox=\"0 0 24 24\" width=\"16\"><path d=\"M8.485 7.83l-6.515.21c-.887.028-1.3 1.117-.66 1.732l4.99 4.78-1.414 6.124c-.2 1.14.767 1.49 1.262 1.254l5.87-3.22 5.788 3.22c.48.228 1.464-.097 1.26-1.254l-1.33-6.124 4.962-4.78c.642-.615.228-1.704-.658-1.732l-6.486-.21-2.618-6.22c-.347-.815-1.496-.813-1.84.003L8.486 7.83zm7.06 6.05l1.11 5.11-4.63-2.576L7.33 18.99l1.177-5.103-4.088-3.91 5.41-.18 2.19-5.216 2.19 5.216 5.395.18-4.06 3.903z\" data-reactid=\"15\"></path></svg><span class=\"D(n)--tab768 Mend(1px) Va(tb)\" data-reactid=\"16\"><span data-reactid=\"17\">Add to watchlist</span></span></div><!-- react-text: 18 --><!-- /react-text --></div></div></div><div class=\"D(ib) Fl(end) W(300px) Cl(end)--mobxl W(250px)--tab768\" data-reactid=\"19\"><div class=\"Pos(r) D(ib) Mend(10px) Va(m) W(100%)\" data-reactid=\"20\" data-test=\"add-symbol-overlay\" data-yaft-module=\"tdv2-applet-SymbolLookup\"><div class=\"clear-button-inside Pos(r) react-autocomplete-box\" data-reactid=\"21\"><div class=\"Cf\" data-reactid=\"22\"><fieldset class=\"Pos(r) D(ib) W(100%)\" data-reactid=\"23\"><input aria-label=\"Quote Lookup\" autocapitalize=\"off\" autocomplete=\"off\" autocorrect=\"off\" class=\"Bdrs(0) Bxsh(n)! Fz(s) Bxz(bb) D(ib) Bg(n) Pend(5px) Px(8px) Py(0) H(30px) Lh(30px) Bd O(n):f O(n):h Bdc($seperatorColor) Bdc($linkColor):f Bdc($c-fuji-punch-a):inv C($negativeColor):in M(0) Pstart(10px) Bxz(bb) Bgc(white) W(100%) H(32px)! Lh(32px)! Ff($yahooSansFinanceFont)\" data-reactid=\"24\" name=\"s\" placeholder=\"Quote Lookup\" spellcheck=\"false\" tabindex=\"1\" type=\"text\"/></fieldset><button class=\"Bdrs(2px) Td(n) Fz(s) D(ib) Bxz(bb) Py(0) Px(10px) H(30px) Lh(30px) Bd Bgc($linkColor) Bgc($linkActiveColor):h C(white) C(#aaa):di Bdc($linkColor) Bdc($seperatorColor):di Bg($seperatorColor):di H(32px)! Lh(n)! Va(m) Pos(a) Fl(end) End(1px)\" data-reactid=\"25\" type=\"submit\"><svg class=\"Fill(white) Stroke(white) Cur(p)\" data-icon=\"search\" data-reactid=\"26\" height=\"20\" style=\"stroke-width:0;vertical-align:bottom;\" viewbox=\"0 0 24 24\" width=\"20\"><path d=\"M9 3C5.686 3 3 5.686 3 9c0 3.313 2.686 6 6 6s6-2.687 6-6c0-3.314-2.686-6-6-6m13.713 19.713c-.387.388-1.016.388-1.404 0l-7.404-7.404C12.55 16.364 10.85 17 9 17c-4.418 0-8-3.582-8-8 0-4.42 3.582-8 8-8s8 3.58 8 8c0 1.85-.634 3.55-1.69 4.905l7.403 7.404c.39.386.39 1.015 0 1.403\" data-reactid=\"27\"></path></svg></button></div><!-- react-text: 28 --><!-- /react-text --></div></div></div></div>,\n",
       " <div class=\"My(6px) Pos(r) smartphone_Mt(6px)\" data-reactid=\"29\"><div class=\"D(ib) Va(m) Maw(65%) Ov(h)\" data-reactid=\"30\"><div class=\"D(ib) Mend(20px)\" data-reactid=\"31\"><span class=\"Trsdu(0.3s) Fw(b) Fz(36px) Mb(-4px) D(ib)\" data-reactid=\"32\">88,800.00</span><span class=\"Trsdu(0.3s) Fw(500) Pstart(10px) Fz(24px) C($positiveColor)\" data-reactid=\"33\">+5,900.00 (+7.12%)</span><div class=\"C($tertiaryColor) D(b) Fz(12px) Fw(n) Mstart(0)--mobpsm Mt(6px)--mobpsm\" data-reactid=\"34\" id=\"quote-market-notice\"><span data-reactid=\"35\">At close:  3:30PM KST</span></div></div><!-- react-empty: 36 --></div><div class=\"D(ib) Mstart(30px) Va(t) uba-container\" data-reactid=\"37\"><div class=\"uba-container D-n D(n)\" data-reactid=\"38\" id=\"defaultTRADENOW-sizer\"><!-- react-text: 39 --><!-- /react-text --><div class=\"\" data-reactid=\"40\" id=\"defaultTRADENOW-wrapper\"><div id=\"defaultdestTRADENOW\" style=\"\"></div></div></div></div></div>]"
      ]
     },
     "execution_count": 21,
     "metadata": {},
     "output_type": "execute_result"
    }
   ],
   "source": [
    "soup.select('#quote-header-info > div')\n",
    "# soup.select_one('div'>span.string)"
   ]
  },
  {
   "cell_type": "code",
   "execution_count": 22,
   "metadata": {},
   "outputs": [],
   "source": [
    "import urllib.request as req"
   ]
  },
  {
   "cell_type": "code",
   "execution_count": 23,
   "metadata": {},
   "outputs": [],
   "source": [
    "url = 'https://ko.wikisource.org/wiki/%EC%A0%80%EC%9E%90:%EC%9C%A4%EB%8F%99%EC%A3%BC'"
   ]
  },
  {
   "cell_type": "code",
   "execution_count": 24,
   "metadata": {},
   "outputs": [
    {
     "name": "stdout",
     "output_type": "stream",
     "text": [
      "서시\n",
      "자화상\n",
      "소년\n",
      "눈 오는 지도\n",
      "돌아와 보는 밤\n",
      "병원\n",
      "새로운 길\n",
      "간판 없는 거리\n",
      "태초의 아침\n",
      "또 태초의 아침\n",
      "새벽이 올 때까지\n",
      "무서운 시간\n",
      "십자가\n",
      "바람이 불어\n",
      "슬픈 족속\n",
      "눈감고 간다\n",
      "또 다른 고향\n",
      "길\n",
      "별 헤는 밤\n"
     ]
    }
   ],
   "source": [
    "res = req.urlopen(url)\n",
    "soup = BeautifulSoup(res, 'html.parser')\n",
    "\n",
    "myList = soup.select(\"#mw-content-text > div > ul:nth-child(6) > li>ul>li>a\")\n",
    "#print(myList)\n",
    "#firstHeading\n",
    "\n",
    "for a in myList:\n",
    "    print(a.string)"
   ]
  },
  {
   "cell_type": "code",
   "execution_count": 25,
   "metadata": {},
   "outputs": [],
   "source": [
    "html = \"\"\"\n",
    "<ul id='language'>\n",
    "    <li id='bas'>Basic</li>\n",
    "    <li id='cpp'>c++</li>\n",
    "    <li id='ja'>Java</li>\n",
    "    <li id='py'>Python</li>\n",
    "    <li id='sp'>Spark</li>\n",
    "</ul>\n",
    "\"\"\""
   ]
  },
  {
   "cell_type": "code",
   "execution_count": 26,
   "metadata": {},
   "outputs": [
    {
     "data": {
      "text/plain": [
       "\n",
       "<ul id=\"language\">\n",
       "<li id=\"bas\">Basic</li>\n",
       "<li id=\"cpp\">c++</li>\n",
       "<li id=\"ja\">Java</li>\n",
       "<li id=\"py\">Python</li>\n",
       "<li id=\"sp\">Spark</li>\n",
       "</ul>"
      ]
     },
     "execution_count": 26,
     "metadata": {},
     "output_type": "execute_result"
    }
   ],
   "source": [
    "sel = BeautifulSoup(html,'html.parser')\n",
    "sel"
   ]
  },
  {
   "cell_type": "code",
   "execution_count": 27,
   "metadata": {},
   "outputs": [
    {
     "name": "stdout",
     "output_type": "stream",
     "text": [
      "Python\n",
      "Python\n",
      "Python\n",
      "Python\n",
      "Python\n",
      "Python\n",
      "Python\n",
      "Python\n",
      "Python\n",
      "Python\n",
      "Python\n"
     ]
    }
   ],
   "source": [
    "print(sel.select_one('#py').string)\n",
    "\n",
    "myFunc = lambda  arg:print(sel.select_one(arg).string)\n",
    "myFunc('#py')\n",
    "myFunc('li#py')\n",
    "myFunc('ul>li#py')\n",
    "myFunc('#language #py')\n",
    "myFunc('#language > #py')\n",
    "myFunc('ul#language > li#py')\n",
    "myFunc('li[id=\"py\"]')\n",
    "myFunc('li:nth-of-type(4)')\n",
    "print(sel.select('li')[3].string)\n",
    "print(sel.find_all('li')[3].string)"
   ]
  },
  {
   "cell_type": "code",
   "execution_count": 28,
   "metadata": {},
   "outputs": [],
   "source": [
    "fp = open('new File.html', encoding='utf-8')"
   ]
  },
  {
   "cell_type": "code",
   "execution_count": 29,
   "metadata": {},
   "outputs": [
    {
     "data": {
      "text/plain": [
       "<!DOCTYPE html>\n",
       "\n",
       "<html lang=\"en\">\n",
       "<head>\n",
       "<meta charset=\"utf-8\"/>\n",
       "<title>Title</title>\n",
       "</head>\n",
       "<body>\n",
       "<div id=\"main-goods\" role=\"page\">\n",
       "<h1>과일과 야채</h1>\n",
       "<ul id=\"fr\">\n",
       "<li class=\"red green\" data-lo=\"ko\">사과</li>\n",
       "<li class=\"purple\" data-lo=\"us\">포도</li>\n",
       "<li class=\"yellow\" data-lo=\"us\">레몬</li>\n",
       "<li class=\"yellow\" data-lo=\"ko\">오렌지</li>\n",
       "</ul>\n",
       "<ul id=\"ve\">\n",
       "<li class=\"white green\" data-lo=\"ko\">무</li>\n",
       "<li class=\"red green\" data-lo=\"us\">파프리카</li>\n",
       "<li class=\"black\" data-lo=\"us\">가지</li>\n",
       "<li class=\"black\" data-lo=\"ko\">아보카도</li>\n",
       "<li class=\"white\" data-lo=\"cn\">연근</li>\n",
       "</ul>\n",
       "</div>\n",
       "</body>\n",
       "</html>"
      ]
     },
     "execution_count": 29,
     "metadata": {},
     "output_type": "execute_result"
    }
   ],
   "source": [
    "soup = BeautifulSoup(fp, 'html.parser')\n",
    "soup"
   ]
  },
  {
   "cell_type": "code",
   "execution_count": 30,
   "metadata": {},
   "outputs": [
    {
     "name": "stdout",
     "output_type": "stream",
     "text": [
      "가지\n"
     ]
    },
    {
     "data": {
      "text/plain": [
       "'가지'"
      ]
     },
     "execution_count": 30,
     "metadata": {},
     "output_type": "execute_result"
    }
   ],
   "source": [
    "#아보카도 추출하기\n",
    "# print(soup.select_one('li:nth-of-type(5)'))\n",
    "# print(soup.select_one('#ve > li:nth-of-type(4)'))\n",
    "# print(soup.select('#ve > li[data-lo]'))\n",
    "# print(soup.select('#ve >li.black'))\n",
    "\n",
    "#find 사용\n",
    "cond = {'data-lo' : 'us' , 'class': 'black'}\n",
    "print(soup.find('li',cond).string)\n",
    "\n",
    "soup.find(id='ve').find('li', cond).string"
   ]
  },
  {
   "cell_type": "code",
   "execution_count": 31,
   "metadata": {},
   "outputs": [],
   "source": [
    "#정규표현식과 함께 데이터 추출\n",
    "\n",
    "html = \"\"\"\n",
    "<li><a href='test.html'>test1</li>\n",
    "<li><a href='https://test.html'>test2</li>\n",
    "<li><a href='https://test.html'>test3</li>\n",
    "<li><a href='http://test.html'>test4</li>\n",
    "\n",
    "\"\"\""
   ]
  },
  {
   "cell_type": "code",
   "execution_count": 32,
   "metadata": {},
   "outputs": [
    {
     "name": "stdout",
     "output_type": "stream",
     "text": [
      "[<a href=\"https://test.html\">test2</a>, <a href=\"https://test.html\">test3</a>]\n"
     ]
    }
   ],
   "source": [
    "import re\n",
    "\n",
    "soup = BeautifulSoup(html, 'html.parser')\n",
    "list = soup.find_all(href=re.compile('https://'))\n",
    "print(list)"
   ]
  },
  {
   "cell_type": "code",
   "execution_count": 33,
   "metadata": {},
   "outputs": [
    {
     "ename": "FileNotFoundError",
     "evalue": "[Errno 2] No such file or directory: 'c:/da/number.txt'",
     "output_type": "error",
     "traceback": [
      "\u001b[1;31m---------------------------------------------------------------------------\u001b[0m",
      "\u001b[1;31mFileNotFoundError\u001b[0m                         Traceback (most recent call last)",
      "\u001b[1;32m<ipython-input-33-947581a59692>\u001b[0m in \u001b[0;36m<module>\u001b[1;34m\u001b[0m\n\u001b[1;32m----> 1\u001b[1;33m \u001b[0mf\u001b[0m \u001b[1;33m=\u001b[0m \u001b[0mopen\u001b[0m\u001b[1;33m(\u001b[0m\u001b[1;34m\"c:/da/number.txt\"\u001b[0m\u001b[1;33m,\u001b[0m\u001b[1;34m'w'\u001b[0m\u001b[1;33m)\u001b[0m\u001b[1;33m\u001b[0m\u001b[1;33m\u001b[0m\u001b[0m\n\u001b[0m\u001b[0;32m      2\u001b[0m \u001b[1;32mfor\u001b[0m \u001b[0mi\u001b[0m \u001b[1;32min\u001b[0m \u001b[0mrange\u001b[0m\u001b[1;33m(\u001b[0m\u001b[1;36m1\u001b[0m\u001b[1;33m,\u001b[0m\u001b[1;36m11\u001b[0m\u001b[1;33m)\u001b[0m\u001b[1;33m:\u001b[0m\u001b[1;33m\u001b[0m\u001b[1;33m\u001b[0m\u001b[0m\n\u001b[0;32m      3\u001b[0m     \u001b[0mdata\u001b[0m \u001b[1;33m=\u001b[0m \u001b[1;34m'%d\\n'\u001b[0m \u001b[1;33m%\u001b[0m\u001b[0mi\u001b[0m\u001b[1;33m\u001b[0m\u001b[1;33m\u001b[0m\u001b[0m\n\u001b[0;32m      4\u001b[0m     \u001b[0mf\u001b[0m\u001b[1;33m.\u001b[0m\u001b[0mwrite\u001b[0m\u001b[1;33m(\u001b[0m\u001b[0mdata\u001b[0m\u001b[1;33m)\u001b[0m\u001b[1;33m\u001b[0m\u001b[1;33m\u001b[0m\u001b[0m\n\u001b[0;32m      5\u001b[0m \u001b[0mf\u001b[0m\u001b[1;33m.\u001b[0m\u001b[0mclose\u001b[0m\u001b[1;33m(\u001b[0m\u001b[1;33m)\u001b[0m\u001b[1;33m\u001b[0m\u001b[1;33m\u001b[0m\u001b[0m\n",
      "\u001b[1;31mFileNotFoundError\u001b[0m: [Errno 2] No such file or directory: 'c:/da/number.txt'"
     ]
    }
   ],
   "source": [
    "f = open(\"c:/da/number.txt\",'w')\n",
    "for i in range(1,11):\n",
    "    data = '%d\\n' %i\n",
    "    f.write(data)\n",
    "f.close()"
   ]
  },
  {
   "cell_type": "code",
   "execution_count": 34,
   "metadata": {},
   "outputs": [
    {
     "name": "stdout",
     "output_type": "stream",
     "text": [
      "abc\n"
     ]
    },
    {
     "ename": "FileNotFoundError",
     "evalue": "[Errno 2] No such file or directory: 'abc/flist.txt'",
     "output_type": "error",
     "traceback": [
      "\u001b[1;31m---------------------------------------------------------------------------\u001b[0m",
      "\u001b[1;31mFileNotFoundError\u001b[0m                         Traceback (most recent call last)",
      "\u001b[1;32m<ipython-input-34-82a749a885ae>\u001b[0m in \u001b[0;36m<module>\u001b[1;34m\u001b[0m\n\u001b[0;32m      5\u001b[0m \u001b[1;32mimport\u001b[0m \u001b[0mglob\u001b[0m\u001b[1;33m\u001b[0m\u001b[1;33m\u001b[0m\u001b[0m\n\u001b[0;32m      6\u001b[0m \u001b[1;33m\u001b[0m\u001b[0m\n\u001b[1;32m----> 7\u001b[1;33m \u001b[0mf\u001b[0m \u001b[1;33m=\u001b[0m \u001b[0mopen\u001b[0m\u001b[1;33m(\u001b[0m\u001b[0ma\u001b[0m\u001b[1;33m+\u001b[0m \u001b[1;34m'/flist.txt'\u001b[0m\u001b[1;33m,\u001b[0m\u001b[1;34m'w'\u001b[0m\u001b[1;33m)\u001b[0m\u001b[1;33m\u001b[0m\u001b[1;33m\u001b[0m\u001b[0m\n\u001b[0m\u001b[0;32m      8\u001b[0m \u001b[1;33m\u001b[0m\u001b[0m\n\u001b[0;32m      9\u001b[0m \u001b[0mfile_list\u001b[0m \u001b[1;33m=\u001b[0m \u001b[0mglob\u001b[0m\u001b[1;33m.\u001b[0m\u001b[0mglob\u001b[0m\u001b[1;33m(\u001b[0m\u001b[1;34m'*.*'\u001b[0m\u001b[1;33m)\u001b[0m\u001b[1;33m\u001b[0m\u001b[1;33m\u001b[0m\u001b[0m\n",
      "\u001b[1;31mFileNotFoundError\u001b[0m: [Errno 2] No such file or directory: 'abc/flist.txt'"
     ]
    }
   ],
   "source": [
    "a = input()\n",
    "a\n",
    "#a+'/flist.txt'\n",
    "\n",
    "import glob\n",
    "\n",
    "f = open(a+ '/flist.txt','w')\n",
    "\n",
    "file_list = glob.glob('*.*')\n",
    "#f.write('\\n'.join(file_list))\n",
    "\n",
    "for i in file_list:\n",
    "    f.write(i+'\\n')\n",
    "\n",
    "f.close()"
   ]
  },
  {
   "cell_type": "code",
   "execution_count": 1,
   "metadata": {},
   "outputs": [],
   "source": [
    "from bs4 import BeautifulSoup\n",
    "import urllib.request as req\n",
    "url = \"https://ko.wikipedia.org/wiki/%EC%9C%A4%EB%8F%99%EC%A3%BC\""
   ]
  },
  {
   "cell_type": "code",
   "execution_count": 2,
   "metadata": {},
   "outputs": [
    {
     "name": "stdout",
     "output_type": "stream",
     "text": [
      "KBS1 《마돈나여 광야에서 별을 노래하라》 제2부 〈하늘과 바람과 별과 시〉 - 영상시극, 1984년 12월 22일(방영시간 120분)[24]\n",
      "KBS1 《영상기행3.1절 — 민족시인 尹東柱》, 1988년 3월 1일(방영시간 60분)[25]\n",
      "NHK 《NHK스페셜》 〈하늘과 바람과 별과 詩, 尹東柱, 일본통치하의 청춘과 죽음〉, 1995년 3월 11일(방영시간 60분)[26]\n",
      "EBS《지식채널e》하늘과 바람과 별과 시 1부: 별 (2006년 7월 31일 방영), 2부: 시 (2006년 8월 7일 방영)\n",
      "KBS《해피선데이 - 1박 2일》백두산 탐방 특집 윤동주 생가 방문 (2008년 6~7월)\n",
      "SBS《그것이 알고싶다》윤동주 그 죽음의 미스터리, 후쿠오카 형무소에선 무슨 일이 있었나 (2009년 8월 15일)\n",
      "MBC《MBC스페셜》가을, 윤동주 생각 (2011년 11월 4일)\n",
      "KBS1 《KBS공사창립특집》 불멸의 청년, 윤동주 (2016년 3월 6일)\n",
      "['2016년 3월 6일']\n"
     ]
    }
   ],
   "source": [
    "res = req.urlopen(url)\n",
    "soup = BeautifulSoup(res, 'html.parser')\n",
    "\n",
    "import re\n",
    "\n",
    "myList = soup.select(\"#mw-content-text > div > ul:nth-child(71) > li\")\n",
    "for s in myList:\n",
    "    s = s.text\n",
    "    print(s)\n",
    "\n",
    "p = re.compile('\\d{4}.\\s\\d{1,2}.\\s\\d{1,2}.', re.MULTILINE)\n",
    "    \n",
    "#p = re.compile(\"[0-9]{4}[가-힣]\\s[0-9]{1,2}[가-힣]\\s[0-9]{1,2}[가-힣]\", re.MULTILINE)\n",
    "m = p.findall(s)\n",
    "\n",
    "re.compile('\\d{4}.\\s\\d{1,2}.\\s\\d{1,2}.', re.MULTILINE)\n",
    "\n",
    "print(m)    \n",
    "    \n",
    "#     if re.match('[0-9]{4}[가-힣]+\\s[0-9]{1,2}[가-힣]+\\s[0-9]{1,2}[가-힣]+',s):\n",
    "#         print(s)"
   ]
  },
  {
   "cell_type": "code",
   "execution_count": 3,
   "metadata": {},
   "outputs": [],
   "source": [
    "import urllib.request as req\n",
    "url = \"http://www.weather.go.kr/weather/forecast/mid-term-rss3.jsp\""
   ]
  },
  {
   "cell_type": "code",
   "execution_count": 4,
   "metadata": {},
   "outputs": [
    {
     "name": "stdout",
     "output_type": "stream",
     "text": [
      "강수전남권은일월에눈이오겠고제주도는일월일에비또는눈이오겠습니다일토은수도권과강원영서충청권전북에비또는눈이오겠습니다기온일월일일일일월아침기온은도낮기온은도로오늘아침기온도낮기온도보다높겠으나평년최저기온도최고기온도보다낮겠습니다일수일토아침기온은도낮기온은도로오늘보다높겠고평년과비슷하거나조금높겠습니다일까지찬대륙고기압의영으로기온이낮아춥겠으니건강관리와시설물관리에유의하기바랍니다"
     ]
    }
   ],
   "source": [
    "res = req.urlopen(url)\n",
    "soup = BeautifulSoup(res,'html.parser')\n",
    "\n",
    "title = soup.find(\"title\").string\n",
    "a = soup.wf.string\n",
    "\n",
    "import re\n",
    "\n",
    "for i in a:\n",
    "    if re.match ('[가-핳]+', i):\n",
    "        print(i, end=\"\")\n",
    "    else:\n",
    "        continue"
   ]
  }
 ],
 "metadata": {
  "kernelspec": {
   "display_name": "Python 3",
   "language": "python",
   "name": "python3"
  },
  "language_info": {
   "codemirror_mode": {
    "name": "ipython",
    "version": 3
   },
   "file_extension": ".py",
   "mimetype": "text/x-python",
   "name": "python",
   "nbconvert_exporter": "python",
   "pygments_lexer": "ipython3",
   "version": "3.7.4"
  }
 },
 "nbformat": 4,
 "nbformat_minor": 2
}
