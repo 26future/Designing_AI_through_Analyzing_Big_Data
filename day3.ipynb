{
 "cells": [
  {
   "cell_type": "code",
   "execution_count": 9,
   "metadata": {},
   "outputs": [
    {
     "data": {
      "text/plain": [
       "('john', 25, 180.5, True)"
      ]
     },
     "execution_count": 9,
     "metadata": {},
     "output_type": "execute_result"
    }
   ],
   "source": [
    "# 자료구조: 자료를 저장 및 관리하는 방법\n",
    "# 알고리즘: 문제를 해결하는 방법\n",
    "\n",
    "\"\"\"\n",
    "튜플(  ,  ,  ) : 리스트[]와 비슷\n",
    "리스트는 생성,삭제,수정\n",
    "튜플은 변경을 할 수 없음\n",
    "\"\"\"\n",
    "\n",
    "a = (3,2,5,6,1) #튜플\n",
    "a\n",
    "a = 3,2,5,6,1 #튜플. 괄호를 넣지 않아도 되지만, 괄호로 명확하게 구분해주는 것이 좋음\n",
    "a\n",
    "a1 = ()\n",
    "a1\n",
    "\n",
    "a2 = 5,  #값을 1개 저장한 튜플을 정의할때는 컴마를 써야함\n",
    "type(a2)\n",
    "a3 = ('john', 25, 180.5, True) #자료형에 관계없이 데이터를 저장 가능\n",
    "a3\n",
    "#a3[1]=50 에러\n",
    "#튜플은 변경이 안되므로, 데이터가 계속 유지되어야 할 경우에 사용"
   ]
  },
  {
   "cell_type": "code",
   "execution_count": 10,
   "metadata": {},
   "outputs": [
    {
     "data": {
      "text/plain": [
       "(0, 1, 2, 3, 4, 5, 6, 7, 8, 9)"
      ]
     },
     "execution_count": 10,
     "metadata": {},
     "output_type": "execute_result"
    }
   ],
   "source": [
    "a = tuple(range(10))\n",
    "a"
   ]
  },
  {
   "cell_type": "code",
   "execution_count": 11,
   "metadata": {},
   "outputs": [
    {
     "data": {
      "text/plain": [
       "[1, 2, 3]"
      ]
     },
     "execution_count": 11,
     "metadata": {},
     "output_type": "execute_result"
    }
   ],
   "source": [
    "#튜플 <-> 리스트\n",
    "a = [1,2,3]\n",
    "a\n",
    "a = tuple(a)\n",
    "a\n",
    "a = list(a)\n",
    "a"
   ]
  },
  {
   "cell_type": "code",
   "execution_count": 12,
   "metadata": {},
   "outputs": [
    {
     "data": {
      "text/plain": [
       "['h', 'e', 'l', 'l', 'o']"
      ]
     },
     "execution_count": 12,
     "metadata": {},
     "output_type": "execute_result"
    }
   ],
   "source": [
    "list('hello')"
   ]
  },
  {
   "cell_type": "code",
   "execution_count": 13,
   "metadata": {},
   "outputs": [
    {
     "data": {
      "text/plain": [
       "('h', 'e', 'l', 'l', 'o')"
      ]
     },
     "execution_count": 13,
     "metadata": {},
     "output_type": "execute_result"
    }
   ],
   "source": [
    "tuple('hello')"
   ]
  },
  {
   "cell_type": "code",
   "execution_count": 14,
   "metadata": {},
   "outputs": [],
   "source": [
    "x,y = [1,2]\n",
    "x\n",
    "y\n",
    "x,y = (1,2)\n",
    "x\n",
    "y\n",
    "#unpacking: 리스트(튜플)의 요소를 여러개의 변수에 할당하는 것\n",
    "#packing: 변수에 리스트 또는 튜플을 할당하는 것\n",
    "a = [1,2,3] #리스트 패킹\n",
    "b = (1,2,3) #튜플 패킹"
   ]
  },
  {
   "cell_type": "code",
   "execution_count": 15,
   "metadata": {},
   "outputs": [
    {
     "data": {
      "text/plain": [
       "4"
      ]
     },
     "execution_count": 15,
     "metadata": {},
     "output_type": "execute_result"
    }
   ],
   "source": [
    "t1 = (1,2,'x','y')\n",
    "t1\n",
    "# del t1[0]\n",
    "#1[0]=5\n",
    "t1[1:]\n",
    "t2 = (3,4)\n",
    "t1+t2\n",
    "t2*3\n",
    "len(t1)"
   ]
  },
  {
   "cell_type": "code",
   "execution_count": 16,
   "metadata": {},
   "outputs": [
    {
     "data": {
      "text/plain": [
       "True"
      ]
     },
     "execution_count": 16,
     "metadata": {},
     "output_type": "execute_result"
    }
   ],
   "source": [
    "#시퀀스형 : 리스트, 튜플, range, 문자열 데이터는 연속적으로 표현\n",
    "#시퀀스형의 자료(객체)에 특정 값이 존재하는지 확인\n",
    "\n",
    "#0~90까지 10씩 증가한 값으로 리스트 생성\n",
    "a = list(range(0,91,10))\n",
    "#시퀀스형에 대해 in 연산자 사용 가능\n",
    "30 in a #a 변수(시퀀스형) 안에 30이 있느냐?\n",
    "100 in a \n",
    "30 not in a #a변수(시퀀스형) 안에 30이 있지 않느냐?\n",
    "100 not in a"
   ]
  },
  {
   "cell_type": "code",
   "execution_count": 17,
   "metadata": {},
   "outputs": [
    {
     "data": {
      "text/plain": [
       "False"
      ]
     },
     "execution_count": 17,
     "metadata": {},
     "output_type": "execute_result"
    }
   ],
   "source": [
    "'h' in 'hello, python'\n",
    "'h' not in 'hello, python'\n",
    "100 in range(100)"
   ]
  },
  {
   "cell_type": "code",
   "execution_count": 18,
   "metadata": {},
   "outputs": [
    {
     "data": {
      "text/plain": [
       "[0, 1, 2, 0, 1, 2, 0, 1, 2]"
      ]
     },
     "execution_count": 18,
     "metadata": {},
     "output_type": "execute_result"
    }
   ],
   "source": [
    "# +연산자로 시퀀스형에 대한 자료 연결이 가능\n",
    "#range는 안됨\n",
    "a = [1,2]\n",
    "b = [3,4]\n",
    "a+b\n",
    "'hello'+'hi'\n",
    "a = (1,2)\n",
    "b = (3,4)\n",
    "a+b\n",
    "# range(0,3)+range(3,5) 에러 발생\n",
    "list(range(0,3))+list(range(3,5))\n",
    "tuple(range(0,3))+tuple(range(3,5))\n",
    "#리스트+튜플 처럼 자료형이 다른 경우에는 연결 안됨\n",
    "#list(range(0,3))+tuple(range(3,5)) 에러 발생\n",
    "\n",
    "#문자에 숫자 연결 안됨 (숫자를 문자로 변환하면 가능)\n",
    "#'hi' + 7 에러 발생\n",
    "'hi' + str(7)\n",
    "'hi' + str(3.14)\n",
    "\n",
    "#range(0,3)*3 에러 발생\n",
    "list(range(0,3))*3"
   ]
  },
  {
   "cell_type": "code",
   "execution_count": 19,
   "metadata": {},
   "outputs": [
    {
     "data": {
      "text/plain": [
       "6"
      ]
     },
     "execution_count": 19,
     "metadata": {},
     "output_type": "execute_result"
    }
   ],
   "source": [
    "#len: 시퀀스 자료형에 해당되는 데이터의 길이\n",
    "a = [1,2,3]\n",
    "len(a)\n",
    "a = (1,2,3)\n",
    "len(a)\n",
    "len(range(0,3))\n",
    "len('hello')\n",
    "\n",
    "hi = '안녕'\n",
    "len('hi') #len은 문자의 개수\n",
    "#utf-8\n",
    "len(hi.encode('utf-8'))"
   ]
  },
  {
   "cell_type": "code",
   "execution_count": 20,
   "metadata": {},
   "outputs": [
    {
     "data": {
      "text/plain": [
       "'H'"
      ]
     },
     "execution_count": 20,
     "metadata": {},
     "output_type": "execute_result"
    }
   ],
   "source": [
    "#시퀀스형에 대한 자료 참조는 대괄호[] 기호 사용\n",
    "x = 'HI HELLO'\n",
    "# x[0] -> x.__getitem__(0)\n",
    "x[0]\n",
    "#x[10]"
   ]
  },
  {
   "cell_type": "code",
   "execution_count": 21,
   "metadata": {},
   "outputs": [
    {
     "data": {
      "text/plain": [
       "'O'"
      ]
     },
     "execution_count": 21,
     "metadata": {},
     "output_type": "execute_result"
    }
   ],
   "source": [
    "x[len(x)-1]\n",
    "x[-1]"
   ]
  },
  {
   "cell_type": "code",
   "execution_count": 22,
   "metadata": {},
   "outputs": [
    {
     "data": {
      "text/plain": [
       "'hlwl'"
      ]
     },
     "execution_count": 22,
     "metadata": {},
     "output_type": "execute_result"
    }
   ],
   "source": [
    "#x[2:-1]\n",
    "x\n",
    "x[2:-1]\n",
    "x[2:]\n",
    "x[1:7:2] #인덱스 1부터 2씩 증가하면서 인덱스 6번까지 가져옴\n",
    "x[:8:2]\n",
    "x[3::2]\n",
    "x[::2]\n",
    "x[::] #x를 출력하는 것과 같음\n",
    "\n",
    "x[5:1:-1] #5,4,3,2\n",
    "x[::-1] #역순\n",
    "\n",
    "x[0:len(x)]\n",
    "x[:len(x)]\n",
    "\n",
    "#튜플도 리스트와 동일\n",
    "x = range(10)\n",
    "x[4:7]\n",
    "list(range(0,7,2))\n",
    "\n",
    "x = 'hello world'\n",
    "x[:10:3]"
   ]
  },
  {
   "cell_type": "code",
   "execution_count": 23,
   "metadata": {},
   "outputs": [
    {
     "data": {
      "text/plain": [
       "[0, 10, 20, 30, 40, 50, 60, 70, 80, 90]"
      ]
     },
     "execution_count": 23,
     "metadata": {},
     "output_type": "execute_result"
    }
   ],
   "source": [
    "a = list(range(0,91,10))\n",
    "a"
   ]
  },
  {
   "cell_type": "code",
   "execution_count": 24,
   "metadata": {},
   "outputs": [
    {
     "data": {
      "text/plain": [
       "[0, 11, 20, 30, 40, 50, 60, 70, 80, 90]"
      ]
     },
     "execution_count": 24,
     "metadata": {},
     "output_type": "execute_result"
    }
   ],
   "source": [
    "a[1] = 11\n",
    "a"
   ]
  },
  {
   "cell_type": "code",
   "execution_count": 25,
   "metadata": {},
   "outputs": [
    {
     "data": {
      "text/plain": [
       "[0, 'a', 21, 'b', 'x', 'c', 60, 'd', 80, 90]"
      ]
     },
     "execution_count": 25,
     "metadata": {},
     "output_type": "execute_result"
    }
   ],
   "source": [
    "a[2:5] = [21,31,'x']\n",
    "a\n",
    "a[1:9:2] = ['a','b','c','d']\n",
    "a"
   ]
  },
  {
   "cell_type": "code",
   "execution_count": 26,
   "metadata": {},
   "outputs": [
    {
     "data": {
      "text/plain": [
       "['a', 'd', 90]"
      ]
     },
     "execution_count": 26,
     "metadata": {},
     "output_type": "execute_result"
    }
   ],
   "source": [
    "a\n",
    "del a[2:6]\n",
    "a\n",
    "del a[:5:2]\n",
    "a"
   ]
  },
  {
   "cell_type": "code",
   "execution_count": null,
   "metadata": {},
   "outputs": [],
   "source": [
    "#딕셔너리: 키(KEY)와 값(VALUE)으로 자료를 표현\n",
    "\"\"\"\n",
    "person=[180, 70, 'O', '서울']\n",
    "\n",
    "person2={'키':180, '몸무게':70, '혈액형':'O', '사는곳':'서울'}\n",
    "\n",
    "\"\"\""
   ]
  },
  {
   "cell_type": "code",
   "execution_count": 27,
   "metadata": {},
   "outputs": [],
   "source": [
    "person = [180, 70, 'O', '서울']\n",
    "person2 = {'키':180, '몸무게':70, '혈액형':'O', '사는곳':'서울'}\n",
    "#딕셔너리를 다른 언어에서는 맵, 해쉬라고 부름"
   ]
  },
  {
   "cell_type": "code",
   "execution_count": 28,
   "metadata": {},
   "outputs": [
    {
     "data": {
      "text/plain": [
       "{'키': 180, '몸무게': 70, '혈액형': 'O', '사는곳': '서울'}"
      ]
     },
     "execution_count": 28,
     "metadata": {},
     "output_type": "execute_result"
    }
   ],
   "source": [
    "person\n",
    "person2"
   ]
  },
  {
   "cell_type": "code",
   "execution_count": 29,
   "metadata": {},
   "outputs": [
    {
     "data": {
      "text/plain": [
       "{'키': 180, '몸무게': 80, '혈액형': 'O', '사는곳': '서울', False: 0, 99: '구구', 3.14: '원주율'}"
      ]
     },
     "execution_count": 29,
     "metadata": {},
     "output_type": "execute_result"
    }
   ],
   "source": [
    "person2 = {'키':180, '몸무게':70, '혈액형':'O', '사는곳':'서울', '몸무게':80, False:0, 99:'구구', 3.14:'원주율'}\n",
    "person2 #key가 중복되면 마지막 자료가 저장"
   ]
  },
  {
   "cell_type": "code",
   "execution_count": 30,
   "metadata": {},
   "outputs": [
    {
     "data": {
      "text/plain": [
       "{'키': 180,\n",
       " '몸무게': 70,\n",
       " '혈액형': 'O',\n",
       " '사는곳': '서울',\n",
       " '취미': {'오전': ['수영', '야구'], '오후': '공부'}}"
      ]
     },
     "execution_count": 30,
     "metadata": {},
     "output_type": "execute_result"
    }
   ],
   "source": [
    "person2 = {'키':180, '몸무게':70, '혈액형':'O', '사는곳':'서울', '취미':{'오전': ['수영','야구'], '오후':'공부'}}\n",
    "person2"
   ]
  },
  {
   "cell_type": "code",
   "execution_count": null,
   "metadata": {},
   "outputs": [],
   "source": [
    "\"\"\"\n",
    "딕셔너리\n",
    "- key, value가 여러 쌍으로 구성\n",
    "- 컴마로 구분\n",
    "- key는 변하지 않는 것을 사용\n",
    "- value는 변하는 값/변하지 않는 값 모두 사용 가능\n",
    "\"\"\""
   ]
  },
  {
   "cell_type": "code",
   "execution_count": 31,
   "metadata": {},
   "outputs": [
    {
     "data": {
      "text/plain": [
       "{}"
      ]
     },
     "execution_count": 31,
     "metadata": {},
     "output_type": "execute_result"
    }
   ],
   "source": [
    "x = dict()  #x={}\n",
    "x"
   ]
  },
  {
   "cell_type": "code",
   "execution_count": 32,
   "metadata": {},
   "outputs": [
    {
     "data": {
      "text/plain": [
       "{'height': 180, 'weight': 70, 'bt': 'O'}"
      ]
     },
     "execution_count": 32,
     "metadata": {},
     "output_type": "execute_result"
    }
   ],
   "source": [
    "#dict(키1:값1, 키2:값2....)\n",
    "per = dict(height=180, weight=70, bt='O')\n",
    "per\n",
    "\n",
    "pe = dict(zip(['height','weight','bt'],[180, 70, 'O']))\n",
    "per\n",
    "\n",
    "per = dict([('height',180), ('weight',70), ('bt','O')])\n",
    "per\n",
    "\n",
    "per = dict({'height':180, 'weight':70, 'bt':'O'})\n",
    "per\n",
    "\n"
   ]
  },
  {
   "cell_type": "code",
   "execution_count": null,
   "metadata": {
    "scrolled": true
   },
   "outputs": [],
   "source": [
    "#zip(['height','weight','bt'],[180, 70, 'O'])"
   ]
  },
  {
   "cell_type": "code",
   "execution_count": 33,
   "metadata": {},
   "outputs": [
    {
     "data": {
      "text/plain": [
       "{'a': [1, 2, 3]}"
      ]
     },
     "execution_count": 33,
     "metadata": {},
     "output_type": "execute_result"
    }
   ],
   "source": [
    "a = {1:'hi'}\n",
    "a\n",
    "a = {'a':[1,2,3]}\n",
    "a"
   ]
  },
  {
   "cell_type": "code",
   "execution_count": 34,
   "metadata": {},
   "outputs": [
    {
     "name": "stdout",
     "output_type": "stream",
     "text": [
      "{'a': [1, 2, 3]}\n",
      "{1: 'a'}\n"
     ]
    }
   ],
   "source": [
    "b = {1:'a'}\n",
    "print(a)\n",
    "print(b)\n",
    "a[2] = 'b' #key:2, value: 'b'\n",
    "a\n",
    "a['name'] = 'hgd'\n"
   ]
  },
  {
   "cell_type": "code",
   "execution_count": 35,
   "metadata": {
    "scrolled": true
   },
   "outputs": [
    {
     "name": "stdout",
     "output_type": "stream",
     "text": [
      "a\n",
      "2\n",
      "name\n",
      "weight\n",
      "[1, 2, 3]\n",
      "b\n",
      "lss\n",
      "70.5\n",
      "('a', [1, 2, 3])\n",
      "(2, 'b')\n",
      "('name', 'lss')\n",
      "('weight', 70.5)\n"
     ]
    }
   ],
   "source": [
    "a['name'] = 'lss'\n",
    "a\n",
    "#딕셔너리[키]='값'\n",
    "a['weight'] = 70.5\n",
    "a\n",
    "a['name']  #딕셔너리[키] => 값\n",
    "a\n",
    "'weight' in a\n",
    "'sky' in a\n",
    "'sky' not in a\n",
    "len(a)\n",
    "a.keys()\n",
    "\n",
    "for k in a.keys():\n",
    "    print(k)\n",
    "    \n",
    "for v in a.values():\n",
    "    print(v)\n",
    "    \n",
    "list(a.values())\n",
    "\n",
    "for i in a.items():\n",
    "    print(i)"
   ]
  },
  {
   "cell_type": "code",
   "execution_count": 36,
   "metadata": {},
   "outputs": [
    {
     "data": {
      "text/plain": [
       "['a', 2, 'name', 'weight']"
      ]
     },
     "execution_count": 36,
     "metadata": {},
     "output_type": "execute_result"
    }
   ],
   "source": [
    "list(a.keys())"
   ]
  },
  {
   "cell_type": "code",
   "execution_count": 37,
   "metadata": {},
   "outputs": [
    {
     "ename": "KeyError",
     "evalue": "'nn'",
     "output_type": "error",
     "traceback": [
      "\u001b[1;31m---------------------------------------------------------------------------\u001b[0m",
      "\u001b[1;31mKeyError\u001b[0m                                  Traceback (most recent call last)",
      "\u001b[1;32m<ipython-input-37-b96f205c158b>\u001b[0m in \u001b[0;36m<module>\u001b[1;34m\u001b[0m\n\u001b[0;32m      1\u001b[0m \u001b[0ma\u001b[0m\u001b[1;33m[\u001b[0m\u001b[1;34m'name'\u001b[0m\u001b[1;33m]\u001b[0m\u001b[1;33m\u001b[0m\u001b[1;33m\u001b[0m\u001b[0m\n\u001b[0;32m      2\u001b[0m \u001b[0ma\u001b[0m\u001b[1;33m.\u001b[0m\u001b[0mget\u001b[0m\u001b[1;33m(\u001b[0m\u001b[1;34m'name'\u001b[0m\u001b[1;33m)\u001b[0m\u001b[1;33m\u001b[0m\u001b[1;33m\u001b[0m\u001b[0m\n\u001b[1;32m----> 3\u001b[1;33m \u001b[0ma\u001b[0m\u001b[1;33m[\u001b[0m\u001b[1;34m'nn'\u001b[0m\u001b[1;33m]\u001b[0m\u001b[1;33m\u001b[0m\u001b[1;33m\u001b[0m\u001b[0m\n\u001b[0m",
      "\u001b[1;31mKeyError\u001b[0m: 'nn'"
     ]
    }
   ],
   "source": [
    "a['name']\n",
    "a.get('name')\n",
    "a['nn']"
   ]
  },
  {
   "cell_type": "code",
   "execution_count": 38,
   "metadata": {},
   "outputs": [
    {
     "name": "stdout",
     "output_type": "stream",
     "text": [
      "None\n"
     ]
    }
   ],
   "source": [
    "print(a.get('nn'))"
   ]
  },
  {
   "cell_type": "code",
   "execution_count": 39,
   "metadata": {},
   "outputs": [
    {
     "data": {
      "text/plain": [
       "{'a': [1, 2, 3], 2: 'b', 'name': 'lss', 'weight': 70.5, 'id': 'test'}"
      ]
     },
     "execution_count": 39,
     "metadata": {},
     "output_type": "execute_result"
    }
   ],
   "source": [
    "a['id'] = 'test'\n",
    "a"
   ]
  },
  {
   "cell_type": "code",
   "execution_count": 40,
   "metadata": {},
   "outputs": [
    {
     "data": {
      "text/plain": [
       "'guest'"
      ]
     },
     "execution_count": 40,
     "metadata": {},
     "output_type": "execute_result"
    }
   ],
   "source": [
    "a.get('id2','guest')\n",
    "#딕셔너리 a에 nn 키가 없다면, kim을 출력\n",
    "#디폴트(기본값) 설정"
   ]
  },
  {
   "cell_type": "code",
   "execution_count": 41,
   "metadata": {},
   "outputs": [
    {
     "data": {
      "text/plain": [
       "'k'"
      ]
     },
     "execution_count": 41,
     "metadata": {},
     "output_type": "execute_result"
    }
   ],
   "source": [
    "#set: 집합 \n",
    "#x={1,1,2,2,3} => x={1,2,3}   \n",
    "#중복 허용 안됨\n",
    "s = set([1,2,3])\n",
    "s\n",
    "s2 = ('hello')\n",
    "s2\n",
    "\n",
    "#set(집합) 자료구조 특징\n",
    "#중복 허용 X, 순서가 없음\n",
    "s = set(['k','i','m'])\n",
    "slist = list(s)\n",
    "slist\n",
    "slist[1]\n",
    "\n",
    "s = tuple(['k','i','m'])\n",
    "s[0]\n",
    "#slist = list(s)\n",
    "#slist\n",
    "#slist[1]"
   ]
  },
  {
   "cell_type": "code",
   "execution_count": 42,
   "metadata": {},
   "outputs": [],
   "source": [
    "s1 = set([1,2,3,4])\n",
    "s2 = set([5,6,3,4])"
   ]
  },
  {
   "cell_type": "code",
   "execution_count": 2,
   "metadata": {},
   "outputs": [
    {
     "data": {
      "text/plain": [
       "{3, 4}"
      ]
     },
     "execution_count": 2,
     "metadata": {},
     "output_type": "execute_result"
    }
   ],
   "source": [
    "#교집합\n",
    "s1 & s2\n",
    "s1.intersection(s2)"
   ]
  },
  {
   "cell_type": "code",
   "execution_count": 4,
   "metadata": {},
   "outputs": [
    {
     "data": {
      "text/plain": [
       "{1, 2, 3, 4, 5, 6}"
      ]
     },
     "execution_count": 4,
     "metadata": {},
     "output_type": "execute_result"
    }
   ],
   "source": [
    "#합집합\n",
    "s1 | s2\n",
    "s1.union(s2)"
   ]
  },
  {
   "cell_type": "code",
   "execution_count": 6,
   "metadata": {},
   "outputs": [
    {
     "data": {
      "text/plain": [
       "{1, 2}"
      ]
     },
     "execution_count": 6,
     "metadata": {},
     "output_type": "execute_result"
    }
   ],
   "source": [
    "#차집합\n",
    "s1-s2\n",
    "s1.difference(s2)"
   ]
  },
  {
   "cell_type": "code",
   "execution_count": 48,
   "metadata": {},
   "outputs": [
    {
     "data": {
      "text/plain": [
       "{1, 2, 3, 4, 5}"
      ]
     },
     "execution_count": 48,
     "metadata": {},
     "output_type": "execute_result"
    }
   ],
   "source": [
    "s = set([1,2])\n",
    "s\n",
    "s.add(3)\n",
    "s\n",
    "#s.add([4,5]) : add함수는 2개 이상 추가 안됨\n",
    "s.update([4,5])\n",
    "s"
   ]
  },
  {
   "cell_type": "code",
   "execution_count": 54,
   "metadata": {},
   "outputs": [
    {
     "name": "stdout",
     "output_type": "stream",
     "text": [
      "문장을 수행합니다\n"
     ]
    }
   ],
   "source": [
    "\"\"\"\n",
    "참: \"test\", [1,2], (1,2), 1\n",
    "거짓: \"\", [], (), 0, None\n",
    "\n",
    "explicit programming: 모든 조건들을 명시 (조건문)\n",
    "implicit programming: 상황에 맞춘 판단 가능\n",
    "\n",
    "if 고양이가 나타나면:     if 조건:\n",
    "    브레이크를 밟는다\n",
    "    클락션을 울린다\n",
    "달린다   (조건과 상관없이 무조건 실행)\n",
    "\n",
    "if 강아지가 나타나면:     if 조건:\n",
    "    브레이크를 밟는다\n",
    "    클락션을 울린다\n",
    "달린다 \n",
    "\n",
    "\"\"\"\n",
    "\n",
    "x = 3\n",
    "if x == 10:\n",
    "    print(\"10입니다\")     \n",
    "    print('5보다 큽니다')\n",
    "print('문장을 수행합니다')"
   ]
  },
  {
   "cell_type": "code",
   "execution_count": 66,
   "metadata": {},
   "outputs": [],
   "source": [
    "#참: \"test\", [1,2], (1,2), 1\n",
    "#거짓: \"\", [], (), 0, None\n",
    "    \n",
    "#if a.get('nn'):\n",
    "#    print('해당 키가 없습니다. 확인하세요.')"
   ]
  },
  {
   "cell_type": "code",
   "execution_count": 70,
   "metadata": {},
   "outputs": [
    {
     "name": "stdout",
     "output_type": "stream",
     "text": [
      "안녕\n",
      "하세요\n"
     ]
    }
   ],
   "source": [
    "x = 10\n",
    "if x == 10:\n",
    "    pass\n",
    "if x == 10:\n",
    "    print('안녕')\n",
    "    if x%2 == 0:\n",
    "        print('하세요')  "
   ]
  },
  {
   "cell_type": "code",
   "execution_count": 71,
   "metadata": {},
   "outputs": [
    {
     "name": "stdout",
     "output_type": "stream",
     "text": [
      "x는\n",
      "5입니다.\n"
     ]
    }
   ],
   "source": [
    "x = 5\n",
    "if x == 5:\n",
    "    print('x는')\n",
    "print('5입니다.')"
   ]
  },
  {
   "cell_type": "code",
   "execution_count": 77,
   "metadata": {},
   "outputs": [
    {
     "name": "stdout",
     "output_type": "stream",
     "text": [
      "3이상\n",
      "10미만\n",
      "입니다\n"
     ]
    }
   ],
   "source": [
    "x = 5\n",
    "if x >= 3:\n",
    "    print('3이상')\n",
    "    if x < 10:\n",
    "        print('10미만')\n",
    "    if x < 5:\n",
    "        print('5미만')\n",
    "print('입니다')"
   ]
  },
  {
   "cell_type": "code",
   "execution_count": 80,
   "metadata": {},
   "outputs": [
    {
     "name": "stdout",
     "output_type": "stream",
     "text": [
      "거짓\n",
      "참\n",
      "거짓\n"
     ]
    }
   ],
   "source": [
    "if []:  #거짓이므로 else 문장 수행\n",
    "    print('참')\n",
    "else:\n",
    "    print('거짓')\n",
    "    \n",
    "if [1,2]:  #참 문장 수행\n",
    "    print('참')\n",
    "else:\n",
    "    print('거짓')\n",
    "    \n",
    "if None:  #거짓 문장 수행\n",
    "    print('참')\n",
    "else:\n",
    "    print('거짓')"
   ]
  },
  {
   "cell_type": "code",
   "execution_count": 84,
   "metadata": {},
   "outputs": [
    {
     "data": {
      "text/plain": [
       "False"
      ]
     },
     "execution_count": 84,
     "metadata": {},
     "output_type": "execute_result"
    }
   ],
   "source": [
    "bool(0)\n",
    "bool(10)\n",
    "bool('python')\n",
    "bool('')"
   ]
  },
  {
   "cell_type": "code",
   "execution_count": 86,
   "metadata": {},
   "outputs": [
    {
     "name": "stdout",
     "output_type": "stream",
     "text": [
      "3\n"
     ]
    },
    {
     "data": {
      "text/plain": [
       "[1, 2]"
      ]
     },
     "execution_count": 86,
     "metadata": {},
     "output_type": "execute_result"
    }
   ],
   "source": [
    "a = [1,2,3]\n",
    "if a:  #True\n",
    "    print(a.pop())\n",
    "a"
   ]
  },
  {
   "cell_type": "code",
   "execution_count": 87,
   "metadata": {},
   "outputs": [
    {
     "name": "stdout",
     "output_type": "stream",
     "text": [
      "3\n",
      "2\n",
      "1\n"
     ]
    }
   ],
   "source": [
    "a = [1,2,3] #[]\n",
    "while a:\n",
    "    print(a.pop())\n",
    "    \n",
    "#while(~동안), a변수 값이 참인 동안에 계속 반복"
   ]
  },
  {
   "cell_type": "code",
   "execution_count": 9,
   "metadata": {},
   "outputs": [
    {
     "name": "stdout",
     "output_type": "stream",
     "text": [
      "hi\n",
      "hi\n",
      "hi\n",
      "hi\n",
      "hi\n",
      "hi\n",
      "hi\n",
      "hi\n",
      "hi\n",
      "hi\n"
     ]
    }
   ],
   "source": [
    "for i in range(10): #(0,9)\n",
    "    print('hi')"
   ]
  },
  {
   "cell_type": "code",
   "execution_count": 8,
   "metadata": {},
   "outputs": [
    {
     "name": "stdout",
     "output_type": "stream",
     "text": [
      "15\n",
      "10보다 커요\n"
     ]
    }
   ],
   "source": [
    "if int(input()) < 10:\n",
    "    print('10보다 작아요')\n",
    "else:\n",
    "    print('10보다 커요')"
   ]
  },
  {
   "cell_type": "code",
   "execution_count": 8,
   "metadata": {},
   "outputs": [
    {
     "name": "stdout",
     "output_type": "stream",
     "text": [
      "27000\n",
      "Cash3000\n",
      "24000\n"
     ]
    }
   ],
   "source": [
    "x = int(input())\n",
    "y = input()\n",
    "if y == 'Cash3000':\n",
    "    print(x-3000)\n",
    "if y == 'Cash5000':\n",
    "    print(x-5000)"
   ]
  },
  {
   "cell_type": "code",
   "execution_count": 17,
   "metadata": {},
   "outputs": [
    {
     "name": "stdout",
     "output_type": "stream",
     "text": [
      "2\n"
     ]
    },
    {
     "data": {
      "text/plain": [
       "[-10, -8, -6, -4, -2, 0, 2, 4, 6, 8]"
      ]
     },
     "execution_count": 17,
     "metadata": {},
     "output_type": "execute_result"
    }
   ],
   "source": [
    "a = list(range(-10,10,int(input())))\n",
    "a"
   ]
  },
  {
   "cell_type": "code",
   "execution_count": 28,
   "metadata": {},
   "outputs": [
    {
     "data": {
      "text/plain": [
       "(75, -10, 32, -15, 76, 2)"
      ]
     },
     "execution_count": 28,
     "metadata": {},
     "output_type": "execute_result"
    }
   ],
   "source": [
    "n = (-32, 75, 97, -10, 9, 32, 4, -15, 0, 76, 14, 2)\n",
    "n[1::2]"
   ]
  },
  {
   "cell_type": "code",
   "execution_count": 29,
   "metadata": {},
   "outputs": [
    {
     "data": {
      "text/plain": [
       "{1, 2, 3, 4, 5}"
      ]
     },
     "execution_count": 29,
     "metadata": {},
     "output_type": "execute_result"
    }
   ],
   "source": [
    "a = [1, 1, 1, 2, 2, 3, 3, 3, 4, 4, 5]\n",
    "a = set(a)\n",
    "a"
   ]
  }
 ],
 "metadata": {
  "kernelspec": {
   "display_name": "Python 3",
   "language": "python",
   "name": "python3"
  },
  "language_info": {
   "codemirror_mode": {
    "name": "ipython",
    "version": 3
   },
   "file_extension": ".py",
   "mimetype": "text/x-python",
   "name": "python",
   "nbconvert_exporter": "python",
   "pygments_lexer": "ipython3",
   "version": "3.7.4"
  }
 },
 "nbformat": 4,
 "nbformat_minor": 2
}
