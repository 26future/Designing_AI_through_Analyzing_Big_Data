{
 "cells": [
  {
   "cell_type": "code",
   "execution_count": 1,
   "metadata": {},
   "outputs": [],
   "source": [
    "import tensorflow as tf"
   ]
  },
  {
   "cell_type": "code",
   "execution_count": 2,
   "metadata": {},
   "outputs": [],
   "source": [
    "a = tf.placeholder(\"float\")\n",
    "b = tf.placeholder(\"float\")\n",
    "#플레이스홀더: 프로그램 실행 중에 값을 변경할 수 있는 변수를 2개 정의\n",
    "#데이터를 임시로 담는 버퍼같은 것"
   ]
  },
  {
   "cell_type": "code",
   "execution_count": 3,
   "metadata": {},
   "outputs": [
    {
     "name": "stdout",
     "output_type": "stream",
     "text": [
      "6.0\n"
     ]
    }
   ],
   "source": [
    "y = tf.multiply(a,b)\n",
    "sess = tf.Session() #그래프 실행을 위해서는 세션이 필요\n",
    "print(sess.run(y,feed_dict={a:3,b:2})) #y노드를 실행해라"
   ]
  },
  {
   "cell_type": "code",
   "execution_count": 4,
   "metadata": {},
   "outputs": [],
   "source": [
    "# tensorflow.org"
   ]
  },
  {
   "cell_type": "code",
   "execution_count": 5,
   "metadata": {},
   "outputs": [
    {
     "name": "stdout",
     "output_type": "stream",
     "text": [
      "b'Hello'\n"
     ]
    }
   ],
   "source": [
    "hello = tf.constant(\"Hello\")\n",
    "sess = tf.Session()\n",
    "print(sess.run(hello))"
   ]
  },
  {
   "cell_type": "code",
   "execution_count": 6,
   "metadata": {},
   "outputs": [
    {
     "data": {
      "text/plain": [
       "[[[1, 2, 3]], [[4, 5, 6]]]"
      ]
     },
     "execution_count": 6,
     "metadata": {},
     "output_type": "execute_result"
    }
   ],
   "source": [
    "3 #랭크: 0(차원) tensor, shape: []\n",
    "[1,2,3] #랭크: 1, shape: [3]\n",
    "[[1,2,3],[1,2,3]] #랭크: 2 , shape: [2,3]\n",
    "[[[1,2,3]],[[4,5,6]]] #랭크: 3, shape(각 차원의 요소의 개수): [2,1,3] "
   ]
  },
  {
   "cell_type": "code",
   "execution_count": 7,
   "metadata": {},
   "outputs": [
    {
     "name": "stdout",
     "output_type": "stream",
     "text": [
      "30\n",
      "10\n",
      "20\n",
      "[10, 20]\n"
     ]
    }
   ],
   "source": [
    "#tensor를 이용한 연산\n",
    "a = tf.constant(10)\n",
    "b = tf.constant(20)\n",
    "sess = tf.Session()\n",
    "# print(sess.run(tf.add(a,b)))\n",
    "c = tf.add(a,b)\n",
    "print(sess.run(c))\n",
    "# print(c) #c 노드에 대한 tensor 정보가 출력됨\n",
    "print(sess.run(a))\n",
    "print(sess.run(b))\n",
    "print(sess.run([a,b])) #두 개의 노드 a,b 동시 실행\n",
    "sess.close() #세션 종료를 해주는게 좋음"
   ]
  },
  {
   "cell_type": "code",
   "execution_count": 8,
   "metadata": {},
   "outputs": [
    {
     "name": "stdout",
     "output_type": "stream",
     "text": [
      "[8. 3.]\n"
     ]
    }
   ],
   "source": [
    "a = tf.placeholder(tf.float32)\n",
    "b = tf.placeholder(tf.float32)\n",
    "adderNode = a+b\n",
    "sess = tf.Session()\n",
    "print(sess.run(adderNode, feed_dict={a:[5,1],b:[3,2]}))"
   ]
  },
  {
   "cell_type": "code",
   "execution_count": 9,
   "metadata": {},
   "outputs": [
    {
     "name": "stdout",
     "output_type": "stream",
     "text": [
      "15.0\n"
     ]
    }
   ],
   "source": [
    "#a=2, b=3\n",
    "# => 5 * 3 => 15가 출력되도록 노드 정의 \n",
    "triple = adderNode*3\n",
    "print(sess.run(triple, feed_dict={a:2,b:3}))"
   ]
  },
  {
   "cell_type": "code",
   "execution_count": 10,
   "metadata": {},
   "outputs": [
    {
     "name": "stdout",
     "output_type": "stream",
     "text": [
      "[[1. 2. 3.]\n",
      " [4. 5. 6.]]\n"
     ]
    }
   ],
   "source": [
    "x = tf.placeholder(tf.float32, [None,3]) # ?행3열\n",
    "# print(x)\n",
    "xdata = [[1,2,3],[4,5,6]] # 2행3열\n",
    "xdata2 = [[1,2],[4,5]] #2행2열\n",
    "print(sess.run(x, feed_dict={x:xdata}))\n",
    "# print(sess.run(x, feed_dict={x:xdata2})) #Error: shape이 맞지 않음"
   ]
  },
  {
   "cell_type": "code",
   "execution_count": 11,
   "metadata": {},
   "outputs": [],
   "source": [
    "#변수(Variable) 정의\n",
    "# H(x) = wx+b (w,b는 항상 variable)\n",
    "# w = tf.Variable(tf.random_normal([2,1]))\n",
    "w = tf.Variable([[1],[2]]) #초기값 직접 지정\n",
    "# hf = tf.matmul(x,w)+b #행렬 곱셈(matrix multiply) 함수"
   ]
  },
  {
   "cell_type": "code",
   "execution_count": null,
   "metadata": {},
   "outputs": [],
   "source": []
  },
  {
   "cell_type": "code",
   "execution_count": 13,
   "metadata": {},
   "outputs": [
    {
     "name": "stdout",
     "output_type": "stream",
     "text": [
      "[[-1.0879587]\n",
      " [-3.4517007]]\n"
     ]
    }
   ],
   "source": [
    "xdata = [[1,2,3], #2행3열 (국어,영어,수학)\n",
    "         [4,5,6]]\n",
    "x = tf.placeholder(tf.float32, [None,3])\n",
    "w = tf.Variable(tf.random_normal([3,1])) #각 과목 가중치\n",
    "b = tf.Variable(tf.random_normal([1])) #편향(bias) => 오류 완충\n",
    "hf = tf.matmul(x,w)+b\n",
    "sess = tf.Session()\n",
    "\n",
    "# hf = xw+b\n",
    "sess.run(tf.global_variables_initializer())\n",
    "print(sess.run(hf, feed_dict={x:xdata}))\n",
    "\n",
    "# x의 shape=>(2,3) * (3,1) => (2,1)\n",
    "# w의 shape=>? "
   ]
  },
  {
   "cell_type": "markdown",
   "metadata": {},
   "source": [
    "## 선형 회귀 모델"
   ]
  },
  {
   "cell_type": "code",
   "execution_count": 16,
   "metadata": {},
   "outputs": [],
   "source": [
    "xtrain = [80, 95, 97] #모의고사 점수 (3명)\n",
    "ytrain = [82, 90, 98] #수능 점수 (3명)\n",
    "#모의고사 70점 -> 수능?\n",
    "#hf =  w*x+b\n",
    "#82 = 80*1+2\n",
    "#90 = 95*1+2"
   ]
  },
  {
   "cell_type": "code",
   "execution_count": 17,
   "metadata": {},
   "outputs": [],
   "source": [
    "w = tf.Variable(tf.random_normal([1]))\n",
    "b = tf.Variable(tf.random_normal([1]))"
   ]
  },
  {
   "cell_type": "code",
   "execution_count": 18,
   "metadata": {},
   "outputs": [],
   "source": [
    "hf = xtrain*w+b"
   ]
  },
  {
   "cell_type": "code",
   "execution_count": 19,
   "metadata": {},
   "outputs": [],
   "source": [
    "sess = tf.Session()\n",
    "sess.run(tf.global_variables_initializer())"
   ]
  },
  {
   "cell_type": "code",
   "execution_count": 20,
   "metadata": {},
   "outputs": [
    {
     "name": "stdout",
     "output_type": "stream",
     "text": [
      "[array([-0.00348669], dtype=float32), array([-0.81272846], dtype=float32), array([-1.0916634, -1.1439636, -1.150937 ], dtype=float32)]\n"
     ]
    }
   ],
   "source": [
    "print(sess.run([w,b,hf])) #[80, 95, 97]\n",
    "#w=-0.35, b=0.49\n",
    "#hf(예상)=[-27,-33,-33]\n",
    "#    정답=[82, 90, 98]\n",
    "#   cost=((-27-82)^2+(-33-80)^2+(-32-98)^2)/3\n",
    "#cost 함수 미분 -> w,b 업데이트(back propagation)\n",
    "\n",
    "#w=0.35, b=0\n",
    "#hf(예상)=[27,33,33]"
   ]
  },
  {
   "cell_type": "code",
   "execution_count": 21,
   "metadata": {},
   "outputs": [],
   "source": [
    "#우리의 모델\n",
    "hf = xtrain*w+b\n",
    "cost = tf.reduce_mean(tf.square(hf-ytrain))  #(예상값 - 실제값)합의 제곱에 대한 평균"
   ]
  },
  {
   "cell_type": "code",
   "execution_count": 22,
   "metadata": {},
   "outputs": [],
   "source": [
    "opt = tf.train.GradientDescentOptimizer(0.0001)  # 0.0001 => learning rate\n",
    "train = opt.minimize(cost) #경사 하강"
   ]
  },
  {
   "cell_type": "code",
   "execution_count": 23,
   "metadata": {},
   "outputs": [],
   "source": [
    "#fit the line\n",
    "# print(sess.run(cost), sess.run(w), sess.run(b))"
   ]
  },
  {
   "cell_type": "code",
   "execution_count": 24,
   "metadata": {},
   "outputs": [],
   "source": [
    "# sess.run(train) #w,b 업데이트"
   ]
  },
  {
   "cell_type": "code",
   "execution_count": 25,
   "metadata": {},
   "outputs": [],
   "source": [
    "# print(sess.run(cost), sess.run(w), sess.run(b))"
   ]
  },
  {
   "cell_type": "code",
   "execution_count": 26,
   "metadata": {},
   "outputs": [],
   "source": [
    "# sess.run(train) #w,b 업데이트"
   ]
  },
  {
   "cell_type": "code",
   "execution_count": 27,
   "metadata": {},
   "outputs": [],
   "source": [
    "# print(sess.run(cost), sess.run(w), sess.run(b))"
   ]
  },
  {
   "cell_type": "code",
   "execution_count": 28,
   "metadata": {},
   "outputs": [],
   "source": [
    "# sess.run(train) #w,b 업데이트"
   ]
  },
  {
   "cell_type": "code",
   "execution_count": 29,
   "metadata": {},
   "outputs": [],
   "source": [
    "# print(sess.run(cost), sess.run(w), sess.run(b))"
   ]
  },
  {
   "cell_type": "code",
   "execution_count": 30,
   "metadata": {},
   "outputs": [
    {
     "name": "stdout",
     "output_type": "stream",
     "text": [
      "0 3595.4617 [1.6580901] [-0.7945027]\n",
      "100 9.573062 [0.9999732] [-0.7990158]\n",
      "200 9.5723505 [0.9999437] [-0.7963217]\n",
      "300 9.571601 [0.99991435] [-0.79362756]\n",
      "400 9.570891 [0.99988484] [-0.79093343]\n",
      "500 9.570145 [0.9998554] [-0.7882393]\n",
      "600 9.569444 [0.9998259] [-0.7855452]\n",
      "700 9.568726 [0.99979615] [-0.78285104]\n",
      "800 9.567981 [0.99976665] [-0.7801569]\n",
      "900 9.567258 [0.99973714] [-0.7774628]\n",
      "1000 9.566546 [0.99970764] [-0.77476865]\n",
      "1100 9.565798 [0.9996783] [-0.7720745]\n",
      "1200 9.565075 [0.9996488] [-0.7693813]\n",
      "1300 9.56435 [0.9996191] [-0.7666905]\n",
      "1400 9.5636425 [0.9995899] [-0.7640022]\n",
      "1500 9.562924 [0.99956036] [-0.76131403]\n",
      "1600 9.562182 [0.99953085] [-0.75862586]\n",
      "1700 9.561467 [0.9995016] [-0.7559377]\n",
      "1800 9.560741 [0.99947196] [-0.7532495]\n",
      "1900 9.560021 [0.9994425] [-0.75056136]\n",
      "2000 9.559293 [0.99941325] [-0.7478732]\n"
     ]
    }
   ],
   "source": [
    "for step in range(2001):\n",
    "    sess.run(train)\n",
    "    if step%100==0:\n",
    "        print(step, sess.run(cost), sess.run(w), sess.run(b))"
   ]
  },
  {
   "cell_type": "code",
   "execution_count": 31,
   "metadata": {},
   "outputs": [
    {
     "name": "stdout",
     "output_type": "stream",
     "text": [
      "예상되는 수능점수는? 49.22278940677643\n"
     ]
    }
   ],
   "source": [
    "#모의고사 점수가 50점 => 수능점수?\n",
    "yhat = sess.run(w)[0]*50+sess.run(b)[0]\n",
    "print(\"예상되는 수능점수는?\", yhat)"
   ]
  },
  {
   "cell_type": "code",
   "execution_count": 32,
   "metadata": {},
   "outputs": [],
   "source": [
    "#car 데이터에서 임의의 실린더 수(10, 12, 16)가 입력 -> hp?\n",
    "#cost, w, b 출력\n",
    "#cost 함수 시각화(w축)\n",
    "#learning rate, training 횟수 조절"
   ]
  },
  {
   "cell_type": "code",
   "execution_count": 33,
   "metadata": {},
   "outputs": [],
   "source": [
    "import pandas as pd\n",
    "import tensorflow as tf"
   ]
  },
  {
   "cell_type": "code",
   "execution_count": 34,
   "metadata": {},
   "outputs": [
    {
     "data": {
      "text/html": [
       "<div>\n",
       "<style scoped>\n",
       "    .dataframe tbody tr th:only-of-type {\n",
       "        vertical-align: middle;\n",
       "    }\n",
       "\n",
       "    .dataframe tbody tr th {\n",
       "        vertical-align: top;\n",
       "    }\n",
       "\n",
       "    .dataframe thead th {\n",
       "        text-align: right;\n",
       "    }\n",
       "</style>\n",
       "<table border=\"1\" class=\"dataframe\">\n",
       "  <thead>\n",
       "    <tr style=\"text-align: right;\">\n",
       "      <th></th>\n",
       "      <th>mpg</th>\n",
       "      <th>cylinders</th>\n",
       "      <th>cubicinches</th>\n",
       "      <th>hp</th>\n",
       "      <th>weightlbs</th>\n",
       "      <th>time-to-60</th>\n",
       "      <th>year</th>\n",
       "      <th>brand</th>\n",
       "    </tr>\n",
       "  </thead>\n",
       "  <tbody>\n",
       "    <tr>\n",
       "      <td>0</td>\n",
       "      <td>14.0</td>\n",
       "      <td>8</td>\n",
       "      <td>350</td>\n",
       "      <td>165</td>\n",
       "      <td>4209</td>\n",
       "      <td>12</td>\n",
       "      <td>1972</td>\n",
       "      <td>US.</td>\n",
       "    </tr>\n",
       "    <tr>\n",
       "      <td>1</td>\n",
       "      <td>31.9</td>\n",
       "      <td>4</td>\n",
       "      <td>89</td>\n",
       "      <td>71</td>\n",
       "      <td>1925</td>\n",
       "      <td>14</td>\n",
       "      <td>1980</td>\n",
       "      <td>Europe.</td>\n",
       "    </tr>\n",
       "    <tr>\n",
       "      <td>2</td>\n",
       "      <td>17.0</td>\n",
       "      <td>8</td>\n",
       "      <td>302</td>\n",
       "      <td>140</td>\n",
       "      <td>3449</td>\n",
       "      <td>11</td>\n",
       "      <td>1971</td>\n",
       "      <td>US.</td>\n",
       "    </tr>\n",
       "    <tr>\n",
       "      <td>3</td>\n",
       "      <td>15.0</td>\n",
       "      <td>8</td>\n",
       "      <td>400</td>\n",
       "      <td>150</td>\n",
       "      <td>3761</td>\n",
       "      <td>10</td>\n",
       "      <td>1971</td>\n",
       "      <td>US.</td>\n",
       "    </tr>\n",
       "    <tr>\n",
       "      <td>4</td>\n",
       "      <td>30.5</td>\n",
       "      <td>4</td>\n",
       "      <td>98</td>\n",
       "      <td>63</td>\n",
       "      <td>2051</td>\n",
       "      <td>17</td>\n",
       "      <td>1978</td>\n",
       "      <td>US.</td>\n",
       "    </tr>\n",
       "    <tr>\n",
       "      <td>...</td>\n",
       "      <td>...</td>\n",
       "      <td>...</td>\n",
       "      <td>...</td>\n",
       "      <td>...</td>\n",
       "      <td>...</td>\n",
       "      <td>...</td>\n",
       "      <td>...</td>\n",
       "      <td>...</td>\n",
       "    </tr>\n",
       "    <tr>\n",
       "      <td>256</td>\n",
       "      <td>17.0</td>\n",
       "      <td>8</td>\n",
       "      <td>305</td>\n",
       "      <td>130</td>\n",
       "      <td>3840</td>\n",
       "      <td>15</td>\n",
       "      <td>1980</td>\n",
       "      <td>US.</td>\n",
       "    </tr>\n",
       "    <tr>\n",
       "      <td>257</td>\n",
       "      <td>36.1</td>\n",
       "      <td>4</td>\n",
       "      <td>91</td>\n",
       "      <td>60</td>\n",
       "      <td>1800</td>\n",
       "      <td>16</td>\n",
       "      <td>1979</td>\n",
       "      <td>Japan.</td>\n",
       "    </tr>\n",
       "    <tr>\n",
       "      <td>258</td>\n",
       "      <td>22.0</td>\n",
       "      <td>6</td>\n",
       "      <td>232</td>\n",
       "      <td>112</td>\n",
       "      <td>2835</td>\n",
       "      <td>15</td>\n",
       "      <td>1983</td>\n",
       "      <td>US.</td>\n",
       "    </tr>\n",
       "    <tr>\n",
       "      <td>259</td>\n",
       "      <td>18.0</td>\n",
       "      <td>6</td>\n",
       "      <td>232</td>\n",
       "      <td>100</td>\n",
       "      <td>3288</td>\n",
       "      <td>16</td>\n",
       "      <td>1972</td>\n",
       "      <td>US.</td>\n",
       "    </tr>\n",
       "    <tr>\n",
       "      <td>260</td>\n",
       "      <td>22.0</td>\n",
       "      <td>6</td>\n",
       "      <td>250</td>\n",
       "      <td>105</td>\n",
       "      <td>3353</td>\n",
       "      <td>15</td>\n",
       "      <td>1977</td>\n",
       "      <td>US.</td>\n",
       "    </tr>\n",
       "  </tbody>\n",
       "</table>\n",
       "<p>261 rows × 8 columns</p>\n",
       "</div>"
      ],
      "text/plain": [
       "      mpg   cylinders  cubicinches   hp  weightlbs   time-to-60   year  \\\n",
       "0    14.0           8          350  165       4209           12   1972   \n",
       "1    31.9           4           89   71       1925           14   1980   \n",
       "2    17.0           8          302  140       3449           11   1971   \n",
       "3    15.0           8          400  150       3761           10   1971   \n",
       "4    30.5           4           98   63       2051           17   1978   \n",
       "..    ...         ...          ...  ...        ...          ...    ...   \n",
       "256  17.0           8          305  130       3840           15   1980   \n",
       "257  36.1           4           91   60       1800           16   1979   \n",
       "258  22.0           6          232  112       2835           15   1983   \n",
       "259  18.0           6          232  100       3288           16   1972   \n",
       "260  22.0           6          250  105       3353           15   1977   \n",
       "\n",
       "        brand  \n",
       "0         US.  \n",
       "1     Europe.  \n",
       "2         US.  \n",
       "3         US.  \n",
       "4         US.  \n",
       "..        ...  \n",
       "256       US.  \n",
       "257    Japan.  \n",
       "258       US.  \n",
       "259       US.  \n",
       "260       US.  \n",
       "\n",
       "[261 rows x 8 columns]"
      ]
     },
     "execution_count": 34,
     "metadata": {},
     "output_type": "execute_result"
    }
   ],
   "source": [
    "car = pd.read_csv(\"carsdata/cars.csv\")\n",
    "car"
   ]
  },
  {
   "cell_type": "code",
   "execution_count": 35,
   "metadata": {},
   "outputs": [],
   "source": [
    "xtrain = car[' cylinders']\n",
    "ytrain = car[' hp']"
   ]
  },
  {
   "cell_type": "code",
   "execution_count": 36,
   "metadata": {},
   "outputs": [],
   "source": [
    "xtrain = list(xtrain.values)\n",
    "ytrain = list(ytrain.values)"
   ]
  },
  {
   "cell_type": "code",
   "execution_count": 37,
   "metadata": {},
   "outputs": [],
   "source": [
    "w = tf.Variable(tf.random_normal([1]))\n",
    "b = tf.Variable(tf.random_normal([1]))"
   ]
  },
  {
   "cell_type": "code",
   "execution_count": 38,
   "metadata": {},
   "outputs": [],
   "source": [
    "hf = xtrain*w+b"
   ]
  },
  {
   "cell_type": "code",
   "execution_count": 39,
   "metadata": {},
   "outputs": [],
   "source": [
    "sess = tf.Session()\n",
    "sess.run(tf.global_variables_initializer())"
   ]
  },
  {
   "cell_type": "code",
   "execution_count": 40,
   "metadata": {},
   "outputs": [],
   "source": [
    "#모델\n",
    "hf = xtrain*w+b\n",
    "cost = tf.reduce_mean(tf.square(hf-ytrain))"
   ]
  },
  {
   "cell_type": "code",
   "execution_count": 41,
   "metadata": {},
   "outputs": [],
   "source": [
    "opt = tf.train.GradientDescentOptimizer(0.01) #learning rante: 0.01\n",
    "train = opt.minimize(cost) #경사 하강"
   ]
  },
  {
   "cell_type": "code",
   "execution_count": 42,
   "metadata": {
    "scrolled": false
   },
   "outputs": [
    {
     "name": "stdout",
     "output_type": "stream",
     "text": [
      "0 1488.2745 [13.17834] [2.8218045]\n",
      "100 470.55 [18.68212] [2.480624]\n",
      "200 469.48004 [18.849058] [1.460594]\n",
      "300 468.719 [18.989841] [0.6003802]\n",
      "400 468.17786 [19.108566] [-0.12505792]\n",
      "500 467.7929 [19.20869] [-0.7368375]\n",
      "600 467.5192 [19.293129] [-1.252765]\n",
      "700 467.32446 [19.364336] [-1.6878568]\n",
      "800 467.1861 [19.424387] [-2.0547822]\n",
      "900 467.08755 [19.475029] [-2.3642182]\n",
      "1000 467.01752 [19.517736] [-2.6251733]\n",
      "1100 466.96777 [19.553755] [-2.8452427]\n",
      "1200 466.9323 [19.584127] [-3.0308337]\n",
      "1300 466.9072 [19.609743] [-3.187343]\n",
      "1400 466.88925 [19.631344] [-3.319335]\n",
      "1500 466.8765 [19.649563] [-3.4306445]\n",
      "1600 466.8675 [19.664925] [-3.5245152]\n",
      "1700 466.86102 [19.67788] [-3.6036792]\n",
      "1800 466.8564 [19.688807] [-3.6704397]\n",
      "1900 466.8532 [19.69802] [-3.7267404]\n",
      "2000 466.8508 [19.705791] [-3.7742183]\n",
      "2100 466.84918 [19.712343] [-3.81426]\n",
      "2200 466.84793 [19.71787] [-3.8480272]\n",
      "2300 466.84723 [19.72253] [-3.8765047]\n",
      "2400 466.84653 [19.726461] [-3.9005184]\n",
      "2500 466.8462 [19.729776] [-3.92077]\n",
      "2600 466.84586 [19.73257] [-3.9378493]\n",
      "2700 466.84567 [19.734928] [-3.952253]\n",
      "2800 466.84552 [19.736917] [-3.9643996]\n",
      "2900 466.8453 [19.738592] [-3.9746428]\n",
      "3000 466.84525 [19.740007] [-3.9832814]\n",
      "3100 466.84525 [19.7412] [-3.9905665]\n",
      "3200 466.84518 [19.742205] [-3.9967093]\n",
      "3300 466.84518 [19.743052] [-4.0018907]\n",
      "3400 466.84515 [19.743767] [-4.0062613]\n",
      "3500 466.84512 [19.74437] [-4.0099435]\n",
      "3600 466.84506 [19.744879] [-4.013052]\n",
      "3700 466.84512 [19.745308] [-4.015674]\n",
      "3800 466.84512 [19.74567] [-4.0178843]\n",
      "3900 466.8451 [19.745974] [-4.0197477]\n",
      "4000 466.8451 [19.746231] [-4.0213165]\n"
     ]
    }
   ],
   "source": [
    "li_w=[]\n",
    "li_cost=[]\n",
    "for step in range(4001): #training: 3300\n",
    "    sess.run(train)\n",
    "    if step%100==0:\n",
    "        li_w.append(sess.run(w))\n",
    "        li_cost.append(sess.run(cost))\n",
    "        print(step, sess.run(cost), sess.run(w), sess.run(b))"
   ]
  },
  {
   "cell_type": "code",
   "execution_count": 43,
   "metadata": {},
   "outputs": [],
   "source": [
    "import matplotlib.pyplot as plt"
   ]
  },
  {
   "cell_type": "code",
   "execution_count": 44,
   "metadata": {},
   "outputs": [
    {
     "data": {
      "image/png": "[encoded data removed]",
      "text/plain": [
       "<Figure size 432x288 with 1 Axes>"
      ]
     },
     "metadata": {
      "needs_background": "light"
     },
     "output_type": "display_data"
    }
   ],
   "source": [
    "plt.plot(li_w,li_cost)\n",
    "plt.show()"
   ]
  }
 ],
 "metadata": {
  "kernelspec": {
   "display_name": "Python 3",
   "language": "python",
   "name": "python3"
  },
  "language_info": {
   "codemirror_mode": {
    "name": "ipython",
    "version": 3
   },
   "file_extension": ".py",
   "mimetype": "text/x-python",
   "name": "python",
   "nbconvert_exporter": "python",
   "pygments_lexer": "ipython3",
   "version": "3.7.4"
  }
 },
 "nbformat": 4,
 "nbformat_minor": 2
}
