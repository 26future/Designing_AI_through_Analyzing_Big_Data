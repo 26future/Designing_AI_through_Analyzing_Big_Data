{
 "cells": [
  {
   "cell_type": "code",
   "execution_count": null,
   "metadata": {},
   "outputs": [],
   "source": [
    "#numpy(전처리), pandas(분석) 병행\n",
    "#matplotlib, seaborn 시각화\n",
    "\"\"\"\n",
    "전처리:결측치, 표준화/정규화\n",
    "정규화: 각 속성값-최솟값/각 속성의 최대값-최솟값\n",
    "=>0~1\n",
    "표준화: 평균=0, 표준편차=1\n",
    " 각 값의 평균/표준편차\n",
    "원핫인코딩:100000,010000,001000,...\n",
    "             A      B       C    D  E  F\n",
    "문장 추출 -> 단어(5개) 추출 -> 원핫 인코딩\n",
    " 국어10000  \n",
    " 영어01000   \n",
    " 수학00100   {0}\n",
    " 과학00010 \n",
    " 윤리00001\n",
    "\n",
    "문장 추출 -> 단어(5개) 추출 -> 밀집벡터(워드2벡터)\n",
    " 국어 [0.2. 0.7]\n",
    " 수학 [0.1, 0.3]\n",
    "\"\"\""
   ]
  },
  {
   "cell_type": "code",
   "execution_count": null,
   "metadata": {},
   "outputs": [],
   "source": [
    "\"\"\"\n",
    "1.\n",
    "리스트: 속도 느림, 메모리 많이 차지\n",
    "배열(array): 속도 빠름, 메모리 적게 차지\n",
    "\n",
    "2.\n",
    "넘파이 배열과 리스트의 차이점\n",
    "-배열은 모두 같은 자료형, 원소 개수 변경 못함\n",
    "-배열은 파이썬에서 제공하지 않음\n",
    "-파이썬 환경에서 넘파이 패키지를 활용하여 배열을 사용할 수 있음\n",
    "\n",
    "3. 넘파이? 수치해석 패키지,다차원 배열 구조\n",
    "벡터, 행렬을 사용하는 선행대수 계산 사용\n",
    "넘파이 배열 연산 빠름(벡터화 연산)\n",
    "\n",
    "\"\"\"    "
   ]
  },
  {
   "cell_type": "code",
   "execution_count": 4,
   "metadata": {},
   "outputs": [
    {
     "data": {
      "text/plain": [
       "numpy.ndarray"
      ]
     },
     "execution_count": 4,
     "metadata": {},
     "output_type": "execute_result"
    }
   ],
   "source": [
    "#1차원 배열\n",
    "import numpy\n",
    "ar = numpy.array([0,1,2,3,4])\n",
    "ar\n",
    "type(ar)"
   ]
  },
  {
   "cell_type": "code",
   "execution_count": null,
   "metadata": {},
   "outputs": [],
   "source": [
    "# 100*100 크기의 이미지(팍샐:10000개)\n",
    "# 0~255사이의 gray scale\n",
    "# => 몇 차원? 10000차원"
   ]
  },
  {
   "cell_type": "code",
   "execution_count": 26,
   "metadata": {},
   "outputs": [
    {
     "name": "stdout",
     "output_type": "stream",
     "text": [
      "[0, 2, 4, 6, 8, 10, 12, 14, 16, 18]\n"
     ]
    }
   ],
   "source": [
    "data = list(range(0,10))\n",
    "#data에 저장된 모든 값들에 대해 2배\n",
    "# for x in data:\n",
    "#     print(x*2)\n",
    "ans=[]    \n",
    "for d in data:\n",
    "    ans.append(2*d)\n",
    "print(ans)\n",
    "\n",
    "# sum = 0\n",
    "# d = 100\n",
    "# print(d*(d+1)/2)  #0(1)\n",
    "\n",
    "# for d in data:\n",
    "#     sum += d #0(n)\n",
    "# print(sum)\n",
    "\n",
    "#시간복잡도(CPU) \n",
    "# (연산 결과가 나오기까지 수행되는 라인의 수) =10\n",
    "#공간 복잡도(MEMORY)"
   ]
  },
  {
   "cell_type": "code",
   "execution_count": 27,
   "metadata": {},
   "outputs": [
    {
     "name": "stdout",
     "output_type": "stream",
     "text": [
      "[2, 4, 6, 8, 10, 12, 14, 16, 18, 20]\n"
     ]
    }
   ],
   "source": [
    "ans=[]\n",
    "data = list(range(1,11))\n",
    "for d in data:\n",
    "    ans.append(d*2)\n",
    "print(ans)"
   ]
  },
  {
   "cell_type": "code",
   "execution_count": 29,
   "metadata": {},
   "outputs": [
    {
     "data": {
      "text/plain": [
       "array([ 2,  4,  6,  8, 10, 12, 14, 16, 18, 20])"
      ]
     },
     "execution_count": 29,
     "metadata": {},
     "output_type": "execute_result"
    }
   ],
   "source": [
    "import numpy as np\n",
    "x = np.array(data) \n",
    "x*2  #벡터화 연산: for문 사용 x. 한번의 연산"
   ]
  },
  {
   "cell_type": "code",
   "execution_count": 32,
   "metadata": {},
   "outputs": [],
   "source": [
    "a = np.array([1,2,3])\n",
    "#          [2,2,2] 요소간 연산:element wise-\n",
    "b = np.array([4,5,6])\n",
    "a2 = [1,2,3]\n",
    "b2 = [4,5,6]"
   ]
  },
  {
   "cell_type": "code",
   "execution_count": 36,
   "metadata": {},
   "outputs": [
    {
     "data": {
      "text/plain": [
       "array([ 6,  9, 12])"
      ]
     },
     "execution_count": 36,
     "metadata": {},
     "output_type": "execute_result"
    }
   ],
   "source": [
    "2*a2+b2  #[1, 2, 3, 1, 2, 3, 4, 5, 6]\n",
    "2*a+b #벡터화 연산"
   ]
  },
  {
   "cell_type": "code",
   "execution_count": 42,
   "metadata": {},
   "outputs": [
    {
     "data": {
      "text/plain": [
       "array([False, False,  True])"
      ]
     },
     "execution_count": 42,
     "metadata": {},
     "output_type": "execute_result"
    }
   ],
   "source": [
    "#a\n",
    "a2 == 2\n",
    "a == 2 #논리연산\n",
    "\n",
    "a > 2 #비교연산"
   ]
  },
  {
   "cell_type": "code",
   "execution_count": null,
   "metadata": {},
   "outputs": [],
   "source": [
    "#2차원 배열(행렬, matrix)\n",
    "#가로줄:행, 세로줄:열"
   ]
  },
  {
   "cell_type": "code",
   "execution_count": 48,
   "metadata": {},
   "outputs": [
    {
     "data": {
      "text/plain": [
       "3"
      ]
     },
     "execution_count": 48,
     "metadata": {},
     "output_type": "execute_result"
    }
   ],
   "source": [
    "#2차원배열:리스트의 리스트\n",
    "m = np.array([[0,1,2],[3,4,5]])\n",
    "m\n",
    "#열: 안쪽 리스트 길이  \n",
    "#행: 바깥쪽 리스트 길이\n",
    "#2행 3열\n",
    "# 0 1 2 \n",
    "# 3 4 5\n",
    "len(m) #행의 개수\n",
    "len(m[0]) #열의 개수"
   ]
  },
  {
   "cell_type": "code",
   "execution_count": 58,
   "metadata": {},
   "outputs": [
    {
     "name": "stdout",
     "output_type": "stream",
     "text": [
      "3\n",
      "(2, 3, 4)\n"
     ]
    }
   ],
   "source": [
    "#3차원 배열:리스트의 리스트의 리스트\n",
    "m = np.array([[[1,2,3,4],\n",
    "           [5,6,7,8],\n",
    "           [9,10,11,12]],\n",
    "          [[31,32,33,34],\n",
    "           [35,36,37,38],\n",
    "           [39,40,41,42]]])\n",
    "#2행 3열 4깊이(면)\n",
    "#2*3*4\n",
    "len(m)\n",
    "len(m[0])\n",
    "len(m[0][0])\n",
    "\n",
    "print(m.ndim)\n",
    "print(m.shape)"
   ]
  },
  {
   "cell_type": "code",
   "execution_count": 53,
   "metadata": {},
   "outputs": [
    {
     "data": {
      "text/plain": [
       "(3,)"
      ]
     },
     "execution_count": 53,
     "metadata": {},
     "output_type": "execute_result"
    }
   ],
   "source": [
    "a = np.array([4,5,6])\n",
    "a.ndim #배열의 차원\n",
    "a.shape #배열의 크기"
   ]
  },
  {
   "cell_type": "code",
   "execution_count": 56,
   "metadata": {},
   "outputs": [
    {
     "data": {
      "text/plain": [
       "(2, 3)"
      ]
     },
     "execution_count": 56,
     "metadata": {},
     "output_type": "execute_result"
    }
   ],
   "source": [
    "m = np.array([[0,1,2],[3,4,5]])\n",
    "m.ndim \n",
    "m.shape #2행 3열"
   ]
  },
  {
   "cell_type": "code",
   "execution_count": 5,
   "metadata": {},
   "outputs": [
    {
     "name": "stdout",
     "output_type": "stream",
     "text": [
      "[6, -8, 28, -252, 504, 360, -120, 15]\n",
      "504\n"
     ]
    }
   ],
   "source": [
    "#1\n",
    "\n",
    "a = [3,2,1,-4,-7,-9,8,-5,3,-1]\n",
    "# 연속으로 숫자 3개를 곱했을때 얻어진 결과값이 \n",
    "# 가장 큰 구간이 어디인지 출력\n",
    "\n",
    "b=[]\n",
    "for x in range(0,8):\n",
    "    res = a[x]*a[x+1]*a[x+2]\n",
    "    b.append(res)\n",
    "print(b)\n",
    "\n",
    "print(max(b))"
   ]
  },
  {
   "cell_type": "code",
   "execution_count": 297,
   "metadata": {},
   "outputs": [
    {
     "name": "stdout",
     "output_type": "stream",
     "text": [
      "[array([[3, 1],\n",
      "       [2, 1]]), array([[ 1, -2],\n",
      "       [ 1, -3]]), array([[ 2,  1],\n",
      "       [-2,  0]]), array([[ 1, -3],\n",
      "       [ 0, -7]])]\n",
      "[6, 6, 0, 0]\n",
      "6\n"
     ]
    }
   ],
   "source": [
    "#2\n",
    "# 숫자 2*2의 영역을 구성하는 수를 곱했을때 얻어진 결과값이 \n",
    "# 가장 큰 구간이 어디인지 출력\n",
    "ar = [[3,1,-2],\n",
    "      [2,1,-3],\n",
    "      [-2,0,-7]]\n",
    "ar = np.array(ar)\n",
    "ar[0:2,0:2]\n",
    "res=[]\n",
    "for x in range(0,2):\n",
    "    for y in range(0,2):\n",
    "        m = ar[x:x+2,y:y+2]\n",
    "        res.append(m)\n",
    "print(res)\n",
    "\n",
    "\n",
    "result=[]\n",
    "for i in range(0,4):\n",
    "    for j in range(0,1):\n",
    "        n = res[i][j,j]*res[i][j,j+1]*res[i][j+1,j]*res[i][j+1,j+1]\n",
    "        result.append(n)\n",
    "print(result)\n",
    "\n",
    "print(max(result))"
   ]
  },
  {
   "cell_type": "code",
   "execution_count": 90,
   "metadata": {},
   "outputs": [
    {
     "data": {
      "text/plain": [
       "array([[1, 2],\n",
       "       [5, 6]])"
      ]
     },
     "execution_count": 90,
     "metadata": {},
     "output_type": "execute_result"
    }
   ],
   "source": [
    "#array slicing\n",
    "ar = np.array([[1,2,3,4],[5,6,7,8]])\n",
    "ar\n",
    "ar[0]\n",
    "ar[0,:] #첫번재 행 전체\n",
    "ar[:,1] #두번째 열 전체\n",
    "\n",
    "ar[1,1:] #두번째 행에서, 두번째 열부터 마지막까지\n",
    "\n",
    "ar[0:2,0:2]\n",
    "ar[:,0:2]\n",
    "ar[:,:2]\n",
    "ar[:2,:2]"
   ]
  },
  {
   "cell_type": "code",
   "execution_count": 101,
   "metadata": {},
   "outputs": [
    {
     "data": {
      "text/plain": [
       "6"
      ]
     },
     "execution_count": 101,
     "metadata": {},
     "output_type": "execute_result"
    }
   ],
   "source": [
    "#indexing:데이터 1개를 참조\n",
    "ar = np.array([0,1,2])\n",
    "ar[1]\n",
    "ar[-1]\n",
    "\n",
    "ar = np.array([[1,2,3,4],[5,6,7,8]])\n",
    "ar[0][0]\n",
    "ar[0,0]#다차원 배열에서는 컴마로 접근\n",
    "ar[0,1] #2\n",
    "ar[1,1] #6을 추출, 두번째 행의 두번째 열\n",
    "ar[-1][1]\n",
    "ar[-1,1]\n",
    "ar[-1,-3]"
   ]
  },
  {
   "cell_type": "code",
   "execution_count": 108,
   "metadata": {},
   "outputs": [
    {
     "data": {
      "text/plain": [
       "array([4, 5])"
      ]
     },
     "execution_count": 108,
     "metadata": {},
     "output_type": "execute_result"
    }
   ],
   "source": [
    "#불린 참조:조건에 대해 만족하는 값을 추출\n",
    "\n",
    "ar = np.array([2,3,4,5])\n",
    "bidx = np.array([True, True, False, True])\n",
    "ar[bidx]\n",
    "ar[ar!=4]\n",
    "#ar 요소 값이 짝수인 것들만 추출\n",
    "ar[ar%2==0]\n",
    "\n",
    "#ar요소 값이 3보다 큰 값들만 추출\n",
    "ar[ar>3]"
   ]
  },
  {
   "cell_type": "code",
   "execution_count": 109,
   "metadata": {},
   "outputs": [
    {
     "data": {
      "text/plain": [
       "array([2, 5])"
      ]
     },
     "execution_count": 109,
     "metadata": {},
     "output_type": "execute_result"
    }
   ],
   "source": [
    "#정수 참조 추출\n",
    "\n",
    "ar = np.array([2,3,4,5])\n",
    "idx = np.array([0,3])\n",
    "ar[idx]"
   ]
  },
  {
   "cell_type": "code",
   "execution_count": 110,
   "metadata": {},
   "outputs": [
    {
     "data": {
      "text/plain": [
       "array([2, 2, 3, 3])"
      ]
     },
     "execution_count": 110,
     "metadata": {},
     "output_type": "execute_result"
    }
   ],
   "source": [
    "idx = np.array([0,0,1,1])\n",
    "ar[idx]"
   ]
  },
  {
   "cell_type": "code",
   "execution_count": 134,
   "metadata": {},
   "outputs": [
    {
     "data": {
      "text/plain": [
       "array([[1, 4],\n",
       "       [5, 8]])"
      ]
     },
     "execution_count": 134,
     "metadata": {},
     "output_type": "execute_result"
    }
   ],
   "source": [
    "ar = np.array([[1,2,3,4],[5,6,7,8]])\n",
    "\n",
    "#[[1,4],\n",
    "# [5,8]]\n",
    "ar[:,[0,3]]\n",
    "ar[:,[True,False,False,True]]"
   ]
  },
  {
   "cell_type": "code",
   "execution_count": 141,
   "metadata": {},
   "outputs": [
    {
     "data": {
      "text/plain": [
       "array([[25, 26, 27, 28],\n",
       "       [ 1,  2,  3,  4],\n",
       "       [35, 36, 37, 38]])"
      ]
     },
     "execution_count": 141,
     "metadata": {},
     "output_type": "execute_result"
    }
   ],
   "source": [
    "ar = np.array([[1,2,3,4],\n",
    "              [15,16,17,18],\n",
    "              [25,26,27,28],\n",
    "              [35,36,37,38]])\n",
    "\n",
    "ar[[2,0,-1],:]\n",
    "\n",
    "# ar[:] #ar 전체 행\n",
    "# ar #ar 배열 전체\n",
    "# ar[:,:] #전체 행 전체 열\n",
    "\n",
    "#ar[2,:]"
   ]
  },
  {
   "cell_type": "code",
   "execution_count": null,
   "metadata": {},
   "outputs": [],
   "source": [
    "#원데이터 : csv, tsv, txt, xls, xlsx, jason,...\n",
    "#Pandas : 원데이터를 데이터프레임(엑셀 시트와 비슷)으로 읽어서 분석\n",
    "#Numpy : 원데이터를 다차원배열로 읽어서 처리"
   ]
  },
  {
   "cell_type": "code",
   "execution_count": 143,
   "metadata": {},
   "outputs": [
    {
     "data": {
      "text/plain": [
       "pandas.core.frame.DataFrame"
      ]
     },
     "execution_count": 143,
     "metadata": {},
     "output_type": "execute_result"
    }
   ],
   "source": [
    "import pandas as pd\n",
    "csvTest = pd.read_csv(\"text_csv.csv\")\n",
    "type(csvTest)"
   ]
  },
  {
   "cell_type": "code",
   "execution_count": 147,
   "metadata": {},
   "outputs": [
    {
     "data": {
      "text/plain": [
       "3"
      ]
     },
     "execution_count": 147,
     "metadata": {},
     "output_type": "execute_result"
    }
   ],
   "source": [
    "# http://pandas.pydata.org/\n",
    "\n",
    "csvTest.shape[1]   #(5,3)  : 튜풀"
   ]
  },
  {
   "cell_type": "code",
   "execution_count": 155,
   "metadata": {
    "scrolled": true
   },
   "outputs": [
    {
     "data": {
      "text/html": [
       "<div>\n",
       "<style scoped>\n",
       "    .dataframe tbody tr th:only-of-type {\n",
       "        vertical-align: middle;\n",
       "    }\n",
       "\n",
       "    .dataframe tbody tr th {\n",
       "        vertical-align: top;\n",
       "    }\n",
       "\n",
       "    .dataframe thead th {\n",
       "        text-align: right;\n",
       "    }\n",
       "</style>\n",
       "<table border=\"1\" class=\"dataframe\">\n",
       "  <thead>\n",
       "    <tr style=\"text-align: right;\">\n",
       "      <th></th>\n",
       "      <th>ID</th>\n",
       "      <th>LAST_NAME</th>\n",
       "      <th>AGE</th>\n",
       "    </tr>\n",
       "  </thead>\n",
       "  <tbody>\n",
       "    <tr>\n",
       "      <td>0</td>\n",
       "      <td>1</td>\n",
       "      <td>KIM</td>\n",
       "      <td>25</td>\n",
       "    </tr>\n",
       "    <tr>\n",
       "      <td>1</td>\n",
       "      <td>2</td>\n",
       "      <td>LEE</td>\n",
       "      <td>22</td>\n",
       "    </tr>\n",
       "    <tr>\n",
       "      <td>2</td>\n",
       "      <td>3</td>\n",
       "      <td>PARK</td>\n",
       "      <td>33</td>\n",
       "    </tr>\n",
       "    <tr>\n",
       "      <td>3</td>\n",
       "      <td>4</td>\n",
       "      <td>CHOI</td>\n",
       "      <td>24</td>\n",
       "    </tr>\n",
       "    <tr>\n",
       "      <td>4</td>\n",
       "      <td>5</td>\n",
       "      <td>CHO</td>\n",
       "      <td>30</td>\n",
       "    </tr>\n",
       "  </tbody>\n",
       "</table>\n",
       "</div>"
      ],
      "text/plain": [
       "   ID LAST_NAME  AGE\n",
       "0   1       KIM   25\n",
       "1   2       LEE   22\n",
       "2   3      PARK   33\n",
       "3   4      CHOI   24\n",
       "4   5       CHO   30"
      ]
     },
     "execution_count": 155,
     "metadata": {},
     "output_type": "execute_result"
    }
   ],
   "source": [
    "#test_text.txt\n",
    "#구분자: |\n",
    "text = pd.read_csv(\"test_text.txt\", sep=\"|\")\n",
    "text\n",
    "#text.shape #(5,1)\n",
    "#0~4: 맨 왼쪽. 행 인덱스\n",
    "#ID, LAST_NAME, AGE: 위쪽. 열 인덱스"
   ]
  },
  {
   "cell_type": "code",
   "execution_count": 174,
   "metadata": {},
   "outputs": [
    {
     "data": {
      "text/plain": [
       "array([[3, 4],\n",
       "       [8, 9]])"
      ]
     },
     "execution_count": 174,
     "metadata": {},
     "output_type": "execute_result"
    }
   ],
   "source": [
    "#1\n",
    "\n",
    "m = np.array([[ 0,  1,  2,  3,  4],\n",
    "              [ 5,  6,  7,  8,  9],\n",
    "              [10, 11, 12, 13, 14]])\n",
    "\n",
    "m[1,2]\n",
    "m[-1,-1]\n",
    "m[1,[1,2]]\n",
    "m[[1,2],2]\n",
    "m[0:2 ,3:5]"
   ]
  },
  {
   "cell_type": "code",
   "execution_count": 196,
   "metadata": {},
   "outputs": [
    {
     "data": {
      "text/plain": [
       "array([9])"
      ]
     },
     "execution_count": 196,
     "metadata": {},
     "output_type": "execute_result"
    }
   ],
   "source": [
    "#2\n",
    "\n",
    "x = np.array([1, 2, 3, 4, 5, 6, 7, 8, 9, 10,\n",
    "              11, 12, 13, 14, 15, 16, 17, 18, 19, 20])\n",
    "a = x[x%3==0]\n",
    "x[x%4==1]\n",
    "a[a%4==1]"
   ]
  }
 ],
 "metadata": {
  "kernelspec": {
   "display_name": "Python 3",
   "language": "python",
   "name": "python3"
  },
  "language_info": {
   "codemirror_mode": {
    "name": "ipython",
    "version": 3
   },
   "file_extension": ".py",
   "mimetype": "text/x-python",
   "name": "python",
   "nbconvert_exporter": "python",
   "pygments_lexer": "ipython3",
   "version": "3.7.4"
  }
 },
 "nbformat": 4,
 "nbformat_minor": 2
}
