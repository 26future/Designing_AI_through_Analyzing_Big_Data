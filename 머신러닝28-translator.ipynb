{
 "cells": [
  {
   "cell_type": "code",
   "execution_count": 1,
   "metadata": {},
   "outputs": [
    {
     "data": {
      "text/html": [
       "<div>\n",
       "<style scoped>\n",
       "    .dataframe tbody tr th:only-of-type {\n",
       "        vertical-align: middle;\n",
       "    }\n",
       "\n",
       "    .dataframe tbody tr th {\n",
       "        vertical-align: top;\n",
       "    }\n",
       "\n",
       "    .dataframe thead th {\n",
       "        text-align: right;\n",
       "    }\n",
       "</style>\n",
       "<table border=\"1\" class=\"dataframe\">\n",
       "  <thead>\n",
       "    <tr style=\"text-align: right;\">\n",
       "      <th></th>\n",
       "      <th>eng</th>\n",
       "      <th>fra</th>\n",
       "      <th>0</th>\n",
       "    </tr>\n",
       "  </thead>\n",
       "  <tbody>\n",
       "    <tr>\n",
       "      <td>0</td>\n",
       "      <td>Go.</td>\n",
       "      <td>Va !</td>\n",
       "      <td>CC-BY 2.0 (France) Attribution: tatoeba.org #2...</td>\n",
       "    </tr>\n",
       "    <tr>\n",
       "      <td>1</td>\n",
       "      <td>Hi.</td>\n",
       "      <td>Salut !</td>\n",
       "      <td>CC-BY 2.0 (France) Attribution: tatoeba.org #5...</td>\n",
       "    </tr>\n",
       "    <tr>\n",
       "      <td>2</td>\n",
       "      <td>Hi.</td>\n",
       "      <td>Salut.</td>\n",
       "      <td>CC-BY 2.0 (France) Attribution: tatoeba.org #5...</td>\n",
       "    </tr>\n",
       "    <tr>\n",
       "      <td>3</td>\n",
       "      <td>Run!</td>\n",
       "      <td>Cours !</td>\n",
       "      <td>CC-BY 2.0 (France) Attribution: tatoeba.org #9...</td>\n",
       "    </tr>\n",
       "    <tr>\n",
       "      <td>4</td>\n",
       "      <td>Run!</td>\n",
       "      <td>Courez !</td>\n",
       "      <td>CC-BY 2.0 (France) Attribution: tatoeba.org #9...</td>\n",
       "    </tr>\n",
       "    <tr>\n",
       "      <td>5</td>\n",
       "      <td>Who?</td>\n",
       "      <td>Qui ?</td>\n",
       "      <td>CC-BY 2.0 (France) Attribution: tatoeba.org #2...</td>\n",
       "    </tr>\n",
       "    <tr>\n",
       "      <td>6</td>\n",
       "      <td>Wow!</td>\n",
       "      <td>Ça alors !</td>\n",
       "      <td>CC-BY 2.0 (France) Attribution: tatoeba.org #5...</td>\n",
       "    </tr>\n",
       "    <tr>\n",
       "      <td>7</td>\n",
       "      <td>Fire!</td>\n",
       "      <td>Au feu !</td>\n",
       "      <td>CC-BY 2.0 (France) Attribution: tatoeba.org #1...</td>\n",
       "    </tr>\n",
       "    <tr>\n",
       "      <td>8</td>\n",
       "      <td>Help!</td>\n",
       "      <td>À l'aide !</td>\n",
       "      <td>CC-BY 2.0 (France) Attribution: tatoeba.org #4...</td>\n",
       "    </tr>\n",
       "    <tr>\n",
       "      <td>9</td>\n",
       "      <td>Jump.</td>\n",
       "      <td>Saute.</td>\n",
       "      <td>CC-BY 2.0 (France) Attribution: tatoeba.org #6...</td>\n",
       "    </tr>\n",
       "  </tbody>\n",
       "</table>\n",
       "</div>"
      ],
      "text/plain": [
       "     eng         fra                                                  0\n",
       "0    Go.        Va !  CC-BY 2.0 (France) Attribution: tatoeba.org #2...\n",
       "1    Hi.     Salut !  CC-BY 2.0 (France) Attribution: tatoeba.org #5...\n",
       "2    Hi.      Salut.  CC-BY 2.0 (France) Attribution: tatoeba.org #5...\n",
       "3   Run!     Cours !  CC-BY 2.0 (France) Attribution: tatoeba.org #9...\n",
       "4   Run!    Courez !  CC-BY 2.0 (France) Attribution: tatoeba.org #9...\n",
       "5   Who?       Qui ?  CC-BY 2.0 (France) Attribution: tatoeba.org #2...\n",
       "6   Wow!  Ça alors !  CC-BY 2.0 (France) Attribution: tatoeba.org #5...\n",
       "7  Fire!    Au feu !  CC-BY 2.0 (France) Attribution: tatoeba.org #1...\n",
       "8  Help!  À l'aide !  CC-BY 2.0 (France) Attribution: tatoeba.org #4...\n",
       "9  Jump.      Saute.  CC-BY 2.0 (France) Attribution: tatoeba.org #6..."
      ]
     },
     "execution_count": 1,
     "metadata": {},
     "output_type": "execute_result"
    }
   ],
   "source": [
    "import pandas as pd\n",
    "df = pd.read_csv(\"fra-eng/fra.txt\", sep=\"\\t\", names=['eng', 'fra','0'])\n",
    "df\n",
    "len(df)\n",
    "df = df[0:70000]\n",
    "df.head(10)"
   ]
  },
  {
   "cell_type": "code",
   "execution_count": 2,
   "metadata": {},
   "outputs": [
    {
     "data": {
      "text/html": [
       "<div>\n",
       "<style scoped>\n",
       "    .dataframe tbody tr th:only-of-type {\n",
       "        vertical-align: middle;\n",
       "    }\n",
       "\n",
       "    .dataframe tbody tr th {\n",
       "        vertical-align: top;\n",
       "    }\n",
       "\n",
       "    .dataframe thead th {\n",
       "        text-align: right;\n",
       "    }\n",
       "</style>\n",
       "<table border=\"1\" class=\"dataframe\">\n",
       "  <thead>\n",
       "    <tr style=\"text-align: right;\">\n",
       "      <th></th>\n",
       "      <th>eng</th>\n",
       "      <th>fra</th>\n",
       "    </tr>\n",
       "  </thead>\n",
       "  <tbody>\n",
       "    <tr>\n",
       "      <td>0</td>\n",
       "      <td>Go.</td>\n",
       "      <td>Va !</td>\n",
       "    </tr>\n",
       "    <tr>\n",
       "      <td>1</td>\n",
       "      <td>Hi.</td>\n",
       "      <td>Salut !</td>\n",
       "    </tr>\n",
       "    <tr>\n",
       "      <td>2</td>\n",
       "      <td>Hi.</td>\n",
       "      <td>Salut.</td>\n",
       "    </tr>\n",
       "    <tr>\n",
       "      <td>3</td>\n",
       "      <td>Run!</td>\n",
       "      <td>Cours !</td>\n",
       "    </tr>\n",
       "    <tr>\n",
       "      <td>4</td>\n",
       "      <td>Run!</td>\n",
       "      <td>Courez !</td>\n",
       "    </tr>\n",
       "    <tr>\n",
       "      <td>5</td>\n",
       "      <td>Who?</td>\n",
       "      <td>Qui ?</td>\n",
       "    </tr>\n",
       "    <tr>\n",
       "      <td>6</td>\n",
       "      <td>Wow!</td>\n",
       "      <td>Ça alors !</td>\n",
       "    </tr>\n",
       "    <tr>\n",
       "      <td>7</td>\n",
       "      <td>Fire!</td>\n",
       "      <td>Au feu !</td>\n",
       "    </tr>\n",
       "    <tr>\n",
       "      <td>8</td>\n",
       "      <td>Help!</td>\n",
       "      <td>À l'aide !</td>\n",
       "    </tr>\n",
       "    <tr>\n",
       "      <td>9</td>\n",
       "      <td>Jump.</td>\n",
       "      <td>Saute.</td>\n",
       "    </tr>\n",
       "  </tbody>\n",
       "</table>\n",
       "</div>"
      ],
      "text/plain": [
       "     eng         fra\n",
       "0    Go.        Va !\n",
       "1    Hi.     Salut !\n",
       "2    Hi.      Salut.\n",
       "3   Run!     Cours !\n",
       "4   Run!    Courez !\n",
       "5   Who?       Qui ?\n",
       "6   Wow!  Ça alors !\n",
       "7  Fire!    Au feu !\n",
       "8  Help!  À l'aide !\n",
       "9  Jump.      Saute."
      ]
     },
     "execution_count": 2,
     "metadata": {},
     "output_type": "execute_result"
    }
   ],
   "source": [
    "df.drop(['0'], axis=1, inplace=True)\n",
    "df.head(10)"
   ]
  },
  {
   "cell_type": "code",
   "execution_count": 3,
   "metadata": {},
   "outputs": [
    {
     "data": {
      "text/html": [
       "<div>\n",
       "<style scoped>\n",
       "    .dataframe tbody tr th:only-of-type {\n",
       "        vertical-align: middle;\n",
       "    }\n",
       "\n",
       "    .dataframe tbody tr th {\n",
       "        vertical-align: top;\n",
       "    }\n",
       "\n",
       "    .dataframe thead th {\n",
       "        text-align: right;\n",
       "    }\n",
       "</style>\n",
       "<table border=\"1\" class=\"dataframe\">\n",
       "  <thead>\n",
       "    <tr style=\"text-align: right;\">\n",
       "      <th></th>\n",
       "      <th>eng</th>\n",
       "      <th>fra</th>\n",
       "    </tr>\n",
       "  </thead>\n",
       "  <tbody>\n",
       "    <tr>\n",
       "      <td>51088</td>\n",
       "      <td>Try not to be so tense.</td>\n",
       "      <td>Essayez de ne pas être si tendu.</td>\n",
       "    </tr>\n",
       "    <tr>\n",
       "      <td>22967</td>\n",
       "      <td>Don't you think so?</td>\n",
       "      <td>Ne le penses-tu pas ?</td>\n",
       "    </tr>\n",
       "    <tr>\n",
       "      <td>5603</td>\n",
       "      <td>I outrank you.</td>\n",
       "      <td>Je passe avant toi.</td>\n",
       "    </tr>\n",
       "    <tr>\n",
       "      <td>57936</td>\n",
       "      <td>We must always be ready.</td>\n",
       "      <td>Nous devons toujours être prêts.</td>\n",
       "    </tr>\n",
       "    <tr>\n",
       "      <td>68333</td>\n",
       "      <td>I hope you're well rested.</td>\n",
       "      <td>J'espère que tu es bien reposé.</td>\n",
       "    </tr>\n",
       "    <tr>\n",
       "      <td>54361</td>\n",
       "      <td>I had to look after you.</td>\n",
       "      <td>J'ai dû m'occuper de toi.</td>\n",
       "    </tr>\n",
       "    <tr>\n",
       "      <td>45452</td>\n",
       "      <td>You don't have to lie.</td>\n",
       "      <td>Vous n'êtes pas forcées de mentir.</td>\n",
       "    </tr>\n",
       "    <tr>\n",
       "      <td>19000</td>\n",
       "      <td>I have one sister.</td>\n",
       "      <td>J'ai une sœur.</td>\n",
       "    </tr>\n",
       "    <tr>\n",
       "      <td>67969</td>\n",
       "      <td>I don't trust many people.</td>\n",
       "      <td>Je ne me fie pas à beaucoup de gens.</td>\n",
       "    </tr>\n",
       "    <tr>\n",
       "      <td>24034</td>\n",
       "      <td>I know you have it.</td>\n",
       "      <td>Je sais que tu l'as.</td>\n",
       "    </tr>\n",
       "    <tr>\n",
       "      <td>26220</td>\n",
       "      <td>This is pretty bad.</td>\n",
       "      <td>C'est plutôt mauvais.</td>\n",
       "    </tr>\n",
       "    <tr>\n",
       "      <td>38952</td>\n",
       "      <td>Why is he so popular?</td>\n",
       "      <td>Pourquoi est-il si populaire ?</td>\n",
       "    </tr>\n",
       "    <tr>\n",
       "      <td>18921</td>\n",
       "      <td>I guess it's true.</td>\n",
       "      <td>Je suppose que c'est vrai.</td>\n",
       "    </tr>\n",
       "    <tr>\n",
       "      <td>56971</td>\n",
       "      <td>The teacher can see you.</td>\n",
       "      <td>Le maître peut vous voir.</td>\n",
       "    </tr>\n",
       "    <tr>\n",
       "      <td>29806</td>\n",
       "      <td>I was badly wounded.</td>\n",
       "      <td>J'ai été gravement blessée.</td>\n",
       "    </tr>\n",
       "    <tr>\n",
       "      <td>46618</td>\n",
       "      <td>Everyone knew the song.</td>\n",
       "      <td>Tout le monde savait la chanson.</td>\n",
       "    </tr>\n",
       "    <tr>\n",
       "      <td>17197</td>\n",
       "      <td>Where's your mom?</td>\n",
       "      <td>Où est ta maman ?</td>\n",
       "    </tr>\n",
       "    <tr>\n",
       "      <td>13750</td>\n",
       "      <td>Don't be alarmed.</td>\n",
       "      <td>Ne sois pas alarmé.</td>\n",
       "    </tr>\n",
       "    <tr>\n",
       "      <td>23610</td>\n",
       "      <td>I agree completely.</td>\n",
       "      <td>Je suis totalement d'accord.</td>\n",
       "    </tr>\n",
       "    <tr>\n",
       "      <td>59414</td>\n",
       "      <td>Can you tell us about it?</td>\n",
       "      <td>Pouvez-vous nous en parler ?</td>\n",
       "    </tr>\n",
       "  </tbody>\n",
       "</table>\n",
       "</div>"
      ],
      "text/plain": [
       "                              eng                                   fra\n",
       "51088     Try not to be so tense.      Essayez de ne pas être si tendu.\n",
       "22967         Don't you think so?                 Ne le penses-tu pas ?\n",
       "5603               I outrank you.                   Je passe avant toi.\n",
       "57936    We must always be ready.      Nous devons toujours être prêts.\n",
       "68333  I hope you're well rested.       J'espère que tu es bien reposé.\n",
       "54361    I had to look after you.             J'ai dû m'occuper de toi.\n",
       "45452      You don't have to lie.    Vous n'êtes pas forcées de mentir.\n",
       "19000          I have one sister.                        J'ai une sœur.\n",
       "67969  I don't trust many people.  Je ne me fie pas à beaucoup de gens.\n",
       "24034         I know you have it.                  Je sais que tu l'as.\n",
       "26220         This is pretty bad.                 C'est plutôt mauvais.\n",
       "38952       Why is he so popular?        Pourquoi est-il si populaire ?\n",
       "18921          I guess it's true.            Je suppose que c'est vrai.\n",
       "56971    The teacher can see you.             Le maître peut vous voir.\n",
       "29806        I was badly wounded.           J'ai été gravement blessée.\n",
       "46618     Everyone knew the song.      Tout le monde savait la chanson.\n",
       "17197           Where's your mom?                     Où est ta maman ?\n",
       "13750           Don't be alarmed.                   Ne sois pas alarmé.\n",
       "23610         I agree completely.          Je suis totalement d'accord.\n",
       "59414   Can you tell us about it?          Pouvez-vous nous en parler ?"
      ]
     },
     "execution_count": 3,
     "metadata": {},
     "output_type": "execute_result"
    }
   ],
   "source": [
    "df.sample(20)"
   ]
  },
  {
   "cell_type": "code",
   "execution_count": 4,
   "metadata": {},
   "outputs": [
    {
     "data": {
      "text/plain": [
       "'\\nstart: \"\\t \", stop:\" \\n\"\\nex) Rattrape-le => \\t Rattrape-le \\n\\n'"
      ]
     },
     "execution_count": 4,
     "metadata": {},
     "output_type": "execute_result"
    }
   ],
   "source": [
    "\"\"\"\n",
    "start: \"\\t \", stop:\" \\n\"\n",
    "ex) Rattrape-le => \\t Rattrape-le \\n\n",
    "\"\"\""
   ]
  },
  {
   "cell_type": "code",
   "execution_count": 5,
   "metadata": {},
   "outputs": [
    {
     "data": {
      "text/plain": [
       "0                                          \\t Va ! \\n\n",
       "1                                       \\t Salut ! \\n\n",
       "2                                        \\t Salut. \\n\n",
       "3                                       \\t Cours ! \\n\n",
       "4                                      \\t Courez ! \\n\n",
       "                             ...                     \n",
       "69995         \\t Je ne suis jamais monté à cheval. \\n\n",
       "69996    \\t Je ne suis jamais monté sur un cheval. \\n\n",
       "69997               \\t Je n'ai jamais vu Tom ivre. \\n\n",
       "69998          \\t Je n'ai jamais vu d'arc-en-ciel. \\n\n",
       "69999                \\t Je ne t’ai jamais vu rire. \\n\n",
       "Name: fra, Length: 70000, dtype: object"
      ]
     },
     "execution_count": 5,
     "metadata": {},
     "output_type": "execute_result"
    }
   ],
   "source": [
    "# df.fra = df.fra.apply(lambda x:'\\t '+x+' \\n')\n",
    "for i in range(len(df['fra'])):\n",
    "    df['fra'][i] = '\\t '+ df['fra'][i]+' \\n'\n",
    "df['fra']"
   ]
  },
  {
   "cell_type": "code",
   "execution_count": 6,
   "metadata": {},
   "outputs": [
    {
     "data": {
      "text/html": [
       "<div>\n",
       "<style scoped>\n",
       "    .dataframe tbody tr th:only-of-type {\n",
       "        vertical-align: middle;\n",
       "    }\n",
       "\n",
       "    .dataframe tbody tr th {\n",
       "        vertical-align: top;\n",
       "    }\n",
       "\n",
       "    .dataframe thead th {\n",
       "        text-align: right;\n",
       "    }\n",
       "</style>\n",
       "<table border=\"1\" class=\"dataframe\">\n",
       "  <thead>\n",
       "    <tr style=\"text-align: right;\">\n",
       "      <th></th>\n",
       "      <th>eng</th>\n",
       "      <th>fra</th>\n",
       "    </tr>\n",
       "  </thead>\n",
       "  <tbody>\n",
       "    <tr>\n",
       "      <td>0</td>\n",
       "      <td>Go.</td>\n",
       "      <td>\\t Va ! \\n</td>\n",
       "    </tr>\n",
       "    <tr>\n",
       "      <td>1</td>\n",
       "      <td>Hi.</td>\n",
       "      <td>\\t Salut ! \\n</td>\n",
       "    </tr>\n",
       "    <tr>\n",
       "      <td>2</td>\n",
       "      <td>Hi.</td>\n",
       "      <td>\\t Salut. \\n</td>\n",
       "    </tr>\n",
       "    <tr>\n",
       "      <td>3</td>\n",
       "      <td>Run!</td>\n",
       "      <td>\\t Cours ! \\n</td>\n",
       "    </tr>\n",
       "    <tr>\n",
       "      <td>4</td>\n",
       "      <td>Run!</td>\n",
       "      <td>\\t Courez ! \\n</td>\n",
       "    </tr>\n",
       "    <tr>\n",
       "      <td>5</td>\n",
       "      <td>Who?</td>\n",
       "      <td>\\t Qui ? \\n</td>\n",
       "    </tr>\n",
       "    <tr>\n",
       "      <td>6</td>\n",
       "      <td>Wow!</td>\n",
       "      <td>\\t Ça alors ! \\n</td>\n",
       "    </tr>\n",
       "    <tr>\n",
       "      <td>7</td>\n",
       "      <td>Fire!</td>\n",
       "      <td>\\t Au feu ! \\n</td>\n",
       "    </tr>\n",
       "    <tr>\n",
       "      <td>8</td>\n",
       "      <td>Help!</td>\n",
       "      <td>\\t À l'aide ! \\n</td>\n",
       "    </tr>\n",
       "    <tr>\n",
       "      <td>9</td>\n",
       "      <td>Jump.</td>\n",
       "      <td>\\t Saute. \\n</td>\n",
       "    </tr>\n",
       "  </tbody>\n",
       "</table>\n",
       "</div>"
      ],
      "text/plain": [
       "     eng               fra\n",
       "0    Go.        \\t Va ! \\n\n",
       "1    Hi.     \\t Salut ! \\n\n",
       "2    Hi.      \\t Salut. \\n\n",
       "3   Run!     \\t Cours ! \\n\n",
       "4   Run!    \\t Courez ! \\n\n",
       "5   Who?       \\t Qui ? \\n\n",
       "6   Wow!  \\t Ça alors ! \\n\n",
       "7  Fire!    \\t Au feu ! \\n\n",
       "8  Help!  \\t À l'aide ! \\n\n",
       "9  Jump.      \\t Saute. \\n"
      ]
     },
     "execution_count": 6,
     "metadata": {},
     "output_type": "execute_result"
    }
   ],
   "source": [
    "df.head(10)"
   ]
  },
  {
   "cell_type": "code",
   "execution_count": 7,
   "metadata": {},
   "outputs": [],
   "source": [
    "#글자 단위 토큰화\n",
    "engVocab = set()\n",
    "fraVocab = set()"
   ]
  },
  {
   "cell_type": "code",
   "execution_count": 8,
   "metadata": {},
   "outputs": [],
   "source": [
    "for line in df.eng:\n",
    "    for c in line:\n",
    "        engVocab.add(c)       "
   ]
  },
  {
   "cell_type": "code",
   "execution_count": 9,
   "metadata": {},
   "outputs": [],
   "source": [
    "for line in df.fra:\n",
    "    for c in line:\n",
    "        fraVocab.add(c)"
   ]
  },
  {
   "cell_type": "code",
   "execution_count": 10,
   "metadata": {},
   "outputs": [
    {
     "name": "stdout",
     "output_type": "stream",
     "text": [
      "80\n",
      "106\n"
     ]
    }
   ],
   "source": [
    "engVocabSize = len(engVocab)+1\n",
    "fraVocabSize = len(fraVocab)+1\n",
    "print(engVocabSize)\n",
    "print(fraVocabSize)\n"
   ]
  },
  {
   "cell_type": "code",
   "execution_count": 11,
   "metadata": {},
   "outputs": [
    {
     "data": {
      "text/plain": [
       "['b',\n",
       " 'c',\n",
       " 'd',\n",
       " 'e',\n",
       " 'f',\n",
       " 'g',\n",
       " 'h',\n",
       " 'i',\n",
       " 'j',\n",
       " 'k',\n",
       " 'l',\n",
       " 'm',\n",
       " 'n',\n",
       " 'o',\n",
       " 'p',\n",
       " 'q',\n",
       " 'r',\n",
       " 's',\n",
       " 't',\n",
       " 'u',\n",
       " 'v',\n",
       " 'w',\n",
       " 'x',\n",
       " 'y',\n",
       " 'z',\n",
       " 'ç',\n",
       " 'é',\n",
       " '’',\n",
       " '€']"
      ]
     },
     "execution_count": 11,
     "metadata": {},
     "output_type": "execute_result"
    }
   ],
   "source": [
    "engVocab = sorted(list(engVocab))\n",
    "engVocab[50:80]"
   ]
  },
  {
   "cell_type": "code",
   "execution_count": 12,
   "metadata": {},
   "outputs": [
    {
     "data": {
      "text/plain": [
       "['Y',\n",
       " 'Z',\n",
       " 'a',\n",
       " 'b',\n",
       " 'c',\n",
       " 'd',\n",
       " 'e',\n",
       " 'f',\n",
       " 'g',\n",
       " 'h',\n",
       " 'i',\n",
       " 'j',\n",
       " 'k',\n",
       " 'l',\n",
       " 'm',\n",
       " 'n',\n",
       " 'o',\n",
       " 'p',\n",
       " 'q',\n",
       " 'r',\n",
       " 's',\n",
       " 't',\n",
       " 'u',\n",
       " 'v',\n",
       " 'w',\n",
       " 'x',\n",
       " 'y',\n",
       " 'z',\n",
       " '\\xa0',\n",
       " '«']"
      ]
     },
     "execution_count": 12,
     "metadata": {},
     "output_type": "execute_result"
    }
   ],
   "source": [
    "fraVocab = sorted(list(fraVocab))\n",
    "fraVocab[50:80]"
   ]
  },
  {
   "cell_type": "code",
   "execution_count": 13,
   "metadata": {},
   "outputs": [],
   "source": [
    "engVocab # ' ':1, '!':2....'€':79\n",
    "engToIndex = dict([(c,i+1) for i,c in enumerate(engVocab)])"
   ]
  },
  {
   "cell_type": "code",
   "execution_count": 14,
   "metadata": {},
   "outputs": [
    {
     "data": {
      "text/plain": [
       "{' ': 1,\n",
       " '!': 2,\n",
       " '\"': 3,\n",
       " '$': 4,\n",
       " '%': 5,\n",
       " '&': 6,\n",
       " \"'\": 7,\n",
       " ',': 8,\n",
       " '-': 9,\n",
       " '.': 10,\n",
       " '/': 11,\n",
       " '0': 12,\n",
       " '1': 13,\n",
       " '2': 14,\n",
       " '3': 15,\n",
       " '4': 16,\n",
       " '5': 17,\n",
       " '6': 18,\n",
       " '7': 19,\n",
       " '8': 20,\n",
       " '9': 21,\n",
       " ':': 22,\n",
       " '?': 23,\n",
       " 'A': 24,\n",
       " 'B': 25,\n",
       " 'C': 26,\n",
       " 'D': 27,\n",
       " 'E': 28,\n",
       " 'F': 29,\n",
       " 'G': 30,\n",
       " 'H': 31,\n",
       " 'I': 32,\n",
       " 'J': 33,\n",
       " 'K': 34,\n",
       " 'L': 35,\n",
       " 'M': 36,\n",
       " 'N': 37,\n",
       " 'O': 38,\n",
       " 'P': 39,\n",
       " 'Q': 40,\n",
       " 'R': 41,\n",
       " 'S': 42,\n",
       " 'T': 43,\n",
       " 'U': 44,\n",
       " 'V': 45,\n",
       " 'W': 46,\n",
       " 'X': 47,\n",
       " 'Y': 48,\n",
       " 'Z': 49,\n",
       " 'a': 50,\n",
       " 'b': 51,\n",
       " 'c': 52,\n",
       " 'd': 53,\n",
       " 'e': 54,\n",
       " 'f': 55,\n",
       " 'g': 56,\n",
       " 'h': 57,\n",
       " 'i': 58,\n",
       " 'j': 59,\n",
       " 'k': 60,\n",
       " 'l': 61,\n",
       " 'm': 62,\n",
       " 'n': 63,\n",
       " 'o': 64,\n",
       " 'p': 65,\n",
       " 'q': 66,\n",
       " 'r': 67,\n",
       " 's': 68,\n",
       " 't': 69,\n",
       " 'u': 70,\n",
       " 'v': 71,\n",
       " 'w': 72,\n",
       " 'x': 73,\n",
       " 'y': 74,\n",
       " 'z': 75,\n",
       " 'ç': 76,\n",
       " 'é': 77,\n",
       " '’': 78,\n",
       " '€': 79}"
      ]
     },
     "execution_count": 14,
     "metadata": {},
     "output_type": "execute_result"
    }
   ],
   "source": [
    "engToIndex"
   ]
  },
  {
   "cell_type": "code",
   "execution_count": 15,
   "metadata": {},
   "outputs": [],
   "source": [
    "fraVocab # ' ':1, '!':2....'€':79\n",
    "fraToIndex = dict([(c,i+1) for i,c in enumerate(fraVocab)])"
   ]
  },
  {
   "cell_type": "code",
   "execution_count": 16,
   "metadata": {},
   "outputs": [
    {
     "data": {
      "text/plain": [
       "{'\\t': 1,\n",
       " '\\n': 2,\n",
       " ' ': 3,\n",
       " '!': 4,\n",
       " '\"': 5,\n",
       " '$': 6,\n",
       " '%': 7,\n",
       " '&': 8,\n",
       " \"'\": 9,\n",
       " '(': 10,\n",
       " ')': 11,\n",
       " ',': 12,\n",
       " '-': 13,\n",
       " '.': 14,\n",
       " '0': 15,\n",
       " '1': 16,\n",
       " '2': 17,\n",
       " '3': 18,\n",
       " '4': 19,\n",
       " '5': 20,\n",
       " '6': 21,\n",
       " '7': 22,\n",
       " '8': 23,\n",
       " '9': 24,\n",
       " ':': 25,\n",
       " '?': 26,\n",
       " 'A': 27,\n",
       " 'B': 28,\n",
       " 'C': 29,\n",
       " 'D': 30,\n",
       " 'E': 31,\n",
       " 'F': 32,\n",
       " 'G': 33,\n",
       " 'H': 34,\n",
       " 'I': 35,\n",
       " 'J': 36,\n",
       " 'K': 37,\n",
       " 'L': 38,\n",
       " 'M': 39,\n",
       " 'N': 40,\n",
       " 'O': 41,\n",
       " 'P': 42,\n",
       " 'Q': 43,\n",
       " 'R': 44,\n",
       " 'S': 45,\n",
       " 'T': 46,\n",
       " 'U': 47,\n",
       " 'V': 48,\n",
       " 'W': 49,\n",
       " 'X': 50,\n",
       " 'Y': 51,\n",
       " 'Z': 52,\n",
       " 'a': 53,\n",
       " 'b': 54,\n",
       " 'c': 55,\n",
       " 'd': 56,\n",
       " 'e': 57,\n",
       " 'f': 58,\n",
       " 'g': 59,\n",
       " 'h': 60,\n",
       " 'i': 61,\n",
       " 'j': 62,\n",
       " 'k': 63,\n",
       " 'l': 64,\n",
       " 'm': 65,\n",
       " 'n': 66,\n",
       " 'o': 67,\n",
       " 'p': 68,\n",
       " 'q': 69,\n",
       " 'r': 70,\n",
       " 's': 71,\n",
       " 't': 72,\n",
       " 'u': 73,\n",
       " 'v': 74,\n",
       " 'w': 75,\n",
       " 'x': 76,\n",
       " 'y': 77,\n",
       " 'z': 78,\n",
       " '\\xa0': 79,\n",
       " '«': 80,\n",
       " '»': 81,\n",
       " 'À': 82,\n",
       " 'Ç': 83,\n",
       " 'É': 84,\n",
       " 'Ê': 85,\n",
       " 'Ô': 86,\n",
       " 'à': 87,\n",
       " 'â': 88,\n",
       " 'ç': 89,\n",
       " 'è': 90,\n",
       " 'é': 91,\n",
       " 'ê': 92,\n",
       " 'ë': 93,\n",
       " 'î': 94,\n",
       " 'ï': 95,\n",
       " 'ô': 96,\n",
       " 'ù': 97,\n",
       " 'û': 98,\n",
       " 'œ': 99,\n",
       " 'С': 100,\n",
       " '\\u2009': 101,\n",
       " '\\u200b': 102,\n",
       " '‘': 103,\n",
       " '’': 104,\n",
       " '\\u202f': 105}"
      ]
     },
     "execution_count": 16,
     "metadata": {},
     "output_type": "execute_result"
    }
   ],
   "source": [
    "fraToIndex"
   ]
  },
  {
   "cell_type": "code",
   "execution_count": 17,
   "metadata": {},
   "outputs": [
    {
     "name": "stdout",
     "output_type": "stream",
     "text": [
      "[[30, 64, 10], [31, 58, 10], [31, 58, 10], [41, 70, 63, 2], [41, 70, 63, 2], [46, 57, 64, 23], [46, 64, 72, 2], [29, 58, 67, 54, 2], [31, 54, 61, 65, 2], [33, 70, 62, 65, 10]]\n"
     ]
    }
   ],
   "source": [
    "#영어 문장 인코딩\n",
    "encoderInput=[]\n",
    "for li in df.eng:\n",
    "    t=[]\n",
    "    for c in li:\n",
    "        t.append(engToIndex[c])\n",
    "    encoderInput.append(t)\n",
    "print(encoderInput[:10])"
   ]
  },
  {
   "cell_type": "code",
   "execution_count": 18,
   "metadata": {},
   "outputs": [
    {
     "name": "stdout",
     "output_type": "stream",
     "text": [
      "[[1, 3, 48, 53, 3, 4, 3, 2], [1, 3, 45, 53, 64, 73, 72, 3, 4, 3, 2], [1, 3, 45, 53, 64, 73, 72, 14, 3, 2], [1, 3, 29, 67, 73, 70, 71, 105, 4, 3, 2], [1, 3, 29, 67, 73, 70, 57, 78, 105, 4, 3, 2], [1, 3, 43, 73, 61, 3, 26, 3, 2], [1, 3, 83, 53, 3, 53, 64, 67, 70, 71, 105, 4, 3, 2], [1, 3, 27, 73, 3, 58, 57, 73, 3, 4, 3, 2], [1, 3, 82, 3, 64, 9, 53, 61, 56, 57, 105, 4, 3, 2], [1, 3, 45, 53, 73, 72, 57, 14, 3, 2]]\n"
     ]
    }
   ],
   "source": [
    "#프랑스어 문장 인코딩\n",
    "decoderInput=[]\n",
    "for li in df.fra:\n",
    "    t=[]\n",
    "    for c in li:\n",
    "        t.append(fraToIndex[c])\n",
    "    decoderInput.append(t)\n",
    "print(decoderInput[:10])"
   ]
  },
  {
   "cell_type": "code",
   "execution_count": 19,
   "metadata": {},
   "outputs": [
    {
     "name": "stdout",
     "output_type": "stream",
     "text": [
      "[[3, 48, 53, 3, 4, 3, 2], [3, 45, 53, 64, 73, 72, 3, 4, 3, 2], [3, 45, 53, 64, 73, 72, 14, 3, 2], [3, 29, 67, 73, 70, 71, 105, 4, 3, 2], [3, 29, 67, 73, 70, 57, 78, 105, 4, 3, 2], [3, 43, 73, 61, 3, 26, 3, 2], [3, 83, 53, 3, 53, 64, 67, 70, 71, 105, 4, 3, 2], [3, 27, 73, 3, 58, 57, 73, 3, 4, 3, 2], [3, 82, 3, 64, 9, 53, 61, 56, 57, 105, 4, 3, 2], [3, 45, 53, 73, 72, 57, 14, 3, 2]]\n"
     ]
    }
   ],
   "source": [
    "#프랑스어 문장 출력\n",
    "decoderFra=[]\n",
    "for li in df.fra:\n",
    "    t=[]\n",
    "    i=0\n",
    "    for c in li:\n",
    "        if i>0:\n",
    "            t.append(fraToIndex[c])\n",
    "        i=i+1\n",
    "    decoderFra.append(t)\n",
    "print(decoderFra[:10])"
   ]
  },
  {
   "cell_type": "code",
   "execution_count": 20,
   "metadata": {},
   "outputs": [
    {
     "name": "stdout",
     "output_type": "stream",
     "text": [
      "26\n",
      "76\n"
     ]
    }
   ],
   "source": [
    "#문장 -> 정수 변환 -> 패딩\n",
    "#각 언어별로 가장 긴 글자로 구성된 문장의 길이로 통일\n",
    "maxEngLen = max([len(li) for li in df.eng]) #[3,9,.....15] \n",
    "maxFraLen = max([len(li) for li in df.fra])\n",
    "print(maxEngLen)\n",
    "print(maxFraLen)"
   ]
  },
  {
   "cell_type": "code",
   "execution_count": 21,
   "metadata": {},
   "outputs": [
    {
     "name": "stderr",
     "output_type": "stream",
     "text": [
      "Using TensorFlow backend.\n"
     ]
    }
   ],
   "source": [
    "from keras.preprocessing.sequence import pad_sequences"
   ]
  },
  {
   "cell_type": "code",
   "execution_count": 22,
   "metadata": {},
   "outputs": [],
   "source": [
    "encoderInput = pad_sequences(encoderInput, maxlen=maxEngLen, padding=\"post\")\n",
    "decoderInput = pad_sequences(decoderInput, maxlen=maxFraLen, padding=\"post\")\n",
    "decoderFra = pad_sequences(decoderFra, maxlen=maxFraLen, padding=\"post\")"
   ]
  },
  {
   "cell_type": "code",
   "execution_count": 23,
   "metadata": {},
   "outputs": [],
   "source": [
    "import numpy as np"
   ]
  },
  {
   "cell_type": "code",
   "execution_count": 24,
   "metadata": {},
   "outputs": [
    {
     "data": {
      "text/plain": [
       "(70000, 76)"
      ]
     },
     "execution_count": 24,
     "metadata": {},
     "output_type": "execute_result"
    }
   ],
   "source": [
    "np.shape(encoderInput) #(70000, 26)\n",
    "np.shape(decoderInput) #(70000, 76)"
   ]
  },
  {
   "cell_type": "code",
   "execution_count": 25,
   "metadata": {},
   "outputs": [],
   "source": [
    "from keras.utils import to_categorical"
   ]
  },
  {
   "cell_type": "code",
   "execution_count": 26,
   "metadata": {},
   "outputs": [],
   "source": [
    "#원핫인코딩\n",
    "encoderInput = to_categorical(encoderInput)\n",
    "decoderInput = to_categorical(decoderInput)\n",
    "decoderFra = to_categorical(decoderFra)"
   ]
  },
  {
   "cell_type": "code",
   "execution_count": 27,
   "metadata": {},
   "outputs": [
    {
     "data": {
      "text/plain": [
       "(70000, 76, 106)"
      ]
     },
     "execution_count": 27,
     "metadata": {},
     "output_type": "execute_result"
    }
   ],
   "source": [
    "np.shape(encoderInput) #(70000, 26, 80)  (70000줄, 전체 줄에서 최대글자수, 글자 종류)\n",
    "np.shape(decoderInput) #(70000, 76, 106) (70000줄, 전체 줄에서 최대글자수, 글자 종류)"
   ]
  },
  {
   "cell_type": "code",
   "execution_count": 28,
   "metadata": {},
   "outputs": [],
   "source": [
    "#트레이닝시, 이전 상태의 실제값을 현재 상태의 디코더 입력으로 해야 함(예측값으로 하면 안됌)\n",
    "from keras.layers import Input, Embedding, Dense, LSTM\n",
    "from keras.models import Model"
   ]
  },
  {
   "cell_type": "code",
   "execution_count": 29,
   "metadata": {},
   "outputs": [],
   "source": [
    "# ex) ip = Input_shape=(50,1)\n",
    "# feature: 1개, time_step(시점): 50개\n",
    "# lt =  LSTM(출력)(ip)\n",
    "# d1 = Dense(10, activation='relu')(lt)\n",
    "# d2 = Dense(1, activation='sigmoid')(di)\n",
    "# Model(inputs=ip, outputs=d2)"
   ]
  },
  {
   "cell_type": "code",
   "execution_count": 30,
   "metadata": {},
   "outputs": [
    {
     "name": "stdout",
     "output_type": "stream",
     "text": [
      "WARNING:tensorflow:From C:\\Users\\student\\Anaconda3\\lib\\site-packages\\tensorflow_core\\python\\ops\\resource_variable_ops.py:1630: calling BaseResourceVariable.__init__ (from tensorflow.python.ops.resource_variable_ops) with constraint is deprecated and will be removed in a future version.\n",
      "Instructions for updating:\n",
      "If using Keras pass *_constraint arguments to layers.\n"
     ]
    }
   ],
   "source": [
    "encoderInputs = Input(shape=(None, engVocabSize))\n",
    "#인코더입력 = Input( ,영어 문자 종류 수)\n",
    "# Input(shape=(50,1))\n",
    "decoderInputs = Input(shape=(None, fraVocabSize))\n",
    "#디코더입력 = Input( ,프랑스어 문자 종류 수)\n",
    "\n",
    "#인코더 LSTM 셀\n",
    "encoderLSTM = LSTM(units=256, return_state=True)\n",
    "#return_state: 인코더의 마지막 상태 정보를 디코더의 입력 상태 정보로 전달하기 위한 옵션\n",
    "\n",
    "#디코더 LSTM 셀\n",
    "decoderLSTM = LSTM(units=256, return_sequences=True, return_state=True)\n",
    "\n",
    "#인코더 LSTM 셀의 입력 정의\n",
    "_, stateH, stateC = encoderLSTM(encoderInputs)\n",
    "# _, 히든상태(위), 셀상태(오른쪽)\n",
    "encoderStates = [stateH, stateC]\n",
    "#encoderStates: 컨텍스트 벡터\n",
    "\n",
    "decoderOutputs, _, _ = decoderLSTM(decoderInputs, initial_state=encoderStates)\n",
    "decoderSoftmax = Dense(fraVocabSize, activation='softmax')\n",
    "decoderOutputs = decoderSoftmax(decoderOutputs)"
   ]
  },
  {
   "cell_type": "code",
   "execution_count": 31,
   "metadata": {},
   "outputs": [
    {
     "data": {
      "text/plain": [
       "106"
      ]
     },
     "execution_count": 31,
     "metadata": {},
     "output_type": "execute_result"
    }
   ],
   "source": [
    "fraVocabSize #106글자"
   ]
  },
  {
   "cell_type": "code",
   "execution_count": 32,
   "metadata": {},
   "outputs": [],
   "source": [
    "model = Model(inputs=[encoderInputs, decoderInputs] , outputs=decoderOutputs)\n",
    "model.compile(optimizer='rmsprop', loss='categorical_crossentropy')"
   ]
  },
  {
   "cell_type": "code",
   "execution_count": 33,
   "metadata": {},
   "outputs": [
    {
     "name": "stdout",
     "output_type": "stream",
     "text": [
      "WARNING:tensorflow:From C:\\Users\\student\\Anaconda3\\lib\\site-packages\\tensorflow_core\\python\\ops\\math_grad.py:1424: where (from tensorflow.python.ops.array_ops) is deprecated and will be removed in a future version.\n",
      "Instructions for updating:\n",
      "Use tf.where in 2.0, which has the same broadcast rule as np.where\n",
      "WARNING:tensorflow:From C:\\Users\\student\\Anaconda3\\lib\\site-packages\\keras\\backend\\tensorflow_backend.py:422: The name tf.global_variables is deprecated. Please use tf.compat.v1.global_variables instead.\n",
      "\n",
      "Train on 56000 samples, validate on 14000 samples\n",
      "Epoch 1/50\n",
      "56000/56000 [==============================] - 406s 7ms/step - loss: 0.6484 - val_loss: 0.5925\n",
      "Epoch 2/50\n",
      "56000/56000 [==============================] - 408s 7ms/step - loss: 0.4049 - val_loss: 0.4826\n",
      "Epoch 3/50\n",
      "56000/56000 [==============================] - 413s 7ms/step - loss: 0.3421 - val_loss: 0.4370\n",
      "Epoch 4/50\n",
      "56000/56000 [==============================] - 415s 7ms/step - loss: 0.3079 - val_loss: 0.4071\n",
      "Epoch 5/50\n",
      "56000/56000 [==============================] - 414s 7ms/step - loss: 0.2855 - val_loss: 0.3921\n",
      "Epoch 6/50\n",
      "56000/56000 [==============================] - 415s 7ms/step - loss: 0.2691 - val_loss: 0.3799\n",
      "Epoch 7/50\n",
      "56000/56000 [==============================] - 416s 7ms/step - loss: 0.2561 - val_loss: 0.3720\n",
      "Epoch 8/50\n",
      "56000/56000 [==============================] - 415s 7ms/step - loss: 0.2456 - val_loss: 0.3663\n",
      "Epoch 9/50\n",
      "56000/56000 [==============================] - 415s 7ms/step - loss: 0.2365 - val_loss: 0.3635\n",
      "Epoch 10/50\n",
      "56000/56000 [==============================] - 416s 7ms/step - loss: 0.2287 - val_loss: 0.3616\n",
      "Epoch 11/50\n",
      "56000/56000 [==============================] - 414s 7ms/step - loss: 0.2217 - val_loss: 0.3590\n",
      "Epoch 12/50\n",
      "56000/56000 [==============================] - 411s 7ms/step - loss: 0.2157 - val_loss: 0.3570\n",
      "Epoch 13/50\n",
      "56000/56000 [==============================] - 413s 7ms/step - loss: 0.2101 - val_loss: 0.3603\n",
      "Epoch 14/50\n",
      "56000/56000 [==============================] - 409s 7ms/step - loss: 0.2051 - val_loss: 0.3591\n",
      "Epoch 15/50\n",
      "56000/56000 [==============================] - 409s 7ms/step - loss: 0.2003 - val_loss: 0.3600\n",
      "Epoch 16/50\n",
      "56000/56000 [==============================] - 414s 7ms/step - loss: 0.1961 - val_loss: 0.3602\n",
      "Epoch 17/50\n",
      "56000/56000 [==============================] - 414s 7ms/step - loss: 0.1921 - val_loss: 0.3619\n",
      "Epoch 18/50\n",
      "56000/56000 [==============================] - 412s 7ms/step - loss: 0.1884 - val_loss: 0.3622\n",
      "Epoch 19/50\n",
      "56000/56000 [==============================] - 412s 7ms/step - loss: 0.1849 - val_loss: 0.3646\n",
      "Epoch 20/50\n",
      "56000/56000 [==============================] - 414s 7ms/step - loss: 0.1816 - val_loss: 0.3673\n",
      "Epoch 21/50\n",
      "56000/56000 [==============================] - 410s 7ms/step - loss: 0.1786 - val_loss: 0.3681\n",
      "Epoch 22/50\n",
      "56000/56000 [==============================] - 410s 7ms/step - loss: 0.1757 - val_loss: 0.3696\n",
      "Epoch 23/50\n",
      "56000/56000 [==============================] - 410s 7ms/step - loss: 0.1730 - val_loss: 0.3726\n",
      "Epoch 24/50\n",
      "56000/56000 [==============================] - 410s 7ms/step - loss: 0.1706 - val_loss: 0.3740\n",
      "Epoch 25/50\n",
      "56000/56000 [==============================] - 409s 7ms/step - loss: 0.1682 - val_loss: 0.3759\n",
      "Epoch 26/50\n",
      "56000/56000 [==============================] - 410s 7ms/step - loss: 0.1659 - val_loss: 0.3790\n",
      "Epoch 27/50\n",
      "56000/56000 [==============================] - 409s 7ms/step - loss: 0.1637 - val_loss: 0.3811\n",
      "Epoch 28/50\n",
      "56000/56000 [==============================] - 409s 7ms/step - loss: 0.1617 - val_loss: 0.3825\n",
      "Epoch 29/50\n",
      "56000/56000 [==============================] - 408s 7ms/step - loss: 0.1597 - val_loss: 0.3848\n",
      "Epoch 30/50\n",
      "56000/56000 [==============================] - 411s 7ms/step - loss: 0.1578 - val_loss: 0.3873\n",
      "Epoch 31/50\n",
      "56000/56000 [==============================] - 410s 7ms/step - loss: 0.1560 - val_loss: 0.3895\n",
      "Epoch 32/50\n",
      "56000/56000 [==============================] - 410s 7ms/step - loss: 0.1543 - val_loss: 0.3916\n",
      "Epoch 33/50\n",
      "56000/56000 [==============================] - 414s 7ms/step - loss: 0.1527 - val_loss: 0.3927\n",
      "Epoch 34/50\n",
      "56000/56000 [==============================] - 413s 7ms/step - loss: 0.1511 - val_loss: 0.3944\n",
      "Epoch 35/50\n",
      "56000/56000 [==============================] - 415s 7ms/step - loss: 0.1495 - val_loss: 0.3981\n",
      "Epoch 36/50\n",
      "56000/56000 [==============================] - 419s 7ms/step - loss: 0.1483 - val_loss: 0.4015\n",
      "Epoch 37/50\n",
      "56000/56000 [==============================] - 419s 7ms/step - loss: 0.1469 - val_loss: 0.4028\n",
      "Epoch 38/50\n",
      "56000/56000 [==============================] - 418s 7ms/step - loss: 0.1454 - val_loss: 0.4051\n",
      "Epoch 39/50\n",
      "56000/56000 [==============================] - 416s 7ms/step - loss: 0.1441 - val_loss: 0.4070\n",
      "Epoch 40/50\n",
      "56000/56000 [==============================] - 415s 7ms/step - loss: 0.1428 - val_loss: 0.4086\n",
      "Epoch 41/50\n",
      "56000/56000 [==============================] - 416s 7ms/step - loss: 0.1417 - val_loss: 0.4098\n",
      "Epoch 42/50\n",
      "56000/56000 [==============================] - 416s 7ms/step - loss: 0.1406 - val_loss: 0.4109\n",
      "Epoch 43/50\n",
      "56000/56000 [==============================] - 416s 7ms/step - loss: 0.1394 - val_loss: 0.4141\n",
      "Epoch 44/50\n",
      "56000/56000 [==============================] - 417s 7ms/step - loss: 0.1383 - val_loss: 0.4160\n",
      "Epoch 45/50\n",
      "56000/56000 [==============================] - 421s 8ms/step - loss: 0.1372 - val_loss: 0.4196\n",
      "Epoch 46/50\n",
      "56000/56000 [==============================] - 418s 7ms/step - loss: 0.1363 - val_loss: 0.4211\n",
      "Epoch 47/50\n",
      "56000/56000 [==============================] - 420s 8ms/step - loss: 0.1351 - val_loss: 0.4233\n",
      "Epoch 48/50\n",
      "56000/56000 [==============================] - 420s 7ms/step - loss: 0.1345 - val_loss: 0.4233\n",
      "Epoch 49/50\n",
      "56000/56000 [==============================] - 417s 7ms/step - loss: 0.1335 - val_loss: 0.4269\n",
      "Epoch 50/50\n",
      "56000/56000 [==============================] - 418s 7ms/step - loss: 0.1325 - val_loss: 0.4277\n"
     ]
    },
    {
     "data": {
      "text/plain": [
       "<keras.callbacks.callbacks.History at 0x2175f5bd248>"
      ]
     },
     "execution_count": 33,
     "metadata": {},
     "output_type": "execute_result"
    }
   ],
   "source": [
    "model.fit(x=[encoderInput, decoderInput], y=decoderFra, epochs=50, validation_split=0.2)"
   ]
  },
  {
   "cell_type": "code",
   "execution_count": 38,
   "metadata": {},
   "outputs": [],
   "source": [
    "#모델 저장\n",
    "model.save(\"English_to_French.h5\")"
   ]
  },
  {
   "cell_type": "code",
   "execution_count": 39,
   "metadata": {},
   "outputs": [],
   "source": [
    "# 모델 불러오기\n",
    "from keras.models import load_model\n",
    "\n",
    "model = load_model(\"English_to_French.h5\")"
   ]
  },
  {
   "cell_type": "code",
   "execution_count": 40,
   "metadata": {},
   "outputs": [
    {
     "name": "stdout",
     "output_type": "stream",
     "text": [
      "Model: \"model_1\"\n",
      "__________________________________________________________________________________________________\n",
      "Layer (type)                    Output Shape         Param #     Connected to                     \n",
      "==================================================================================================\n",
      "input_1 (InputLayer)            (None, None, 80)     0                                            \n",
      "__________________________________________________________________________________________________\n",
      "input_2 (InputLayer)            (None, None, 106)    0                                            \n",
      "__________________________________________________________________________________________________\n",
      "lstm_1 (LSTM)                   [(None, 256), (None, 345088      input_1[0][0]                    \n",
      "__________________________________________________________________________________________________\n",
      "lstm_2 (LSTM)                   [(None, None, 256),  371712      input_2[0][0]                    \n",
      "                                                                 lstm_1[0][1]                     \n",
      "                                                                 lstm_1[0][2]                     \n",
      "__________________________________________________________________________________________________\n",
      "dense_1 (Dense)                 (None, None, 106)    27242       lstm_2[0][0]                     \n",
      "==================================================================================================\n",
      "Total params: 744,042\n",
      "Trainable params: 744,042\n",
      "Non-trainable params: 0\n",
      "__________________________________________________________________________________________________\n"
     ]
    }
   ],
   "source": [
    "model.summary()"
   ]
  },
  {
   "cell_type": "markdown",
   "metadata": {},
   "source": [
    "## Text Generation"
   ]
  },
  {
   "cell_type": "code",
   "execution_count": 41,
   "metadata": {},
   "outputs": [],
   "source": [
    "from keras.preprocessing.text import Tokenizer\n",
    "from keras.preprocessing.sequence import pad_sequences"
   ]
  },
  {
   "cell_type": "code",
   "execution_count": 42,
   "metadata": {},
   "outputs": [],
   "source": [
    "text = \"\"\"과수원에 있는 배가 맛있다\n",
    "그의 배는 많이 나왔다\n",
    "가는 길에 배를 탔고 오는 길에도 배를 탔다\"\"\""
   ]
  },
  {
   "cell_type": "code",
   "execution_count": 43,
   "metadata": {},
   "outputs": [],
   "source": [
    "t = Tokenizer()\n",
    "t.fit_on_texts([text])"
   ]
  },
  {
   "cell_type": "code",
   "execution_count": 44,
   "metadata": {},
   "outputs": [
    {
     "data": {
      "text/plain": [
       "{'배를': 1,\n",
       " '과수원에': 2,\n",
       " '있는': 3,\n",
       " '배가': 4,\n",
       " '맛있다': 5,\n",
       " '그의': 6,\n",
       " '배는': 7,\n",
       " '많이': 8,\n",
       " '나왔다': 9,\n",
       " '가는': 10,\n",
       " '길에': 11,\n",
       " '탔고': 12,\n",
       " '오는': 13,\n",
       " '길에도': 14,\n",
       " '탔다': 15}"
      ]
     },
     "execution_count": 44,
     "metadata": {},
     "output_type": "execute_result"
    }
   ],
   "source": [
    "vocSize = len(t.word_index)+1\n",
    "#1~15까지 존재, 원핫인코딩하면 인덱스가 0부터 시작\n",
    "#배열의 크기를 단어집합의 크기보다 +1만큼\n",
    "t.word_index"
   ]
  },
  {
   "cell_type": "code",
   "execution_count": 45,
   "metadata": {},
   "outputs": [],
   "source": [
    "seqs=list()\n",
    "for line in text.split(\"\\n\"):\n",
    "    encoded = t.texts_to_sequences([line])[0]\n",
    "    for i in range(1,len(encoded)):\n",
    "        seq = encoded[:i+1]\n",
    "        seqs.append(seq)"
   ]
  },
  {
   "cell_type": "code",
   "execution_count": 46,
   "metadata": {},
   "outputs": [
    {
     "data": {
      "text/plain": [
       "[[2, 3],\n",
       " [2, 3, 4],\n",
       " [2, 3, 4, 5],\n",
       " [6, 7],\n",
       " [6, 7, 8],\n",
       " [6, 7, 8, 9],\n",
       " [10, 11],\n",
       " [10, 11, 1],\n",
       " [10, 11, 1, 12],\n",
       " [10, 11, 1, 12, 13],\n",
       " [10, 11, 1, 12, 13, 14],\n",
       " [10, 11, 1, 12, 13, 14, 1],\n",
       " [10, 11, 1, 12, 13, 14, 1, 15]]"
      ]
     },
     "execution_count": 46,
     "metadata": {},
     "output_type": "execute_result"
    }
   ],
   "source": [
    "seqs"
   ]
  },
  {
   "cell_type": "code",
   "execution_count": 47,
   "metadata": {},
   "outputs": [],
   "source": [
    "maxLen = max(len(i) for i in seqs)"
   ]
  },
  {
   "cell_type": "code",
   "execution_count": 48,
   "metadata": {},
   "outputs": [
    {
     "data": {
      "text/plain": [
       "array([[ 0,  0,  0,  0,  0,  0,  2,  3],\n",
       "       [ 0,  0,  0,  0,  0,  2,  3,  4],\n",
       "       [ 0,  0,  0,  0,  2,  3,  4,  5],\n",
       "       [ 0,  0,  0,  0,  0,  0,  6,  7],\n",
       "       [ 0,  0,  0,  0,  0,  6,  7,  8],\n",
       "       [ 0,  0,  0,  0,  6,  7,  8,  9],\n",
       "       [ 0,  0,  0,  0,  0,  0, 10, 11],\n",
       "       [ 0,  0,  0,  0,  0, 10, 11,  1],\n",
       "       [ 0,  0,  0,  0, 10, 11,  1, 12],\n",
       "       [ 0,  0,  0, 10, 11,  1, 12, 13],\n",
       "       [ 0,  0, 10, 11,  1, 12, 13, 14],\n",
       "       [ 0, 10, 11,  1, 12, 13, 14,  1],\n",
       "       [10, 11,  1, 12, 13, 14,  1, 15]])"
      ]
     },
     "execution_count": 48,
     "metadata": {},
     "output_type": "execute_result"
    }
   ],
   "source": [
    "seqs = pad_sequences(seqs, maxlen=maxLen, padding=\"pre\")\n",
    "seqs"
   ]
  },
  {
   "cell_type": "code",
   "execution_count": 49,
   "metadata": {},
   "outputs": [],
   "source": [
    "import numpy as np"
   ]
  },
  {
   "cell_type": "code",
   "execution_count": 50,
   "metadata": {},
   "outputs": [],
   "source": [
    "seqs = np.array(seqs)\n",
    "x = seqs[:,:-1]\n",
    "y = seqs[:,-1]"
   ]
  },
  {
   "cell_type": "code",
   "execution_count": 51,
   "metadata": {},
   "outputs": [
    {
     "data": {
      "text/plain": [
       "array([[ 0,  0,  0,  0,  0,  0,  2],\n",
       "       [ 0,  0,  0,  0,  0,  2,  3],\n",
       "       [ 0,  0,  0,  0,  2,  3,  4],\n",
       "       [ 0,  0,  0,  0,  0,  0,  6],\n",
       "       [ 0,  0,  0,  0,  0,  6,  7],\n",
       "       [ 0,  0,  0,  0,  6,  7,  8],\n",
       "       [ 0,  0,  0,  0,  0,  0, 10],\n",
       "       [ 0,  0,  0,  0,  0, 10, 11],\n",
       "       [ 0,  0,  0,  0, 10, 11,  1],\n",
       "       [ 0,  0,  0, 10, 11,  1, 12],\n",
       "       [ 0,  0, 10, 11,  1, 12, 13],\n",
       "       [ 0, 10, 11,  1, 12, 13, 14],\n",
       "       [10, 11,  1, 12, 13, 14,  1]])"
      ]
     },
     "execution_count": 51,
     "metadata": {},
     "output_type": "execute_result"
    }
   ],
   "source": [
    "x"
   ]
  },
  {
   "cell_type": "code",
   "execution_count": 52,
   "metadata": {},
   "outputs": [
    {
     "data": {
      "text/plain": [
       "array([[0., 0., 0., 1., 0., 0., 0., 0., 0., 0., 0., 0., 0., 0., 0., 0.],\n",
       "       [0., 0., 0., 0., 1., 0., 0., 0., 0., 0., 0., 0., 0., 0., 0., 0.],\n",
       "       [0., 0., 0., 0., 0., 1., 0., 0., 0., 0., 0., 0., 0., 0., 0., 0.],\n",
       "       [0., 0., 0., 0., 0., 0., 0., 1., 0., 0., 0., 0., 0., 0., 0., 0.],\n",
       "       [0., 0., 0., 0., 0., 0., 0., 0., 1., 0., 0., 0., 0., 0., 0., 0.],\n",
       "       [0., 0., 0., 0., 0., 0., 0., 0., 0., 1., 0., 0., 0., 0., 0., 0.],\n",
       "       [0., 0., 0., 0., 0., 0., 0., 0., 0., 0., 0., 1., 0., 0., 0., 0.],\n",
       "       [0., 1., 0., 0., 0., 0., 0., 0., 0., 0., 0., 0., 0., 0., 0., 0.],\n",
       "       [0., 0., 0., 0., 0., 0., 0., 0., 0., 0., 0., 0., 1., 0., 0., 0.],\n",
       "       [0., 0., 0., 0., 0., 0., 0., 0., 0., 0., 0., 0., 0., 1., 0., 0.],\n",
       "       [0., 0., 0., 0., 0., 0., 0., 0., 0., 0., 0., 0., 0., 0., 1., 0.],\n",
       "       [0., 1., 0., 0., 0., 0., 0., 0., 0., 0., 0., 0., 0., 0., 0., 0.],\n",
       "       [0., 0., 0., 0., 0., 0., 0., 0., 0., 0., 0., 0., 0., 0., 0., 1.]],\n",
       "      dtype=float32)"
      ]
     },
     "execution_count": 52,
     "metadata": {},
     "output_type": "execute_result"
    }
   ],
   "source": [
    "y = to_categorical(y, num_classes=vocSize)\n",
    "y"
   ]
  },
  {
   "cell_type": "code",
   "execution_count": 53,
   "metadata": {},
   "outputs": [],
   "source": [
    "from keras.layers import SimpleRNN"
   ]
  },
  {
   "cell_type": "code",
   "execution_count": 54,
   "metadata": {},
   "outputs": [
    {
     "ename": "NameError",
     "evalue": "name 'Sequential' is not defined",
     "output_type": "error",
     "traceback": [
      "\u001b[1;31m---------------------------------------------------------------------------\u001b[0m",
      "\u001b[1;31mNameError\u001b[0m                                 Traceback (most recent call last)",
      "\u001b[1;32m<ipython-input-54-13a0ffcb6fa6>\u001b[0m in \u001b[0;36m<module>\u001b[1;34m\u001b[0m\n\u001b[0;32m      1\u001b[0m \u001b[1;31m#모델 구성\u001b[0m\u001b[1;33m\u001b[0m\u001b[1;33m\u001b[0m\u001b[1;33m\u001b[0m\u001b[0m\n\u001b[1;32m----> 2\u001b[1;33m \u001b[0mmodel\u001b[0m \u001b[1;33m=\u001b[0m \u001b[0mSequential\u001b[0m\u001b[1;33m(\u001b[0m\u001b[1;33m)\u001b[0m\u001b[1;33m\u001b[0m\u001b[1;33m\u001b[0m\u001b[0m\n\u001b[0m\u001b[0;32m      3\u001b[0m \u001b[0mmodel\u001b[0m\u001b[1;33m.\u001b[0m\u001b[0madd\u001b[0m\u001b[1;33m(\u001b[0m\u001b[0mEmbedding\u001b[0m\u001b[1;33m(\u001b[0m\u001b[0mvocSize\u001b[0m\u001b[1;33m,\u001b[0m \u001b[1;36m10\u001b[0m\u001b[1;33m,\u001b[0m \u001b[0minput_length\u001b[0m\u001b[1;33m=\u001b[0m\u001b[0mmaxLen\u001b[0m\u001b[1;33m-\u001b[0m\u001b[1;36m1\u001b[0m\u001b[1;33m)\u001b[0m\u001b[1;33m)\u001b[0m\u001b[1;33m\u001b[0m\u001b[1;33m\u001b[0m\u001b[0m\n\u001b[0;32m      4\u001b[0m \u001b[1;31m#                입력차원, 출력차원, 8-1\u001b[0m\u001b[1;33m\u001b[0m\u001b[1;33m\u001b[0m\u001b[1;33m\u001b[0m\u001b[0m\n\u001b[0;32m      5\u001b[0m \u001b[0mmodel\u001b[0m\u001b[1;33m.\u001b[0m\u001b[0madd\u001b[0m\u001b[1;33m(\u001b[0m\u001b[0mSimpleRNN\u001b[0m\u001b[1;33m(\u001b[0m\u001b[1;36m32\u001b[0m\u001b[1;33m)\u001b[0m\u001b[1;33m)\u001b[0m\u001b[1;33m\u001b[0m\u001b[1;33m\u001b[0m\u001b[0m\n",
      "\u001b[1;31mNameError\u001b[0m: name 'Sequential' is not defined"
     ]
    }
   ],
   "source": [
    "#모델 구성\n",
    "model = Sequential()\n",
    "model.add(Embedding(vocSize, 10, input_length=maxLen-1))\n",
    "#                입력차원, 출력차원, 8-1\n",
    "model.add(SimpleRNN(32))\n",
    "# 각 단어의 임베딩 벡터가 10차원, 32개 히든 상태\n",
    "model.add(Dense(vocSize, activation='softmax'))\n",
    "model.compile(loss='categorical_crossentropy', metrics=['accuracy'], optimizer='adam')"
   ]
  },
  {
   "cell_type": "code",
   "execution_count": null,
   "metadata": {},
   "outputs": [],
   "source": [
    "model.fit(x,y,epochs=200)"
   ]
  },
  {
   "cell_type": "code",
   "execution_count": null,
   "metadata": {},
   "outputs": [],
   "source": [
    "def sentGen(model, t, word, n):  #모델, 토크나이저, 입력단어, 예측단어개수\n",
    "    sent=\"\"\n",
    "    word2 = word\n",
    "    for _ in range(n):  #3번 반복\n",
    "        encoded = t.texts_tosequences([word])[0] #'과수원에' <=> [2]\n",
    "        encoded = pad_sequences([encoded], maxlen=7, padding='post')\n",
    "        res = model.predict_classes(encoded)\n",
    "        \n",
    "        for w,i in t.word_index.items():\n",
    "            if i == res:  #예측단어와 인덱스가 동일한 단어\n",
    "                break\n",
    "        word = word+\" \"+w  #'과수원에 있는'\n",
    "        sent = sent+\" \"+word\n",
    "    sent = word2+sent\n",
    "    return sent"
   ]
  },
  {
   "cell_type": "code",
   "execution_count": null,
   "metadata": {},
   "outputs": [],
   "source": [
    "print(sentGen(model, t, '과수원에', 3))  #'과수원에' 뒤에 등장하는 3개의 단어 예측"
   ]
  },
  {
   "cell_type": "code",
   "execution_count": null,
   "metadata": {},
   "outputs": [],
   "source": [
    "\"\"\"\n",
    "seq2seq 동작\n",
    "1) 입력 문장 -> 인코더 -> 은닉 상태, 셀 상태 얻어냄\n",
    "2) 상태정보 Start 시그널(\"\\t\")을 디코더로 전달\n",
    "3) 다음 문자를 예측(stop 시그널(\"\\n\")이 등장할 때까지) 반복\n",
    "\"\"\""
   ]
  },
  {
   "cell_type": "code",
   "execution_count": 58,
   "metadata": {},
   "outputs": [],
   "source": [
    "encoderModel = Model(inputs=encoderInputs, outputs=encoderStates)"
   ]
  },
  {
   "cell_type": "code",
   "execution_count": 59,
   "metadata": {},
   "outputs": [],
   "source": [
    "#디코더\n",
    "decoderStateInputHidden = Input(shape=(256,))\n",
    "decoderStateInputCell = Input(shape=(256,))\n",
    "decoderStateInputs = [decoderStateInputHidden, decoderStateInputCell]\n",
    "decoderOutputs, stateHidden, stateCell = decoderLSTM(decoderInputs, initial_state=decoderStateInputs)\n",
    "decoderStates = [stateHidden, stateCell]"
   ]
  },
  {
   "cell_type": "code",
   "execution_count": 60,
   "metadata": {},
   "outputs": [],
   "source": [
    "def decodeSeq(inputSeq): #(1, 26, 80)\n",
    "    statesValue = encoderModel.predict(inputSeq)\n",
    "    targetSeq = np.zeros((1,1,fraVocabSize))  #(1, 1, 106)\n",
    "    targetSeq[0,0,fraToIndex['\\t']]=1  #원핫인코딩\n",
    "    \n",
    "    stop=False\n",
    "    decodedSent = \"\"\n",
    "    while not stop:  #'\\n'문자를 만날때까지 무한 반복\n",
    "        output, h, c = decoderModel.predict([targetSeq]+[statesValue])\n",
    "        #예측 값 => 문자\n",
    "        tokenIndex = np.argmax(output[0, -1, :])\n",
    "        predChar = indexToFra[tokenIndex]\n",
    "        \n",
    "        #현시점 예측 문자가 예측 문장에 추가\n",
    "        decodedSent+=predChar\n",
    "        \n",
    "        if(predChar==\"\\n\" or len(decodedsent) > maxFraLen):\n",
    "            stop = True\n",
    "            \n",
    "        #현시점 에측 결과가 다음 시점에 입력으로 \n",
    "        targetSeq = np.zeroes((1,1,fraVocabSize))\n",
    "        targetSeq[0,0,tokenIndex]=1\n",
    "        \n",
    "        #현시점 상태를 다음 시점 상태로 사용\n",
    "        statesValue = [h,c]    \n",
    "    \n",
    "#     print(statesValue)\n",
    "#     print(np.shape(statesValue))\n",
    "    \n",
    "    return decodedSeq #번역 결과\n",
    "    "
   ]
  },
  {
   "cell_type": "code",
   "execution_count": 61,
   "metadata": {},
   "outputs": [],
   "source": [
    "# np.zeros((1,1,fraVocabSize))  #(1, 1, 106)"
   ]
  },
  {
   "cell_type": "code",
   "execution_count": 62,
   "metadata": {},
   "outputs": [
    {
     "ename": "NameError",
     "evalue": "name 'seqIndex' is not defined",
     "output_type": "error",
     "traceback": [
      "\u001b[1;31m---------------------------------------------------------------------------\u001b[0m",
      "\u001b[1;31mNameError\u001b[0m                                 Traceback (most recent call last)",
      "\u001b[1;32m<ipython-input-62-913b982b97af>\u001b[0m in \u001b[0;36m<module>\u001b[1;34m\u001b[0m\n\u001b[0;32m      1\u001b[0m \u001b[1;32mimport\u001b[0m \u001b[0mnumpy\u001b[0m \u001b[1;32mas\u001b[0m \u001b[0mnp\u001b[0m\u001b[1;33m\u001b[0m\u001b[1;33m\u001b[0m\u001b[0m\n\u001b[0;32m      2\u001b[0m \u001b[1;32mfor\u001b[0m \u001b[0mi\u001b[0m \u001b[1;32min\u001b[0m \u001b[1;33m[\u001b[0m\u001b[1;36m10\u001b[0m\u001b[1;33m,\u001b[0m \u001b[1;36m100\u001b[0m\u001b[1;33m,\u001b[0m \u001b[1;36m200\u001b[0m\u001b[1;33m,\u001b[0m \u001b[1;36m300\u001b[0m\u001b[1;33m,\u001b[0m \u001b[1;36m400\u001b[0m\u001b[1;33m]\u001b[0m\u001b[1;33m:\u001b[0m\u001b[1;33m\u001b[0m\u001b[1;33m\u001b[0m\u001b[0m\n\u001b[1;32m----> 3\u001b[1;33m     \u001b[0minputSeq\u001b[0m \u001b[1;33m=\u001b[0m \u001b[0mencoderInput\u001b[0m\u001b[1;33m[\u001b[0m\u001b[0mseqIndex\u001b[0m\u001b[1;33m:\u001b[0m\u001b[0mseqIndex\u001b[0m\u001b[1;33m+\u001b[0m\u001b[1;36m1\u001b[0m\u001b[1;33m]\u001b[0m\u001b[1;33m\u001b[0m\u001b[1;33m\u001b[0m\u001b[0m\n\u001b[0m\u001b[0;32m      4\u001b[0m     \u001b[0mdecodedSeq\u001b[0m \u001b[1;33m=\u001b[0m \u001b[0mdecodeSeq\u001b[0m\u001b[1;33m(\u001b[0m\u001b[0minputSeq\u001b[0m\u001b[1;33m)\u001b[0m \u001b[1;31m#번역 결과\u001b[0m\u001b[1;33m\u001b[0m\u001b[1;33m\u001b[0m\u001b[0m\n\u001b[0;32m      5\u001b[0m     \u001b[0mprint\u001b[0m\u001b[1;33m(\u001b[0m\u001b[1;34m\"입력문장:\"\u001b[0m\u001b[1;33m,\u001b[0m \u001b[0mdf\u001b[0m\u001b[1;33m.\u001b[0m\u001b[0meng\u001b[0m\u001b[1;33m[\u001b[0m\u001b[0mseqIndex\u001b[0m\u001b[1;33m]\u001b[0m\u001b[1;33m)\u001b[0m\u001b[1;33m\u001b[0m\u001b[1;33m\u001b[0m\u001b[0m\n",
      "\u001b[1;31mNameError\u001b[0m: name 'seqIndex' is not defined"
     ]
    }
   ],
   "source": [
    "import numpy as np\n",
    "for i in [10, 100, 200, 300, 400]:\n",
    "    inputSeq = encoderInput[seqIndex:seqIndex+1]\n",
    "    decodedSeq = decodeSeq(inputSeq) #번역 결과\n",
    "    print(\"입력문장:\", df.eng[seqIndex])\n",
    "    print(\"정답:\", df.fra[seqIndex][1:len(df.fra[seqIndex])-1])\n",
    "    print(\"번역기:\", decodedSeq[:len(decodedSeq)-1])"
   ]
  },
  {
   "cell_type": "code",
   "execution_count": 56,
   "metadata": {},
   "outputs": [],
   "source": [
    "from konlpy.corpus import kolaw #헌법 데이터\n",
    "from konlpy.tag import Okt #한국어 형태소 분석기\n",
    "from nltk.tokenize import sent_tokenize #문장 단위로 토큰화"
   ]
  },
  {
   "cell_type": "code",
   "execution_count": 65,
   "metadata": {},
   "outputs": [
    {
     "data": {
      "text/plain": [
       "18884"
      ]
     },
     "execution_count": 65,
     "metadata": {},
     "output_type": "execute_result"
    }
   ],
   "source": [
    "c = kolaw.open(\"constitution.txt\").read()\n",
    "len(c) #18884"
   ]
  },
  {
   "cell_type": "code",
   "execution_count": 64,
   "metadata": {},
   "outputs": [
    {
     "data": {
      "text/plain": [
       "357"
      ]
     },
     "execution_count": 64,
     "metadata": {},
     "output_type": "execute_result"
    }
   ],
   "source": [
    "len(sent_tokenize(c)) #357"
   ]
  },
  {
   "cell_type": "code",
   "execution_count": 66,
   "metadata": {},
   "outputs": [
    {
     "data": {
      "text/plain": [
       "[('오늘', 'Noun'),\n",
       " ('은', 'Josa'),\n",
       " ('날씨', 'Noun'),\n",
       " ('가', 'Josa'),\n",
       " ('따뜻합니다', 'Adjective')]"
      ]
     },
     "execution_count": 66,
     "metadata": {},
     "output_type": "execute_result"
    }
   ],
   "source": [
    "okt = Okt()\n",
    "okt.pos('오늘은 날씨가 따뜻합니다')  #konlpy.org 참고"
   ]
  },
  {
   "cell_type": "code",
   "execution_count": 73,
   "metadata": {},
   "outputs": [],
   "source": [
    "doc0 = [\" \".join([\"\".join(w) for w,t in okt.pos(s) if t not in ['Number', 'Foreign'] and w not in ['제','조']]) for s in sent_tokenize(c)]"
   ]
  },
  {
   "cell_type": "code",
   "execution_count": 74,
   "metadata": {},
   "outputs": [
    {
     "data": {
      "text/plain": [
       "357"
      ]
     },
     "execution_count": 74,
     "metadata": {},
     "output_type": "execute_result"
    }
   ],
   "source": [
    "len(doc0) "
   ]
  },
  {
   "cell_type": "code",
   "execution_count": 75,
   "metadata": {},
   "outputs": [
    {
     "data": {
      "text/plain": [
       "['대한민국 헌법 유구 한 역사 와 전통 에 빛나는 우리 대 한 국민 은 · 운동 으로 건립 된 대한민국 임시정부 의 법 통과 불의 에 항거 한 · 민주 이념 을 계승 하고 , 조국 의 민주 개혁 과 평화 적 통일 의 사명 에 입 각하 여 정의 · 인도 와 동포 애 로써 민족 의 단결 을 공고 히 하고 , 모든 사회 적 폐습 과 불의 를 타파 하며 , 자율 과 조화 를 바탕 으로 자유민주 적 기 본 질서 를 더욱 확고히 하여 정치 · 경제 · 사회 · 문화 의 모든 영역 에 있어서 각인 의 기회 를 균등히 하고 , 능력 을 최고 도로 발휘 하게 하며 , 자유 와 권리 에 따르는 책임 과 의무 를 완수 하게 하여 , 안 으로는 국민 생활 의 균등한 향상 을 기하 고 밖 으로는 항구 적 인 세계 평화 와 인류 공영 에 이바지 함 으로써 우리 들 과 우리 들 의 자손 의 안전 과 자유 와 행복 을 영원히 확보 할 것 을 다짐 하면서 제정 되고 차 에 걸쳐 개정 된 헌법 을 이제 국회 의 의결 을 거쳐 국민투표 에 의하여 개정 한다 .',\n",
       " '장 총 강 대한민국 은 민주공화국 이다 .',\n",
       " '대한민국 의 주권 은 국민 에게 있고 , 모든 권력 은 국민 으로부터 나온다 .',\n",
       " '대한민국 의 국민 이 되는 요건 은 법률 로 정 한다 .',\n",
       " '국가 는 법률 이 정 하는 바 에 의하여 재외국민 을 보호 할 의무 를 진다 .',\n",
       " '대한민국 의 영토 는 한반도 와 그 부속 도서 로 한다 .',\n",
       " '대한민국 은 통일 을 지향 하며 , 자유민주 적 기 본 질서 에 입각 한 평화 적 통일 정책 을 수립 하고 이를 추진 한 다 .',\n",
       " '대한민국 은 국제 평화 의 유지 에 노력 하고 침략 적 전쟁 을 부인 한다 .',\n",
       " '국군 은 국가 의 안전보장 과 국토 방위 의 신성한 의무 를 수행 함 을 사명 으로 하며 , 그 정치 적 중립성 은 준수 된다 .',\n",
       " '헌법 에 의하여 체결 · 공포 된 조약 과 일반 적 으로 승인 된 국제 법규 는 국내법 과 같은 효력 을 가진다 .',\n",
       " '외국인 은 국제 법 과 조약 이 정 하는 바 에 의하여 그 지위 가 보장 된다 .',\n",
       " '공무원 은 국민 전체 에 대한 봉사자 이며 , 국민 에 대하 여 책임 을 진다 .',\n",
       " '공무원 의 신분 과 정치 적 중립성 은 법률 이 정 하는 바 에 의하여 보장 된다 .',\n",
       " '정당 의 설립 은 자유 이며 , 복수정당제 는 보장 된다 .',\n",
       " '정당 은 그 목적 · 조직 과 활동 이 민주 적이어야 하며 , 국민 의 정치 적 의사 형성 에 참여 하는데 필요한 조직 을 가져야 한다 .',\n",
       " '정당 은 법률 이 정 하는 바 에 의하여 국가 의 보호 를 받으며 , 국가 는 법률 이 정 하는 바 에 의하여 정당 운영 에 필요한 자금 을 보조 할 수 있다 .',\n",
       " '정당 의 목적 이나 활동 이 민주 적 기 본 질서 에 위배 될 때 에는 정부 는 헌법재판소 에 그 해산 을 제소 할 수 있고 , 정당 은 헌법재판소 의 심판 에 의하여 해산 된다 .',\n",
       " '국가 는 전통문화 의 계승 · 발전 과 민족 문화 의 창달 에 노력 하여야 한다 .',\n",
       " '장 국민 의 권리 와 의무 모든 국민 은 인간 으로서의 존엄 과 가치 를 가지 며 , 행복 을 추구 할 권리 를 가진다 .',\n",
       " '국가 는 개인 이 가지는 불가침 의 기본 적 인권 을 확인 하고 이를 보장 할 의무 를 진다 .',\n",
       " '모든 국민 은 법 앞 에 평등하다 .',\n",
       " '누구 든지 성별 · 종교 또는 사회 적 신분 에 의하여 정치 적 · 경제 적 · 사회 적 · 문화 적 생활 의 모든 영역 에 있어서 차별 을 받지 아니 한다 .',\n",
       " '사회 적 특수 계급 의 제도 는 인정 되지 아니하며 , 어떠한 형태 로 도 이를 창설 할 수 없다 .',\n",
       " '훈장 등 의 영전 은 이를 받은 자 에게만 효력 이 있고 , 어떠한 특권 도 이 에 따르지 아니 한다 .',\n",
       " '모든 국민 은 신체 의 자유 를 가진다 .',\n",
       " '누구 든지 법률 에 의하지 아니하고는 체포 · 구속 · 압수 · 수색 또는 심문 을 받지 아니하며 , 법률 과 적법한 절차 에 의하지 아니하고는 처벌 · 보안처분 또는 강제 노역 을 받지 아니 한다 .',\n",
       " '모든 국민 은 고문 을 받지 아니하며 , 형사 상 자기 에게 불리한 진술 을 강요 당하지 아니 한다 .',\n",
       " '체포 · 구속 · 압수 또는 수색 을 할 때 에는 적법한 절차 에 따라 검사 의 신청 에 의하여 법관 이 발부 한 영장 을 제시 하여야 한다 .',\n",
       " '다만 , 현행범인 인 경우 와 장기 이상 의 형 에 해당 하는 죄 를 범 하고 도피 또는 증거 인 멸 의 염려 가 있을 때 에는 사후 에 영장 을 청구 할 수 있다 .',\n",
       " '누구 든지 체포 또는 구속 을 당한 때 에는 즉시 변호인 의 조력 을 받을 권리 를 가진다 .',\n",
       " '다만 , 형사 피고인 이 스스로 변호인 을 구 할 수 없을 때 에는 법률 이 정 하는 바 에 의하여 국가 가 변호인 을 붙인다 .',\n",
       " '누구 든지 체포 또는 구속 의 이유 와 변호인 의 조력 을 받을 권리 가 있 음 을 고지 받지 아니하고는 체포 또는 구속 을 당하지 아니 한다 .',\n",
       " '체포 또는 구속 을 당한 자의 가족 등 법률 이 정 하는 자 에게는 그 이유 와 일시 · 장소 가 지체 없이 통지 되어야 한다 .',\n",
       " '누구 든지 체포 또는 구속 을 당한 때 에는 적 부의 심사 를 법원 에 청구 할 권리 를 가진다 .',\n",
       " '피고인 의 자백 이 고문 · 폭행 · 협박 · 구속 의 부당한 장기 화 또는 기 망 기타 의 방법 에 의하여 자의 로 진술 된 것 이 아니라고 인정 될 때 또는 정식 재판 에 있어서 피고인 의 자백 이 그 에게 불리한 유일한 증거 일 때 에는 이를 유죄 의 증거 로 삼거나 이를 이유 로 처벌 할 수 없다 .',\n",
       " '모든 국민 은 행위 시 의 법률 에 의하여 범죄 를 구성 하지 아니하는 행위 로 소 추 되지 아니하며 , 동일한 범죄 에 대하 여 거듭 처벌 받지 아니 한다 .',\n",
       " '모든 국민 은 소급입법 에 의하여 참정권 의 제한 을 받거나 재산권 을 박탈 당하지 아니 한다 .',\n",
       " '모든 국민 은 자기 의 행위 가 아닌 친족 의 행위 로 인하여 불이익 한 처우 를 받지 아니 한다 .',\n",
       " '모든 국민 은 거주 · 이전 의 자유 를 가진다 .',\n",
       " '모든 국민 은 직업 선택 의 자유 를 가진다 .',\n",
       " '모든 국민 은 주거 의 자유 를 침해 받지 아니 한다 .',\n",
       " '주거 에 대한 압수 나 수색 을 할 때 에는 검사 의 신청 에 의하여 법관 이 발부 한 영장 을 제시 하여야 한다 .',\n",
       " '모든 국민 은 사생활 의 비밀 과 자유 를 침해 받지 아니 한다 .',\n",
       " '모든 국민 은 통신 의 비밀 을 침해 받지 아니 한다 .',\n",
       " '모든 국민 은 양심 의 자유 를 가진다 .',\n",
       " '모든 국민 은 종교 의 자유 를 가진다 .',\n",
       " '국교 는 인정 되지 아니하며 , 종교 와 정치 는 분리 된다 .',\n",
       " '모든 국민 은 언론 · 출판 의 자유 와 집회 · 결사 의 자유 를 가진다 .',\n",
       " '언론 · 출판 에 대한 허가 나 검열 과 집회 · 결사 에 대한 허가 는 인정 되지 아니 한다 .',\n",
       " '통신 · 방송 의 시설 기준 과 신문 의 기능 을 보장 하기 위 하여 필요한 사항 은 법률 로 정 한다 .',\n",
       " '언론 · 출판 은 타인 의 명예 나 권리 또는 공중도덕 이나 사회 윤리 를 침해 하여 서는 아니 된다 .',\n",
       " '언론 · 출판 이 타인 의 명예 나 권리 를 침해 한 때 에는 피해자 는 이 에 대한 피해 의 배상 을 청구 할 수 있다 .',\n",
       " '모든 국민 은 학문 과 예술 의 자유 를 가진다 .',\n",
       " '저작자 · 발명가 · 과학기술 자 와 예술가 의 권리 는 법률 로써 보호 한다 .',\n",
       " '모든 국민 의 재산권 은 보장 된다 .',\n",
       " '그 내용 과 한계 는 법률 로 정 한다 .',\n",
       " '재산권 의 행사 는 공공 복리 에 적합하도록 하여야 한다 .',\n",
       " '공공필요 에 의한 재산권 의 수용 · 사용 또는 제한 및 그 에 대한 보상 은 법률 로써 하 되 , 정당한 보상 을 지급 하여야 한다 .',\n",
       " '모든 국민 은 법률 이 정 하는 바 에 의하여 선거권 을 가진다 .',\n",
       " '모든 국민 은 법률 이 정 하는 바 에 의하여 공무 담임 권 을 가진다 .',\n",
       " '모든 국민 은 법률 이 정 하는 바 에 의하여 국가 기관 에 문서 로 청원 할 권리 를 가진다 .',\n",
       " '국가 는 청원 에 대하 여 심사 할 의무 를 진다 .',\n",
       " '모든 국민 은 헌법 과 법률 이 정 한 법관 에 의하여 법률 에 의한 재판 을 받을 권리 를 가진다 .',\n",
       " '군인 또는 군무원 이 아닌 국민 은 대한민국 의 영역 안 에서는 중대한 군사 상 기밀 · 초병 · 초소 · 유독 음식물 공급 · 포로 · 군용 물 에 관 한 죄 중 법률 이 정 한 경우 와 비상계엄 이 선포 된 경우 를 제외 하고는 군사법원 의 재판 을 받지 아니 한다 .',\n",
       " '모든 국민 은 신속한 재판 을 받을 권리 를 가진다 .',\n",
       " '형사 피고인 은 상당한 이유 가 없는 한 지체 없이 공개 재판 을 받을 권리 를 가진다 .',\n",
       " '형사 피고인 은 유죄 의 판결 이 확정 될 때 까지는 무죄 로 추정 된다 .',\n",
       " '형사 피해자 는 법률 이 정 하는 바 에 의하여 당해 사건 의 재판 절차 에서 진술 할 수 있다 .',\n",
       " '형사 피의자 또는 형사 피고인 으로서 구금 되었던 자가 법률 이 정 하는 불기소처분 을 받거나 무죄판결 을 받은 때 에는 법률 이 정 하는 바 에 의하여 국가 에 정당한 보상 을 청구 할 수 있다 .',\n",
       " '공무원 의 직무 상 불법행위 로 손해 를 받은 국민 은 법률 이 정 하는 바 에 의하여 국가 또는 공공 단체 에 정당한 배상 을 청구 할 수 있다 .',\n",
       " '이 경우 공무원 자신 의 책임 은 면제 되지 아니 한다 .',\n",
       " '군인 · 군무원 · 경찰 공무원 기타 법률 이 정 하는 자가 전투 · 훈련 등 직무 집행 과 관련 하여 받은 손해 에 대하 여 는 법률 이 정 하는 보상 외 에 국가 또는 공공 단체 에 공무원 의 직무 상 불법행위 로 인한 배상 은 청구 할 수 없다 .',\n",
       " '타인 의 범죄 행위 로 인하여 생명 · 신체 에 대한 피해 를 받은 국민 은 법률 이 정 하는 바 에 의하여 국가 로부터 구조 를 받을 수 있다 .',\n",
       " '모든 국민 은 능력 에 따라 균등하게 교육 을 받을 권리 를 가진다 .',\n",
       " '모든 국민 은 그 보호 하는 자녀 에게 적어도 초등교육 과 법률 이 정 하는 교육 을 받게 할 의무 를 진다 .',\n",
       " '의무교육 은 무상 으로 한다 .',\n",
       " '교육 의 자주성 · 전문성 · 정치 적 중립성 및 대학 의 자율성 은 법률 이 정 하는 바 에 의하여 보장 된다 .',\n",
       " '국가 는 평생교육 을 진흥 하여야 한다 .',\n",
       " '학교 교육 및 평생교육 을 포함 한 교육제도 와 그 운영 , 교육재정 및 교원 의 지위 에 관 한 기본 적 인 사항 은 법률 로 정 한다 .',\n",
       " '모든 국민 은 근로 의 권리 를 가진다 .',\n",
       " '국가 는 사회 적 · 경제 적 방법 으로 근로자 의 고용 의 증진 과 적정 임금 의 보장 에 노력 하여야 하며 , 법률 이 정 하는 바 에 의하여 최저임금제 를 시행 하여야 한다 .',\n",
       " '모든 국민 은 근로 의 의무 를 진다 .',\n",
       " '국가 는 근로 의 의무 의 내용 과 조건 을 민주주의 원칙 에 따라 법률 로 정 한다 .',\n",
       " '근로 조건 의 기준 은 인간 의 존엄성 을 보장 하도록 법률 로 정 한다 .',\n",
       " '여자 의 근로 는 특별한 보호 를 받으며 , 고용 · 임금 및 근로 조건 에 있어서 부당한 차별 을 받지 아니 한다 .',\n",
       " '연소자 의 근로 는 특별한 보호 를 받는다 .',\n",
       " '국가 유공 자 · 상이 군경 및 전몰 군 경의 유가족 은 법률 이 정 하는 바 에 의하여 우선 적 으로 근로 의 기회 를 부여 받는다 .',\n",
       " '근로자 는 근로 조건 의 향상 을 위 하여 자주 적 인 단결권 · 단체교섭권 및 단체행동권 을 가진다 .',\n",
       " '공무원 인 근로자 는 법률 이 정 하는 자 에 한하여 단결권 · 단체교섭권 및 단체행동권 을 가진다 .',\n",
       " '법률 이 정 하는 주요 방위산업 체 에 종사 하는 근로자 의 단체행동권 은 법률 이 정 하는 바 에 의하여 이를 제한 하 거나 인정 하지 아니 할 수 있다 .',\n",
       " '모든 국민 은 인간 다운 생활 을 할 권리 를 가진다 .',\n",
       " '국가 는 사회보장 · 사회 복지 의 증진 에 노력 할 의무 를 진다 .',\n",
       " '국가 는 여자 의 복지 와 권익 의 향상 을 위 하여 노력 하여야 한다 .',\n",
       " '국가 는 노인 과 청소년 의 복지 향상 을 위 한 정책 을 실시 할 의무 를 진다 .',\n",
       " '신체 장애자 및 질병 · 노령 기타 의 사유 로 생활 능력 이 없는 국민 은 법률 이 정 하는 바 에 의하여 국가 의 보호 를 받는다 .',\n",
       " '국가 는 재해 를 예방 하고 그 위험 으로부터 국민 을 보호 하기 위 하여 노력 하여야 한다 .',\n",
       " '모든 국민 은 건강하고 쾌적한 환경 에서 생활 할 권리 를 가지 며 , 국가 와 국민 은 환경보전 을 위 하여 노력 하여야 한다 .',\n",
       " '환경권 의 내용 과 행사 에 관 하여는 법률 로 정 한다 .',\n",
       " '국가 는 주택 개발 정책 등 을 통 하여 모든 국민 이 쾌적한 주거 생활 을 할 수 있도록 노력 하여야 한다 .',\n",
       " '혼인 과 가족 생활 은 개인 의 존엄 과 양성 의 평등 을 기초 로 성립 되고 유지 되어야 하며 , 국가 는 이를 보장 한다 .',\n",
       " '국가 는 모성 의 보호 를 위 하여 노력 하여야 한다 .',\n",
       " '모든 국민 은 보건 에 관 하여 국가 의 보호 를 받는다 .',\n",
       " '국민 의 자유 와 권리 는 헌법 에 열거 되지 아니한 이유 로 경시 되지 아니 한다 .',\n",
       " '국민 의 모든 자유 와 권리 는 국가 안전보장 · 질서 유지 또는 공공 복리 를 위 하여 필요한 경우 에 한하여 법률 로써 제한 할 수 있으며 , 제한 하는 경우 에도 자유 와 권리 의 본질 적 인 내용 을 침해 할 수 없다 .',\n",
       " '모든 국민 은 법률 이 정 하는 바 에 의하여 납세 의 의무 를 진다 .',\n",
       " '모든 국민 은 법률 이 정 하는 바 에 의하여 국방 의 의무 를 진다 .',\n",
       " '누구 든지 병역의무 의 이행 으로 인하여 불이익 한 처우 를 받지 아니 한다 .',\n",
       " '장 국회 입법권 은 국회 에 속 한다 .',\n",
       " '국회 는 국민 의 보통 · 평등 · 직접 · 비밀선거 에 의하여 선출 된 국회의원 으로 구성 한 다 .',\n",
       " '국회의원 의 수 는 법률 로 정 하 되 , 인 이상 으로 한다 .',\n",
       " '국회의원 의 선거구 와 비례대표제 기타 선거 에 관 한 사항 은 법률 로 정 한다 .',\n",
       " '국회의원 의 임기 는 한다 .',\n",
       " '국회의원 은 법률 이 정 하는 직 을 겸 할 수 없다 .',\n",
       " '국회의원 은 현행범인 인 경우 를 제외 하고는 회 기 중 국회 의 동의 없이 체포 또는 구금 되지 아니 한다 .',\n",
       " '국회의원 이 회 기전 에 체포 또는 구금 된 때 에는 현행범인 이 아닌 한 국회 의 요구 가 있으면 회 기 중 석방 된다 .',\n",
       " '국회의원 은 국회 에서 직무 상 행 한 발언 과 표결 에 관 하여 국회 외 에서 책임 을 지지 아니 한다 .',\n",
       " '국회의원 은 청렴 의 의무 가 있다 .',\n",
       " '국회의원 은 국가 이익 을 우선하여 양심 에 따라 직무 를 행 한다 .',\n",
       " '국회의원 은 그 지위 를 남용 하여 국가 · 공공 단체 또는 기업체 와의 계약 이나 그 처분 에 의하여 재산 상의 권리 · 이익 또는 직위 를 취득 하 거나 타인 을 위 하여 그 취득 을 알선 할 수 없다 .',\n",
       " '국회 의 정기회 는 법률 이 정 하는 바 에 의하여 매년 집회 되며 , 국회 의 임시회 는 대통령 또는 국회 재적 의원 이상 의 요구 에 의하여 집회 된다 .',\n",
       " '정기회 의 회 기는 , 임시회 의 회 기는 초과 할 수 없다 .',\n",
       " '대통령 이 임시회 의 집회 를 요구 할 때 에는 기간 과 집회 요구 의 이유 를 명시 하여야 한다 .',\n",
       " '국회 는 의장 인과 부의 장 인 을 선출 한다 .',\n",
       " '국회 는 헌법 또는 법률 에 특별한 규정 이 없는 한 재적 의원 과반수 의 출석 과 출석 의원 과반수 의 찬성 으로 의결 한다 .',\n",
       " '가부 동 수인 때 에는 부결 된 것 으로 본다 .',\n",
       " '국회 의 회의 는 공개 한 다 .',\n",
       " '다만 , 출석 의원 과반수 의 찬성 이 있거나 의장 이 국가 의 안전보장 을 위 하여 필요하다고 인정 할 때 에는 공개 하지 아니 할 수 있다 .',\n",
       " '공개 하지 아니한 회의 내용 의 공표 에 관 하여는 법률 이 정 하는 바 에 의한다 .',\n",
       " '국회 에 제출 된 법률 안 기타 의 의안 은 회 기 중 에 의결 되지 못 한 이유 로 폐기 되지 아니 한다 .',\n",
       " '다만 , 국회의원 의 임기 가 만료 된 때 에는 그러하지 아니하다 .',\n",
       " '국회의원 과 정부 는 법률 안 을 제출 할 수 있다 .',\n",
       " '국회 에서 의결 된 법률 안은 정부 에 이송 되어 이내 에 대통령 이 공포 한 다 .',\n",
       " '법률 안 에 이의 가 있을 때 에는 대통령 은 항의 기간 내 에 이의 서 를 붙여 국회 로 환부 하고 , 그 재의 를 요구 할 수 있다 .',\n",
       " '국회 의 폐회 중 에도 또한 같다 .',\n",
       " '대통령 은 법률 안 의 일부 에 대하 여 또는 법률 안 을 수정 하여 재의 를 요구 할 수 없다 .',\n",
       " '재의 의 요구 가 있을 때 에는 국회 는 재의 에 붙이 고 , 재적 의원 과반수 의 출석 과 출석 의원 이상 의 찬성 으로 전과 같은 의결 을 하면 그 법률 안은 법률 로서 확정 된다 .',\n",
       " '대통령 이 항의 기간 내 에 공포 나 재의 의 요구 를 하지 아니한 때 에도 그 법률 안은 법률 로서 확정 된다 .',\n",
       " '대통령 은 항 과 항의 규정 에 의하여 확정 된 법률 을 지체 없이 공포 하여야 한다 .',\n",
       " '항 에 의하여 법률 이 확정 된 후 또는 항 에 의한 확정 법률 이 정부 에 이송 된 후 이내 에 대통령 이 공포 하지 아니 할 때 에는 국회의장 이 이를 공포 한 다 .',\n",
       " '법률 은 특별한 규정 이 없는 한 공포 한 날로 부터 경과 함 으로써 효력 을 발생 한다 .',\n",
       " '국회 는 국가 의 예산안 을 심의 · 확정 한다 .',\n",
       " '정부 는 회계 연도 마다 예산안 을 편성 하여 회계 연도 개시 국회 에 제출 하고 , 국회 는 회계 연도 개시 이를 의결 하여야 한다 .',\n",
       " '새로운 회계 연도 가 개시 될 때 까지 예산안 이 의결 되지 못 한 때 에는 정부 는 국회 에서 예산안 이 의결 될 때 까지 다음 의 목적 을 위 한 경비 는 전 년도 예산 에 준 하여 집행 할 수 있다 .',\n",
       " '.',\n",
       " '헌법 이나 법률 에 의하여 설치 된 기관 또는 시설 의 유지 · 운영 .',\n",
       " '법률상 지출 의무 의 이행 .',\n",
       " '이미 예산 으로 승인 된 사업 의 계속 한 회계 연도 를 넘어 계속 하여 지출 할 필요 가 있을 때 에는 정부 는 연한 을 정 하여 계속 비 로서 국회 의 의결 을 얻어야 한다 .',\n",
       " '예 비비 는 총 액 으로 국회 의 의결 을 얻어야 한다 .',\n",
       " '예 비비 의 지출 은 차기 국회 의 승인 을 얻어야 한다 .',\n",
       " '정부 는 예산 에 변경 을 가할 필요 가 있을 때 에는 추가경정예산 안 을 편성 하여 국회 에 제출 할 수 있다 .',\n",
       " '국회 는 정부 의 동의 없이 정부 가 제출 한 지출 예산 각항 의 금액 을 증가 하 거나 새 비목 을 설치 할 수 없다 .',\n",
       " '국채 를 모집 하 거나 예산 외 에 국가 의 부담 이 될 계약 을 체결 하려 할 때 에는 정부 는 미리 국회 의 의결 을 얻어야 한다 .',\n",
       " '조세 의 종목 과 세율 은 법률 로 정 한다 .',\n",
       " '국회 는 상호 원조 또는 안전보장 에 관 한 조약 , 중요한 국제 조직 에 관 한 조약 , 우호 통상 항해 조약 , 주권 의 제약 에 관 한 조약 , 강화조약 , 국가 나 국민 에게 중대한 재정 적 부담 을 지우는 조약 또는 입법 사항 에 관 한 조약 의 체결 · 비준 에 대한 동의 권 을 가진다 .',\n",
       " '국회 는 선전포고 , 국군 의 외국 에의 파견 또는 외국 군대 의 대한민국 영역 안 에서의 주류 에 대한 동의 권 을 가진다 .',\n",
       " '국회 는 국정 을 감사 하 거나 특정한 국정 사안 에 대하 여 조사 할 수 있으며 , 이 에 필요한 서류 의 제출 또는 증인 의 출석 과 증언 이나 의견 의 진술 을 요구 할 수 있다 .',\n",
       " '국정감사 및 조사 에 관 한 절차 기타 필요한 사항 은 법률 로 정 한다 .',\n",
       " '국무총리 · 국무위원 또는 정부위원 은 국회 나 그 위원회 에 출석 하여 국정 처리 상황 을 보고하거나 의견 을 진술 하고 질문 에 응답 할 수 있다 .',\n",
       " '국회 나 그 위원회 의 요구 가 있을 때 에는 국무총리 · 국무위원 또는 정부위원 은 출석 · 답변 하여야 하며 , 국무총리 또는 국무위원 이 출석 요구 를 받은 때 에는 국무위원 또는 정부위원 으로 하여금 출석 · 답변 하게 할 수 있다 .',\n",
       " '국회 는 국무총리 또는 국무위원 의 해임 을 대통령 에게 건의 할 수 있다 .',\n",
       " '항의 해임 건의 는 국회 재적 의원 이상 의 발의 에 의하여 국회 재적 의원 과반수 의 찬성 이 있어야 한다 .',\n",
       " '국회 는 법률 에 저촉 되지 아니하는 범위 안 에서 의사 와 내부 규율 에 관 한 규칙 을 제정 할 수 있다 .',\n",
       " '국회 는 의원 의 자격 을 심사 하며 , 의원 을 징계 할 수 있다 .',\n",
       " '의원 을 제명 하려면 국회 재적 의원 이상 의 찬성 이 있어야 한다 .',\n",
       " '항 과 항의 처분 에 대하 여 는 법원 에 제소 할 수 없다 .',\n",
       " '대통령 · 국무총리 · 국무위원 · 행정각부 의 장 · 헌법재판소 재판관 · 법관 · 중앙 선거 관리 위원회 위원 · 감사원장 · 감사 위원 기타 법률 이 정 한 공무원 이 그 직무 집행 에 있어서 헌법 이나 법률 을 위 배한 때 에는 국회 는 탄핵 의 소 추 를 의결 할 수 있다 .',\n",
       " '항의 탄핵 소 추 는 국회 재적 의원 이상 의 발의 가 있어야 하며 , 그 의결 은 국회 재적 의원 과반수 의 찬성 이 있어야 한다 .',\n",
       " '다만 , 대통령 에 대한 탄핵 소 추 는 국회 재적 의원 과반수 의 발의 와 국회 재적 의원 이상 의 찬성 이 있어야 한다 .',\n",
       " '탄핵 소 추 의 의결 을 받은 자는 탄핵 심판 이 있을 때 까지 그 권한 행사 가 정지 된다 .',\n",
       " '탄핵 결정 은 공직 으로부터 파면 함 에 그친다 .',\n",
       " '그러나 , 이 에 의하여 민사 상 이나 형사 상의 책임 이 면제 되지는 아니 한다 .',\n",
       " '장 정부 절 대통령 대통령 은 국가 의 원수 이며 , 외국 에 대하 여 국가 를 대표 한다 .',\n",
       " '대통령 은 국가 의 독립 · 영토 의 보전 · 국가 의 계속 성과 헌법 을 수호 할 책무 를 진다 .',\n",
       " '대통령 은 조국 의 평화 적 통일 을 위 한 성실한 의무 를 진다 .',\n",
       " '행정권 은 대통령 을 수반 으로 하는 정부 에 속 한다 .',\n",
       " '대통령 은 국민 의 보통 · 평등 · 직접 · 비밀선거 에 의하여 선출 한다 .',\n",
       " '항의 선거 에 있어서 최고 득표 자 가 인 이상인 때 에는 국회 의 재적 의원 과반수 가 출석 한 공개 회의 에서 다수 표 를 얻은 자를 당선자 로 한다 .',\n",
       " '대통령 후보자 가 인일 때 에는 그 득표 수가 선거권 자 총수 의 이상 이 아니면 대통령 으로 당선 될 수 없다 .',\n",
       " '대통령 으로 선거 될 수 있는 자는 국회의원 의 피선거권 이 있고 선거일 현재 세 에 달 하여야 한다 .',\n",
       " '대통령 의 선거 에 관 한 사항 은 법률 로 정 한다 .',\n",
       " '대통령 의 임기 가 만료 되는 때 에는 임기 만료 내지 후임 자 를 선거 한다 .',\n",
       " '대통령 이 궐위 된 때 또는 대통령 당선자 가 사망 하 거나 판결 기타 의 사유 로 그 자격 을 상실한 때 에는 이내 에 후임 자 를 선거 한다 .',\n",
       " '대통령 은 취임 에 즈음 하여 다음 의 선서 를 한다 .',\n",
       " '\" 나 는 헌법 을 준수 하고 국가 를 보위 하며 조국 의 평화 적 통일 과 국민 의 자유 와 복리 의 증진 및 민족 문화 의 창달 에 노력 하여 대통령 으로서의 직책 을 성실히 수행 할 것 을 국민 앞 에 엄숙히 선서 합니다 .\"',\n",
       " '대통령 의 임기 는 하며 , 중임 할 수 없다 .',\n",
       " '대통령 이 궐위 되거나 사고 로 인하여 직무 를 수행 할 수 없을 때 에는 국무총리 , 법률 이 정 한 국무위원 의 순서 로 그 권한 을 대행 한다 .',\n",
       " '대통령 은 필요하다고 인정 할 때 에는 외교 · 국방 · 통일 기타 국가 안위 에 관 한 중요 정책 을 국민투표 에 붙일 수 있다 .',\n",
       " '대통령 은 조약 을 체결 · 비준 하고 , 외교사절 을 신임 · 접수 또는 파견 하며 , 선전포고 와 강화 를 한다 .',\n",
       " '대통령 은 헌법 과 법률 이 정 하는 바 에 의하여 국군 을 통수 한다 .',\n",
       " '국군 의 조직 과 편성 은 법률 로 정 한다 .',\n",
       " '대통령 은 법률 에서 구체 적 으로 범위 를 정 하여 위임 받은 사항 과 법률 을 집행 하기 위 하여 필요한 사항 에 관 하여 대통령령 을 발 할 수 있다 .',\n",
       " '대통령 은 내우 · 외환 · 천재 · 지 변 또는 중대한 재정 · 경제 상의 위기 에 있어서 국가 의 안전보장 또는 공공 의 안녕 질서 를 유지 하기 위 하여 긴급한 조치 가 필요하고 국회 의 집회 를 기다릴 여유 가 없을 때 에 한하여 최소한 으로 필요한 재정 · 경제 상의 처분 을 하 거나 이 에 관 하여 법률 의 효력 을 가지는 명령 을 발 할 수 있다 .',\n",
       " '대통령 은 국가 의 안위 에 관계 되는 중대한 교전 상태 에 있어서 국가 를 보위 하기 위 하여 긴급한 조치 가 필요하고 국회 의 집회 가 불가능한 때 에 한하여 법률 의 효력 을 가지는 명령 을 발 할 수 있다 .',\n",
       " '대통령 은 항 과 항의 처분 또는 명령 을 한 때 에는 지체 없이 국회 에 보고 하여 그 승인 을 얻어야 한다 .',\n",
       " '항의 승인 을 얻지 못 한 때 에는 그 처분 또는 명령 은 그때 부터 효력 을 상실한다 .',\n",
       " '이 경우 그 명령 에 의하여 개정 또는 폐지 되었던 법률 은 그 명령 이 승인 을 얻지 못 한 때 부터 당연히 효력 을 회복한다 .',\n",
       " '대통령 은 항 과 항의 사유 를 지체 없이 공포 하여야 한다 .',\n",
       " '대통령 은 전시 · 사변 또는 이 에 준 하는 국가 비상 사태 에 있어서 병력 으로써 군사 상의 필요 에 응 하 거나 공공 의 안녕 질서 를 유지 할 필요 가 있을 때 에는 법률 이 정 하는 바 에 의하여 계엄 을 선포 할 수 있다 .',\n",
       " '계엄 은 비상계엄 과 경비계엄 으로 한다 .',\n",
       " '비상계엄 이 선포 된 때 에는 법률 이 정 하는 바 에 의하여 영장 제도 , 언론 · 출판 · 집회 · 결사 의 자유 , 정부 나 법원 의 권한 에 관 하여 특별한 조치 를 할 수 있다 .',\n",
       " '계엄 을 선포 한 때 에는 대통령 은 지체 없이 국회 에 통고 하여야 한다 .',\n",
       " '국회 가 재적 의원 과반수 의 찬성 으로 계엄 의 해제 를 요구 한 때 에는 대통령 은 이를 해제 하여야 한다 .',\n",
       " '대통령 은 헌법 과 법률 이 정 하는 바 에 의하여 공무원 을 임면한 다 .',\n",
       " '대통령 은 법률 이 정 하는 바 에 의하여 사면 · 감형 또는 복권 을 명 할 수 있다 .',\n",
       " '일 반 사면 을 명 하려면 국회 의 동의 를 얻어야 한다 .',\n",
       " '사면 · 감형 및 복권 에 관 한 사항 은 법률 로 정 한다 .',\n",
       " '대통령 은 법률 이 정 하는 바 에 의하여 훈장 기타 의 영전 을 수여 한 다 .',\n",
       " '대통령 은 국회 에 출석 하여 발언 하 거나 서한 으로 의견 을 표시 할 수 있다 .',\n",
       " '대통령 의 국법 상 행위 는 문서 로써 하며 , 이 문서 에는 국무총리 와 관계 국무위원 이 부서 한다 .',\n",
       " '군사 에 관 한 것 도 또한 같다 .',\n",
       " '대통령 은 국무총리 · 국무위원 · 행정각부 의 장 기타 법률 이 정 하는 공사 의 직 을 겸 할 수 없다 .',\n",
       " '대통령 은 내란 또는 외환 의 죄 를 범한 경우 를 제외 하고는 재직 중 형사 상의 소 추 를 받지 아니 한다 .',\n",
       " '전직 대통령 의 신분 과 예우 에 관 하여는 법률 로 정 한다 .',\n",
       " '절 행정부 관 국무총리 와 국무위원 국무총리 는 국회 의 동의 를 얻어 대통령 이 임명 한다 .',\n",
       " '국무총리 는 대통령 을 보좌 하며 , 행정 에 관 하여 대통령 의 명 을 받아 행정각부 를 통 할 한다 .',\n",
       " '군인 은 현역 을 면 한 후 가 아니면 국무총리 로 임명 될 수 없다 .',\n",
       " '국무위원 은 국무총리 의 제청 으로 대통령 이 임명 한다 .',\n",
       " '국무위원 은 국정 에 관 하여 대통령 을 보좌 하며 , 국무회의 의 구성원 으로서 국정 을 심의 한다 .',\n",
       " '국무총리 는 국무위원 의 해임 을 대통령 에게 건의 할 수 있다 .',\n",
       " '군인 은 현역 을 면 한 후 가 아니면 국무위원 으로 임명 될 수 없다 .',\n",
       " '관 국무회의 국무회의 는 정부 의 권한 에 속 하는 중요한 정책 을 심의 한다 .',\n",
       " '국무회의 는 대통령 · 국무총리 와 인 이상 인 이하 의 국무위원 으로 구성 한 다 .',\n",
       " '대통령 은 국무회의 의 의장 이 되고 , 국무총리 는 부의 장이 된다 .',\n",
       " '다음 사항 은 국무회의 의 심의 를 거쳐야 한다 .',\n",
       " '.',\n",
       " '국정 의 기 본 계획 과 정부 의 일반 정책 .',\n",
       " '선전 · 강화 기타 중요한 대외 정책 .',\n",
       " '헌법 개정안 · 국민투표 안 · 조약 안 · 법률 안 및 대통령령 안 .',\n",
       " '예산안 · 결산 · 국유재산 처분 의 기본 계획 · 국가 의 부담 이 될 계약 기타 재정 에 관 한 중요 사항 .',\n",
       " '대통령 의 긴급 명령 · 긴급 재정 경제 처분 및 명령 또는 계엄 과 그 해제 .',\n",
       " '군사 에 관 한 중요 사항 .',\n",
       " '국회 의 임시회 집회 의 요구 .',\n",
       " '영전 수여 .',\n",
       " '사면 · 감형 과 복권 .',\n",
       " '행정각부 간 의 권한 의 획정 .',\n",
       " '정부 안 의 권한 의 위임 또는 배정 에 관 한 기본 계획 .',\n",
       " '국정 처리 상황 의 평가 · 분석 .',\n",
       " '행정각부 의 중요한 정책 의 수립 과 조정 .',\n",
       " '정당 해산 의 제소 .',\n",
       " '정부 에 제출 또는 회부 된 정부 의 정책 에 관계 되는 청원 의 심사 .',\n",
       " '검찰총장 · 합동 참모 의장 · 각 군 참모총장 · 국립 대학교 총장 · 대사 기타 법률 이 정 한 공무원 과 국영 기업체 관리자 의 임명 .',\n",
       " '기타 대통령 · 국무총리 또는 국무위원 이 제출 한 사항 국정 의 중요한 사항 에 관 한 대통령 의 자문 에 응 하기 위 하여 국가 원로 로 구성 되는 국가 원 로 자문 회의 를 둘 수 있다 .',\n",
       " '국가 원 로 자문 회의 의 의장 은 직전 대통령 이 된다 .',\n",
       " '다만 , 직전 대통령 이 없을 때 에는 대통령 이 지명 한다 .',\n",
       " '국가 원 로 자문 회의 의 조직 · 직무 범위 기타 필요한 사항 은 법률 로 정 한다 .',\n",
       " '국가 안전보장 에 관련 되는 대외 정책 · 군사 정책 과 국내 정책 의 수립 에 관 하여 국무회의 의 심의 에 앞서 대통령 의 자문 에 응 하기 위 하여 국가 안전보장 회의 를 둔다 .',\n",
       " '국가 안전보장 회의 는 대통령 이 주재 한 다 .',\n",
       " '국가 안전보장 회의 의 조직 · 직무 범위 기타 필요한 사항 은 법률 로 정 한다 .',\n",
       " '평화통일 정책 의 수립 에 관 한 대통령 의 자문 에 응 하기 위 하여 민주 평화통일 자 문 회의 를 둘 수 있다 .',\n",
       " '민주 평화통일 자 문 회의 의 조직 · 직무 범위 기타 필요한 사항 은 법률 로 정 한다 .',\n",
       " '국민 경제 의 발전 을 위 한 중요 정책 의 수립 에 관 하여 대통령 의 자문 에 응 하기 위 하여 국민 경제 자 문 회의 를 둘 수 있다 .',\n",
       " '국민 경제 자 문 회의 의 조직 · 직무 범위 기타 필요한 사항 은 법률 로 정 한다 .',\n",
       " '관 행정각부 행정각부 의 장 은 국무위원 중 에서 국무총리 의 제청 으로 대통령 이 임명 한다 .',\n",
       " '국무총리 또는 행정각부 의 장 은 소관 사무 에 관 하여 법률 이나 대통령령 의 위임 또는 직권 으로 총리 령 또는 부령 을 발 할 수 있다 .',\n",
       " '행정각부 의 설치 · 조직 과 직무 범위 는 법률 로 정 한다 .',\n",
       " '관 감사원 국가 의 세입 · 세 출의 결산 , 국가 및 법률 이 정 한 단체 의 회계 검사 와 행정기관 및 공무원 의 직무 에 관 한 감찰 을 하기 위 하여 대통령 소속 하 에 감사원 을 둔다 .',\n",
       " '감사원 은 원장 을 포함 한 인 이상 인 이하 의 감사 위원 으로 구성 한 다 .',\n",
       " '원장 은 국회 의 동의 를 얻어 대통령 이 임명 하고 , 그 임기 는 하며 , 차 에 한하여 중임 할 수 있다 .',\n",
       " '감사 위원 은 원장 의 제청 으로 대통령 이 임명 하고 , 그 임기 는 하며 , 차 에 한하여 중임 할 수 있다 .',\n",
       " '감사원 은 세입 · 세 출의 결산 을 매년 검사 하여 대통령 과 차 년도 국회 에 그 결과 를 보고 하여야 한다 .',\n",
       " '감사원 의 조직 · 직무 범위 · 감사 위원 의 자격 · 감사 대상 공무원 의 범위 기타 필요한 사항 은 법률 로 정 한다 .',\n",
       " '장 법원 사법권 은 법관 으로 구성 된 법원 에 속 한다 .',\n",
       " '법원 은 최고법원 인 대법원 과 각 급 법원 으로 조직 된다 .',\n",
       " '법관 의 자격 은 법률 로 정 한다 .',\n",
       " '대법원 에 부를 둘 수 있다 .',\n",
       " '대법원 에 대법관 을 둔다 .',\n",
       " '다만 , 법률 이 정 하는 바 에 의하여 대법관 이 아닌 법관 을 둘 수 있다 .',\n",
       " '대법원 과 각 급 법원 의 조직 은 법률 로 정 한다 .',\n",
       " '법관 은 헌법 과 법률 에 의하여 그 양심 에 따라 독립 하여 심판 한다 .',\n",
       " '대법원 장 은 국회 의 동의 를 얻어 대통령 이 임명 한다 .',\n",
       " '대법관 은 대법원 장 의 제청 으로 국회 의 동의 를 얻어 대통령 이 임명 한다 .',\n",
       " '대법원 장 과 대법관 이 아닌 법관 은 대법관 회의 의 동의 를 얻어 대법원 장이 임명 한다 .',\n",
       " '대법원 장 의 임기 는 하며 , 중임 할 수 없다 .',\n",
       " '대법관 의 임기 는 하며 , 법률 이 정 하는 바 에 의하여 연 임 할 수 있다 .',\n",
       " '대법원 장 과 대법관 이 아닌 법관 의 임기 는 하며 , 법률 이 정 하는 바 에 의하여 연 임 할 수 있다 .',\n",
       " '법관 의 정년 은 법률 로 정 한다 .',\n",
       " '법관 은 탄핵 또는 금고 이상 의 형 의 선고 에 의하지 아니하고는 파면 되지 아니하며 , 징계처분 에 의하지 아니하고는 정직 · 감봉 기타 불리한 처분 을 받지 아니 한다 .',\n",
       " '법관 이 중대한 심신 상의 장해 로 직무 를 수행 할 수 없을 때 에는 법률 이 정 하는 바 에 의하여 퇴직 하게 할 수 있다 .',\n",
       " '법률 이 헌법 에 위반 되는 여부 가 재판 의 전제 가 된 경우 에는 법원 은 헌법재판소 에 제청 하여 그 심판 에 의하여 재판 한다 .',\n",
       " '명령 · 규칙 또는 처분 이 헌법 이나 법률 에 위반 되는 여부 가 재판 의 전제 가 된 경우 에는 대법원 은 이를 최종 적 으로 심사 할 권한 을 가진다 .',\n",
       " '재판 의 전심 절차 로서 행정심판 을 할 수 있다 .',\n",
       " '행정심판 의 절차 는 법률 로 정 하 되 , 사법 절차 가 준용 되어야 한다 .',\n",
       " '대법원 은 법률 에 저촉 되지 아니하는 범위 안 에서 소송 에 관 한 절차 , 법원 의 내부 규율 과 사무 처리 에 관 한 규칙 을 제정 할 수 있다 .',\n",
       " '재판 의 심리 와 판결 은 공개 한 다 .',\n",
       " '다만 , 심리 는 국가 의 안전보장 또는 안녕 질서 를 방 해하거나 선량한 풍속 을 해 할 염려 가 있을 때 에는 법원 의 결정 으로 공개 하지 아니 할 수 있다 .',\n",
       " '군사재판 을 관할 하기 위 하여 특별법 원 으로서 군사법원 을 둘 수 있다 .',\n",
       " '군사법원 의 상고 심은 대법원 에서 관할 한다 .',\n",
       " '군사법원 의 조직 · 권한 및 재판관 의 자격 은 법률 로 정 한다 .',\n",
       " '비상계엄 하의 군사재판 은 군인 · 군무원 의 범죄 나 군사 에 관 한 간첩죄 의 경우 와 초병 · 초소 · 유독 음식물 공급 · 포로 에 관 한 죄 중 법률 이 정 한 경우 에 한하여 단심 으로 할 수 있다 .',\n",
       " '다만 , 사형 을 선고 한 경우 에는 그러하지 아니하다 .',\n",
       " '장 헌법재판소 헌법재판소 는 다음 사항 을 관장 한다 .',\n",
       " '.',\n",
       " '법원 의 제청 에 의한 법률 의 위 헌 여부 심판 .',\n",
       " '탄핵 의 심판 .',\n",
       " '정당 의 해산 심판 .',\n",
       " '국가 기관 상호 간 , 국가 기관 과 지방자치단체 간 및 지방자치단체 상호 간 의 권한 쟁의 에 관 한 심판 .',\n",
       " '법률 이 정 하는 헌법소원 에 관 한 심판 헌법재판소 는 법관 의 자격 을 가진 인의 재판관 으로 구성 하며 , 재판관 은 대통령 이 임명 한다 .',\n",
       " '항의 재판관 중 인 은 국회 에서 선출 하는 자를 , 인 은 대법원 장이 지명 하는 자를 임명 한다 .',\n",
       " '헌법재판소 의 장 은 국회 의 동의 를 얻어 재판관 중 에서 대통령 이 임명 한다 .',\n",
       " '헌법재판소 재판관 의 임기 는 하며 , 법률 이 정 하는 바 에 의하여 연 임 할 수 있다 .',\n",
       " '헌법재판소 재판관 은 정당 에 가입 하 거나 정치 에 관여 할 수 없다 .',\n",
       " '헌법재판소 재판관 은 탄핵 또는 금고 이상 의 형 의 선고 에 의하지 아니하고는 파면 되지 아니 한다 .',\n",
       " '헌법재판소 에서 법률 의 위 헌 결정 , 탄핵 의 결정 , 정당 해산 의 결정 또는 헌법소원 에 관 한 인용 결정 을 할 때 에는 재판관 인 이상 의 찬성 이 있어야 한다 .',\n",
       " '헌법재판소 는 법률 에 저촉 되지 아니하는 범위 안 에서 심판 에 관 한 절차 , 내부 규율 과 사무 처리 에 관 한 규칙 을 제정 할 수 있다 .',\n",
       " '헌법재판소 의 조직 과 운영 기타 필요한 사항 은 법률 로 정 한다 .',\n",
       " '장 선거 관리 선거 와 국민투표 의 공정한 관리 및 정당 에 관 한 사무 를 처리 하기 위 하여 선거 관리 위원회 를 둔다 .',\n",
       " '중앙 선거 관리 위원회 는 대통령 이 임명 하는 인 , 국회 에서 선출 하는 인과 대법원 장이 지명 하는 인의 위원 으로 구성 한 다 .',\n",
       " '위원장 은 위원 중 에서 호선 한다 .',\n",
       " '위원 의 임기 는 한다 .',\n",
       " '위원 은 정당 에 가입 하 거나 정치 에 관여 할 수 없다 .',\n",
       " '위원 은 탄핵 또는 금고 이상 의 형 의 선고 에 의하지 아니하고는 파면 되지 아니 한다 .',\n",
       " '중앙 선거 관리 위원회 는 법령 의 범위 안 에서 선거 관리 · 국민투표 관리 또는 정당 사무 에 관 한 규칙 을 제정 할 수 있으며 , 법률 에 저촉 되지 아니하는 범위 안 에서 내부 규율 에 관 한 규칙 을 제정 할 수 있다 .',\n",
       " '각 급 선거 관리 위원회 의 조직 · 직무 범위 기타 필요한 사항 은 법률 로 정 한다 .',\n",
       " '각 급 선거 관리 위원회 는 선거인명부 의 작성 등 선거 사무 와 국민투표 사무 에 관 하여 관계 행정기관 에 필요한 지시 를 할 수 있다 .',\n",
       " '항의 지시 를 받은 당해 행정기관 은 이 에 응 하여야 한다 .',\n",
       " '선거운동 은 각 급 선거 관리 위원회 의 관리 하 에 법률 이 정 하는 범위 안 에서 하 되 , 균등한 기회 가 보장 되어야 한다 .',\n",
       " '선거 에 관 한 경비 는 법률 이 정 하는 경우 를 제외 하고는 정당 또는 후보자 에게 부담 시킬 수 없다 .',\n",
       " '장 지방자치 지방자치단체 는 주민 의 복리 에 관 한 사무 를 처리 하고 재산 을 관리 하며 , 법령 의 범위 안 에서 자치 에 관 한 규정 을 제정 할 수 있다 .',\n",
       " '지방자치단체 의 종류 는 법률 로 정 한다 .',\n",
       " '지방자치단체 에 의회 를 둔다 .',\n",
       " '지방의회 의 조직 · 권한 · 의원 선거 와 지방자치단체 의 장의 선임 방법 기타 지방자치단체 의 조직 과 운영 에 관 한 사항 은 법률 로 정 한다 .',\n",
       " '장 경제 대한민국 의 경 질서 는 개인 과 기업 의 경제 상의 자유 와 창의 를 존중 함 을 기본 으로 한다 .',\n",
       " '국가 는 균형 있는 국민 경제 의 성장 및 안정 과 적정한 소득 의 분배 를 유지 하고 , 시장 의 지배 와 경제력 의 남용 을 방지 하며 , 경 주체 간 의 조화 를 통한 경제 의 민주화 를 위 하여 경제 에 관 한 규제 와 조정 을 할 수 있다 .',\n",
       " '광물 기타 중요한 지하자원 · 수산 자원 · 수력 과 경제 상 이용 할 수 있는 자연력 은 법률 이 정 하는 바 에 의하여 일정한 기간 그 채취 · 개발 또는 이용 을 특허 할 수 있다 .',\n",
       " '국토 와 자원 은 국가 의 보호 를 받으며 , 국가 는 그 균형 있는 개발 과 이용 을 위 하여 필요한 계획 을 수립 한다 .',\n",
       " '국가 는 농지 에 관 하여 경 자유 전의 원칙 이 달성 될 수 있도록 노력 하여야 하며 , 농지 의 소 작 제도 는 금지 된다 .',\n",
       " '농업 생산 성의 고 와 농지 의 합리 적 인 이용 을 위 하 거나 불가피한 사정 으로 발생 하는 농지 의 임대차 와 위탁 경영 은 법률 이 정 하는 바 에 의하여 인정 된다 .',\n",
       " '국가 는 국민 모두 의 생산 및 생활 의 기반 이 되는 국토 의 효율 적 이고 균형 있는 이용 · 개발 과 보전 을 위 하여 법률 이 정 하는 바 에 의하여 그 에 관 한 필요한 제한 과 의무 를 과 할 수 있다 .',\n",
       " '국가 는 농업 및 어업 을 보호 · 육성 하기 위 하여 농 · 어촌 종합 개발 과 그 지원 등 필요한 계획 을 수립 · 시행 하여야 한다 .',\n",
       " '국가 는 지역 간 의 균형 있는 발전 을 위 하여 지역 경제 를 육성 할 의무 를 진다 .',\n",
       " '국가 는 중소기업 을 보호 · 육성 하여야 한다 .',\n",
       " '국가 는 농수산 물의 수급 균형 과 유통 구조 의 개선 에 노력 하여 가격 안정 을 도 모함 으로써 농 · 어민 의 이익 을 보호 한다 .',\n",
       " '국가 는 농 · 어민 과 중소기업 의 자 조직 을 육성 하여야 하며 , 그 자율 적 활동 과 발전 을 보장 한다 .',\n",
       " '국가 는 건전한 소비 행위 를 계 도하 고 생산품 의 품질 향상 을 촉구 하기 위 한 소비자보호 운동 을 법률 이 정 하는 바 에 의하여 보장 한다 .',\n",
       " '국가 는 대외 무역 을 육성 하며 , 이를 규제 · 조정 할 수 있다 .',\n",
       " '국방 상 또는 국민 경제 상 긴 절 한 필요 로 인하여 법률 이 정 하는 경우 를 제외 하고는 , 사 영 기업 을 국유 또는 공유 로 이 전하 거나 그 경영 을 통제 또는 관리 할 수 없다 .',\n",
       " '국가 는 과학기술 의 혁신 과 정보 및 인력 의 개발 을 통 하여 국민 경제 의 발전 에 노력 하여야 한다 .',\n",
       " '국가 는 국가 표준 제도 를 확립 한다 .',\n",
       " '대통령 은 항의 목적 을 달성 하기 위 하여 필요한 자문 기구 를 둘 수 있다 .',\n",
       " '장 헌법 개정 헌법 개 정은 국회 재적 의원 과반수 또는 대통령 의 발의 로 제안 된다 .',\n",
       " '대통령 의 임기 연장 또는 중임 변경 을 위 한 헌법 개 정은 그 헌법 개정 제안 당시 의 대통령 에 대하 여 는 효력 이 없다 .',\n",
       " '제안 된 헌법 개정안 은 대통령 이 이상 의 기간 이를 공고 하여야 한다 .',\n",
       " '국회 는 헌법 개정안 이 공고 된 날로 부터 이내 에 의결 하여야 하며 , 국회 의 의결 은 재적 의원 이상 의 찬성 을 얻어야 한다 .',\n",
       " '헌법 개정안 은 국회 가 의결 한 후 이내 에 국민투표 에 붙여 국회의원 선거권 자 과반수 의 투표 와 투표 자 과반수 의 찬성 을 얻어야 한다 .',\n",
       " '헌법 개정안 이 항의 찬성 을 얻은 때 에는 헌법 개 정은 확정 되며 , 대통령 은 즉시 이를 공포 하여야 한다 .',\n",
       " '펼침 부칙 < 헌법 호 , . .> 부칙 보기 이 헌법 은 시행 한다 .',\n",
       " '다만 , 이 헌법 을 시행 하기 위 하여 필요한 법률 의 제정 · 개정 과 이 헌법 에 의한 대통령 및 국회의원 의 선거 기타 이 헌법 시행 에 관 한 준비 는 이 헌법 시행 전 에 할 수 있다 .',\n",
       " '이 헌법 에 의한 최초 의 대통령선거 는 이 헌법 시행일 전 까지 실시 한다 .',\n",
       " '이 헌법 에 의한 최초 의 대통령 의 임기 는 이 헌법 시행일 로부터 개시 한 다 .',\n",
       " '이 헌법 에 의한 최초 의 국회의원선거 는 이 헌법 공포일 로부터 이내 에 실시 하며 , 이 헌법 에 의하여 선출 된 최초 의 국회의원 의 임기 는 국회의원선거 후 이 헌법 에 의한 국회 의 최초 의 집회 일로 부터 개시 한 다 .',\n",
       " '이 헌법 공포 당시 의 국회의원 의 임기 는 항 에 의한 국회 의 최초 의 집회 일 전일 까지로 한다 .',\n",
       " '이 헌법 시행 당시 의 공무원 과 정부 가 임명 한 기업체 의 임원 은 이 헌법 에 의하여 임명 된 것 으로 본다 .',\n",
       " '다만 , 이 헌법 에 의하여 선임 방법 이나 임명 권 자가 변경 된 공무원 과 대법원 장 및 감사원장 은 이 헌법 에 의하여 후임 자 가 선임 될 때 까지 그 직무 를 행 하며 , 이 경우 전 임자 인 공무원 의 임기 는 후임 자 가 선임 되는 전일 까지로 한다 .',\n",
       " '이 헌법 시행 당시 의 대법원 장 과 대법원판사 가 아닌 법관 은 항 단서 의 규정 에 불구 하고 이 헌법 에 의하여 임명 된 것 으로 본다 .',\n",
       " '이 헌법 중 공무원 의 임기 또는 중임 제한 에 관 한 규정 은 이 헌법 에 의하여 그 공무원 이 최초 로 선출 또는 임명 된 때 로부터 적용 한다 .',\n",
       " '이 헌법 시행 당시 의 법령 과 조약 은 이 헌법 에 위배 되지 아니하는 한 그 효력 을 지속 한 다 .',\n",
       " '이 헌법 시행 당시 에 이 헌법 에 의하여 새로 설치 될 기관 의 권한 에 속 하는 직무 를 행 하고 있는 기관 은 이 헌법 에 의하여 새로운 기관 이 설치 될 때 까지 존속 하며 그 직무 를 행 한다 .']"
      ]
     },
     "execution_count": 75,
     "metadata": {},
     "output_type": "execute_result"
    }
   ],
   "source": [
    "doc0"
   ]
  },
  {
   "cell_type": "code",
   "execution_count": 82,
   "metadata": {},
   "outputs": [],
   "source": [
    "tokenizer = Tokenizer()\n",
    "tokenizer.fit_on_texts(doc0)\n",
    "doc = [tok for tok in tokenizer.texts_to_sequences(doc0) if len(tok) > 1]"
   ]
  },
  {
   "cell_type": "code",
   "execution_count": 86,
   "metadata": {},
   "outputs": [
    {
     "data": {
      "text/plain": [
       "[102,\n",
       " 28,\n",
       " 602,\n",
       " 11,\n",
       " 603,\n",
       " 33,\n",
       " 604,\n",
       " 2,\n",
       " 605,\n",
       " 323,\n",
       " 606,\n",
       " 11,\n",
       " 22,\n",
       " 4,\n",
       " 7,\n",
       " 427,\n",
       " 32,\n",
       " 607,\n",
       " 40,\n",
       " 102,\n",
       " 608,\n",
       " 1,\n",
       " 324,\n",
       " 609,\n",
       " 428,\n",
       " 2,\n",
       " 610,\n",
       " 11,\n",
       " 7,\n",
       " 177,\n",
       " 611,\n",
       " 3,\n",
       " 429,\n",
       " 59,\n",
       " 325,\n",
       " 1,\n",
       " 177,\n",
       " 612,\n",
       " 16,\n",
       " 178,\n",
       " 37,\n",
       " 179,\n",
       " 1,\n",
       " 430,\n",
       " 2,\n",
       " 613,\n",
       " 614,\n",
       " 110,\n",
       " 615,\n",
       " 7,\n",
       " 616,\n",
       " 33,\n",
       " 617,\n",
       " 618,\n",
       " 215,\n",
       " 326,\n",
       " 1,\n",
       " 619,\n",
       " 3,\n",
       " 327,\n",
       " 620,\n",
       " 59,\n",
       " 34,\n",
       " 136,\n",
       " 37,\n",
       " 621,\n",
       " 16,\n",
       " 428,\n",
       " 8,\n",
       " 622,\n",
       " 38,\n",
       " 431,\n",
       " 16,\n",
       " 432,\n",
       " 8,\n",
       " 623,\n",
       " 32,\n",
       " 433,\n",
       " 37,\n",
       " 137,\n",
       " 259,\n",
       " 138,\n",
       " 8,\n",
       " 624,\n",
       " 625,\n",
       " 23,\n",
       " 122,\n",
       " 7,\n",
       " 63,\n",
       " 7,\n",
       " 136,\n",
       " 7,\n",
       " 260,\n",
       " 1,\n",
       " 34,\n",
       " 261,\n",
       " 2,\n",
       " 123,\n",
       " 626,\n",
       " 1,\n",
       " 328,\n",
       " 8,\n",
       " 627,\n",
       " 59,\n",
       " 329,\n",
       " 3,\n",
       " 434,\n",
       " 628,\n",
       " 629,\n",
       " 262,\n",
       " 38,\n",
       " 55,\n",
       " 33,\n",
       " 49,\n",
       " 2,\n",
       " 630,\n",
       " 216,\n",
       " 16,\n",
       " 64,\n",
       " 8,\n",
       " 631,\n",
       " 262,\n",
       " 23,\n",
       " 50,\n",
       " 435,\n",
       " 22,\n",
       " 139,\n",
       " 1,\n",
       " 436,\n",
       " 217,\n",
       " 3,\n",
       " 632,\n",
       " 263,\n",
       " 633,\n",
       " 435,\n",
       " 634,\n",
       " 37,\n",
       " 47,\n",
       " 635,\n",
       " 178,\n",
       " 33,\n",
       " 636,\n",
       " 637,\n",
       " 2,\n",
       " 638,\n",
       " 218,\n",
       " 264,\n",
       " 323,\n",
       " 437,\n",
       " 16,\n",
       " 323,\n",
       " 437,\n",
       " 1,\n",
       " 639,\n",
       " 1,\n",
       " 640,\n",
       " 16,\n",
       " 55,\n",
       " 33,\n",
       " 438,\n",
       " 3,\n",
       " 641,\n",
       " 642,\n",
       " 12,\n",
       " 154,\n",
       " 3,\n",
       " 643,\n",
       " 644,\n",
       " 140,\n",
       " 330,\n",
       " 265,\n",
       " 2,\n",
       " 645,\n",
       " 180,\n",
       " 40,\n",
       " 28,\n",
       " 3,\n",
       " 646,\n",
       " 19,\n",
       " 1,\n",
       " 70,\n",
       " 3,\n",
       " 647,\n",
       " 155,\n",
       " 2,\n",
       " 20,\n",
       " 180,\n",
       " 6]"
      ]
     },
     "execution_count": 86,
     "metadata": {},
     "output_type": "execute_result"
    }
   ],
   "source": [
    "doc[0]"
   ]
  },
  {
   "cell_type": "code",
   "execution_count": 90,
   "metadata": {},
   "outputs": [
    {
     "name": "stdout",
     "output_type": "stream",
     "text": [
      "187\n",
      "1165\n"
     ]
    }
   ],
   "source": [
    "maxLen = max([len(x)-1 for x in doc])\n",
    "print(maxLen) #187\n",
    "vocabSize = len(tokenizer.word_index)+1\n",
    "print(vocabSize) #1165"
   ]
  }
 ],
 "metadata": {
  "kernelspec": {
   "display_name": "Python 3",
   "language": "python",
   "name": "python3"
  },
  "language_info": {
   "codemirror_mode": {
    "name": "ipython",
    "version": 3
   },
   "file_extension": ".py",
   "mimetype": "text/x-python",
   "name": "python",
   "nbconvert_exporter": "python",
   "pygments_lexer": "ipython3",
   "version": "3.7.4"
  }
 },
 "nbformat": 4,
 "nbformat_minor": 2
}
