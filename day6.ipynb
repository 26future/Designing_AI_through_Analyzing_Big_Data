{
 "cells": [
  {
   "cell_type": "code",
   "execution_count": null,
   "metadata": {},
   "outputs": [],
   "source": [
    "\"\"\"\n",
    "클래스:객체(캐릭터)를 표현하기 위한 개념\n",
    "기사, 궁수, 마법사 등 직업별로 클래스가 생성됨\n",
    "웹브라우저-스크롤바,버튼,체크박스,등 구성요소 모두 '클래스'임\n",
    "\n",
    "1)기사 클래스로 홍길동 객체(캐릭터)를 생성\n",
    "2)체력, 마나, 공격력...초기값 생성 -속성\n",
    "3)달리기, 베기, 찌르기...동작 스킬 -메서드\n",
    "\n",
    "*클래스는 속성과 메서드로 구성됨\n",
    "\n",
    "3+4->7+3=>10\n",
    "\"\"\""
   ]
  },
  {
   "cell_type": "code",
   "execution_count": 2,
   "metadata": {},
   "outputs": [
    {
     "name": "stdout",
     "output_type": "stream",
     "text": [
      "3\n",
      "7\n"
     ]
    }
   ],
   "source": [
    "res=0\n",
    "def add(num):\n",
    "    global res\n",
    "    res+=num\n",
    "    return res\n",
    "print(add(3))\n",
    "print(add(4))"
   ]
  },
  {
   "cell_type": "code",
   "execution_count": 6,
   "metadata": {},
   "outputs": [
    {
     "name": "stdout",
     "output_type": "stream",
     "text": [
      "3\n",
      "7\n",
      "3\n",
      "7\n"
     ]
    }
   ],
   "source": [
    "res1=0\n",
    "res2=0\n",
    "\n",
    "def add1(num):\n",
    "    global res1\n",
    "    res1+=num\n",
    "    return res1\n",
    "\n",
    "def add2(num):\n",
    "    global res2\n",
    "    res2+=num\n",
    "    return res2\n",
    "\n",
    "print(add1(3))\n",
    "print(add1(4))\n",
    "print(add2(3))\n",
    "print(add2(4))"
   ]
  },
  {
   "cell_type": "code",
   "execution_count": 12,
   "metadata": {},
   "outputs": [],
   "source": [
    "class Calc: #변수 이름 규칙과 같음\n",
    "#    def greeting(self):\n",
    "#        print('hello')\n",
    "    def __init__(self): #객체를 초기화하는 역할\n",
    "        self.res=0\n",
    "    def add(self,num):\n",
    "        self.res+=num\n",
    "        return self.res\n",
    "    def sub(self,num):\n",
    "        self.res-=num\n",
    "        return self.res"
   ]
  },
  {
   "cell_type": "code",
   "execution_count": 14,
   "metadata": {},
   "outputs": [
    {
     "name": "stdout",
     "output_type": "stream",
     "text": [
      "3\n",
      "7\n",
      "3\n",
      "10\n"
     ]
    }
   ],
   "source": [
    "cal1 = Calc() #계산기1  기사 캐릭터 생성\n",
    "cal2 = Calc() #계산기2\n",
    "\n",
    "print(cal1.add(3))\n",
    "print(cal1.add(4))\n",
    "print(cal2.add(3))\n",
    "print(cal2.add(7))\n",
    "\n",
    "#hgd=Calc() #객체=클래스()\n",
    "#hgd.greeting()"
   ]
  },
  {
   "cell_type": "code",
   "execution_count": null,
   "metadata": {},
   "outputs": [],
   "source": [
    "#붕어빵기계 -> 클래스(class). 속성(특징)과 메서드(동작)\n",
    "#붕어빵 -> 객체(object)"
   ]
  },
  {
   "cell_type": "code",
   "execution_count": 15,
   "metadata": {},
   "outputs": [],
   "source": [
    "class FishBread:\n",
    "    pass\n",
    "#아무 기능도 없는 클래스 정의"
   ]
  },
  {
   "cell_type": "code",
   "execution_count": 32,
   "metadata": {},
   "outputs": [],
   "source": [
    "class FourCal:\n",
    "    def add(self):\n",
    "        res = self.first + self.second\n",
    "        return res\n",
    "    def sub(self):\n",
    "        res = self.first - self.second\n",
    "        return res\n",
    "    def div(self):\n",
    "        res = self.first / self.second\n",
    "        return res\n",
    "    def mul(self):\n",
    "        res = self.first * self.second\n",
    "        return res\n",
    "    \n",
    "    def setData(self,first,second):\n",
    "        self.first = first  # self(a).first=4\n",
    "        self.second = second  # self(a).second=2\n",
    "#self: 지금(현재) 만들어진 객체\n",
    "#self.first: 지금 만들어지고 있는 객체의 first 속성\n",
    "#self.second: 지금 만들어지고 있는 객체의 second 속성"
   ]
  },
  {
   "cell_type": "code",
   "execution_count": 33,
   "metadata": {},
   "outputs": [
    {
     "name": "stdout",
     "output_type": "stream",
     "text": [
      "<class '__main__.FourCal'>\n",
      "6\n",
      "2\n",
      "2.0\n",
      "8\n"
     ]
    }
   ],
   "source": [
    "#사칙 연산 클래스\n",
    "#변수 = 클래스명()  변수는 클래스로부터 만들어진 객체를 나타냄\n",
    "#붕어빵 = 붕어빵기계()\n",
    "a = FourCal() #FourCal클래스로부터 객체 생성\n",
    "print(type(a))\n",
    "\n",
    "#붕어빵.내용물을정한다(단팥) => 단팥붕어빵\n",
    "a.setData(4,2) #숫자 4,2를 a에 지정\n",
    "print(a.add()) #4+2=6 리턴\n",
    "print(a.sub())\n",
    "print(a.div())\n",
    "print(a.mul())\n",
    "\n",
    "#b = FourCal()\n",
    "#b.setData(1,2)\n",
    "#print(b.add())"
   ]
  },
  {
   "cell_type": "code",
   "execution_count": null,
   "metadata": {},
   "outputs": [],
   "source": [
    "print(a.sub())\n",
    "print(a.div())\n",
    "print(a.mul())"
   ]
  },
  {
   "cell_type": "code",
   "execution_count": 34,
   "metadata": {},
   "outputs": [],
   "source": [
    "#class MoreFourCal(FourCal):\n",
    "#    pass\n",
    "#상속=> class 자식클래스명(부모클래스명)\n",
    "#MoreFourCal클래스는 FourCal클래스를 상속했으므로\n",
    "#FourCal클래스의 모든 기능을 사용할 수 있음"
   ]
  },
  {
   "cell_type": "code",
   "execution_count": 36,
   "metadata": {},
   "outputs": [
    {
     "data": {
      "text/plain": [
       "6"
      ]
     },
     "execution_count": 36,
     "metadata": {},
     "output_type": "execute_result"
    }
   ],
   "source": [
    "a = MoreFourCal()\n",
    "a.setData(4,2)\n",
    "a.add()"
   ]
  },
  {
   "cell_type": "code",
   "execution_count": 38,
   "metadata": {},
   "outputs": [],
   "source": [
    "class MoreFourCal(FourCal):\n",
    "    def pow(self):\n",
    "        res = self.first ** self.second # ** => 제곱\n",
    "        return res"
   ]
  },
  {
   "cell_type": "code",
   "execution_count": 39,
   "metadata": {},
   "outputs": [
    {
     "name": "stdout",
     "output_type": "stream",
     "text": [
      "16\n"
     ]
    }
   ],
   "source": [
    "a = MoreFourCal()\n",
    "a.setData(4,2)\n",
    "print(a.pow())"
   ]
  },
  {
   "cell_type": "code",
   "execution_count": 41,
   "metadata": {},
   "outputs": [
    {
     "name": "stdout",
     "output_type": "stream",
     "text": [
      "2.0\n",
      "2.0\n"
     ]
    }
   ],
   "source": [
    "#메서드 오버라이딩(overriding): 부모 클래스로부터 상속받은 메서드를 자식이 변경한 것\n",
    "\n",
    "myObj = FourCal()\n",
    "myObj.setData(4,2)\n",
    "print(myObj.div())\n",
    "\n",
    "myObj2 = MoreFourCal()\n",
    "myObj2.setData(4,2)\n",
    "print(myObj2.div())"
   ]
  },
  {
   "cell_type": "code",
   "execution_count": 46,
   "metadata": {},
   "outputs": [],
   "source": [
    "class SafeFourCal(FourCal):\n",
    "    def div(self):\n",
    "        if self.second == 1:\n",
    "            print('1로 나누지 마세요!')\n",
    "            return 0\n",
    "        else:\n",
    "            return self.first/self.second"
   ]
  },
  {
   "cell_type": "code",
   "execution_count": 47,
   "metadata": {},
   "outputs": [
    {
     "name": "stdout",
     "output_type": "stream",
     "text": [
      "1로 나누지 마세요!\n",
      "0\n"
     ]
    }
   ],
   "source": [
    "sfc = SafeFourCal()\n",
    "sfc.setData(4,1)\n",
    "print(sfc.div())"
   ]
  },
  {
   "cell_type": "code",
   "execution_count": 56,
   "metadata": {},
   "outputs": [
    {
     "name": "stdout",
     "output_type": "stream",
     "text": [
      "안녕하세요 나는 홍길동 입니다\n",
      "이름: 홍길동\n",
      "나이: 25\n",
      "사는곳: 서울시 역삼동\n"
     ]
    }
   ],
   "source": [
    "class Person:\n",
    "    def __init__(self,na,ag,ad):\n",
    "        self.name = na\n",
    "        self.age = ag\n",
    "        self.addr = ad\n",
    "        \n",
    "    \n",
    "    def greeting(self):\n",
    "        print('안녕하세요 나는 {} 입니다'.format(self.name))\n",
    "        \n",
    "\n",
    "ps = Person('홍길동',25,'서울시 역삼동') # __init__ 호출\n",
    "ps.greeting() #안녕하세요 나는 홍길동입니다.\n",
    "print('이름:' , ps.name) #홍길동\n",
    "print('나이:' , ps.age) #25\n",
    "print('사는곳:' , ps.addr) #역삼동"
   ]
  },
  {
   "cell_type": "code",
   "execution_count": 58,
   "metadata": {},
   "outputs": [
    {
     "name": "stdout",
     "output_type": "stream",
     "text": [
      "안녕하세요 나는 홍길동 입니다\n",
      "이름: 홍길동\n",
      "나이: 25\n",
      "사는곳: 서울시 역삼동\n"
     ]
    }
   ],
   "source": [
    "class Person:\n",
    "    def __init__(self, *args):\n",
    "        self.name = args[0]\n",
    "        self.age = args[1]\n",
    "        self.addr = args[2]\n",
    "        \n",
    "    \n",
    "    def greeting(self):\n",
    "        print('안녕하세요 나는 {0} 입니다'.format(self.name))\n",
    "        \n",
    "\n",
    "ps=Person('홍길동',25,'서울시 역삼동') # __init__ 호출\n",
    "ps.greeting() #안녕하세요 나는 홍길동입니다.\n",
    "print('이름:' , ps.name) #홍길동\n",
    "print('나이:' , ps.age) #25\n",
    "print('사는곳:' , ps.addr) #역삼동"
   ]
  },
  {
   "cell_type": "code",
   "execution_count": null,
   "metadata": {},
   "outputs": [],
   "source": [
    "#  www.jetbrains.com"
   ]
  },
  {
   "cell_type": "code",
   "execution_count": null,
   "metadata": {},
   "outputs": [],
   "source": [
    "#내장함수: import가 필요없음\n",
    "#외장함수: import가 필요함"
   ]
  },
  {
   "cell_type": "code",
   "execution_count": 60,
   "metadata": {},
   "outputs": [
    {
     "name": "stdout",
     "output_type": "stream",
     "text": [
      "3\n",
      "1.2\n"
     ]
    }
   ],
   "source": [
    "#절대값을 return\n",
    "print(abs(3))\n",
    "print(abs(-1.2))"
   ]
  },
  {
   "cell_type": "code",
   "execution_count": 62,
   "metadata": {},
   "outputs": [
    {
     "data": {
      "text/plain": [
       "False"
      ]
     },
     "execution_count": 62,
     "metadata": {},
     "output_type": "execute_result"
    }
   ],
   "source": [
    "all([-1,1,2,-2]) #모두가 참 => 참\n",
    "#0: 거짓. 0이 아닌 숫자는 모두 참\n",
    "all([-1,0,1]) #0이 거짓=> 거짓"
   ]
  },
  {
   "cell_type": "code",
   "execution_count": 67,
   "metadata": {},
   "outputs": [
    {
     "data": {
      "text/plain": [
       "False"
      ]
     },
     "execution_count": 67,
     "metadata": {},
     "output_type": "execute_result"
    }
   ],
   "source": [
    "any([1,2,3,0])  \n",
    "#하나라도 참이면 참 출력\n",
    "#모두 거짓인 경우에만 거짓 출력\n",
    "any([0,0])\n",
    "any([\"\",None,0])"
   ]
  },
  {
   "cell_type": "code",
   "execution_count": 70,
   "metadata": {},
   "outputs": [
    {
     "name": "stdout",
     "output_type": "stream",
     "text": [
      "1\n"
     ]
    }
   ],
   "source": [
    "chr(65) #0~127\n",
    "#아스키 코드(7bit,128가지)를 입력받아 해당 문자를 출력\n",
    "#ascii : 문자를 코드로 변환하기 위한 표준안\n",
    "res = divmod(6,4) # 6/4 => 몫:1, 나머지:2\n",
    "print(res[0])"
   ]
  },
  {
   "cell_type": "code",
   "execution_count": 75,
   "metadata": {},
   "outputs": [
    {
     "name": "stdout",
     "output_type": "stream",
     "text": [
      "0 test\n",
      "1 text\n",
      "2 body\n"
     ]
    }
   ],
   "source": [
    "#enumerate() #순서가 있는 자료형(리스트.튜플,문자열)을 입력받아서\n",
    "#index와 함께 자료를 리턴해주는 함수\n",
    "for idx, name in enumerate(['test','text','body']):\n",
    "    print(idx,name)"
   ]
  },
  {
   "cell_type": "code",
   "execution_count": 78,
   "metadata": {},
   "outputs": [
    {
     "name": "stdout",
     "output_type": "stream",
     "text": [
      "0 test\n",
      "1 text\n",
      "2 body\n"
     ]
    }
   ],
   "source": [
    "for data in enumerate(['test','text','body']):\n",
    "    print(data[0],data[1])"
   ]
  },
  {
   "cell_type": "code",
   "execution_count": 80,
   "metadata": {},
   "outputs": [
    {
     "data": {
      "text/plain": [
       "3"
      ]
     },
     "execution_count": 80,
     "metadata": {},
     "output_type": "execute_result"
    }
   ],
   "source": [
    "#eval함수: 실행가능한 문자열에 대해 실행한 결과를 리턴\n",
    "1+2\n",
    "'1+2' #실행가능한 문자열\n",
    "eval('1+2')"
   ]
  },
  {
   "cell_type": "code",
   "execution_count": 85,
   "metadata": {},
   "outputs": [
    {
     "data": {
      "text/plain": [
       "'hihello'"
      ]
     },
     "execution_count": 85,
     "metadata": {},
     "output_type": "execute_result"
    }
   ],
   "source": [
    "'hi'+'hello'\n",
    "#eval(\"'hi'+'hello'\")"
   ]
  },
  {
   "cell_type": "code",
   "execution_count": 87,
   "metadata": {},
   "outputs": [
    {
     "data": {
      "text/plain": [
       "(1, 2)"
      ]
     },
     "execution_count": 87,
     "metadata": {},
     "output_type": "execute_result"
    }
   ],
   "source": [
    "eval('divmod(6,4)')"
   ]
  },
  {
   "cell_type": "code",
   "execution_count": 148,
   "metadata": {},
   "outputs": [],
   "source": [
    "with open('c:/da/test.txt','w') as f:\n",
    "    f.write('Life is too short\\nYou need java')\n",
    "\n",
    "a = ''    \n",
    "f = open('c:/da/test.txt','r')\n",
    "for line in f.readlines():\n",
    "    a += line\n",
    "b = a.replace('java','python')\n",
    "f.close\n",
    "b\n",
    "\n",
    "with open('c:/da/test.txt','w') as f:\n",
    "    f.write(b)"
   ]
  },
  {
   "cell_type": "code",
   "execution_count": 151,
   "metadata": {},
   "outputs": [
    {
     "name": "stdout",
     "output_type": "stream",
     "text": [
      "25879\n"
     ]
    }
   ],
   "source": [
    "with open('c:/da/test1.txt','a') as f:\n",
    "    f.write(input())"
   ]
  },
  {
   "cell_type": "code",
   "execution_count": 180,
   "metadata": {},
   "outputs": [],
   "source": [
    "class Calculator:\n",
    "    def __init__(self):\n",
    "        self.value = 0\n",
    "\n",
    "    def add(self, val):\n",
    "        self.value += val"
   ]
  },
  {
   "cell_type": "code",
   "execution_count": 182,
   "metadata": {
    "scrolled": true
   },
   "outputs": [
    {
     "name": "stdout",
     "output_type": "stream",
     "text": [
      "3\n"
     ]
    }
   ],
   "source": [
    "class  UpgradeCalculator(Calculator):\n",
    "    def minus(self, val):\n",
    "        self.value -= val\n",
    "\n",
    "cal = UpgradeCalculator()       \n",
    "       \n",
    "cal.add(10)\n",
    "cal.minus(7)\n",
    "print(cal.value)"
   ]
  },
  {
   "cell_type": "code",
   "execution_count": null,
   "metadata": {},
   "outputs": [],
   "source": [
    "class Calculator:\n",
    "    def __init__(self):\n",
    "        self.value = 0\n",
    "\n",
    "    def add(self, val):\n",
    "        self.value += val"
   ]
  },
  {
   "cell_type": "code",
   "execution_count": 101,
   "metadata": {},
   "outputs": [
    {
     "data": {
      "text/plain": [
       "[3, 6, 9, 12]"
      ]
     },
     "execution_count": 101,
     "metadata": {},
     "output_type": "execute_result"
    }
   ],
   "source": [
    "list(map(lambda x:x*3,[1,2,3,4]))"
   ]
  }
 ],
 "metadata": {
  "kernelspec": {
   "display_name": "Python 3",
   "language": "python",
   "name": "python3"
  },
  "language_info": {
   "codemirror_mode": {
    "name": "ipython",
    "version": 3
   },
   "file_extension": ".py",
   "mimetype": "text/x-python",
   "name": "python",
   "nbconvert_exporter": "python",
   "pygments_lexer": "ipython3",
   "version": "3.7.4"
  }
 },
 "nbformat": 4,
 "nbformat_minor": 2
}
