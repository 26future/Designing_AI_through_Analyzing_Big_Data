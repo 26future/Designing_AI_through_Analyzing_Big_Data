{
 "cells": [
  {
   "cell_type": "code",
   "execution_count": 1,
   "metadata": {},
   "outputs": [],
   "source": [
    "# 1. 주식데이터\n",
    "# -관심있는 종목 데이터 다운로드\n",
    "# -제공되는 데이터(약 3년)\n",
    "# -4개의 입력 변수 -> 1개의 출력변수(close)\n",
    "# -데이터를 트레이닝(70)/테스트(30) 데이터로 분리\n",
    "# -최근 1개월 데이터로 테스트\n",
    "\n",
    "# 2. tree.csv 파일로 예측\n",
    "# Girth, Height => Volume 예측"
   ]
  },
  {
   "cell_type": "code",
   "execution_count": 2,
   "metadata": {},
   "outputs": [],
   "source": [
    "import tensorflow as tf\n",
    "import numpy as np\n",
    "import pandas as pd\n",
    "from sklearn.model_selection import train_test_split"
   ]
  },
  {
   "cell_type": "code",
   "execution_count": 3,
   "metadata": {},
   "outputs": [
    {
     "data": {
      "text/plain": [
       "array([[8.2865997e+02, 8.3345001e+02, 8.2834998e+02, 1.2477000e+06,\n",
       "        8.3165997e+02],\n",
       "       [8.2302002e+02, 8.2807001e+02, 8.2165503e+02, 1.5978000e+06,\n",
       "        8.2807001e+02],\n",
       "       [8.1992999e+02, 8.2440002e+02, 8.1897998e+02, 1.2817000e+06,\n",
       "        8.2415997e+02],\n",
       "       ...,\n",
       "       [5.6689258e+02, 5.6700256e+02, 5.5693256e+02, 1.0800000e+04,\n",
       "        5.5697247e+02],\n",
       "       [5.6120258e+02, 5.6643262e+02, 5.5867255e+02, 4.1200000e+04,\n",
       "        5.5999255e+02],\n",
       "       [5.6800256e+02, 5.6800256e+02, 5.5292255e+02, 1.3100000e+04,\n",
       "        5.5846252e+02]], dtype=float32)"
      ]
     },
     "execution_count": 3,
     "metadata": {},
     "output_type": "execute_result"
    }
   ],
   "source": [
    "data = np.loadtxt(\"실습데이터/실습데이터/data-02-stock_daily.csv\", delimiter=\",\", dtype=np.float32)\n",
    "data"
   ]
  },
  {
   "cell_type": "code",
   "execution_count": 4,
   "metadata": {},
   "outputs": [
    {
     "name": "stdout",
     "output_type": "stream",
     "text": [
      "(732, 4) (732, 1)\n"
     ]
    }
   ],
   "source": [
    "xdata = data[:,:4] #(732, 4)\n",
    "ydata = data[:,[-1]] #(732, 1)\n",
    "print(xdata.shape, ydata.shape)"
   ]
  },
  {
   "cell_type": "code",
   "execution_count": 5,
   "metadata": {},
   "outputs": [],
   "source": [
    "#scaler\n",
    "from sklearn.preprocessing import StandardScaler"
   ]
  },
  {
   "cell_type": "code",
   "execution_count": 6,
   "metadata": {
    "scrolled": true
   },
   "outputs": [
    {
     "data": {
      "text/plain": [
       "array([[ 1.787148  ,  1.7756876 ,  1.8464404 , -0.6631001 ],\n",
       "       [ 1.7313234 ,  1.7226986 ,  1.7800059 , -0.31251428],\n",
       "       [ 1.7007381 ,  1.6865519 ,  1.7534611 , -0.62905294],\n",
       "       ...,\n",
       "       [-0.803843  , -0.8486227 , -0.84685767, -1.9017167 ],\n",
       "       [-0.86016303, -0.85423625, -0.82959163, -1.8712746 ],\n",
       "       [-0.79285634, -0.8387734 , -0.88664937, -1.8994136 ]],\n",
       "      dtype=float32)"
      ]
     },
     "execution_count": 6,
     "metadata": {},
     "output_type": "execute_result"
    }
   ],
   "source": [
    "scaler = StandardScaler()\n",
    "scaler.fit(xdata)\n",
    "xdata = scaler.transform(xdata)\n",
    "xdata"
   ]
  },
  {
   "cell_type": "code",
   "execution_count": 7,
   "metadata": {},
   "outputs": [],
   "source": [
    "xtrain, xval, ytrain, yval = train_test_split(xdata, ydata, random_state=42,shuffle=False, train_size=0.7)"
   ]
  },
  {
   "cell_type": "code",
   "execution_count": 8,
   "metadata": {},
   "outputs": [
    {
     "data": {
      "text/plain": [
       "array([[ 1.787148  ,  1.7756876 ,  1.8464404 , -0.6631001 ],\n",
       "       [ 1.7313234 ,  1.7226986 ,  1.7800059 , -0.31251428],\n",
       "       [ 1.7007381 ,  1.6865519 ,  1.7534611 , -0.62905294],\n",
       "       ...,\n",
       "       [-1.0972236 , -1.0670798 , -1.0677172 , -0.2900832 ],\n",
       "       [-1.1165245 , -1.1298207 , -1.080568  , -0.5329197 ],\n",
       "       [-1.1759135 , -1.137207  , -1.1446514 , -0.16030331]],\n",
       "      dtype=float32)"
      ]
     },
     "execution_count": 8,
     "metadata": {},
     "output_type": "execute_result"
    }
   ],
   "source": [
    "xtrain"
   ]
  },
  {
   "cell_type": "code",
   "execution_count": 9,
   "metadata": {},
   "outputs": [],
   "source": [
    "x = tf.placeholder(tf.float32, shape=[None,4])\n",
    "y = tf.placeholder(tf.float32, shape=[None,1])\n",
    "w = tf.Variable(tf.random_normal([4,1]), name='weight')\n",
    "b = tf.Variable(tf.random_normal([1]), name='bias')\n",
    "\n",
    "hf = tf.matmul(x,w)+b"
   ]
  },
  {
   "cell_type": "code",
   "execution_count": 10,
   "metadata": {},
   "outputs": [],
   "source": [
    "xv = tf.placeholder(tf.float32, shape=[None,4])\n",
    "yv = tf.placeholder(tf.float32, shape=[None,1])\n",
    "\n",
    "hf_val = tf.matmul(xv,w)+b"
   ]
  },
  {
   "cell_type": "code",
   "execution_count": 11,
   "metadata": {},
   "outputs": [],
   "source": [
    "cost = tf.reduce_mean(tf.square(hf-y))\n",
    "\n",
    "cost_val = tf.reduce_mean(tf.square(hf_val-yv))"
   ]
  },
  {
   "cell_type": "code",
   "execution_count": 12,
   "metadata": {},
   "outputs": [],
   "source": [
    "train = tf.train.GradientDescentOptimizer(0.1).minimize(cost)"
   ]
  },
  {
   "cell_type": "code",
   "execution_count": 13,
   "metadata": {},
   "outputs": [
    {
     "name": "stdout",
     "output_type": "stream",
     "text": [
      "0 485417.34 301101.16\n",
      "200 24.250267 20.696844\n",
      "400 23.060492 19.620804\n",
      "600 21.98189 18.643816\n",
      "800 21.003937 17.756636\n",
      "1000 20.117085 16.950903\n",
      "1200 19.312725 16.21901\n",
      "1400 18.583042 15.5541\n",
      "1600 17.921059 14.949859\n",
      "1800 17.320322 14.400777\n",
      "2000 16.775093 13.901734\n",
      "2200 16.280148 13.44808\n",
      "2400 15.830731 13.035609\n",
      "2600 15.422636 12.660588\n",
      "2800 15.051964 12.319528\n",
      "3000 14.715206 12.009357\n",
      "3200 14.4092045 11.727218\n",
      "3400 14.131092 11.470589\n",
      "3600 13.87826 11.237153\n",
      "3800 13.648372 11.024769\n",
      "4000 13.439308 10.8315525\n",
      "4200 13.249121 10.655762\n",
      "4400 13.076084 10.495817\n",
      "4600 12.918582 10.35031\n",
      "4800 12.775223 10.217948\n",
      "5000 12.64468 10.097537\n",
      "5200 12.525797 9.988008\n",
      "5400 12.417472 9.88838\n",
      "5600 12.318775 9.797817\n",
      "5800 12.228815 9.715461\n",
      "6000 12.146786 9.640628\n",
      "6200 12.0719795 9.572609\n",
      "6400 12.00375 9.510829\n",
      "6600 11.941469 9.454737\n",
      "6800 11.884653 9.4038315\n",
      "7000 11.832762 9.357646\n",
      "7200 11.785372 9.315778\n",
      "7400 11.742073 9.277842\n",
      "7600 11.702511 9.243515\n",
      "7800 11.666342 9.212458\n",
      "8000 11.633278 9.184376\n",
      "8200 11.603035 9.159036\n",
      "8400 11.575369 9.136194\n",
      "8600 11.550035 9.115608\n",
      "8800 11.526857 9.097109\n",
      "9000 11.505615 9.080498\n",
      "9200 11.486161 9.06564\n",
      "9400 11.468327 9.052337\n",
      "9600 11.452002 9.040491\n",
      "9800 11.437 9.029942\n",
      "10000 11.423258 9.020592\n",
      "10200 11.410657 9.012345\n",
      "10400 11.399058 9.005081\n",
      "10600 11.388446 8.9987545\n",
      "10800 11.378659 8.993235\n",
      "11000 11.369709 8.988481\n",
      "11200 11.36145 8.984403\n",
      "11400 11.353882 8.980935\n",
      "11600 11.346903 8.978064\n",
      "11800 11.340496 8.975693\n",
      "12000 11.334587 8.973797\n",
      "12200 11.329151 8.97234\n",
      "12400 11.324146 8.971255\n",
      "12600 11.319529 8.970507\n",
      "12800 11.315293 8.97008\n",
      "13000 11.311372 8.969937\n",
      "13200 11.307764 8.970044\n",
      "13400 11.304435 8.970405\n",
      "13600 11.301361 8.970954\n",
      "13800 11.298532 8.971687\n",
      "14000 11.295906 8.97257\n",
      "14200 11.293491 8.973631\n",
      "14400 11.291263 8.9748125\n",
      "14600 11.289205 8.976109\n",
      "14800 11.287295 8.977506\n",
      "15000 11.285517 8.978986\n",
      "15200 11.283899 8.980559\n",
      "15400 11.282375 8.982194\n",
      "15600 11.280987 8.98387\n",
      "15800 11.2796955 8.985605\n",
      "16000 11.278507 8.987378\n",
      "16200 11.27739 8.989183\n",
      "16400 11.276367 8.991012\n",
      "16600 11.2754135 8.992857\n",
      "16800 11.27454 8.994728\n",
      "17000 11.273714 8.996583\n",
      "17200 11.272954 8.998475\n",
      "17400 11.272252 9.000348\n",
      "17600 11.2715845 9.002219\n",
      "17800 11.270987 9.004113\n",
      "18000 11.270434 9.0059595\n",
      "18200 11.26992 9.007784\n",
      "18400 11.269432 9.009621\n",
      "18600 11.268972 9.011441\n",
      "18800 11.268555 9.013233\n",
      "19000 11.268171 9.014977\n",
      "19200 11.267807 9.016723\n",
      "19400 11.267487 9.018465\n",
      "19600 11.267164 9.02019\n",
      "19800 11.266888 9.021887\n",
      "20000 11.266607 9.023531\n"
     ]
    }
   ],
   "source": [
    "li_cost=[]\n",
    "li_cost_val=[]\n",
    "epoch = list(range(20001))\n",
    "with tf.Session() as sess:\n",
    "    sess.run(tf.global_variables_initializer())\n",
    "    for step in range(20001):\n",
    "        _,cv,cv_v = sess.run([train,cost,cost_val], feed_dict={x:xtrain, y:ytrain, xv:xval, yv:yval})\n",
    "        li_cost.append(sess.run(cost, feed_dict={x:xtrain, y:ytrain}))\n",
    "        li_cost_val.append(sess.run(cost_val, feed_dict={xv:xval, yv:yval}))\n",
    "        if step%200==0:\n",
    "            print(step, cv, cv_v)"
   ]
  },
  {
   "cell_type": "code",
   "execution_count": 14,
   "metadata": {},
   "outputs": [
    {
     "data": {
      "text/html": [
       "<div>\n",
       "<style scoped>\n",
       "    .dataframe tbody tr th:only-of-type {\n",
       "        vertical-align: middle;\n",
       "    }\n",
       "\n",
       "    .dataframe tbody tr th {\n",
       "        vertical-align: top;\n",
       "    }\n",
       "\n",
       "    .dataframe thead th {\n",
       "        text-align: right;\n",
       "    }\n",
       "</style>\n",
       "<table border=\"1\" class=\"dataframe\">\n",
       "  <thead>\n",
       "    <tr style=\"text-align: right;\">\n",
       "      <th></th>\n",
       "      <th>cost</th>\n",
       "    </tr>\n",
       "  </thead>\n",
       "  <tbody>\n",
       "    <tr>\n",
       "      <td>0</td>\n",
       "      <td>223188.484375</td>\n",
       "    </tr>\n",
       "    <tr>\n",
       "      <td>1</td>\n",
       "      <td>144315.640625</td>\n",
       "    </tr>\n",
       "    <tr>\n",
       "      <td>2</td>\n",
       "      <td>101441.046875</td>\n",
       "    </tr>\n",
       "    <tr>\n",
       "      <td>3</td>\n",
       "      <td>72449.609375</td>\n",
       "    </tr>\n",
       "    <tr>\n",
       "      <td>4</td>\n",
       "      <td>51905.632812</td>\n",
       "    </tr>\n",
       "    <tr>\n",
       "      <td>...</td>\n",
       "      <td>...</td>\n",
       "    </tr>\n",
       "    <tr>\n",
       "      <td>19996</td>\n",
       "      <td>11.266601</td>\n",
       "    </tr>\n",
       "    <tr>\n",
       "      <td>19997</td>\n",
       "      <td>11.266610</td>\n",
       "    </tr>\n",
       "    <tr>\n",
       "      <td>19998</td>\n",
       "      <td>11.266614</td>\n",
       "    </tr>\n",
       "    <tr>\n",
       "      <td>19999</td>\n",
       "      <td>11.266607</td>\n",
       "    </tr>\n",
       "    <tr>\n",
       "      <td>20000</td>\n",
       "      <td>11.266608</td>\n",
       "    </tr>\n",
       "  </tbody>\n",
       "</table>\n",
       "<p>20001 rows × 1 columns</p>\n",
       "</div>"
      ],
      "text/plain": [
       "                cost\n",
       "0      223188.484375\n",
       "1      144315.640625\n",
       "2      101441.046875\n",
       "3       72449.609375\n",
       "4       51905.632812\n",
       "...              ...\n",
       "19996      11.266601\n",
       "19997      11.266610\n",
       "19998      11.266614\n",
       "19999      11.266607\n",
       "20000      11.266608\n",
       "\n",
       "[20001 rows x 1 columns]"
      ]
     },
     "execution_count": 14,
     "metadata": {},
     "output_type": "execute_result"
    }
   ],
   "source": [
    "#시각화\n",
    "cost_df = pd.DataFrame(li_cost, index=epoch, columns=['cost'])\n",
    "cost_df"
   ]
  },
  {
   "cell_type": "code",
   "execution_count": 15,
   "metadata": {},
   "outputs": [
    {
     "data": {
      "text/html": [
       "<div>\n",
       "<style scoped>\n",
       "    .dataframe tbody tr th:only-of-type {\n",
       "        vertical-align: middle;\n",
       "    }\n",
       "\n",
       "    .dataframe tbody tr th {\n",
       "        vertical-align: top;\n",
       "    }\n",
       "\n",
       "    .dataframe thead th {\n",
       "        text-align: right;\n",
       "    }\n",
       "</style>\n",
       "<table border=\"1\" class=\"dataframe\">\n",
       "  <thead>\n",
       "    <tr style=\"text-align: right;\">\n",
       "      <th></th>\n",
       "      <th>cost_val</th>\n",
       "    </tr>\n",
       "  </thead>\n",
       "  <tbody>\n",
       "    <tr>\n",
       "      <td>0</td>\n",
       "      <td>393298.531250</td>\n",
       "    </tr>\n",
       "    <tr>\n",
       "      <td>1</td>\n",
       "      <td>347362.375000</td>\n",
       "    </tr>\n",
       "    <tr>\n",
       "      <td>2</td>\n",
       "      <td>270125.375000</td>\n",
       "    </tr>\n",
       "    <tr>\n",
       "      <td>3</td>\n",
       "      <td>200179.406250</td>\n",
       "    </tr>\n",
       "    <tr>\n",
       "      <td>4</td>\n",
       "      <td>145514.640625</td>\n",
       "    </tr>\n",
       "    <tr>\n",
       "      <td>...</td>\n",
       "      <td>...</td>\n",
       "    </tr>\n",
       "    <tr>\n",
       "      <td>19996</td>\n",
       "      <td>9.023500</td>\n",
       "    </tr>\n",
       "    <tr>\n",
       "      <td>19997</td>\n",
       "      <td>9.023523</td>\n",
       "    </tr>\n",
       "    <tr>\n",
       "      <td>19998</td>\n",
       "      <td>9.023532</td>\n",
       "    </tr>\n",
       "    <tr>\n",
       "      <td>19999</td>\n",
       "      <td>9.023531</td>\n",
       "    </tr>\n",
       "    <tr>\n",
       "      <td>20000</td>\n",
       "      <td>9.023554</td>\n",
       "    </tr>\n",
       "  </tbody>\n",
       "</table>\n",
       "<p>20001 rows × 1 columns</p>\n",
       "</div>"
      ],
      "text/plain": [
       "            cost_val\n",
       "0      393298.531250\n",
       "1      347362.375000\n",
       "2      270125.375000\n",
       "3      200179.406250\n",
       "4      145514.640625\n",
       "...              ...\n",
       "19996       9.023500\n",
       "19997       9.023523\n",
       "19998       9.023532\n",
       "19999       9.023531\n",
       "20000       9.023554\n",
       "\n",
       "[20001 rows x 1 columns]"
      ]
     },
     "execution_count": 15,
     "metadata": {},
     "output_type": "execute_result"
    }
   ],
   "source": [
    "cost_val_df = pd.DataFrame(li_cost_val, index=epoch, columns=['cost_val'])\n",
    "cost_val_df"
   ]
  },
  {
   "cell_type": "code",
   "execution_count": 16,
   "metadata": {},
   "outputs": [
    {
     "data": {
      "text/html": [
       "<div>\n",
       "<style scoped>\n",
       "    .dataframe tbody tr th:only-of-type {\n",
       "        vertical-align: middle;\n",
       "    }\n",
       "\n",
       "    .dataframe tbody tr th {\n",
       "        vertical-align: top;\n",
       "    }\n",
       "\n",
       "    .dataframe thead th {\n",
       "        text-align: right;\n",
       "    }\n",
       "</style>\n",
       "<table border=\"1\" class=\"dataframe\">\n",
       "  <thead>\n",
       "    <tr style=\"text-align: right;\">\n",
       "      <th></th>\n",
       "      <th>cost</th>\n",
       "      <th>cost_val</th>\n",
       "    </tr>\n",
       "  </thead>\n",
       "  <tbody>\n",
       "    <tr>\n",
       "      <td>0</td>\n",
       "      <td>223188.484375</td>\n",
       "      <td>393298.531250</td>\n",
       "    </tr>\n",
       "    <tr>\n",
       "      <td>1</td>\n",
       "      <td>144315.640625</td>\n",
       "      <td>347362.375000</td>\n",
       "    </tr>\n",
       "    <tr>\n",
       "      <td>2</td>\n",
       "      <td>101441.046875</td>\n",
       "      <td>270125.375000</td>\n",
       "    </tr>\n",
       "    <tr>\n",
       "      <td>3</td>\n",
       "      <td>72449.609375</td>\n",
       "      <td>200179.406250</td>\n",
       "    </tr>\n",
       "    <tr>\n",
       "      <td>4</td>\n",
       "      <td>51905.632812</td>\n",
       "      <td>145514.640625</td>\n",
       "    </tr>\n",
       "    <tr>\n",
       "      <td>...</td>\n",
       "      <td>...</td>\n",
       "      <td>...</td>\n",
       "    </tr>\n",
       "    <tr>\n",
       "      <td>19996</td>\n",
       "      <td>11.266601</td>\n",
       "      <td>9.023500</td>\n",
       "    </tr>\n",
       "    <tr>\n",
       "      <td>19997</td>\n",
       "      <td>11.266610</td>\n",
       "      <td>9.023523</td>\n",
       "    </tr>\n",
       "    <tr>\n",
       "      <td>19998</td>\n",
       "      <td>11.266614</td>\n",
       "      <td>9.023532</td>\n",
       "    </tr>\n",
       "    <tr>\n",
       "      <td>19999</td>\n",
       "      <td>11.266607</td>\n",
       "      <td>9.023531</td>\n",
       "    </tr>\n",
       "    <tr>\n",
       "      <td>20000</td>\n",
       "      <td>11.266608</td>\n",
       "      <td>9.023554</td>\n",
       "    </tr>\n",
       "  </tbody>\n",
       "</table>\n",
       "<p>20001 rows × 2 columns</p>\n",
       "</div>"
      ],
      "text/plain": [
       "                cost       cost_val\n",
       "0      223188.484375  393298.531250\n",
       "1      144315.640625  347362.375000\n",
       "2      101441.046875  270125.375000\n",
       "3       72449.609375  200179.406250\n",
       "4       51905.632812  145514.640625\n",
       "...              ...            ...\n",
       "19996      11.266601       9.023500\n",
       "19997      11.266610       9.023523\n",
       "19998      11.266614       9.023532\n",
       "19999      11.266607       9.023531\n",
       "20000      11.266608       9.023554\n",
       "\n",
       "[20001 rows x 2 columns]"
      ]
     },
     "execution_count": 16,
     "metadata": {},
     "output_type": "execute_result"
    }
   ],
   "source": [
    "df = cost_df.join(cost_val_df)\n",
    "df"
   ]
  },
  {
   "cell_type": "code",
   "execution_count": 17,
   "metadata": {},
   "outputs": [],
   "source": [
    "import matplotlib.pyplot as plt\n",
    "import seaborn as sns"
   ]
  },
  {
   "cell_type": "code",
   "execution_count": 18,
   "metadata": {},
   "outputs": [
    {
     "data": {
      "image/png": "[encoded data removed]",
      "text/plain": [
       "<Figure size 432x288 with 1 Axes>"
      ]
     },
     "metadata": {
      "needs_background": "light"
     },
     "output_type": "display_data"
    }
   ],
   "source": [
    "plt.plot(df)\n",
    "plt.show()"
   ]
  }
 ],
 "metadata": {
  "kernelspec": {
   "display_name": "Python 3",
   "language": "python",
   "name": "python3"
  },
  "language_info": {
   "codemirror_mode": {
    "name": "ipython",
    "version": 3
   },
   "file_extension": ".py",
   "mimetype": "text/x-python",
   "name": "python",
   "nbconvert_exporter": "python",
   "pygments_lexer": "ipython3",
   "version": "3.7.4"
  }
 },
 "nbformat": 4,
 "nbformat_minor": 2
}
