{
 "cells": [
  {
   "cell_type": "code",
   "execution_count": 20,
   "metadata": {},
   "outputs": [],
   "source": [
    "import numpy as np\n",
    "import tensorflow as tf"
   ]
  },
  {
   "cell_type": "code",
   "execution_count": 24,
   "metadata": {},
   "outputs": [
    {
     "data": {
      "text/plain": [
       "(5, 2, 7)"
      ]
     },
     "execution_count": 24,
     "metadata": {},
     "output_type": "execute_result"
    }
   ],
   "source": [
    "ct = np.arange(7*5*2).reshape(7,5,2)\n",
    "np.transpose(ct).shape\n",
    "# m*n -> transpose -> n*m\n",
    "# i*j*k -> transpose -> ikj,jik,jki,kij,kji\n",
    "np.transpose(ct, [1,2,0]).shape"
   ]
  },
  {
   "cell_type": "code",
   "execution_count": 26,
   "metadata": {},
   "outputs": [],
   "source": [
    "sess = tf.Session()"
   ]
  },
  {
   "cell_type": "code",
   "execution_count": 28,
   "metadata": {
    "scrolled": true
   },
   "outputs": [
    {
     "name": "stdout",
     "output_type": "stream",
     "text": [
      "[[13 14 15 16]\n",
      " [17 18 19 20]\n",
      " [21 22 23 24]]\n"
     ]
    }
   ],
   "source": [
    "t = [i for i in range(1,25)]\n",
    "t = tf.reshape(t,[2,3,4])\n",
    "t = t[-1]\n",
    "print(sess.run(t))"
   ]
  },
  {
   "cell_type": "code",
   "execution_count": 67,
   "metadata": {},
   "outputs": [],
   "source": [
    "#case study 1 : 4글자로 구성된 단어 -> 학습\n",
    "#단어의 앞 3글자 입력 -> 마지막 글자 예측\n",
    "# wood -> 학습 -> 모델\n",
    "# woo 입력 ------>모델-> d 예측\n",
    "# wop 입력 ------>모델-> d 예측\n",
    "char_arr=[]   #'a':97~'z':122, chr(97)->'a'\n",
    "for i in range(97,123):\n",
    "    char_arr.append(chr(i))\n",
    "    \n",
    "num_dic = {n:i for i, n in enumerate(char_arr) }    \n",
    "#{'a':0,'b':1,...'z':25}\n",
    "dic_len = len(num_dic)"
   ]
  },
  {
   "cell_type": "code",
   "execution_count": 68,
   "metadata": {},
   "outputs": [],
   "source": [
    "seq_data = ['word','wood','deep','dive',\n",
    "            'cold','cool','load','love',\n",
    "            'kiss','kind']\n",
    "#x : wor, y : d\n",
    "#x : woo, y : d"
   ]
  },
  {
   "cell_type": "code",
   "execution_count": 69,
   "metadata": {},
   "outputs": [],
   "source": [
    "def make_batch(seq_data):\n",
    "    input_batch=[]\n",
    "    target_batch=[]\n",
    "    for seq in seq_data: #seq = 'word'\n",
    "        myInput = [num_dic[n] for n in seq[:-1]] # wor => 22,14,17\n",
    "        #print(myInput)\n",
    "        target = num_dic[seq[-1]]\n",
    "        #원핫 인코딩\n",
    "        input_batch.append(np.eye(dic_len)[myInput])\n",
    "        target_batch.append(target)\n",
    "    \n",
    "    return input_batch, target_batch"
   ]
  },
  {
   "cell_type": "code",
   "execution_count": 70,
   "metadata": {},
   "outputs": [],
   "source": [
    "input_batch, target_batch = make_batch(seq_data)\n",
    "# woo, d"
   ]
  },
  {
   "cell_type": "code",
   "execution_count": 71,
   "metadata": {},
   "outputs": [
    {
     "data": {
      "text/plain": [
       "(10, 3, 26)"
      ]
     },
     "execution_count": 71,
     "metadata": {},
     "output_type": "execute_result"
    }
   ],
   "source": [
    "np.shape(input_batch) #(10, 3, 26)\n",
    "#10:단어개수, 3:3글자, 26:26가지 종류"
   ]
  },
  {
   "cell_type": "code",
   "execution_count": 72,
   "metadata": {},
   "outputs": [],
   "source": [
    "#softmax_cross_entropy_with_logits함수는\n",
    "#label값을 one-hot 인코딩으로 넘겨줌\n",
    "#sparse_softmax_cross_entropy_with_logits함수는\n",
    "#label값이 one-hot 인코딩이 안된 경우에 사용"
   ]
  },
  {
   "cell_type": "code",
   "execution_count": 73,
   "metadata": {},
   "outputs": [],
   "source": [
    "lr=0.01\n",
    "n_hidden=128   #셀 출력 개수\n",
    "total_epoch=30 #에폭\n",
    "n_step=3  #입력 3글자\n",
    "n_input = n_class = dic_len \n",
    "#26=입력 크기(n_input)=클래스 종류 개수(n_class)"
   ]
  },
  {
   "cell_type": "code",
   "execution_count": 74,
   "metadata": {},
   "outputs": [],
   "source": [
    "tf.reset_default_graph()"
   ]
  },
  {
   "cell_type": "code",
   "execution_count": 75,
   "metadata": {},
   "outputs": [],
   "source": [
    "#신경망 모델 구성\n",
    "x = tf.placeholder(tf.float32,[None,n_step,n_input])\n",
    "#None:전체 단어수, n_step:3글자 입력, n_input:26개 종류\n",
    "y = tf.placeholder(tf.int32,[None]) # => [3], [5], ...\n",
    "#y가 원핫 인코딩 되어 있다면-> [None,n_class]\n",
    "w = tf.Variable(tf.random_normal([n_hidden,n_class]))\n",
    "b = tf.Variable(tf.random_normal([n_class]))\n",
    "cell1 = tf.nn.rnn_cell.BasicLSTMCell(n_hidden)\n",
    "cell1 = tf.nn.rnn_cell.DropoutWrapper(cell1, output_keep_prob=0.5)\n",
    "cell2 = tf.nn.rnn_cell.BasicLSTMCell(n_hidden)\n",
    "multi_cell = tf.nn.rnn_cell.MultiRNNCell([cell1,cell2])\n",
    "outputs, states = tf.nn.dynamic_rnn(multi_cell,x, dtype=tf.float32)"
   ]
  },
  {
   "cell_type": "code",
   "execution_count": 76,
   "metadata": {},
   "outputs": [],
   "source": [
    "#outputs shape : (10, 3, 128)\n",
    "outputs = tf.transpose(outputs, [1,0,2])\n",
    "#(10, 3, 128) => (3, 10, 128)\n",
    "outputs = outputs[-1] # (10, 128)\n",
    "model = tf.matmul(outputs,w)+b\n",
    "#tf.matmul([10, 128],[128, 26]) => [10,26]"
   ]
  },
  {
   "cell_type": "code",
   "execution_count": 77,
   "metadata": {},
   "outputs": [],
   "source": [
    "cost = tf.reduce_mean(tf.nn.sparse_softmax_cross_entropy_with_logits(logits=model, labels=y))\n",
    "opt = tf.train.AdamOptimizer(lr).minimize(cost)"
   ]
  },
  {
   "cell_type": "code",
   "execution_count": 78,
   "metadata": {},
   "outputs": [],
   "source": [
    "sess = tf.Session()\n",
    "sess.run(tf.global_variables_initializer())"
   ]
  },
  {
   "cell_type": "code",
   "execution_count": 79,
   "metadata": {},
   "outputs": [
    {
     "name": "stdout",
     "output_type": "stream",
     "text": [
      "(10, 128)\n"
     ]
    }
   ],
   "source": [
    "#outputs을 실행하여 outputs의 shape 출력?\n",
    "print(sess.run(outputs, feed_dict={x:input_batch}).shape)"
   ]
  },
  {
   "cell_type": "code",
   "execution_count": 80,
   "metadata": {},
   "outputs": [
    {
     "name": "stdout",
     "output_type": "stream",
     "text": [
      "에폭: 0001 비용: 4.68996\n",
      "에폭: 0002 비용: 3.62536\n",
      "에폭: 0003 비용: 2.04646\n",
      "에폭: 0004 비용: 1.80792\n",
      "에폭: 0005 비용: 0.93985\n",
      "에폭: 0006 비용: 0.69468\n",
      "에폭: 0007 비용: 0.68095\n",
      "에폭: 0008 비용: 0.73747\n",
      "에폭: 0009 비용: 0.53959\n",
      "에폭: 0010 비용: 0.25656\n",
      "에폭: 0011 비용: 0.13384\n",
      "에폭: 0012 비용: 0.39243\n",
      "에폭: 0013 비용: 0.24359\n",
      "에폭: 0014 비용: 0.12168\n",
      "에폭: 0015 비용: 0.12432\n",
      "에폭: 0016 비용: 0.06525\n",
      "에폭: 0017 비용: 0.48709\n",
      "에폭: 0018 비용: 0.19150\n",
      "에폭: 0019 비용: 0.08338\n",
      "에폭: 0020 비용: 0.13685\n",
      "에폭: 0021 비용: 0.03724\n",
      "에폭: 0022 비용: 0.08870\n",
      "에폭: 0023 비용: 0.41516\n",
      "에폭: 0024 비용: 0.21761\n",
      "에폭: 0025 비용: 0.23562\n",
      "에폭: 0026 비용: 0.03382\n",
      "에폭: 0027 비용: 0.05721\n",
      "에폭: 0028 비용: 0.03020\n",
      "에폭: 0029 비용: 0.02197\n",
      "에폭: 0030 비용: 0.15487\n",
      "모델 작성 완료\n"
     ]
    }
   ],
   "source": [
    "for epoch in range(total_epoch):\n",
    "    _,cv = sess.run([opt,cost], feed_dict={x:input_batch, y:target_batch})\n",
    "    print(\"에폭:\", \"%04d\" %(epoch+1),\"비용:\",\"{:.5f}\".format(cv))\n",
    "print(\"모델 작성 완료\")"
   ]
  },
  {
   "cell_type": "code",
   "execution_count": 81,
   "metadata": {},
   "outputs": [],
   "source": [
    "pred = tf.cast(tf.argmax(model,1),tf.int32)\n",
    "predCheck = tf.equal(pred,y)\n",
    "accuracy = tf.reduce_mean(tf.cast(predCheck,tf.float32))\n",
    "\n",
    "input_batch, target_batch = make_batch(seq_data)\n",
    "pv, av = sess.run([pred, accuracy], feed_dict={x:input_batch, y:target_batch})"
   ]
  },
  {
   "cell_type": "code",
   "execution_count": 84,
   "metadata": {},
   "outputs": [
    {
     "name": "stdout",
     "output_type": "stream",
     "text": [
      "예측결과\n",
      "\n",
      "입력값: ['wor', 'woo', 'dee', 'div', 'col', 'coo', 'loa', 'lov', 'kis', 'kin']\n",
      "예측값: ['word', 'wood', 'deep', 'dive', 'cold', 'cool', 'load', 'love', 'kiss', 'kind']\n",
      "정확도: 1.0\n"
     ]
    }
   ],
   "source": [
    "predict_words=[]\n",
    "for i, v in enumerate(seq_data):\n",
    "    last_char = char_arr[pv[i]]\n",
    "    predict_words.append(v[:3]+last_char)\n",
    "print(\"예측결과\\n\")\n",
    "print(\"입력값:\",[w[:3] for w in seq_data])\n",
    "print(\"예측값:\", predict_words)\n",
    "print(\"정확도:\", av)"
   ]
  }
 ],
 "metadata": {
  "kernelspec": {
   "display_name": "Python 3",
   "language": "python",
   "name": "python3"
  },
  "language_info": {
   "codemirror_mode": {
    "name": "ipython",
    "version": 3
   },
   "file_extension": ".py",
   "mimetype": "text/x-python",
   "name": "python",
   "nbconvert_exporter": "python",
   "pygments_lexer": "ipython3",
   "version": "3.7.4"
  }
 },
 "nbformat": 4,
 "nbformat_minor": 2
}
