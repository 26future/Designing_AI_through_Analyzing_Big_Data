{
 "cells": [
  {
   "cell_type": "code",
   "execution_count": 1,
   "metadata": {},
   "outputs": [
    {
     "name": "stdout",
     "output_type": "stream",
     "text": [
      "사먹는다\n",
      "사먹는다\n"
     ]
    }
   ],
   "source": [
    "money = True\n",
    "\n",
    "if money:\n",
    "    print ('사먹는다')\n",
    "    print ('사먹는다')\n",
    "else:\n",
    "    print('...')"
   ]
  },
  {
   "cell_type": "code",
   "execution_count": 2,
   "metadata": {},
   "outputs": [
    {
     "name": "stdout",
     "output_type": "stream",
     "text": [
      "택시를 탄다\n"
     ]
    }
   ],
   "source": [
    "money = 5000\n",
    "card = True\n",
    "#조건식 or 조건식: 1개 이상 참 => 참\n",
    "#조건식 and 조건식: 2개 모두 참 => 참\n",
    "#not 조건식\n",
    "if not money >= 10000 and card:  \n",
    "    print('택시를 탄다')\n",
    "else:\n",
    "    print('버스를 탄다')"
   ]
  },
  {
   "cell_type": "code",
   "execution_count": 3,
   "metadata": {},
   "outputs": [
    {
     "name": "stdout",
     "output_type": "stream",
     "text": [
      "동전이 있다\n"
     ]
    }
   ],
   "source": [
    "#x in 리스트 : 리스트 내부에 x가 있느냐?\n",
    "#x in 튜플 :\n",
    "#x in 문자열\n",
    "1 in [1,2,3]\n",
    "1 not in [1,2,3]\n",
    "\n",
    "poc = ['money','cp','coin']\n",
    "if 'coin' in poc:\n",
    "    print('동전이 있다')\n",
    "else:\n",
    "    print('동전이 없다')"
   ]
  },
  {
   "cell_type": "code",
   "execution_count": 4,
   "metadata": {},
   "outputs": [
    {
     "name": "stdout",
     "output_type": "stream",
     "text": [
      "참\n"
     ]
    }
   ],
   "source": [
    "if 0b1010: #0xFFFF: #3.14: #None:\n",
    "    print('참')\n",
    "else:\n",
    "    print('거짓')"
   ]
  },
  {
   "cell_type": "code",
   "execution_count": 5,
   "metadata": {},
   "outputs": [
    {
     "name": "stdout",
     "output_type": "stream",
     "text": [
      "참\n"
     ]
    }
   ],
   "source": [
    "x = 1\n",
    "y = 2\n",
    "\n",
    "if x == 1 and y == 2:\n",
    "    print('참')\n",
    "else:\n",
    "    print('거짓')"
   ]
  },
  {
   "cell_type": "code",
   "execution_count": 6,
   "metadata": {},
   "outputs": [
    {
     "name": "stdout",
     "output_type": "stream",
     "text": [
      "거짓\n"
     ]
    }
   ],
   "source": [
    "if x == 2:\n",
    "    if y == 2:\n",
    "        print('참')\n",
    "    else:\n",
    "        print('거짓')\n",
    "else:\n",
    "    print('거짓')"
   ]
  },
  {
   "cell_type": "code",
   "execution_count": 7,
   "metadata": {},
   "outputs": [
    {
     "name": "stdout",
     "output_type": "stream",
     "text": [
      "20보다 작은 양수\n",
      "20보다 작은 양수\n"
     ]
    }
   ],
   "source": [
    "x = 10\n",
    "if x > 0 and x < 20:\n",
    "    print ('20보다 작은 양수')\n",
    "if 0 < x < 20:\n",
    "    print('20보다 작은 양수')"
   ]
  },
  {
   "cell_type": "code",
   "execution_count": 8,
   "metadata": {},
   "outputs": [
    {
     "name": "stdout",
     "output_type": "stream",
     "text": [
      "택시탄다\n"
     ]
    }
   ],
   "source": [
    "poc = ['cp','paper']\n",
    "card = True\n",
    "if 'money' in poc:\n",
    "    print('택시탄다')\n",
    "else:\n",
    "    if card:\n",
    "        print('택시탄다')\n",
    "    else:\n",
    "        print('걸어간다')"
   ]
  },
  {
   "cell_type": "code",
   "execution_count": 9,
   "metadata": {},
   "outputs": [
    {
     "name": "stdout",
     "output_type": "stream",
     "text": [
      "택시탄다\n"
     ]
    }
   ],
   "source": [
    "poc = ['cp','paper']\n",
    "card = True\n",
    "if 'money' in poc:\n",
    "    print('택시탄다')\n",
    "elif card:\n",
    "        print('택시탄다')\n",
    "else:\n",
    "    print('걸어간다')"
   ]
  },
  {
   "cell_type": "code",
   "execution_count": 10,
   "metadata": {},
   "outputs": [
    {
     "name": "stdout",
     "output_type": "stream",
     "text": [
      "success\n"
     ]
    }
   ],
   "source": [
    "#한 줄로 표현\n",
    "msg = 'success' if x <= 60 else \"failure\"\n",
    "print(msg)\n",
    "#조건이 참인경우 if조건문 else조건문이 거짓"
   ]
  },
  {
   "cell_type": "code",
   "execution_count": 11,
   "metadata": {},
   "outputs": [
    {
     "name": "stdout",
     "output_type": "stream",
     "text": [
      "반복 횟수 입력?2\n",
      "hello 0\n",
      "hello 1\n"
     ]
    }
   ],
   "source": [
    "#for 변수 in range(범위):\n",
    "#    반복코드\n",
    "#for i in range(10,1,-1):  #(1,10)\n",
    "#    print('hi')\n",
    "    \n",
    "cnt = int(input('반복 횟수 입력?'))\n",
    "for i in range(cnt):\n",
    "    print('hello', i)"
   ]
  },
  {
   "cell_type": "code",
   "execution_count": 12,
   "metadata": {},
   "outputs": [
    {
     "name": "stdout",
     "output_type": "stream",
     "text": [
      "n o h t y p "
     ]
    }
   ],
   "source": [
    "a = [1,2,3]\n",
    "a2 = (1,2,3)\n",
    "a3 = 'python'\n",
    "for i in reversed(a3):  #for 변수 in 리스트\n",
    "    print (i, end=\" \")"
   ]
  },
  {
   "cell_type": "code",
   "execution_count": 13,
   "metadata": {},
   "outputs": [
    {
     "name": "stdout",
     "output_type": "stream",
     "text": [
      "hi 0\n",
      "hi 1\n",
      "hi 2\n",
      "hi 3\n",
      "hi 4\n",
      "hi 5\n",
      "hi 6\n",
      "hi 7\n",
      "hi 8\n",
      "hi 9\n"
     ]
    }
   ],
   "source": [
    "#while 조건식:\n",
    "#    수행문장1\n",
    "#    수행문장2\n",
    "#     ,,,,\n",
    "\n",
    "i=0\n",
    "while i < 10:   #i가 10보다 작다는 조건을 만족하는 동안 반복\n",
    "    print ('hi', i)\n",
    "    i+=1"
   ]
  },
  {
   "cell_type": "code",
   "execution_count": 14,
   "metadata": {},
   "outputs": [],
   "source": [
    "prompt = \"\"\"\n",
    "1.add\n",
    "2.del\n",
    "3.list\n",
    "4.quit\n",
    "\n",
    "enter number: \"\"\""
   ]
  },
  {
   "cell_type": "code",
   "execution_count": 15,
   "metadata": {},
   "outputs": [
    {
     "name": "stdout",
     "output_type": "stream",
     "text": [
      "\n",
      "1.add\n",
      "2.del\n",
      "3.list\n",
      "4.quit\n",
      "\n",
      "enter number: \n"
     ]
    }
   ],
   "source": [
    "print(prompt)"
   ]
  },
  {
   "cell_type": "code",
   "execution_count": 16,
   "metadata": {},
   "outputs": [
    {
     "name": "stdout",
     "output_type": "stream",
     "text": [
      "\n",
      "1.add\n",
      "2.del\n",
      "3.list\n",
      "4.quit\n",
      "\n",
      "enter number: \n",
      "3\n",
      "\n",
      "1.add\n",
      "2.del\n",
      "3.list\n",
      "4.quit\n",
      "\n",
      "enter number: \n",
      "4\n"
     ]
    }
   ],
   "source": [
    "number = 0\n",
    "while number != 4:\n",
    "    print(prompt)\n",
    "    number = int(input())"
   ]
  },
  {
   "cell_type": "code",
   "execution_count": 19,
   "metadata": {},
   "outputs": [
    {
     "data": {
      "text/plain": [
       "0.23670634396548418"
      ]
     },
     "execution_count": 19,
     "metadata": {},
     "output_type": "execute_result"
    }
   ],
   "source": [
    "#모듈(파일): 함수들의 묶음(.py or .ipynb)\n",
    "#패키지(폴더): 모듈 또는 서브 패키지의 묶음(하위폴더)\n",
    "#난수(random number): 컴퓨터 임의의 수\n",
    "\n",
    "import random   #random모듈(random.py)를 가져옴\n",
    "random.random()  # 0<= 난수 <1\n",
    "#모듈이름.함수이름"
   ]
  },
  {
   "cell_type": "code",
   "execution_count": 20,
   "metadata": {},
   "outputs": [
    {
     "data": {
      "text/plain": [
       "18"
      ]
     },
     "execution_count": 20,
     "metadata": {},
     "output_type": "execute_result"
    }
   ],
   "source": [
    "#choice함수는  choice(시퀀스형)와 같은 형식으로 작성\n",
    "#무작위로 추출\n",
    "random.choice([1,2,3,4,5,6])\n",
    "random.choice('hello')\n",
    "random.choice(range(10,20))"
   ]
  },
  {
   "cell_type": "code",
   "execution_count": 21,
   "metadata": {},
   "outputs": [
    {
     "name": "stdout",
     "output_type": "stream",
     "text": [
      "0\n",
      "1\n",
      "2\n",
      "3\n",
      "4\n",
      "5\n",
      "6\n",
      "7\n",
      "8\n",
      "9\n"
     ]
    }
   ],
   "source": [
    "#break, continue문은 반복문에서 제어하는 역할\n",
    "#break: 반복문 종료\n",
    "#continue: 특정 반복 문장을 건너뛸때 사용\n",
    "i=0\n",
    "while True:  #무한 반복\n",
    "    print(i)\n",
    "    i+=1\n",
    "    if i == 10:\n",
    "        break  #while문을 종료"
   ]
  },
  {
   "cell_type": "code",
   "execution_count": 22,
   "metadata": {},
   "outputs": [
    {
     "name": "stdout",
     "output_type": "stream",
     "text": [
      "0\n",
      "1\n",
      "2\n",
      "3\n",
      "4\n",
      "5\n",
      "6\n",
      "7\n",
      "8\n",
      "9\n"
     ]
    }
   ],
   "source": [
    "for i in range(100):\n",
    "    print (i)\n",
    "    if i == 9:\n",
    "        break"
   ]
  },
  {
   "cell_type": "code",
   "execution_count": 23,
   "metadata": {},
   "outputs": [
    {
     "name": "stdout",
     "output_type": "stream",
     "text": [
      "1\n",
      "3\n",
      "5\n",
      "7\n",
      "9\n",
      "11\n",
      "13\n",
      "15\n",
      "17\n",
      "19\n",
      "21\n",
      "23\n",
      "25\n",
      "27\n",
      "29\n",
      "31\n",
      "33\n",
      "35\n",
      "37\n",
      "39\n",
      "41\n",
      "43\n",
      "45\n",
      "47\n",
      "49\n",
      "51\n",
      "53\n",
      "55\n",
      "57\n",
      "59\n",
      "61\n",
      "63\n",
      "65\n",
      "67\n",
      "69\n",
      "71\n",
      "73\n",
      "75\n",
      "77\n",
      "79\n",
      "81\n",
      "83\n",
      "85\n",
      "87\n",
      "89\n",
      "91\n",
      "93\n",
      "95\n",
      "97\n",
      "99\n"
     ]
    }
   ],
   "source": [
    "for i in range(100):\n",
    "    if i%2 == 0:  #짝수\n",
    "        continue  #반복문의 시작위치로 이동. 따라서 continue아래에 있는 문장들은 수행하지 않음\n",
    "    print (i)"
   ]
  },
  {
   "cell_type": "code",
   "execution_count": 24,
   "metadata": {},
   "outputs": [
    {
     "name": "stdout",
     "output_type": "stream",
     "text": [
      "2\n",
      "4\n",
      "6\n",
      "8\n",
      "10\n",
      "12\n",
      "14\n",
      "16\n",
      "18\n",
      "20\n",
      "22\n",
      "24\n",
      "26\n",
      "28\n",
      "30\n",
      "32\n",
      "34\n",
      "36\n",
      "38\n",
      "40\n",
      "42\n",
      "44\n",
      "46\n",
      "48\n",
      "50\n",
      "52\n",
      "54\n",
      "56\n",
      "58\n",
      "60\n",
      "62\n",
      "64\n",
      "66\n",
      "68\n",
      "70\n",
      "72\n",
      "74\n",
      "76\n",
      "78\n",
      "80\n",
      "82\n",
      "84\n",
      "86\n",
      "88\n",
      "90\n",
      "92\n",
      "94\n",
      "96\n",
      "98\n"
     ]
    }
   ],
   "source": [
    "#1~100 사이의 수에 대해 짝수만 출력(while문)\n",
    "for i in range(1,100):\n",
    "    if i%2 != 0:\n",
    "        continue\n",
    "    print (i)"
   ]
  },
  {
   "cell_type": "code",
   "execution_count": 25,
   "metadata": {},
   "outputs": [
    {
     "name": "stdout",
     "output_type": "stream",
     "text": [
      "커피가 나옵니다\n",
      "남은 커피는 9잔 입니다\n",
      "잔액은 900원 입니다\n",
      "커피가 나옵니다\n",
      "남은 커피는 8잔 입니다\n",
      "잔액은 700원 입니다\n",
      "커피가 나옵니다\n",
      "남은 커피는 7잔 입니다\n",
      "잔액은 500원 입니다\n",
      "커피가 나옵니다\n",
      "남은 커피는 6잔 입니다\n",
      "잔액은 300원 입니다\n",
      "커피가 나옵니다\n",
      "남은 커피는 5잔 입니다\n",
      "잔액은 100원 입니다\n",
      "커피가 나옵니다\n",
      "남은 커피는 4잔 입니다\n",
      "잔액은 -100원 입니다\n",
      "커피가 나옵니다\n",
      "남은 커피는 3잔 입니다\n",
      "잔액은 -300원 입니다\n",
      "커피가 나옵니다\n",
      "남은 커피는 2잔 입니다\n",
      "잔액은 -500원 입니다\n",
      "커피가 나옵니다\n",
      "남은 커피는 1잔 입니다\n",
      "잔액은 -700원 입니다\n",
      "커피가 나옵니다\n",
      "남은 커피는 0잔 입니다\n",
      "잔액은 -900원 입니다\n",
      "커피가 떨어졌습니다. 판매중지\n"
     ]
    }
   ],
   "source": [
    "coffee=10  #10잔 커피. 1잔=200원\n",
    "money=1100  #천원\n",
    "\n",
    "#잔액이 200원 미만이면 판매가 안되도록\n",
    "\n",
    "while money: \n",
    "    print('커피가 나옵니다')\n",
    "    coffee = coffee-1\n",
    "    money = money-200\n",
    "    print('남은 커피는 %d잔 입니다' %coffee)\n",
    "    print('잔액은 %d원 입니다' %money)\n",
    "\n",
    "    if coffee == 0:\n",
    "        print('커피가 떨어졌습니다. 판매중지')\n",
    "        break"
   ]
  },
  {
   "cell_type": "code",
   "execution_count": 26,
   "metadata": {},
   "outputs": [
    {
     "name": "stdout",
     "output_type": "stream",
     "text": [
      "1\n",
      "2\n",
      "3\n",
      "4\n"
     ]
    }
   ],
   "source": [
    "a = [(1,2),(3,4)] \n",
    "for (data1, data2) in a:\n",
    "    print(data1)\n",
    "    print(data2)"
   ]
  },
  {
   "cell_type": "code",
   "execution_count": 27,
   "metadata": {},
   "outputs": [
    {
     "name": "stdout",
     "output_type": "stream",
     "text": [
      "2 4 6 8 10 12 14 16 18 \n",
      "3 6 9 12 15 18 21 24 27 \n",
      "4 8 12 16 20 24 28 32 36 \n",
      "5 10 15 20 25 30 35 40 45 \n",
      "6 12 18 24 30 36 42 48 54 \n",
      "7 14 21 28 35 42 49 56 63 \n",
      "8 16 24 32 40 48 56 64 72 \n",
      "9 18 27 36 45 54 63 72 81 \n"
     ]
    }
   ],
   "source": [
    "#구구단 2단\n",
    "\n",
    "#i=2\n",
    "#for j in range(1,10):\n",
    "#    print(i*j, end=\" \")\n",
    "    \n",
    "\n",
    "#구구단\n",
    "for j in range(2,10):\n",
    "    for i in range(1,10):\n",
    "        print(i*j, end=\" \")\n",
    "    print()"
   ]
  },
  {
   "cell_type": "code",
   "execution_count": 28,
   "metadata": {},
   "outputs": [
    {
     "name": "stdout",
     "output_type": "stream",
     "text": [
      "*\n",
      "**\n",
      "***\n",
      "****\n",
      "\n"
     ]
    }
   ],
   "source": [
    "#*\n",
    "#**\n",
    "#***\n",
    "#****\n",
    "\n",
    "for i in range(1,5):\n",
    "    print ('*'*i)\n",
    "print()"
   ]
  },
  {
   "cell_type": "code",
   "execution_count": 29,
   "metadata": {},
   "outputs": [
    {
     "name": "stdout",
     "output_type": "stream",
     "text": [
      "* * * * "
     ]
    }
   ],
   "source": [
    "for i in range(4):        #줄\n",
    "    for j in range(4):    #별의 개수\n",
    "        if j <= i:\n",
    "            print(\"*\", end=\" \")\n",
    "            break\n",
    "        print()"
   ]
  },
  {
   "cell_type": "code",
   "execution_count": 30,
   "metadata": {},
   "outputs": [
    {
     "name": "stdout",
     "output_type": "stream",
     "text": [
      "*\n",
      " *\n",
      "  *\n",
      "   *\n",
      "\n"
     ]
    }
   ],
   "source": [
    "# *\n",
    "#  *\n",
    "#   *\n",
    "#    *\n",
    "\n",
    "for i in range(1,5):\n",
    "    print(' '*(i-1)+'*')\n",
    "print()"
   ]
  },
  {
   "cell_type": "code",
   "execution_count": 31,
   "metadata": {},
   "outputs": [
    {
     "name": "stdout",
     "output_type": "stream",
     "text": [
      "* \n",
      " \n",
      " \n",
      " \n",
      " \n",
      "* \n",
      " \n",
      " \n",
      " \n",
      " \n",
      "* \n",
      " \n",
      " \n",
      " \n",
      " \n",
      "* \n"
     ]
    }
   ],
   "source": [
    "for i in range(4):        #줄\n",
    "    for j in range(4):    #별의 개수\n",
    "        if j == i:\n",
    "            print(\"*\", end=\" \")\n",
    "#            break\n",
    "        else:\n",
    "            print(' ', end=\"\")\n",
    "        print()       "
   ]
  },
  {
   "cell_type": "code",
   "execution_count": 32,
   "metadata": {},
   "outputs": [
    {
     "name": "stdout",
     "output_type": "stream",
     "text": [
      "[4]\n"
     ]
    }
   ],
   "source": [
    "#리스트 내포\n",
    "#리스트 내부에 for문을 포함\n",
    "x = [1,2,3]\n",
    "res=[]\n",
    "#for n in x:\n",
    "#    res.append(n*2)\n",
    "#print(res)\n",
    "\n",
    "#res = [ n for n in x  ]\n",
    "# [ 표현식 for 변수 in 반복기능형]\n",
    "\n",
    "#res = [ n*2 for n in x  ]\n",
    "# x에서 데이터를 n으로 읽어들인 후\n",
    "# n에 2를 곱한 값으로 리스트에 저장\n",
    "\n",
    "res=[ n*2 for n in x  if n%2 == 0 ]\n",
    "# [ 표현식 for 변수 in 반복기능형. if 조건문 ]\n",
    "# x에서 데이터를 n으로 읽어들인 후\n",
    "# 만약에 n이 짝수이면\n",
    "# n에 2를 곱한 값으로 리스트에 저장\n",
    "\n",
    "\n",
    "\n",
    "print(res)"
   ]
  },
  {
   "cell_type": "code",
   "execution_count": 33,
   "metadata": {},
   "outputs": [
    {
     "name": "stdout",
     "output_type": "stream",
     "text": [
      "[2, 4, 6, 8, 10, 12, 14, 16, 18, 3, 6, 9, 12, 15, 18, 21, 24, 27, 4, 8, 12, 16, 20, 24, 28, 32, 36, 5, 10, 15, 20, 25, 30, 35, 40, 45, 6, 12, 18, 24, 30, 36, 42, 48, 54, 7, 14, 21, 28, 35, 42, 49, 56, 63, 8, 16, 24, 32, 40, 48, 56, 64, 72, 9, 18, 27, 36, 45, 54, 63, 72, 81]\n"
     ]
    }
   ],
   "source": [
    "res = [  y*x  for y in range(2,10) for x in range(1,10)  ]\n",
    "print(res)\n",
    "\n",
    "#출력: [2,4,6,8,....81]"
   ]
  },
  {
   "cell_type": "code",
   "execution_count": 34,
   "metadata": {},
   "outputs": [
    {
     "name": "stdout",
     "output_type": "stream",
     "text": [
      "2\n",
      "6\n",
      "3\n",
      "{'김지완', '박영서', '이재영', '이유덕', '강상희', '최승혁', '전경헌', '김재성', '이성연', '박민호', '송정환', '권종표'}\n",
      "['강상희', '권종표', '김재성', '김지완', '박민호', '박영서', '송정환', '이성연', '이유덕', '이재영', '전경헌', '최승혁']\n"
     ]
    }
   ],
   "source": [
    "data = \"이유덕,이재영,권종표,이재영,박민호,강상희,이재영,김지완,최승혁,이성연,박영서,박민호,전경헌,송정환,김재성,이유덕,전경헌\"\n",
    "\n",
    "n = (list(data.split(\",\")))\n",
    "\n",
    "print(data.count('김'))\n",
    "print(data. count('이'))\n",
    "\n",
    "print(data.count('이재영'))\n",
    "\n",
    "print(set(n))\n",
    "\n",
    "a = list(set(n))\n",
    "a.sort()\n",
    "print(a)"
   ]
  },
  {
   "cell_type": "code",
   "execution_count": 44,
   "metadata": {},
   "outputs": [
    {
     "name": "stdout",
     "output_type": "stream",
     "text": [
      "17\n",
      "['이유덕', '이재영', '권종표', '이재영', '박민호', '강상희', '이재영', '김지완', '최승혁', '이성연', '박영서', '박민호', '전경헌', '송정환', '김재성', '이유덕', '전경헌']\n",
      "43\n",
      "['이유덕', '이재영', '권종표', '이재영', '박민호', '강상희', '이재영', '김지완', '최승혁', '이성연', '박영서', '박민호', '전경헌', '송정환', '김재성', '이유덕', '전경헌']\n",
      "9\n",
      "['이유덕', '이재영', '권종표', '이재영', '박민호', '강상희', '이재영', '김지완', '최승혁', '이성연', '박영서', '박민호', '전경헌', '송정환', '김재성', '이유덕', '전경헌']\n",
      "36\n",
      "['이유덕', '이재영', '권종표', '이재영', '박민호', '강상희', '이재영', '김지완', '최승혁', '이성연', '박영서', '박민호', '전경헌', '송정환', '김재성', '이유덕', '전경헌']\n",
      "28\n",
      "['이유덕', '이재영', '권종표', '이재영', '박민호', '강상희', '이재영', '김지완', '최승혁', '이성연', '박영서', '박민호', '전경헌', '송정환', '김재성', '이유덕', '전경헌']\n",
      "27\n",
      "['이유덕', '이재영', '권종표', '이재영', '박민호', '강상희', '이재영', '김지완', '최승혁', '이성연', '박영서', '박민호', '전경헌', '송정환', '김재성', '이유덕', '전경헌']\n"
     ]
    }
   ],
   "source": [
    "i=0\n",
    "while i!=6:\n",
    "    print(random.randint(1,45))\n",
    "    print(n)\n",
    "    i+=1"
   ]
  },
  {
   "cell_type": "code",
   "execution_count": 45,
   "metadata": {},
   "outputs": [
    {
     "name": "stdout",
     "output_type": "stream",
     "text": [
      "커피가 나옵니다\n",
      "남은 커피는 9잔 입니다\n",
      "잔액은 900원 입니다\n",
      "커피가 나옵니다\n",
      "남은 커피는 8잔 입니다\n",
      "잔액은 700원 입니다\n",
      "커피가 나옵니다\n",
      "남은 커피는 7잔 입니다\n",
      "잔액은 500원 입니다\n",
      "커피가 나옵니다\n",
      "남은 커피는 6잔 입니다\n",
      "잔액은 300원 입니다\n",
      "커피가 나옵니다\n",
      "남은 커피는 5잔 입니다\n",
      "잔액은 100원 입니다\n",
      "잔액이 부족합니다.\n"
     ]
    }
   ],
   "source": [
    "#8\n",
    "\n",
    "#잔액이 200원 미만이면 판매가 안되도록\n",
    "\n",
    "\n",
    "coffee=10  #10잔 커피. 1잔=200원\n",
    "money=1100  #천원\n",
    "\n",
    "\n",
    "while money: \n",
    "    print('커피가 나옵니다')\n",
    "    coffee = coffee-1\n",
    "    money = money-200\n",
    "    print('남은 커피는 %d잔 입니다' %coffee)\n",
    "    print('잔액은 %d원 입니다' %money)\n",
    "    \n",
    "    if money < 200:\n",
    "        print('잔액이 부족합니다.')\n",
    "        break\n",
    "    elif coffee == 0:\n",
    "        print('커피가 떨어졌습니다. 판매중지')\n",
    "        break"
   ]
  },
  {
   "cell_type": "code",
   "execution_count": 46,
   "metadata": {},
   "outputs": [
    {
     "name": "stdout",
     "output_type": "stream",
     "text": [
      "  *\n",
      " ***\n",
      "*****\n",
      "\n"
     ]
    }
   ],
   "source": [
    "for i in range(1,4):     \n",
    "    print(' '*(3-i) + '*'*(2*i-1))\n",
    "print()"
   ]
  }
 ],
 "metadata": {
  "kernelspec": {
   "display_name": "Python 3",
   "language": "python",
   "name": "python3"
  },
  "language_info": {
   "codemirror_mode": {
    "name": "ipython",
    "version": 3
   },
   "file_extension": ".py",
   "mimetype": "text/x-python",
   "name": "python",
   "nbconvert_exporter": "python",
   "pygments_lexer": "ipython3",
   "version": "3.7.4"
  }
 },
 "nbformat": 4,
 "nbformat_minor": 2
}
