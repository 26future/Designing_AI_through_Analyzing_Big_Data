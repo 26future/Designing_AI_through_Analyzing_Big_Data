{
 "cells": [
  {
   "cell_type": "code",
   "execution_count": null,
   "metadata": {},
   "outputs": [],
   "source": [
    "\"\"\"\n",
    "1. 연락처 입력 클래스 -> 객체(개인)\n",
    " 전화번호, 이메일, \n",
    "2. 연락처 출력\n",
    "3. 연락처 삭제\n",
    " 동명이인이 존재하는 경우, 선택해서 삭제\n",
    "\"\"\""
   ]
  },
  {
   "cell_type": "code",
   "execution_count": 4,
   "metadata": {},
   "outputs": [],
   "source": [
    "import re\n",
    "import pandas as pd\n",
    "from pandas import DataFrame as df\n",
    "import numpy as np\n",
    "import warnings\n",
    "warnings.filterwarnings(action='ignore')"
   ]
  },
  {
   "cell_type": "code",
   "execution_count": null,
   "metadata": {},
   "outputs": [],
   "source": [
    "# 전화번호부 생성\n",
    "\n",
    "df = pd.DataFrame([], columns=['이름','전화번호','이메일'])\n",
    "df.to_csv(\"contacts.csv\", mode='a', index_label=False)\n",
    "display(df)"
   ]
  },
  {
   "cell_type": "code",
   "execution_count": null,
   "metadata": {},
   "outputs": [],
   "source": [
    "# 기능 선택\n",
    "choice = input(\"메뉴를 선택하세요\\n1.연락처 저장\\n2.연락처 검색\\n3.연락처 삭제\\n\")\n",
    "choice"
   ]
  },
  {
   "cell_type": "code",
   "execution_count": 8,
   "metadata": {
    "scrolled": false
   },
   "outputs": [
    {
     "data": {
      "text/html": [
       "<div>\n",
       "<style scoped>\n",
       "    .dataframe tbody tr th:only-of-type {\n",
       "        vertical-align: middle;\n",
       "    }\n",
       "\n",
       "    .dataframe tbody tr th {\n",
       "        vertical-align: top;\n",
       "    }\n",
       "\n",
       "    .dataframe thead th {\n",
       "        text-align: right;\n",
       "    }\n",
       "</style>\n",
       "<table border=\"1\" class=\"dataframe\">\n",
       "  <thead>\n",
       "    <tr style=\"text-align: right;\">\n",
       "      <th></th>\n",
       "      <th>이름</th>\n",
       "      <th>전화번호</th>\n",
       "      <th>이메일</th>\n",
       "    </tr>\n",
       "  </thead>\n",
       "  <tbody>\n",
       "    <tr>\n",
       "      <td>0</td>\n",
       "      <td>홍길동</td>\n",
       "      <td>010-1111-1234</td>\n",
       "      <td>1234@test.com</td>\n",
       "    </tr>\n",
       "    <tr>\n",
       "      <td>1</td>\n",
       "      <td>홍길동</td>\n",
       "      <td>010-1234-1234</td>\n",
       "      <td>1235@test.com</td>\n",
       "    </tr>\n",
       "  </tbody>\n",
       "</table>\n",
       "</div>"
      ],
      "text/plain": [
       "    이름           전화번호            이메일\n",
       "0  홍길동  010-1111-1234  1234@test.com\n",
       "1  홍길동  010-1234-1234  1235@test.com"
      ]
     },
     "metadata": {},
     "output_type": "display_data"
    },
    {
     "name": "stdout",
     "output_type": "stream",
     "text": [
      "이름:홍길순\n",
      "전화번호:010-4444-5555\n",
      "이메일:66@test.com\n",
      "['홍길순', '010-4444-5555', '66@test.com']\n"
     ]
    }
   ],
   "source": [
    "#1 연락처 저장\n",
    "\n",
    "if choice==1:\n",
    "\n",
    "    def contact_input():\n",
    "        name = input(\"이름:\")\n",
    "        number = input(\"전화번호:\")\n",
    "        email = input(\"이메일:\")\n",
    "        info = [name, number, email]\n",
    "        print(info)\n",
    "        patterns = ['[가-힣]{2,4}','\\d{2,3}[-]\\d{3,4}[-]\\d{4}', '.+[@].+[.].+' ]\n",
    "    \n",
    "        flag = True\n",
    "\n",
    "        for i in range(3):\n",
    "            if not re.match(\"'\"+patterns[i]+\"'\",\"'\"+info[i]+\"'\"):\n",
    "                flag = False\n",
    "        if flag:\n",
    "            new_info = pd.DataFrame({\"이름\":[name],\n",
    "                                     \"전화번호\":[number],\n",
    "                                     \"이메일\":[email]})\n",
    "            global df\n",
    "            df = df.append(new_info, ignore_index=True)\n",
    "        else:\n",
    "            print('다시 입력하세요')\n",
    "            contact_input()\n",
    "    display(df)\n",
    "    contact_input()"
   ]
  },
  {
   "cell_type": "code",
   "execution_count": 9,
   "metadata": {
    "scrolled": false
   },
   "outputs": [
    {
     "data": {
      "text/html": [
       "<div>\n",
       "<style scoped>\n",
       "    .dataframe tbody tr th:only-of-type {\n",
       "        vertical-align: middle;\n",
       "    }\n",
       "\n",
       "    .dataframe tbody tr th {\n",
       "        vertical-align: top;\n",
       "    }\n",
       "\n",
       "    .dataframe thead th {\n",
       "        text-align: right;\n",
       "    }\n",
       "</style>\n",
       "<table border=\"1\" class=\"dataframe\">\n",
       "  <thead>\n",
       "    <tr style=\"text-align: right;\">\n",
       "      <th></th>\n",
       "      <th>이름</th>\n",
       "      <th>전화번호</th>\n",
       "      <th>이메일</th>\n",
       "    </tr>\n",
       "  </thead>\n",
       "  <tbody>\n",
       "    <tr>\n",
       "      <td>0</td>\n",
       "      <td>홍길동</td>\n",
       "      <td>010-1111-1234</td>\n",
       "      <td>1234@test.com</td>\n",
       "    </tr>\n",
       "    <tr>\n",
       "      <td>1</td>\n",
       "      <td>홍길동</td>\n",
       "      <td>010-1234-1234</td>\n",
       "      <td>1235@test.com</td>\n",
       "    </tr>\n",
       "    <tr>\n",
       "      <td>2</td>\n",
       "      <td>홍길순</td>\n",
       "      <td>010-4444-5555</td>\n",
       "      <td>66@test.com</td>\n",
       "    </tr>\n",
       "  </tbody>\n",
       "</table>\n",
       "</div>"
      ],
      "text/plain": [
       "    이름           전화번호            이메일\n",
       "0  홍길동  010-1111-1234  1234@test.com\n",
       "1  홍길동  010-1234-1234  1235@test.com\n",
       "2  홍길순  010-4444-5555    66@test.com"
      ]
     },
     "execution_count": 9,
     "metadata": {},
     "output_type": "execute_result"
    }
   ],
   "source": [
    "#1 연락처 출력\n",
    "\n",
    "pd.read_csv(\"contacts.csv\")\n",
    "df"
   ]
  },
  {
   "cell_type": "code",
   "execution_count": 14,
   "metadata": {
    "scrolled": true
   },
   "outputs": [
    {
     "name": "stdout",
     "output_type": "stream",
     "text": [
      "이름으로 검색:홍길도\n",
      "존재하지 않는 이름입니다\n",
      "이름으로 검색:홍길순\n",
      "이름                홍길순\n",
      "전화번호    010-4444-5555\n",
      "이메일       66@test.com\n",
      "Name: 2, dtype: object\n"
     ]
    }
   ],
   "source": [
    "#2 연락처 검색\n",
    "\n",
    "elif choice==2:\n",
    "\n",
    "    def search():\n",
    "\n",
    "        n1 = input(\"이름으로 검색:\")\n",
    "        search_name = df.iloc[:,0].isin([n1]).tolist()\n",
    "\n",
    "        if search_name.count(True)==1:\n",
    "            index1 = search_name.index(True)\n",
    "            print(df.iloc[index1])\n",
    "\n",
    "        elif search_name.count(True)==0:\n",
    "            print('존재하지 않는 이름입니다\\n')\n",
    "            search()\n",
    "    \n",
    "        else:\n",
    "            print('중복된 이름이 있습니다\\n번호로 검색하세요')\n",
    "            n2 = input(\"번호로 검색:\")\n",
    "            search_number = df.iloc[:,1].isin([n2]).tolist()\n",
    "            index2 = search_number.index(True)\n",
    "            print(df.iloc[index2])\n",
    "\n",
    "    search()"
   ]
  },
  {
   "cell_type": "code",
   "execution_count": 20,
   "metadata": {},
   "outputs": [
    {
     "name": "stdout",
     "output_type": "stream",
     "text": [
      "이름으로 검색:홍길동\n",
      "중복된 이름이 있습니다\n",
      "번호로 검색하세요\n",
      "번호로 검색:010-1234-1234\n",
      "None\n"
     ]
    },
    {
     "data": {
      "text/html": [
       "<div>\n",
       "<style scoped>\n",
       "    .dataframe tbody tr th:only-of-type {\n",
       "        vertical-align: middle;\n",
       "    }\n",
       "\n",
       "    .dataframe tbody tr th {\n",
       "        vertical-align: top;\n",
       "    }\n",
       "\n",
       "    .dataframe thead th {\n",
       "        text-align: right;\n",
       "    }\n",
       "</style>\n",
       "<table border=\"1\" class=\"dataframe\">\n",
       "  <thead>\n",
       "    <tr style=\"text-align: right;\">\n",
       "      <th></th>\n",
       "      <th>이름</th>\n",
       "      <th>전화번호</th>\n",
       "      <th>이메일</th>\n",
       "    </tr>\n",
       "  </thead>\n",
       "  <tbody>\n",
       "    <tr>\n",
       "      <td>0</td>\n",
       "      <td>홍길동</td>\n",
       "      <td>010-1111-1234</td>\n",
       "      <td>1234@test.com</td>\n",
       "    </tr>\n",
       "    <tr>\n",
       "      <td>2</td>\n",
       "      <td>홍길순</td>\n",
       "      <td>010-4444-5555</td>\n",
       "      <td>66@test.com</td>\n",
       "    </tr>\n",
       "  </tbody>\n",
       "</table>\n",
       "</div>"
      ],
      "text/plain": [
       "    이름           전화번호            이메일\n",
       "0  홍길동  010-1111-1234  1234@test.com\n",
       "2  홍길순  010-4444-5555    66@test.com"
      ]
     },
     "metadata": {},
     "output_type": "display_data"
    }
   ],
   "source": [
    "#3 연락처 삭제\n",
    "\n",
    "elif choice==3:\n",
    "\n",
    "    def delete():\n",
    "\n",
    "        n3 = input(\"이름으로 검색:\")\n",
    "        delete_name = df.iloc[:,0].isin([n3]).tolist()\n",
    "\n",
    "        if delete_name.count(True)==1:\n",
    "            index3 = delete_name.index(True)\n",
    "            print(df.drop[index3], inplace=True)\n",
    "\n",
    "\n",
    "        elif delete_name.count(True)==0:\n",
    "            print('존재하지 않는 이름입니다\\n')\n",
    "            delete()\n",
    "    \n",
    "        else:\n",
    "            print('중복된 이름이 있습니다\\n번호로 검색하세요')\n",
    "            n4 = input(\"번호로 검색:\")\n",
    "            delete_number = df.iloc[:,1].isin([n4]).tolist()\n",
    "            index4 = delete_number.index(True)\n",
    "            print(df.drop([index4],inplace=True))\n",
    "\n",
    "\n",
    "    delete()\n",
    "    display(df)"
   ]
  },
  {
   "cell_type": "code",
   "execution_count": null,
   "metadata": {},
   "outputs": [],
   "source": [
    "#2 연락처 검색\n",
    "\n",
    "import pandas as pd\n",
    "\n",
    "find_name = input(\"이름:\")+'.csv'\n",
    "df=pd.read_csv(find_name, encoding='cp949')\n",
    "df.index=['전화번호','이메일']\n",
    "df"
   ]
  },
  {
   "cell_type": "code",
   "execution_count": null,
   "metadata": {},
   "outputs": [],
   "source": [
    "class Contact:\n",
    "    def __init__(self. name, tel, email, addr)\n",
    "        self.name=name\n",
    "        ...\n",
    "    def info(self)\n",
    "    print(\"이름:\", self.name)\n",
    "    ...\n",
    "    \n",
    "def run():\n",
    "    hong=Contact('홍길동','010-1111-1111','test@test.com','seoul')\n",
    "    hong.info()\n",
    "    \n",
    "run()"
   ]
  }
 ],
 "metadata": {
  "kernelspec": {
   "display_name": "Python 3",
   "language": "python",
   "name": "python3"
  },
  "language_info": {
   "codemirror_mode": {
    "name": "ipython",
    "version": 3
   },
   "file_extension": ".py",
   "mimetype": "text/x-python",
   "name": "python",
   "nbconvert_exporter": "python",
   "pygments_lexer": "ipython3",
   "version": "3.7.4"
  }
 },
 "nbformat": 4,
 "nbformat_minor": 2
}
