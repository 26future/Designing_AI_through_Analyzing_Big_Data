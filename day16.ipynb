{
 "cells": [
  {
   "cell_type": "code",
   "execution_count": 1,
   "metadata": {},
   "outputs": [],
   "source": [
    "import pandas as pd\n",
    "import numpy as np"
   ]
  },
  {
   "cell_type": "code",
   "execution_count": 4,
   "metadata": {},
   "outputs": [
    {
     "data": {
      "text/html": [
       "<div>\n",
       "<style scoped>\n",
       "    .dataframe tbody tr th:only-of-type {\n",
       "        vertical-align: middle;\n",
       "    }\n",
       "\n",
       "    .dataframe tbody tr th {\n",
       "        vertical-align: top;\n",
       "    }\n",
       "\n",
       "    .dataframe thead th {\n",
       "        text-align: right;\n",
       "    }\n",
       "</style>\n",
       "<table border=\"1\" class=\"dataframe\">\n",
       "  <thead>\n",
       "    <tr style=\"text-align: right;\">\n",
       "      <th></th>\n",
       "      <th>c1</th>\n",
       "      <th>c2</th>\n",
       "      <th>c3</th>\n",
       "    </tr>\n",
       "  </thead>\n",
       "  <tbody>\n",
       "    <tr>\n",
       "      <td>0</td>\n",
       "      <td>NaN</td>\n",
       "      <td>-1.664565</td>\n",
       "      <td>1.258943</td>\n",
       "    </tr>\n",
       "    <tr>\n",
       "      <td>1</td>\n",
       "      <td>1.503723</td>\n",
       "      <td>0.972318</td>\n",
       "      <td>0.631922</td>\n",
       "    </tr>\n",
       "    <tr>\n",
       "      <td>2</td>\n",
       "      <td>1.055574</td>\n",
       "      <td>-0.944618</td>\n",
       "      <td>0.060752</td>\n",
       "    </tr>\n",
       "    <tr>\n",
       "      <td>3</td>\n",
       "      <td>-0.256559</td>\n",
       "      <td>0.071092</td>\n",
       "      <td>-0.183709</td>\n",
       "    </tr>\n",
       "    <tr>\n",
       "      <td>4</td>\n",
       "      <td>1.227573</td>\n",
       "      <td>-0.377581</td>\n",
       "      <td>-0.112560</td>\n",
       "    </tr>\n",
       "  </tbody>\n",
       "</table>\n",
       "</div>"
      ],
      "text/plain": [
       "         c1        c2        c3\n",
       "0       NaN -1.664565  1.258943\n",
       "1  1.503723  0.972318  0.631922\n",
       "2  1.055574 -0.944618  0.060752\n",
       "3 -0.256559  0.071092 -0.183709\n",
       "4  1.227573 -0.377581 -0.112560"
      ]
     },
     "execution_count": 4,
     "metadata": {},
     "output_type": "execute_result"
    }
   ],
   "source": [
    "df = pd.DataFrame(np.random.randn(5,3),\n",
    "                columns=['c1','c2','c3'])  #5행3열의 난수 발생\n",
    "df\n",
    "df.iloc[0,0] = None #np.nan\n",
    "df"
   ]
  },
  {
   "cell_type": "code",
   "execution_count": 8,
   "metadata": {},
   "outputs": [
    {
     "data": {
      "text/html": [
       "<div>\n",
       "<style scoped>\n",
       "    .dataframe tbody tr th:only-of-type {\n",
       "        vertical-align: middle;\n",
       "    }\n",
       "\n",
       "    .dataframe tbody tr th {\n",
       "        vertical-align: top;\n",
       "    }\n",
       "\n",
       "    .dataframe thead th {\n",
       "        text-align: right;\n",
       "    }\n",
       "</style>\n",
       "<table border=\"1\" class=\"dataframe\">\n",
       "  <thead>\n",
       "    <tr style=\"text-align: right;\">\n",
       "      <th></th>\n",
       "      <th>c1</th>\n",
       "      <th>c2</th>\n",
       "      <th>c3</th>\n",
       "    </tr>\n",
       "  </thead>\n",
       "  <tbody>\n",
       "    <tr>\n",
       "      <td>0</td>\n",
       "      <td>NaN</td>\n",
       "      <td>-1.664565</td>\n",
       "      <td>1.258943</td>\n",
       "    </tr>\n",
       "    <tr>\n",
       "      <td>1</td>\n",
       "      <td>NaN</td>\n",
       "      <td>0.972318</td>\n",
       "      <td>NaN</td>\n",
       "    </tr>\n",
       "    <tr>\n",
       "      <td>2</td>\n",
       "      <td>1.055574</td>\n",
       "      <td>NaN</td>\n",
       "      <td>0.060752</td>\n",
       "    </tr>\n",
       "    <tr>\n",
       "      <td>3</td>\n",
       "      <td>-0.256559</td>\n",
       "      <td>NaN</td>\n",
       "      <td>-0.183709</td>\n",
       "    </tr>\n",
       "    <tr>\n",
       "      <td>4</td>\n",
       "      <td>1.227573</td>\n",
       "      <td>-0.377581</td>\n",
       "      <td>NaN</td>\n",
       "    </tr>\n",
       "  </tbody>\n",
       "</table>\n",
       "</div>"
      ],
      "text/plain": [
       "         c1        c2        c3\n",
       "0       NaN -1.664565  1.258943\n",
       "1       NaN  0.972318       NaN\n",
       "2  1.055574       NaN  0.060752\n",
       "3 -0.256559       NaN -0.183709\n",
       "4  1.227573 -0.377581       NaN"
      ]
     },
     "execution_count": 8,
     "metadata": {},
     "output_type": "execute_result"
    }
   ],
   "source": [
    "df.loc[1,['c1','c3']] = np.NaN\n",
    "df\n",
    "df.loc[2,['c2']] = None\n",
    "df.loc[3,['c2']] = None\n",
    "df.loc[4,['c3']] = None\n",
    "df"
   ]
  },
  {
   "cell_type": "code",
   "execution_count": 11,
   "metadata": {},
   "outputs": [
    {
     "data": {
      "text/html": [
       "<div>\n",
       "<style scoped>\n",
       "    .dataframe tbody tr th:only-of-type {\n",
       "        vertical-align: middle;\n",
       "    }\n",
       "\n",
       "    .dataframe tbody tr th {\n",
       "        vertical-align: top;\n",
       "    }\n",
       "\n",
       "    .dataframe thead th {\n",
       "        text-align: right;\n",
       "    }\n",
       "</style>\n",
       "<table border=\"1\" class=\"dataframe\">\n",
       "  <thead>\n",
       "    <tr style=\"text-align: right;\">\n",
       "      <th></th>\n",
       "      <th>c1</th>\n",
       "      <th>c2</th>\n",
       "      <th>c3</th>\n",
       "    </tr>\n",
       "  </thead>\n",
       "  <tbody>\n",
       "    <tr>\n",
       "      <td>0</td>\n",
       "      <td>NaN</td>\n",
       "      <td>-1.664565</td>\n",
       "      <td>1.258943</td>\n",
       "    </tr>\n",
       "    <tr>\n",
       "      <td>1</td>\n",
       "      <td>NaN</td>\n",
       "      <td>0.972318</td>\n",
       "      <td>1.258943</td>\n",
       "    </tr>\n",
       "    <tr>\n",
       "      <td>2</td>\n",
       "      <td>1.055574</td>\n",
       "      <td>0.972318</td>\n",
       "      <td>0.060752</td>\n",
       "    </tr>\n",
       "    <tr>\n",
       "      <td>3</td>\n",
       "      <td>-0.256559</td>\n",
       "      <td>0.972318</td>\n",
       "      <td>-0.183709</td>\n",
       "    </tr>\n",
       "    <tr>\n",
       "      <td>4</td>\n",
       "      <td>1.227573</td>\n",
       "      <td>-0.377581</td>\n",
       "      <td>-0.183709</td>\n",
       "    </tr>\n",
       "  </tbody>\n",
       "</table>\n",
       "</div>"
      ],
      "text/plain": [
       "         c1        c2        c3\n",
       "0       NaN -1.664565  1.258943\n",
       "1       NaN  0.972318  1.258943\n",
       "2  1.055574  0.972318  0.060752\n",
       "3 -0.256559  0.972318 -0.183709\n",
       "4  1.227573 -0.377581 -0.183709"
      ]
     },
     "execution_count": 11,
     "metadata": {},
     "output_type": "execute_result"
    }
   ],
   "source": [
    "#NaN이 들어가 있는 자리를 모두 0으로 대체\n",
    "df.fillna(0)\n",
    "df.fillna(method='ffill')"
   ]
  },
  {
   "cell_type": "code",
   "execution_count": 29,
   "metadata": {},
   "outputs": [
    {
     "data": {
      "text/html": [
       "<div>\n",
       "<style scoped>\n",
       "    .dataframe tbody tr th:only-of-type {\n",
       "        vertical-align: middle;\n",
       "    }\n",
       "\n",
       "    .dataframe tbody tr th {\n",
       "        vertical-align: top;\n",
       "    }\n",
       "\n",
       "    .dataframe thead th {\n",
       "        text-align: right;\n",
       "    }\n",
       "</style>\n",
       "<table border=\"1\" class=\"dataframe\">\n",
       "  <thead>\n",
       "    <tr style=\"text-align: right;\">\n",
       "      <th></th>\n",
       "      <th>c1</th>\n",
       "      <th>c2</th>\n",
       "      <th>c3</th>\n",
       "    </tr>\n",
       "  </thead>\n",
       "  <tbody>\n",
       "    <tr>\n",
       "      <td>0</td>\n",
       "      <td>0.675529</td>\n",
       "      <td>-1.664565</td>\n",
       "      <td>1.258943</td>\n",
       "    </tr>\n",
       "    <tr>\n",
       "      <td>1</td>\n",
       "      <td>0.675529</td>\n",
       "      <td>0.972318</td>\n",
       "      <td>0.675529</td>\n",
       "    </tr>\n",
       "    <tr>\n",
       "      <td>2</td>\n",
       "      <td>1.055574</td>\n",
       "      <td>0.675529</td>\n",
       "      <td>0.060752</td>\n",
       "    </tr>\n",
       "    <tr>\n",
       "      <td>3</td>\n",
       "      <td>-0.256559</td>\n",
       "      <td>0.675529</td>\n",
       "      <td>-0.183709</td>\n",
       "    </tr>\n",
       "    <tr>\n",
       "      <td>4</td>\n",
       "      <td>1.227573</td>\n",
       "      <td>-0.377581</td>\n",
       "      <td>0.675529</td>\n",
       "    </tr>\n",
       "  </tbody>\n",
       "</table>\n",
       "</div>"
      ],
      "text/plain": [
       "         c1        c2        c3\n",
       "0  0.675529 -1.664565  1.258943\n",
       "1  0.675529  0.972318  0.675529\n",
       "2  1.055574  0.675529  0.060752\n",
       "3 -0.256559  0.675529 -0.183709\n",
       "4  1.227573 -0.377581  0.675529"
      ]
     },
     "execution_count": 29,
     "metadata": {},
     "output_type": "execute_result"
    }
   ],
   "source": [
    "df.fillna(df.mean()) #NaN을 평균값으로 대체\n",
    "df.where(pd.notnull(df),df.mean(), axis='columns')  #null이 아닌 데이터에 대해 평균을 구하기\n",
    "                                                    #df.where(조건,실행)->조건이 거짓일때 실행\n",
    "\n",
    "df.fillna(df.mean()['c1']) #NaN에 'c1'의 평균값으로 대체"
   ]
  },
  {
   "cell_type": "code",
   "execution_count": 26,
   "metadata": {},
   "outputs": [
    {
     "data": {
      "text/plain": [
       "array([1. , 2. , 3. , 1. , 2. , 3. , 0.1, 0.2])"
      ]
     },
     "execution_count": 26,
     "metadata": {},
     "output_type": "execute_result"
    }
   ],
   "source": [
    "arr = np.array([1,2,3,10,20,30,0.1,0.2])\n",
    "np.min(arr)  #최솟값 출력\n",
    "np.argmin(arr)  #최솟값이 있는 위치의 인덱스\n",
    "np.max(arr)\n",
    "np.argmax(arr)\n",
    "np.where(arr<1)  #where함수는 조건문 사용 -> 출력값: 인덱스\n",
    "np.where(arr>=10,0,arr)\n",
    "#np.where(조건,참,거짓) =>  참->0으로 대체, 거짓->arr 그대로 출력\n",
    "np.where(arr>=10,arr*0.1,arr)"
   ]
  },
  {
   "cell_type": "code",
   "execution_count": 34,
   "metadata": {},
   "outputs": [
    {
     "data": {
      "text/html": [
       "<div>\n",
       "<style scoped>\n",
       "    .dataframe tbody tr th:only-of-type {\n",
       "        vertical-align: middle;\n",
       "    }\n",
       "\n",
       "    .dataframe tbody tr th {\n",
       "        vertical-align: top;\n",
       "    }\n",
       "\n",
       "    .dataframe thead th {\n",
       "        text-align: right;\n",
       "    }\n",
       "</style>\n",
       "<table border=\"1\" class=\"dataframe\">\n",
       "  <thead>\n",
       "    <tr style=\"text-align: right;\">\n",
       "      <th></th>\n",
       "      <th>c1</th>\n",
       "      <th>c2</th>\n",
       "      <th>c3</th>\n",
       "    </tr>\n",
       "  </thead>\n",
       "  <tbody>\n",
       "    <tr>\n",
       "      <td>0</td>\n",
       "      <td>0.675529</td>\n",
       "      <td>-1.664565</td>\n",
       "      <td>1.258943</td>\n",
       "    </tr>\n",
       "    <tr>\n",
       "      <td>1</td>\n",
       "      <td>0.675529</td>\n",
       "      <td>0.972318</td>\n",
       "      <td>NaN</td>\n",
       "    </tr>\n",
       "    <tr>\n",
       "      <td>2</td>\n",
       "      <td>1.055574</td>\n",
       "      <td>-0.356610</td>\n",
       "      <td>0.060752</td>\n",
       "    </tr>\n",
       "    <tr>\n",
       "      <td>3</td>\n",
       "      <td>-0.256559</td>\n",
       "      <td>-0.356610</td>\n",
       "      <td>-0.183709</td>\n",
       "    </tr>\n",
       "    <tr>\n",
       "      <td>4</td>\n",
       "      <td>1.227573</td>\n",
       "      <td>-0.377581</td>\n",
       "      <td>NaN</td>\n",
       "    </tr>\n",
       "  </tbody>\n",
       "</table>\n",
       "</div>"
      ],
      "text/plain": [
       "         c1        c2        c3\n",
       "0  0.675529 -1.664565  1.258943\n",
       "1  0.675529  0.972318       NaN\n",
       "2  1.055574 -0.356610  0.060752\n",
       "3 -0.256559 -0.356610 -0.183709\n",
       "4  1.227573 -0.377581       NaN"
      ]
     },
     "execution_count": 34,
     "metadata": {},
     "output_type": "execute_result"
    }
   ],
   "source": [
    "df.fillna(df.mean()['c1':'c2'])"
   ]
  },
  {
   "cell_type": "code",
   "execution_count": 43,
   "metadata": {},
   "outputs": [],
   "source": [
    "import warnings\n",
    "warnings.filterwarnings(action='ignore')"
   ]
  },
  {
   "cell_type": "code",
   "execution_count": 58,
   "metadata": {},
   "outputs": [
    {
     "data": {
      "text/html": [
       "<div>\n",
       "<style scoped>\n",
       "    .dataframe tbody tr th:only-of-type {\n",
       "        vertical-align: middle;\n",
       "    }\n",
       "\n",
       "    .dataframe tbody tr th {\n",
       "        vertical-align: top;\n",
       "    }\n",
       "\n",
       "    .dataframe thead th {\n",
       "        text-align: right;\n",
       "    }\n",
       "</style>\n",
       "<table border=\"1\" class=\"dataframe\">\n",
       "  <thead>\n",
       "    <tr style=\"text-align: right;\">\n",
       "      <th></th>\n",
       "      <th>c1</th>\n",
       "      <th>c2</th>\n",
       "      <th>c2p</th>\n",
       "    </tr>\n",
       "  </thead>\n",
       "  <tbody>\n",
       "    <tr>\n",
       "      <td>0</td>\n",
       "      <td>1</td>\n",
       "      <td>6.0</td>\n",
       "      <td>6.0</td>\n",
       "    </tr>\n",
       "    <tr>\n",
       "      <td>1</td>\n",
       "      <td>2</td>\n",
       "      <td>NaN</td>\n",
       "      <td>2.0</td>\n",
       "    </tr>\n",
       "    <tr>\n",
       "      <td>2</td>\n",
       "      <td>3</td>\n",
       "      <td>8.0</td>\n",
       "      <td>8.0</td>\n",
       "    </tr>\n",
       "    <tr>\n",
       "      <td>3</td>\n",
       "      <td>4</td>\n",
       "      <td>NaN</td>\n",
       "      <td>4.0</td>\n",
       "    </tr>\n",
       "    <tr>\n",
       "      <td>4</td>\n",
       "      <td>5</td>\n",
       "      <td>10.0</td>\n",
       "      <td>10.0</td>\n",
       "    </tr>\n",
       "  </tbody>\n",
       "</table>\n",
       "</div>"
      ],
      "text/plain": [
       "   c1    c2   c2p\n",
       "0   1   6.0   6.0\n",
       "1   2   NaN   2.0\n",
       "2   3   8.0   8.0\n",
       "3   4   NaN   4.0\n",
       "4   5  10.0  10.0"
      ]
     },
     "execution_count": 58,
     "metadata": {},
     "output_type": "execute_result"
    }
   ],
   "source": [
    "df = pd.DataFrame({'c1':[1,2,3,4,5],\n",
    "              'c2':[6,7,8,9,10]})\n",
    "df.loc[[1,3],['c2']] = np.nan  \n",
    "df\n",
    "#c2p열에는 c2열 값이 notnull이면 c2열 값을,\n",
    "# c2열 값이 null이면 c1열 값으로 채우고자 함\n",
    "# df['c2p'] = np.where(조건,참,거짓)\n",
    "df['c2p'] = np.where(pd.notnull(df['c2'])==True, df['c2'],df['c1'])\n",
    "df\n",
    "\n",
    "#반복문으로 변경\n",
    "for i in df.index:\n",
    "    if pd.notnull(df.ix[i,'c2'])==True:\n",
    "        df.loc[i,'c2p'] = df.ix[i,'c2']\n",
    "    else:\n",
    "        df.loc[i,'c2p'] = df.ix[i,'c1']\n",
    "df"
   ]
  },
  {
   "cell_type": "code",
   "execution_count": 59,
   "metadata": {},
   "outputs": [
    {
     "data": {
      "text/html": [
       "<div>\n",
       "<style scoped>\n",
       "    .dataframe tbody tr th:only-of-type {\n",
       "        vertical-align: middle;\n",
       "    }\n",
       "\n",
       "    .dataframe tbody tr th {\n",
       "        vertical-align: top;\n",
       "    }\n",
       "\n",
       "    .dataframe thead th {\n",
       "        text-align: right;\n",
       "    }\n",
       "</style>\n",
       "<table border=\"1\" class=\"dataframe\">\n",
       "  <thead>\n",
       "    <tr style=\"text-align: right;\">\n",
       "      <th></th>\n",
       "      <th>c1</th>\n",
       "      <th>c2</th>\n",
       "    </tr>\n",
       "  </thead>\n",
       "  <tbody>\n",
       "    <tr>\n",
       "      <td>0</td>\n",
       "      <td>1</td>\n",
       "      <td>6.0</td>\n",
       "    </tr>\n",
       "    <tr>\n",
       "      <td>1</td>\n",
       "      <td>2</td>\n",
       "      <td>NaN</td>\n",
       "    </tr>\n",
       "    <tr>\n",
       "      <td>2</td>\n",
       "      <td>3</td>\n",
       "      <td>8.0</td>\n",
       "    </tr>\n",
       "    <tr>\n",
       "      <td>3</td>\n",
       "      <td>4</td>\n",
       "      <td>NaN</td>\n",
       "    </tr>\n",
       "    <tr>\n",
       "      <td>4</td>\n",
       "      <td>5</td>\n",
       "      <td>10.0</td>\n",
       "    </tr>\n",
       "  </tbody>\n",
       "</table>\n",
       "</div>"
      ],
      "text/plain": [
       "   c1    c2\n",
       "0   1   6.0\n",
       "1   2   NaN\n",
       "2   3   8.0\n",
       "3   4   NaN\n",
       "4   5  10.0"
      ]
     },
     "execution_count": 59,
     "metadata": {},
     "output_type": "execute_result"
    }
   ],
   "source": [
    "#dropna 메서드: 열(axis=1)/행(axis=0) 제거\n",
    "\n",
    "df = pd.DataFrame({'c1':[1,2,3,4,5],\n",
    "              'c2':[6,7,8,9,10]})\n",
    "df.loc[[1,3],['c2']] = np.nan  \n",
    "df"
   ]
  },
  {
   "cell_type": "code",
   "execution_count": 64,
   "metadata": {},
   "outputs": [
    {
     "data": {
      "text/html": [
       "<div>\n",
       "<style scoped>\n",
       "    .dataframe tbody tr th:only-of-type {\n",
       "        vertical-align: middle;\n",
       "    }\n",
       "\n",
       "    .dataframe tbody tr th {\n",
       "        vertical-align: top;\n",
       "    }\n",
       "\n",
       "    .dataframe thead th {\n",
       "        text-align: right;\n",
       "    }\n",
       "</style>\n",
       "<table border=\"1\" class=\"dataframe\">\n",
       "  <thead>\n",
       "    <tr style=\"text-align: right;\">\n",
       "      <th></th>\n",
       "      <th>c1</th>\n",
       "      <th>c2</th>\n",
       "    </tr>\n",
       "  </thead>\n",
       "  <tbody>\n",
       "    <tr>\n",
       "      <td>0</td>\n",
       "      <td>1</td>\n",
       "      <td>6.0</td>\n",
       "    </tr>\n",
       "    <tr>\n",
       "      <td>2</td>\n",
       "      <td>3</td>\n",
       "      <td>8.0</td>\n",
       "    </tr>\n",
       "    <tr>\n",
       "      <td>4</td>\n",
       "      <td>5</td>\n",
       "      <td>10.0</td>\n",
       "    </tr>\n",
       "  </tbody>\n",
       "</table>\n",
       "</div>"
      ],
      "text/plain": [
       "   c1    c2\n",
       "0   1   6.0\n",
       "2   3   8.0\n",
       "4   5  10.0"
      ]
     },
     "execution_count": 64,
     "metadata": {},
     "output_type": "execute_result"
    }
   ],
   "source": [
    "df.dropna(axis=0)  #결측값이 있는 행 전체 제거\n",
    "df.dropna(axis=1)  #결측값이 있는 열 전체 제거\n",
    "df[['c1','c2']].dropna()  #df.dropna(axis=0)\n",
    "#axis=0 default"
   ]
  },
  {
   "cell_type": "code",
   "execution_count": 73,
   "metadata": {},
   "outputs": [
    {
     "data": {
      "text/plain": [
       "DatetimeIndex(['2020-01-13', '2020-01-16', '2020-01-17', '2020-01-20'], dtype='datetime64[ns]', freq=None)"
      ]
     },
     "execution_count": 73,
     "metadata": {},
     "output_type": "execute_result"
    }
   ],
   "source": [
    "#결측값 보간(interpolate)\n",
    "\"\"\"\n",
    "1.시계열 데이터에 대해 선형적으로 비례하는 값\n",
    "0\n",
    "2\n",
    "4\n",
    "na -> 6\n",
    "8\n",
    "2.이미지 보간: 그라데이션과 비슷\n",
    "\"\"\"\n",
    "from datetime import datetime\n",
    "#datetime모듈에 있는 datetime함수를 가져옴\n",
    "dateStr = ['1/13/2020','1/16/2020','1/17/2020','1/20/2020']\n",
    "dates = pd.to_datetime(dateStr)\n",
    "dates"
   ]
  },
  {
   "cell_type": "code",
   "execution_count": 75,
   "metadata": {},
   "outputs": [
    {
     "data": {
      "text/plain": [
       "2020-01-13     1.0\n",
       "2020-01-16     NaN\n",
       "2020-01-17     NaN\n",
       "2020-01-20    10.0\n",
       "dtype: float64"
      ]
     },
     "execution_count": 75,
     "metadata": {},
     "output_type": "execute_result"
    }
   ],
   "source": [
    "ts = pd.Series([1,np.nan,np.nan,10], index=dates)\n",
    "ts"
   ]
  },
  {
   "cell_type": "code",
   "execution_count": 76,
   "metadata": {},
   "outputs": [
    {
     "data": {
      "text/plain": [
       "2020-01-13     1.0\n",
       "2020-01-16     4.0\n",
       "2020-01-17     7.0\n",
       "2020-01-20    10.0\n",
       "dtype: float64"
      ]
     },
     "execution_count": 76,
     "metadata": {},
     "output_type": "execute_result"
    }
   ],
   "source": [
    "tslr = ts.interpolate() #method=values : 선형적으로 비례하게 결측값을 보간\n",
    "tslr"
   ]
  },
  {
   "cell_type": "code",
   "execution_count": 78,
   "metadata": {},
   "outputs": [
    {
     "data": {
      "text/plain": [
       "2020-01-13     1.000000\n",
       "2020-01-16     4.857143\n",
       "2020-01-17          NaN\n",
       "2020-01-20    10.000000\n",
       "dtype: float64"
      ]
     },
     "execution_count": 78,
     "metadata": {},
     "output_type": "execute_result"
    }
   ],
   "source": [
    "tsTime = ts.interpolate(method='time', limit=1) #limit: 보간하고자 하는 결측값의 수\n",
    "tsTime"
   ]
  },
  {
   "cell_type": "code",
   "execution_count": null,
   "metadata": {},
   "outputs": [],
   "source": [
    "#na를 대체: fillna, replace\n",
    "#fillna: na를 다른 값으로 대체\n",
    "#replace: na뿐만 아니라 다른 모든 값에 대해서도 대체 가능\n",
    "#결측값/실측값 대상 데이터 교체"
   ]
  },
  {
   "cell_type": "code",
   "execution_count": 87,
   "metadata": {},
   "outputs": [
    {
     "data": {
      "text/plain": [
       "0    10.0\n",
       "1    20.0\n",
       "2    30.0\n",
       "3    10.0\n",
       "4    99.0\n",
       "dtype: float64"
      ]
     },
     "execution_count": 87,
     "metadata": {},
     "output_type": "execute_result"
    }
   ],
   "source": [
    "s = pd.Series([1,2,3,4,np.nan])\n",
    "s\n",
    "#replace: 결측값/실측값 변경\n",
    "s.replace(3,9)  #3->9\n",
    "s.replace(np.NaN,5) #nan->5\n",
    "s.replace([1,2,3],[6,7,8]) #1,2,3->6,7,8\n",
    "\n",
    "s = pd.Series([1,2,3,1,np.nan])\n",
    "s.replace([1,2,3],[6,7,8]) #일대일 대응\n",
    "s.replace([1,2,3,np.nan],[10,20,30,99])"
   ]
  },
  {
   "cell_type": "code",
   "execution_count": 90,
   "metadata": {},
   "outputs": [
    {
     "data": {
      "text/plain": [
       "0     5.0\n",
       "1     2.0\n",
       "2    30.0\n",
       "3     5.0\n",
       "4    99.0\n",
       "dtype: float64"
      ]
     },
     "execution_count": 90,
     "metadata": {},
     "output_type": "execute_result"
    }
   ],
   "source": [
    "s\n",
    "s.replace({1:5,3:30,np.NaN:99}) #{원래값:변경값}"
   ]
  },
  {
   "cell_type": "code",
   "execution_count": 102,
   "metadata": {},
   "outputs": [
    {
     "data": {
      "text/html": [
       "<div>\n",
       "<style scoped>\n",
       "    .dataframe tbody tr th:only-of-type {\n",
       "        vertical-align: middle;\n",
       "    }\n",
       "\n",
       "    .dataframe tbody tr th {\n",
       "        vertical-align: top;\n",
       "    }\n",
       "\n",
       "    .dataframe thead th {\n",
       "        text-align: right;\n",
       "    }\n",
       "</style>\n",
       "<table border=\"1\" class=\"dataframe\">\n",
       "  <thead>\n",
       "    <tr style=\"text-align: right;\">\n",
       "      <th></th>\n",
       "      <th>c1</th>\n",
       "      <th>c2</th>\n",
       "      <th>c3</th>\n",
       "    </tr>\n",
       "  </thead>\n",
       "  <tbody>\n",
       "    <tr>\n",
       "      <td>0</td>\n",
       "      <td>aaa</td>\n",
       "      <td>1</td>\n",
       "      <td>5.0</td>\n",
       "    </tr>\n",
       "    <tr>\n",
       "      <td>1</td>\n",
       "      <td>b</td>\n",
       "      <td>2</td>\n",
       "      <td>6.0</td>\n",
       "    </tr>\n",
       "    <tr>\n",
       "      <td>2</td>\n",
       "      <td>c</td>\n",
       "      <td>3</td>\n",
       "      <td>7.0</td>\n",
       "    </tr>\n",
       "    <tr>\n",
       "      <td>3</td>\n",
       "      <td>d</td>\n",
       "      <td>4</td>\n",
       "      <td>NaN</td>\n",
       "    </tr>\n",
       "  </tbody>\n",
       "</table>\n",
       "</div>"
      ],
      "text/plain": [
       "    c1  c2   c3\n",
       "0  aaa   1  5.0\n",
       "1    b   2  6.0\n",
       "2    c   3  7.0\n",
       "3    d   4  NaN"
      ]
     },
     "execution_count": 102,
     "metadata": {},
     "output_type": "execute_result"
    }
   ],
   "source": [
    "#데이터프레임에서 replace 적용\n",
    "df = pd.DataFrame({'c1':['aaa','b','c','d'],\n",
    "                 'c2':[1,2,3,4],\n",
    "                 'c3':[5,6,7,np.nan]})\n",
    "df.replace({'c1':'aaa'},{'c1':'bbb'})\n",
    "df.replace({'c3':'np.NaN'},{'c3':99})"
   ]
  },
  {
   "cell_type": "code",
   "execution_count": null,
   "metadata": {},
   "outputs": [],
   "source": [
    "#병합: 중복 데이터 발생\n",
    "#중복데이터 여부: duplicated()\n",
    "#중복데이터 처리: drop_duplicates() 한 개만 남겨놓고 나머지는 제거"
   ]
  },
  {
   "cell_type": "code",
   "execution_count": 104,
   "metadata": {},
   "outputs": [
    {
     "data": {
      "text/html": [
       "<div>\n",
       "<style scoped>\n",
       "    .dataframe tbody tr th:only-of-type {\n",
       "        vertical-align: middle;\n",
       "    }\n",
       "\n",
       "    .dataframe tbody tr th {\n",
       "        vertical-align: top;\n",
       "    }\n",
       "\n",
       "    .dataframe thead th {\n",
       "        text-align: right;\n",
       "    }\n",
       "</style>\n",
       "<table border=\"1\" class=\"dataframe\">\n",
       "  <thead>\n",
       "    <tr style=\"text-align: right;\">\n",
       "      <th></th>\n",
       "      <th>k1</th>\n",
       "      <th>k2</th>\n",
       "      <th>col</th>\n",
       "    </tr>\n",
       "  </thead>\n",
       "  <tbody>\n",
       "    <tr>\n",
       "      <td>0</td>\n",
       "      <td>a</td>\n",
       "      <td>x</td>\n",
       "      <td>10</td>\n",
       "    </tr>\n",
       "    <tr>\n",
       "      <td>1</td>\n",
       "      <td>b</td>\n",
       "      <td>y</td>\n",
       "      <td>20</td>\n",
       "    </tr>\n",
       "    <tr>\n",
       "      <td>2</td>\n",
       "      <td>b</td>\n",
       "      <td>y</td>\n",
       "      <td>30</td>\n",
       "    </tr>\n",
       "    <tr>\n",
       "      <td>3</td>\n",
       "      <td>c</td>\n",
       "      <td>x</td>\n",
       "      <td>40</td>\n",
       "    </tr>\n",
       "    <tr>\n",
       "      <td>4</td>\n",
       "      <td>c</td>\n",
       "      <td>z</td>\n",
       "      <td>50</td>\n",
       "    </tr>\n",
       "  </tbody>\n",
       "</table>\n",
       "</div>"
      ],
      "text/plain": [
       "  k1 k2  col\n",
       "0  a  x   10\n",
       "1  b  y   20\n",
       "2  b  y   30\n",
       "3  c  x   40\n",
       "4  c  z   50"
      ]
     },
     "execution_count": 104,
     "metadata": {},
     "output_type": "execute_result"
    }
   ],
   "source": [
    "df = pd.DataFrame({'k1':['a','b','b','c','c'],\n",
    "                   'k2':['x','y','y','x','z'],\n",
    "                   'col':[10,20,30,40,50]})\n",
    "df"
   ]
  },
  {
   "cell_type": "code",
   "execution_count": 107,
   "metadata": {},
   "outputs": [
    {
     "data": {
      "text/plain": [
       "0    False\n",
       "1    False\n",
       "2     True\n",
       "3    False\n",
       "4    False\n",
       "dtype: bool"
      ]
     },
     "execution_count": 107,
     "metadata": {},
     "output_type": "execute_result"
    }
   ],
   "source": [
    "df.duplicated(['k1'])\n",
    "df.duplicated(['k2'])\n",
    "df.duplicated(['k1','k2'])"
   ]
  },
  {
   "cell_type": "code",
   "execution_count": 112,
   "metadata": {},
   "outputs": [
    {
     "data": {
      "text/plain": [
       "0    False\n",
       "1     True\n",
       "2     True\n",
       "3     True\n",
       "4     True\n",
       "dtype: bool"
      ]
     },
     "execution_count": 112,
     "metadata": {},
     "output_type": "execute_result"
    }
   ],
   "source": [
    "df.duplicated(['k1'], keep='first') #keep='first' default\n",
    "df.duplicated(['k1'], keep='last')\n",
    "df.duplicated(['k1'], keep=False) #중복은 모두 True"
   ]
  },
  {
   "cell_type": "code",
   "execution_count": 116,
   "metadata": {},
   "outputs": [
    {
     "data": {
      "text/html": [
       "<div>\n",
       "<style scoped>\n",
       "    .dataframe tbody tr th:only-of-type {\n",
       "        vertical-align: middle;\n",
       "    }\n",
       "\n",
       "    .dataframe tbody tr th {\n",
       "        vertical-align: top;\n",
       "    }\n",
       "\n",
       "    .dataframe thead th {\n",
       "        text-align: right;\n",
       "    }\n",
       "</style>\n",
       "<table border=\"1\" class=\"dataframe\">\n",
       "  <thead>\n",
       "    <tr style=\"text-align: right;\">\n",
       "      <th></th>\n",
       "      <th>k1</th>\n",
       "      <th>k2</th>\n",
       "      <th>col</th>\n",
       "    </tr>\n",
       "  </thead>\n",
       "  <tbody>\n",
       "    <tr>\n",
       "      <td>0</td>\n",
       "      <td>b</td>\n",
       "      <td>x</td>\n",
       "      <td>10</td>\n",
       "    </tr>\n",
       "    <tr>\n",
       "      <td>1</td>\n",
       "      <td>b</td>\n",
       "      <td>y</td>\n",
       "      <td>20</td>\n",
       "    </tr>\n",
       "    <tr>\n",
       "      <td>2</td>\n",
       "      <td>b</td>\n",
       "      <td>y</td>\n",
       "      <td>30</td>\n",
       "    </tr>\n",
       "    <tr>\n",
       "      <td>3</td>\n",
       "      <td>c</td>\n",
       "      <td>x</td>\n",
       "      <td>40</td>\n",
       "    </tr>\n",
       "    <tr>\n",
       "      <td>4</td>\n",
       "      <td>c</td>\n",
       "      <td>z</td>\n",
       "      <td>50</td>\n",
       "    </tr>\n",
       "  </tbody>\n",
       "</table>\n",
       "</div>"
      ],
      "text/plain": [
       "  k1 k2  col\n",
       "0  b  x   10\n",
       "1  b  y   20\n",
       "2  b  y   30\n",
       "3  c  x   40\n",
       "4  c  z   50"
      ]
     },
     "execution_count": 116,
     "metadata": {},
     "output_type": "execute_result"
    }
   ],
   "source": [
    "df = pd.DataFrame({'k1':['b','b','b','c','c'],\n",
    "                   'k2':['x','y','y','x','z'],\n",
    "                  'col':[10,20,30,40,50]})\n",
    "df"
   ]
  },
  {
   "cell_type": "code",
   "execution_count": 118,
   "metadata": {},
   "outputs": [
    {
     "data": {
      "text/plain": [
       "0    True\n",
       "1    True\n",
       "2    True\n",
       "3    True\n",
       "4    True\n",
       "dtype: bool"
      ]
     },
     "execution_count": 118,
     "metadata": {},
     "output_type": "execute_result"
    }
   ],
   "source": [
    "df.duplicated(['k1'], keep='first') #keep='first' : default\n",
    "df.duplicated(['k1'], keep='last')\n",
    "df.duplicated(['k1'], keep=False) #중복은 모두 True"
   ]
  },
  {
   "cell_type": "code",
   "execution_count": 119,
   "metadata": {},
   "outputs": [
    {
     "data": {
      "text/html": [
       "<div>\n",
       "<style scoped>\n",
       "    .dataframe tbody tr th:only-of-type {\n",
       "        vertical-align: middle;\n",
       "    }\n",
       "\n",
       "    .dataframe tbody tr th {\n",
       "        vertical-align: top;\n",
       "    }\n",
       "\n",
       "    .dataframe thead th {\n",
       "        text-align: right;\n",
       "    }\n",
       "</style>\n",
       "<table border=\"1\" class=\"dataframe\">\n",
       "  <thead>\n",
       "    <tr style=\"text-align: right;\">\n",
       "      <th></th>\n",
       "      <th>k1</th>\n",
       "      <th>k2</th>\n",
       "      <th>col</th>\n",
       "    </tr>\n",
       "  </thead>\n",
       "  <tbody>\n",
       "    <tr>\n",
       "      <td>0</td>\n",
       "      <td>b</td>\n",
       "      <td>x</td>\n",
       "      <td>10</td>\n",
       "    </tr>\n",
       "    <tr>\n",
       "      <td>1</td>\n",
       "      <td>b</td>\n",
       "      <td>y</td>\n",
       "      <td>20</td>\n",
       "    </tr>\n",
       "    <tr>\n",
       "      <td>2</td>\n",
       "      <td>b</td>\n",
       "      <td>y</td>\n",
       "      <td>30</td>\n",
       "    </tr>\n",
       "    <tr>\n",
       "      <td>3</td>\n",
       "      <td>c</td>\n",
       "      <td>x</td>\n",
       "      <td>40</td>\n",
       "    </tr>\n",
       "    <tr>\n",
       "      <td>4</td>\n",
       "      <td>c</td>\n",
       "      <td>z</td>\n",
       "      <td>50</td>\n",
       "    </tr>\n",
       "  </tbody>\n",
       "</table>\n",
       "</div>"
      ],
      "text/plain": [
       "  k1 k2  col\n",
       "0  b  x   10\n",
       "1  b  y   20\n",
       "2  b  y   30\n",
       "3  c  x   40\n",
       "4  c  z   50"
      ]
     },
     "execution_count": 119,
     "metadata": {},
     "output_type": "execute_result"
    }
   ],
   "source": [
    "df"
   ]
  },
  {
   "cell_type": "code",
   "execution_count": 122,
   "metadata": {},
   "outputs": [
    {
     "data": {
      "text/html": [
       "<div>\n",
       "<style scoped>\n",
       "    .dataframe tbody tr th:only-of-type {\n",
       "        vertical-align: middle;\n",
       "    }\n",
       "\n",
       "    .dataframe tbody tr th {\n",
       "        vertical-align: top;\n",
       "    }\n",
       "\n",
       "    .dataframe thead th {\n",
       "        text-align: right;\n",
       "    }\n",
       "</style>\n",
       "<table border=\"1\" class=\"dataframe\">\n",
       "  <thead>\n",
       "    <tr style=\"text-align: right;\">\n",
       "      <th></th>\n",
       "      <th>k1</th>\n",
       "      <th>k2</th>\n",
       "      <th>col</th>\n",
       "    </tr>\n",
       "  </thead>\n",
       "  <tbody>\n",
       "  </tbody>\n",
       "</table>\n",
       "</div>"
      ],
      "text/plain": [
       "Empty DataFrame\n",
       "Columns: [k1, k2, col]\n",
       "Index: []"
      ]
     },
     "execution_count": 122,
     "metadata": {},
     "output_type": "execute_result"
    }
   ],
   "source": [
    "#중복값 제거(1개만 살리고 나머지 중복은 제거)\n",
    "df.drop_duplicates(['k1']) #keep='first' : default\n",
    "df.drop_duplicates(['k1'], keep='last')\n",
    "df.drop_duplicates(['k1'], keep=False) #중복값 모두 제거"
   ]
  },
  {
   "cell_type": "code",
   "execution_count": null,
   "metadata": {},
   "outputs": [],
   "source": [
    "#유일한 값: unique()\n",
    "#유일한 값 개수 세기: value_counts()"
   ]
  },
  {
   "cell_type": "code",
   "execution_count": 123,
   "metadata": {},
   "outputs": [
    {
     "data": {
      "text/html": [
       "<div>\n",
       "<style scoped>\n",
       "    .dataframe tbody tr th:only-of-type {\n",
       "        vertical-align: middle;\n",
       "    }\n",
       "\n",
       "    .dataframe tbody tr th {\n",
       "        vertical-align: top;\n",
       "    }\n",
       "\n",
       "    .dataframe thead th {\n",
       "        text-align: right;\n",
       "    }\n",
       "</style>\n",
       "<table border=\"1\" class=\"dataframe\">\n",
       "  <thead>\n",
       "    <tr style=\"text-align: right;\">\n",
       "      <th></th>\n",
       "      <th>a</th>\n",
       "      <th>b</th>\n",
       "      <th>c</th>\n",
       "    </tr>\n",
       "  </thead>\n",
       "  <tbody>\n",
       "    <tr>\n",
       "      <td>0</td>\n",
       "      <td>a1</td>\n",
       "      <td>b1</td>\n",
       "      <td>1</td>\n",
       "    </tr>\n",
       "    <tr>\n",
       "      <td>1</td>\n",
       "      <td>a1</td>\n",
       "      <td>b1</td>\n",
       "      <td>1</td>\n",
       "    </tr>\n",
       "    <tr>\n",
       "      <td>2</td>\n",
       "      <td>a2</td>\n",
       "      <td>b2</td>\n",
       "      <td>3</td>\n",
       "    </tr>\n",
       "    <tr>\n",
       "      <td>3</td>\n",
       "      <td>a2</td>\n",
       "      <td>b2</td>\n",
       "      <td>4</td>\n",
       "    </tr>\n",
       "    <tr>\n",
       "      <td>4</td>\n",
       "      <td>a3</td>\n",
       "      <td>NaN</td>\n",
       "      <td>4</td>\n",
       "    </tr>\n",
       "  </tbody>\n",
       "</table>\n",
       "</div>"
      ],
      "text/plain": [
       "    a    b  c\n",
       "0  a1   b1  1\n",
       "1  a1   b1  1\n",
       "2  a2   b2  3\n",
       "3  a2   b2  4\n",
       "4  a3  NaN  4"
      ]
     },
     "execution_count": 123,
     "metadata": {},
     "output_type": "execute_result"
    }
   ],
   "source": [
    "df = pd.DataFrame({'a':['a1','a1','a2','a2','a3'],\n",
    "              'b':['b1','b1','b2','b2',np.nan],\n",
    "              'c':[1,1,3,4,4]})\n",
    "df"
   ]
  },
  {
   "cell_type": "code",
   "execution_count": 127,
   "metadata": {},
   "outputs": [
    {
     "data": {
      "text/plain": [
       "array([1, 3, 4], dtype=int64)"
      ]
     },
     "execution_count": 127,
     "metadata": {},
     "output_type": "execute_result"
    }
   ],
   "source": [
    "df['a'].unique()\n",
    "#help(pd.Series.unique)\n",
    "df['b'].unique()\n",
    "df['c'].unique()"
   ]
  },
  {
   "cell_type": "code",
   "execution_count": 136,
   "metadata": {},
   "outputs": [
    {
     "data": {
      "text/plain": [
       "a3    1\n",
       "a1    2\n",
       "a2    2\n",
       "Name: a, dtype: int64"
      ]
     },
     "execution_count": 136,
     "metadata": {},
     "output_type": "execute_result"
    }
   ],
   "source": [
    "#유일값 개수 세기\n",
    "#help(pd.Series.value_counts)\n",
    "#normalize=디폴트(False): 개수, True:상대비율\n",
    "df['a'].value_counts(normalize=False)\n",
    "#normalize=False :디폴트\n",
    "df['a'].value_counts(normalize=True) #비율\n",
    "\n",
    "#sort=True : 개수 기준 정렬, False: 유일값 개수 기준 정렬\n",
    "df['a'].value_counts(normalize=False, sort=True, \n",
    "                                       ascending=True)  #ascending=True : 오름차순 정렬"
   ]
  },
  {
   "cell_type": "code",
   "execution_count": 140,
   "metadata": {},
   "outputs": [
    {
     "data": {
      "text/plain": [
       "1    2\n",
       "3    1\n",
       "4    2\n",
       "Name: c, dtype: int64"
      ]
     },
     "execution_count": 140,
     "metadata": {},
     "output_type": "execute_result"
    }
   ],
   "source": [
    "df['c'].value_counts(sort=True, ascending=False)\n",
    "#default: sort=True, ascending=False\n",
    "#유일한 값의 개수를 기준으로 내림차순\n",
    "\n",
    "df['c'].value_counts(sort=True, ascending=True)\n",
    "#유일한 값의 개수를 기준으로 오름차순\n",
    "df['c'].value_counts(sort=False)\n",
    "#정렬 기준이 없음"
   ]
  },
  {
   "cell_type": "code",
   "execution_count": 141,
   "metadata": {},
   "outputs": [
    {
     "data": {
      "text/html": [
       "<div>\n",
       "<style scoped>\n",
       "    .dataframe tbody tr th:only-of-type {\n",
       "        vertical-align: middle;\n",
       "    }\n",
       "\n",
       "    .dataframe tbody tr th {\n",
       "        vertical-align: top;\n",
       "    }\n",
       "\n",
       "    .dataframe thead th {\n",
       "        text-align: right;\n",
       "    }\n",
       "</style>\n",
       "<table border=\"1\" class=\"dataframe\">\n",
       "  <thead>\n",
       "    <tr style=\"text-align: right;\">\n",
       "      <th></th>\n",
       "      <th>a</th>\n",
       "      <th>b</th>\n",
       "      <th>c</th>\n",
       "    </tr>\n",
       "  </thead>\n",
       "  <tbody>\n",
       "    <tr>\n",
       "      <td>0</td>\n",
       "      <td>a1</td>\n",
       "      <td>b1</td>\n",
       "      <td>1</td>\n",
       "    </tr>\n",
       "    <tr>\n",
       "      <td>1</td>\n",
       "      <td>a1</td>\n",
       "      <td>b1</td>\n",
       "      <td>1</td>\n",
       "    </tr>\n",
       "    <tr>\n",
       "      <td>2</td>\n",
       "      <td>a2</td>\n",
       "      <td>b2</td>\n",
       "      <td>3</td>\n",
       "    </tr>\n",
       "    <tr>\n",
       "      <td>3</td>\n",
       "      <td>a2</td>\n",
       "      <td>b2</td>\n",
       "      <td>4</td>\n",
       "    </tr>\n",
       "    <tr>\n",
       "      <td>4</td>\n",
       "      <td>a3</td>\n",
       "      <td>NaN</td>\n",
       "      <td>4</td>\n",
       "    </tr>\n",
       "  </tbody>\n",
       "</table>\n",
       "</div>"
      ],
      "text/plain": [
       "    a    b  c\n",
       "0  a1   b1  1\n",
       "1  a1   b1  1\n",
       "2  a2   b2  3\n",
       "3  a2   b2  4\n",
       "4  a3  NaN  4"
      ]
     },
     "execution_count": 141,
     "metadata": {},
     "output_type": "execute_result"
    }
   ],
   "source": [
    "df"
   ]
  },
  {
   "cell_type": "code",
   "execution_count": 150,
   "metadata": {},
   "outputs": [
    {
     "data": {
      "text/plain": [
       "(3, 4]    2\n",
       "(0, 1]    2\n",
       "(2, 3]    1\n",
       "(4, 5]    0\n",
       "(1, 2]    0\n",
       "Name: c, dtype: int64"
      ]
     },
     "execution_count": 150,
     "metadata": {},
     "output_type": "execute_result"
    }
   ],
   "source": [
    "df['b'].value_counts()\n",
    "#default : dropna=True =>nan을 제외한 나머지에 대해서 value_counts\n",
    "df['b'].value_counts(dropna=False)\n",
    "\n",
    "df['c'] #1 1 3 4 4\n",
    "#group별 데이터 개수 세기\n",
    "df['c'].value_counts(bins=[0,1,2,3,4,5],sort=False)\n",
    "#( ) : 개구간, [ ] : 폐구간\n",
    "\n",
    "#동일한 결과를 도출하는 코드\n",
    "res = pd.cut(df['c'],bins=[0,1,2,3,4,5])\n",
    "pd.value_counts(res)"
   ]
  },
  {
   "cell_type": "code",
   "execution_count": null,
   "metadata": {},
   "outputs": [],
   "source": [
    "#변수들 간 척도가 다른 경우: 데이터 표준화 (ex.토익과 토플 점수의 비교)\n",
    "#모집단:전체 집단,  \n",
    "#모집단에서 표본 추출->표본 집단 평균, 표준편차.. -> 통계량 => 모평균, 모분산(모수, parameter) 추정\n",
    "\n",
    "\"\"\"\n",
    "모수적방법\n",
    "중심극한정리: 무작위로 복원추출하면, 연속형 자료의 평균에 대한 분포는 정규분포를 띈다\n",
    "-30개 이상의 표본의 경우에 정규분포를 따른다, 가정\n",
    "\n",
    "\n",
    "비모수적방법\n",
    "-10개 미만의 표본의 경우에는 모수적 방법을 사용하지 못함\n",
    "-자료를 크기로 나열->순위 매김->차이 비교\n",
    "\n",
    "\"\"\""
   ]
  },
  {
   "cell_type": "code",
   "execution_count": 151,
   "metadata": {},
   "outputs": [
    {
     "data": {
      "text/plain": [
       "'\\n표준화: (각 데이터-평균) / 표준편차\\n모집단이 정규분포를 따르는 경우에,\\n\\n'"
      ]
     },
     "execution_count": 151,
     "metadata": {},
     "output_type": "execute_result"
    }
   ],
   "source": [
    "\"\"\"\n",
    "표준화: (각 데이터-평균) / 표준편차\n",
    "모집단이 정규분포를 따르는 경우에,\n",
    "평균:0, 표준편차:1인 표준정규분포로 표준화하는 작업\n",
    "1)numpy 2)scipy.stats:zscore 3)sklearn.preprocessing\n",
    "\n",
    "\"\"\""
   ]
  },
  {
   "cell_type": "code",
   "execution_count": 152,
   "metadata": {},
   "outputs": [],
   "source": [
    "from numpy import *"
   ]
  },
  {
   "cell_type": "code",
   "execution_count": 171,
   "metadata": {},
   "outputs": [
    {
     "data": {
      "text/plain": [
       "array([[19, 10, 11, 18, 22],\n",
       "       [ 0, 12, 28, 20, 14],\n",
       "       [ 7, 12, 16,  3, 14],\n",
       "       [24,  3,  6,  2,  9],\n",
       "       [16,  5, 15,  9, 26],\n",
       "       [ 1,  3, 27, 23, 14]])"
      ]
     },
     "execution_count": 171,
     "metadata": {},
     "output_type": "execute_result"
    }
   ],
   "source": [
    "data = np.random.randint(30, size=(6,5))  #0~29사이에 있는 난수, 6행 5열\n",
    "data"
   ]
  },
  {
   "cell_type": "code",
   "execution_count": 172,
   "metadata": {},
   "outputs": [
    {
     "name": "stdout",
     "output_type": "stream",
     "text": [
      "[[ 0.86256684  0.6333005  -0.77200698  0.66575029  0.96352932]\n",
      " [-1.22961656  1.13994089  1.35622848  0.9078413  -0.43796787]\n",
      " [-0.45881215  1.13994089 -0.14605537 -1.14993231 -0.43796787]\n",
      " [ 1.41314142 -1.13994089 -1.39795858 -1.27097782 -1.31390362]\n",
      " [ 0.53222209 -0.6333005  -0.2712457  -0.42365927  1.66427791]\n",
      " [-1.11950165 -1.13994089  1.23103816  1.27097782 -0.43796787]]\n"
     ]
    }
   ],
   "source": [
    "#표준화 방법1\n",
    "\n",
    "#표준화= (각 데이터-평균(각 열))/std(각 열)\n",
    "#np.mean(data) 전체평균:15.16666\n",
    "np.mean(data, axis=0) #각 열의 평균\n",
    "np.mean(data, axis=1) #각 행의 평균\n",
    "\n",
    "# print(data)\n",
    "# print('='*30)\n",
    "# print(np.mean(data, axis=0))\n",
    "# print('='*30)\n",
    "# print(data-np.mean(data, axis=0))\n",
    "# 표준편차:np.std()\n",
    "\n",
    "std_data = (data-np.mean(data, axis=0))/np.std(data, axis=0)\n",
    "print(std_data)\n",
    "\n",
    "#np.std(data) 전체 data에 대한 표준편차\n",
    "#np.std(data, axis=0) #각 열에 대한 표준편차"
   ]
  },
  {
   "cell_type": "code",
   "execution_count": 175,
   "metadata": {},
   "outputs": [
    {
     "data": {
      "text/plain": [
       "array([1., 1., 1., 1., 1.])"
      ]
     },
     "execution_count": 175,
     "metadata": {},
     "output_type": "execute_result"
    }
   ],
   "source": [
    "np.mean(std_data, axis=0) #각 열의 평균:0\n",
    "np.std(std_data, axis=0) #각 열의 표준편차:1\n",
    "np.var(std_data, axis=0) #각 열의 분산:1"
   ]
  },
  {
   "cell_type": "code",
   "execution_count": 177,
   "metadata": {},
   "outputs": [
    {
     "name": "stdout",
     "output_type": "stream",
     "text": [
      "[[ 0.86256684  0.6333005  -0.77200698  0.66575029  0.96352932]\n",
      " [-1.22961656  1.13994089  1.35622848  0.9078413  -0.43796787]\n",
      " [-0.45881215  1.13994089 -0.14605537 -1.14993231 -0.43796787]\n",
      " [ 1.41314142 -1.13994089 -1.39795858 -1.27097782 -1.31390362]\n",
      " [ 0.53222209 -0.6333005  -0.2712457  -0.42365927  1.66427791]\n",
      " [-1.11950165 -1.13994089  1.23103816  1.27097782 -0.43796787]]\n"
     ]
    }
   ],
   "source": [
    "print(std_data)"
   ]
  },
  {
   "cell_type": "code",
   "execution_count": 178,
   "metadata": {},
   "outputs": [],
   "source": [
    "#표준화 방법2\n",
    "\n",
    "import scipy.stats as ss"
   ]
  },
  {
   "cell_type": "code",
   "execution_count": 179,
   "metadata": {},
   "outputs": [
    {
     "data": {
      "text/plain": [
       "array([[ 0.86256684,  0.6333005 , -0.77200698,  0.66575029,  0.96352932],\n",
       "       [-1.22961656,  1.13994089,  1.35622848,  0.9078413 , -0.43796787],\n",
       "       [-0.45881215,  1.13994089, -0.14605537, -1.14993231, -0.43796787],\n",
       "       [ 1.41314142, -1.13994089, -1.39795858, -1.27097782, -1.31390362],\n",
       "       [ 0.53222209, -0.6333005 , -0.2712457 , -0.42365927,  1.66427791],\n",
       "       [-1.11950165, -1.13994089,  1.23103816,  1.27097782, -0.43796787]])"
      ]
     },
     "execution_count": 179,
     "metadata": {},
     "output_type": "execute_result"
    }
   ],
   "source": [
    "data_ss = ss.zscore(data)\n",
    "data_ss"
   ]
  },
  {
   "cell_type": "code",
   "execution_count": 180,
   "metadata": {},
   "outputs": [],
   "source": [
    "#표준화 방법3\n",
    "\n",
    "from sklearn.preprocessing import *"
   ]
  },
  {
   "cell_type": "code",
   "execution_count": 181,
   "metadata": {},
   "outputs": [
    {
     "data": {
      "text/plain": [
       "array([[ 0.86256684,  0.6333005 , -0.77200698,  0.66575029,  0.96352932],\n",
       "       [-1.22961656,  1.13994089,  1.35622848,  0.9078413 , -0.43796787],\n",
       "       [-0.45881215,  1.13994089, -0.14605537, -1.14993231, -0.43796787],\n",
       "       [ 1.41314142, -1.13994089, -1.39795858, -1.27097782, -1.31390362],\n",
       "       [ 0.53222209, -0.6333005 , -0.2712457 , -0.42365927,  1.66427791],\n",
       "       [-1.11950165, -1.13994089,  1.23103816,  1.27097782, -0.43796787]])"
      ]
     },
     "execution_count": 181,
     "metadata": {},
     "output_type": "execute_result"
    }
   ],
   "source": [
    "ss_data = StandardScaler().fit_transform(data)\n",
    "ss_data "
   ]
  },
  {
   "cell_type": "code",
   "execution_count": null,
   "metadata": {},
   "outputs": [],
   "source": [
    "#예외적인 값(이상치, 특이값, outlier)이 들어있는 데이터 표준화\n",
    "#표준정규분포로의 표준화: 이상치, 특이값이 없어야 한다\n",
    "# z=(x-mean)/std\n",
    "\n",
    "#이상치가 데이터에 포함되어 있는 경우에는\n",
    "#표준화를 어떻게?\n",
    "#1) 이상치, 특이값을 찾아서 제거\n",
    "#2) 중앙값(median), IQR을 이용하여 스케일링"
   ]
  },
  {
   "cell_type": "code",
   "execution_count": null,
   "metadata": {},
   "outputs": [],
   "source": [
    "#RobustScaler() : 이상치가 있는 데이터 표준화"
   ]
  },
  {
   "cell_type": "code",
   "execution_count": 183,
   "metadata": {},
   "outputs": [],
   "source": [
    "from sklearn.preprocessing import StandardScaler, RobustScaler\n",
    "import matplotlib.pyplot as plt"
   ]
  },
  {
   "cell_type": "code",
   "execution_count": 184,
   "metadata": {},
   "outputs": [],
   "source": [
    "mu, sigma = 5, 2"
   ]
  },
  {
   "cell_type": "code",
   "execution_count": 187,
   "metadata": {},
   "outputs": [
    {
     "data": {
      "text/plain": [
       "0.9211801721669388"
      ]
     },
     "execution_count": 187,
     "metadata": {},
     "output_type": "execute_result"
    }
   ],
   "source": [
    "np.mean(np.random.randn(100))  #평균\n",
    "np.std(np.random.randn(100)) #표준편차"
   ]
  },
  {
   "cell_type": "code",
   "execution_count": 190,
   "metadata": {},
   "outputs": [
    {
     "data": {
      "text/plain": [
       "array([ 4.84040599,  0.48884127,  3.26386552,  5.18968561,  4.56282571,\n",
       "        7.26727369,  3.05099867,  5.02379852,  8.18715809,  5.24169998,\n",
       "        6.01491205,  2.43893192, 11.13729329,  3.77135344,  6.78013868,\n",
       "        4.636079  ,  4.40325973,  3.00242381,  4.66569469,  5.17153872,\n",
       "        5.97775223,  5.04168713,  4.91078015,  5.08693845,  2.67882616,\n",
       "        4.57527261,  4.03799096,  6.98501853,  5.78706978,  5.5163483 ,\n",
       "        5.12776998,  3.49788474,  5.56231545,  4.89375726,  4.86340584,\n",
       "       -2.30884095,  3.99493798,  4.61731468,  7.20503072,  6.13841343,\n",
       "        3.6620221 ,  3.96446764,  1.72488479,  5.96681439,  4.18526736,\n",
       "        3.02762154,  5.03373519,  5.61612529,  6.10302302,  5.0604313 ,\n",
       "        7.69913238,  4.45566658,  6.10366401,  3.06694165,  3.29553778,\n",
       "        4.78365975,  3.58751113,  2.88536998,  7.31826485,  4.11991908,\n",
       "        7.12852407,  5.68245544,  4.67530151,  3.60562791,  4.2745178 ,\n",
       "        7.02960441,  6.81262265,  2.88806912,  3.43963105,  6.13885907,\n",
       "        5.18717654,  4.42970668,  3.52288077,  7.43557238,  2.66790223,\n",
       "        5.09607138,  6.38506671,  3.54586491,  5.63848275,  5.65849286,\n",
       "        3.77188282,  2.19116685,  4.33485158,  5.61015085,  5.63961797,\n",
       "        0.78908999,  2.3153272 ,  2.95952981,  5.72736906,  8.32268662,\n",
       "        5.26320986,  5.89301849,  3.24854775,  5.51629095,  6.40842225,\n",
       "        6.51051425,  5.81480736,  4.84489779,  8.7308613 ,  4.79261489])"
      ]
     },
     "execution_count": 190,
     "metadata": {},
     "output_type": "execute_result"
    }
   ],
   "source": [
    "x = mu+sigma*np.random.randn(100)\n",
    "x"
   ]
  },
  {
   "cell_type": "code",
   "execution_count": 193,
   "metadata": {},
   "outputs": [
    {
     "data": {
      "text/plain": [
       "1.8326388403545237"
      ]
     },
     "execution_count": 193,
     "metadata": {},
     "output_type": "execute_result"
    },
    {
     "data": {
      "image/png": "[encoded data removed]",
      "text/plain": [
       "<Figure size 432x288 with 1 Axes>"
      ]
     },
     "metadata": {
      "needs_background": "light"
     },
     "output_type": "display_data"
    }
   ],
   "source": [
    "plt.hist(x)  #정규분포를 따르는 데이터\n",
    "np.mean(x)\n",
    "np.std(x)"
   ]
  },
  {
   "cell_type": "code",
   "execution_count": 194,
   "metadata": {},
   "outputs": [
    {
     "data": {
      "text/plain": [
       "array([  4.84040599,   0.48884127,   3.26386552,   5.18968561,\n",
       "         4.56282571,   7.26727369,   3.05099867,   5.02379852,\n",
       "         8.18715809,   5.24169998,   6.01491205,   2.43893192,\n",
       "        11.13729329,   3.77135344,   6.78013868,   4.636079  ,\n",
       "         4.40325973,   3.00242381,   4.66569469,   5.17153872,\n",
       "         5.97775223,   5.04168713,   4.91078015,   5.08693845,\n",
       "         2.67882616,   4.57527261,   4.03799096,   6.98501853,\n",
       "         5.78706978,   5.5163483 ,   5.12776998,   3.49788474,\n",
       "         5.56231545,   4.89375726,   4.86340584,  -2.30884095,\n",
       "         3.99493798,   4.61731468,   7.20503072,   6.13841343,\n",
       "         3.6620221 ,   3.96446764,   1.72488479,   5.96681439,\n",
       "         4.18526736,   3.02762154,   5.03373519,   5.61612529,\n",
       "         6.10302302,   5.0604313 ,   7.69913238,   4.45566658,\n",
       "         6.10366401,   3.06694165,   3.29553778,   4.78365975,\n",
       "         3.58751113,   2.88536998,   7.31826485,   4.11991908,\n",
       "         7.12852407,   5.68245544,   4.67530151,   3.60562791,\n",
       "         4.2745178 ,   7.02960441,   6.81262265,   2.88806912,\n",
       "         3.43963105,   6.13885907,   5.18717654,   4.42970668,\n",
       "         3.52288077,   7.43557238,   2.66790223,   5.09607138,\n",
       "         6.38506671,   3.54586491,   5.63848275,   5.65849286,\n",
       "         3.77188282,   2.19116685,   4.33485158,   5.61015085,\n",
       "         5.63961797,   0.78908999,   2.3153272 ,   2.95952981,\n",
       "         5.72736906,   8.32268662,   5.26320986,   5.89301849,\n",
       "         3.24854775,   5.51629095,   6.40842225,   6.51051425,\n",
       "         5.81480736,   4.84489779, 100.        , 100.        ])"
      ]
     },
     "execution_count": 194,
     "metadata": {},
     "output_type": "execute_result"
    }
   ],
   "source": [
    "x[98:100] = 100\n",
    "x"
   ]
  },
  {
   "cell_type": "code",
   "execution_count": 201,
   "metadata": {},
   "outputs": [
    {
     "data": {
      "text/plain": [
       "(array([ 3., 26., 47., 18.,  2.,  1.,  0.,  0.,  0.,  0.,  0.,  0.,  0.,\n",
       "         0.,  0.,  0.,  0.,  0.,  0.,  0.,  0.,  0.,  0.,  0.,  0.,  0.,\n",
       "         0.,  0.,  0.,  0.,  0.,  0.,  0.,  0.,  0.,  0.,  0.,  0.,  0.,\n",
       "         0.,  0.,  0.,  0.,  0.,  0.,  0.,  0.,  0.,  0.,  2.]),\n",
       " array([  0,   2,   4,   6,   8,  10,  12,  14,  16,  18,  20,  22,  24,\n",
       "         26,  28,  30,  32,  34,  36,  38,  40,  42,  44,  46,  48,  50,\n",
       "         52,  54,  56,  58,  60,  62,  64,  66,  68,  70,  72,  74,  76,\n",
       "         78,  80,  82,  84,  86,  88,  90,  92,  94,  96,  98, 100]),\n",
       " <a list of 50 Patch objects>)"
      ]
     },
     "execution_count": 201,
     "metadata": {},
     "output_type": "execute_result"
    },
    {
     "data": {
      "image/png": "[encoded data removed]",
      "text/plain": [
       "<Figure size 432x288 with 1 Axes>"
      ]
     },
     "metadata": {
      "needs_background": "light"
     },
     "output_type": "display_data"
    }
   ],
   "source": [
    "np.mean(x)\n",
    "np.std(x)\n",
    "#plt.hist(x)\n",
    "plt.hist(x, bins=np.arange(0,102,2))"
   ]
  },
  {
   "cell_type": "code",
   "execution_count": 215,
   "metadata": {},
   "outputs": [
    {
     "data": {
      "text/plain": [
       "(array([95.,  3.,  0.,  0.,  0.,  0.,  0.,  0.,  0.,  2.]),\n",
       " array([-0.6710194 ,  0.08984791,  0.85071522,  1.61158253,  2.37244984,\n",
       "         3.13331715,  3.89418446,  4.65505177,  5.41591908,  6.17678639,\n",
       "         6.9376537 ]),\n",
       " <a list of 10 Patch objects>)"
      ]
     },
     "execution_count": 215,
     "metadata": {},
     "output_type": "execute_result"
    },
    {
     "data": {
      "image/png": "[encoded data removed]",
      "text/plain": [
       "<Figure size 432x288 with 1 Axes>"
      ]
     },
     "metadata": {
      "needs_background": "light"
     },
     "output_type": "display_data"
    }
   ],
   "source": [
    "#type(x) -> array\n",
    "# x = x.reshape(100,1)  #(100,) => (100,1)\n",
    "x = x.reshape(-1,1)  #열만 지정, 자동으로 계산\n",
    "x.shape\n",
    "ss_x = StandardScaler().fit_transform(x)\n",
    "np.mean(ss_x)\n",
    "np.std(ss_x)\n",
    "plt.hist(ss_x)"
   ]
  },
  {
   "cell_type": "code",
   "execution_count": 220,
   "metadata": {},
   "outputs": [
    {
     "data": {
      "text/plain": [
       "(array([ 1.,  0.,  3., 12., 20., 36., 17.,  8.,  0.,  1.]),\n",
       " array([-0.6710194 , -0.57102097, -0.47102253, -0.3710241 , -0.27102566,\n",
       "        -0.17102723, -0.07102879,  0.02896964,  0.12896808,  0.22896651,\n",
       "         0.32896495]),\n",
       " <a list of 10 Patch objects>)"
      ]
     },
     "execution_count": 220,
     "metadata": {},
     "output_type": "execute_result"
    },
    {
     "data": {
      "image/png": "[encoded data removed]",
      "text/plain": [
       "<Figure size 432x288 with 1 Axes>"
      ]
     },
     "metadata": {
      "needs_background": "light"
     },
     "output_type": "display_data"
    }
   ],
   "source": [
    "ss_x_z = ss_x[ss_x<5] #조건이 True인 값만 추출\n",
    "plt.hist(ss_x_z)"
   ]
  },
  {
   "cell_type": "code",
   "execution_count": 222,
   "metadata": {},
   "outputs": [
    {
     "data": {
      "text/plain": [
       "(array([ 0.,  0.,  0.,  1.,  0.,  2.,  6., 21., 32., 23., 10.,  2.,  0.,\n",
       "         1.,  0.,  0.,  0.,  0.,  0.]),\n",
       " array([-1.00000000e+00, -9.00000000e-01, -8.00000000e-01, -7.00000000e-01,\n",
       "        -6.00000000e-01, -5.00000000e-01, -4.00000000e-01, -3.00000000e-01,\n",
       "        -2.00000000e-01, -1.00000000e-01, -2.22044605e-16,  1.00000000e-01,\n",
       "         2.00000000e-01,  3.00000000e-01,  4.00000000e-01,  5.00000000e-01,\n",
       "         6.00000000e-01,  7.00000000e-01,  8.00000000e-01,  9.00000000e-01]),\n",
       " <a list of 19 Patch objects>)"
      ]
     },
     "execution_count": 222,
     "metadata": {},
     "output_type": "execute_result"
    },
    {
     "data": {
      "image/png": "[encoded data removed]",
      "text/plain": [
       "<Figure size 432x288 with 1 Axes>"
      ]
     },
     "metadata": {
      "needs_background": "light"
     },
     "output_type": "display_data"
    }
   ],
   "source": [
    "plt.hist(ss_x_z, bins=np.arange(-1,1,0.1))"
   ]
  },
  {
   "cell_type": "code",
   "execution_count": 228,
   "metadata": {},
   "outputs": [
    {
     "data": {
      "text/plain": [
       "2.2635439125176875"
      ]
     },
     "execution_count": 228,
     "metadata": {},
     "output_type": "execute_result"
    }
   ],
   "source": [
    "#이상치 포함 데이터의 중앙값, IQR을 이용->표준화\n",
    "np.median(x) #중앙값\n",
    "x\n",
    "q1 = np.percentile(x,25) #1사분위 수(크기 순으로 나열했을 때, 25% 지점의 수)\n",
    "q3 = np.percentile(x,75) #3사분위 수\n",
    "iqr = q3-q1\n",
    "iqr"
   ]
  },
  {
   "cell_type": "code",
   "execution_count": 237,
   "metadata": {},
   "outputs": [
    {
     "data": {
      "text/plain": [
       "(array([ 2.,  5.,  3.,  6.,  3.,  3.,  3.,  4.,  6.,  6., 10.,  2.,  7.,\n",
       "         5.,  4.,  4.,  3.,  0.,  3.]),\n",
       " array([-1.00000000e+00, -9.00000000e-01, -8.00000000e-01, -7.00000000e-01,\n",
       "        -6.00000000e-01, -5.00000000e-01, -4.00000000e-01, -3.00000000e-01,\n",
       "        -2.00000000e-01, -1.00000000e-01, -2.22044605e-16,  1.00000000e-01,\n",
       "         2.00000000e-01,  3.00000000e-01,  4.00000000e-01,  5.00000000e-01,\n",
       "         6.00000000e-01,  7.00000000e-01,  8.00000000e-01,  9.00000000e-01]),\n",
       " <a list of 19 Patch objects>)"
      ]
     },
     "execution_count": 237,
     "metadata": {},
     "output_type": "execute_result"
    },
    {
     "data": {
      "image/png": "[encoded data removed]",
      "text/plain": [
       "<Figure size 432x288 with 1 Axes>"
      ]
     },
     "metadata": {
      "needs_background": "light"
     },
     "output_type": "display_data"
    }
   ],
   "source": [
    "x_rs = RobustScaler().fit_transform(x)\n",
    "x_rs\n",
    "np.median(x_rs)\n",
    "np.mean(x_rs)\n",
    "np.std(x_rs)\n",
    "# plt.hist(x_rs)\n",
    "\n",
    "x_rs_z = x_rs[x_rs<10]\n",
    "plt.hist(x_rs_z, bins=np.arange(-1,1,0.1))"
   ]
  },
  {
   "cell_type": "code",
   "execution_count": 240,
   "metadata": {},
   "outputs": [
    {
     "data": {
      "text/plain": [
       "array([[10, 20, 30, 40],\n",
       "       [50, 60, 70, 80]])"
      ]
     },
     "execution_count": 240,
     "metadata": {},
     "output_type": "execute_result"
    }
   ],
   "source": [
    "#1\n",
    "\n",
    "arr = np.array([[10,20,30,40],\n",
    "                [50,60,70,80]])\n",
    "arr"
   ]
  },
  {
   "cell_type": "code",
   "execution_count": 251,
   "metadata": {},
   "outputs": [
    {
     "data": {
      "text/plain": [
       "array([[3, 4],\n",
       "       [8, 9]])"
      ]
     },
     "execution_count": 251,
     "metadata": {},
     "output_type": "execute_result"
    }
   ],
   "source": [
    "#2\n",
    "\n",
    "m = np.array([[ 0,  1,  2,  3,  4],\n",
    "              [ 5,  6,  7,  8,  9],\n",
    "              [10, 11, 12, 13, 14]])\n",
    "\n",
    "m[1,2]\n",
    "m[-1,-1]\n",
    "m[1,[1,2]]\n",
    "m[[1,2],2]\n",
    "m[0:2,3:5]"
   ]
  },
  {
   "cell_type": "code",
   "execution_count": 258,
   "metadata": {},
   "outputs": [
    {
     "name": "stdout",
     "output_type": "stream",
     "text": [
      "[ 3  6  9 12 15 18]\n",
      "[ 1  5  9 13 17]\n",
      "9\n"
     ]
    }
   ],
   "source": [
    "#3\n",
    "\n",
    "x = np.array([1, 2, 3, 4, 5, 6, 7, 8, 9, 10,\n",
    "              11, 12, 13, 14, 15, 16, 17, 18, 19, 20])\n",
    "\n",
    "x1 = x[x%3==0]\n",
    "print(x1)\n",
    "\n",
    "x2 = x[x%4==1]\n",
    "print(x2)\n",
    "\n",
    "for i in x1:\n",
    "    if i in x2:\n",
    "        print(i)"
   ]
  },
  {
   "cell_type": "code",
   "execution_count": 259,
   "metadata": {},
   "outputs": [
    {
     "data": {
      "text/html": [
       "<div>\n",
       "<style scoped>\n",
       "    .dataframe tbody tr th:only-of-type {\n",
       "        vertical-align: middle;\n",
       "    }\n",
       "\n",
       "    .dataframe tbody tr th {\n",
       "        vertical-align: top;\n",
       "    }\n",
       "\n",
       "    .dataframe thead th {\n",
       "        text-align: right;\n",
       "    }\n",
       "</style>\n",
       "<table border=\"1\" class=\"dataframe\">\n",
       "  <thead>\n",
       "    <tr style=\"text-align: right;\">\n",
       "      <th></th>\n",
       "      <th>PassengerId</th>\n",
       "      <th>Survived</th>\n",
       "      <th>Pclass</th>\n",
       "      <th>Name</th>\n",
       "      <th>Sex</th>\n",
       "      <th>Age</th>\n",
       "      <th>SibSp</th>\n",
       "      <th>Parch</th>\n",
       "      <th>Ticket</th>\n",
       "      <th>Fare</th>\n",
       "      <th>Cabin</th>\n",
       "      <th>Embarked</th>\n",
       "    </tr>\n",
       "  </thead>\n",
       "  <tbody>\n",
       "    <tr>\n",
       "      <td>0</td>\n",
       "      <td>1</td>\n",
       "      <td>0</td>\n",
       "      <td>3</td>\n",
       "      <td>Braund, Mr. Owen Harris</td>\n",
       "      <td>male</td>\n",
       "      <td>22.0</td>\n",
       "      <td>1</td>\n",
       "      <td>0</td>\n",
       "      <td>A/5 21171</td>\n",
       "      <td>7.2500</td>\n",
       "      <td>NaN</td>\n",
       "      <td>S</td>\n",
       "    </tr>\n",
       "    <tr>\n",
       "      <td>1</td>\n",
       "      <td>2</td>\n",
       "      <td>1</td>\n",
       "      <td>1</td>\n",
       "      <td>Cumings, Mrs. John Bradley (Florence Briggs Th...</td>\n",
       "      <td>female</td>\n",
       "      <td>38.0</td>\n",
       "      <td>1</td>\n",
       "      <td>0</td>\n",
       "      <td>PC 17599</td>\n",
       "      <td>71.2833</td>\n",
       "      <td>C85</td>\n",
       "      <td>C</td>\n",
       "    </tr>\n",
       "    <tr>\n",
       "      <td>2</td>\n",
       "      <td>3</td>\n",
       "      <td>1</td>\n",
       "      <td>3</td>\n",
       "      <td>Heikkinen, Miss. Laina</td>\n",
       "      <td>female</td>\n",
       "      <td>26.0</td>\n",
       "      <td>0</td>\n",
       "      <td>0</td>\n",
       "      <td>STON/O2. 3101282</td>\n",
       "      <td>7.9250</td>\n",
       "      <td>NaN</td>\n",
       "      <td>S</td>\n",
       "    </tr>\n",
       "    <tr>\n",
       "      <td>3</td>\n",
       "      <td>4</td>\n",
       "      <td>1</td>\n",
       "      <td>1</td>\n",
       "      <td>Futrelle, Mrs. Jacques Heath (Lily May Peel)</td>\n",
       "      <td>female</td>\n",
       "      <td>35.0</td>\n",
       "      <td>1</td>\n",
       "      <td>0</td>\n",
       "      <td>113803</td>\n",
       "      <td>53.1000</td>\n",
       "      <td>C123</td>\n",
       "      <td>S</td>\n",
       "    </tr>\n",
       "    <tr>\n",
       "      <td>4</td>\n",
       "      <td>5</td>\n",
       "      <td>0</td>\n",
       "      <td>3</td>\n",
       "      <td>Allen, Mr. William Henry</td>\n",
       "      <td>male</td>\n",
       "      <td>35.0</td>\n",
       "      <td>0</td>\n",
       "      <td>0</td>\n",
       "      <td>373450</td>\n",
       "      <td>8.0500</td>\n",
       "      <td>NaN</td>\n",
       "      <td>S</td>\n",
       "    </tr>\n",
       "    <tr>\n",
       "      <td>...</td>\n",
       "      <td>...</td>\n",
       "      <td>...</td>\n",
       "      <td>...</td>\n",
       "      <td>...</td>\n",
       "      <td>...</td>\n",
       "      <td>...</td>\n",
       "      <td>...</td>\n",
       "      <td>...</td>\n",
       "      <td>...</td>\n",
       "      <td>...</td>\n",
       "      <td>...</td>\n",
       "      <td>...</td>\n",
       "    </tr>\n",
       "    <tr>\n",
       "      <td>886</td>\n",
       "      <td>887</td>\n",
       "      <td>0</td>\n",
       "      <td>2</td>\n",
       "      <td>Montvila, Rev. Juozas</td>\n",
       "      <td>male</td>\n",
       "      <td>27.0</td>\n",
       "      <td>0</td>\n",
       "      <td>0</td>\n",
       "      <td>211536</td>\n",
       "      <td>13.0000</td>\n",
       "      <td>NaN</td>\n",
       "      <td>S</td>\n",
       "    </tr>\n",
       "    <tr>\n",
       "      <td>887</td>\n",
       "      <td>888</td>\n",
       "      <td>1</td>\n",
       "      <td>1</td>\n",
       "      <td>Graham, Miss. Margaret Edith</td>\n",
       "      <td>female</td>\n",
       "      <td>19.0</td>\n",
       "      <td>0</td>\n",
       "      <td>0</td>\n",
       "      <td>112053</td>\n",
       "      <td>30.0000</td>\n",
       "      <td>B42</td>\n",
       "      <td>S</td>\n",
       "    </tr>\n",
       "    <tr>\n",
       "      <td>888</td>\n",
       "      <td>889</td>\n",
       "      <td>0</td>\n",
       "      <td>3</td>\n",
       "      <td>Johnston, Miss. Catherine Helen \"Carrie\"</td>\n",
       "      <td>female</td>\n",
       "      <td>NaN</td>\n",
       "      <td>1</td>\n",
       "      <td>2</td>\n",
       "      <td>W./C. 6607</td>\n",
       "      <td>23.4500</td>\n",
       "      <td>NaN</td>\n",
       "      <td>S</td>\n",
       "    </tr>\n",
       "    <tr>\n",
       "      <td>889</td>\n",
       "      <td>890</td>\n",
       "      <td>1</td>\n",
       "      <td>1</td>\n",
       "      <td>Behr, Mr. Karl Howell</td>\n",
       "      <td>male</td>\n",
       "      <td>26.0</td>\n",
       "      <td>0</td>\n",
       "      <td>0</td>\n",
       "      <td>111369</td>\n",
       "      <td>30.0000</td>\n",
       "      <td>C148</td>\n",
       "      <td>C</td>\n",
       "    </tr>\n",
       "    <tr>\n",
       "      <td>890</td>\n",
       "      <td>891</td>\n",
       "      <td>0</td>\n",
       "      <td>3</td>\n",
       "      <td>Dooley, Mr. Patrick</td>\n",
       "      <td>male</td>\n",
       "      <td>32.0</td>\n",
       "      <td>0</td>\n",
       "      <td>0</td>\n",
       "      <td>370376</td>\n",
       "      <td>7.7500</td>\n",
       "      <td>NaN</td>\n",
       "      <td>Q</td>\n",
       "    </tr>\n",
       "  </tbody>\n",
       "</table>\n",
       "<p>891 rows × 12 columns</p>\n",
       "</div>"
      ],
      "text/plain": [
       "     PassengerId  Survived  Pclass  \\\n",
       "0              1         0       3   \n",
       "1              2         1       1   \n",
       "2              3         1       3   \n",
       "3              4         1       1   \n",
       "4              5         0       3   \n",
       "..           ...       ...     ...   \n",
       "886          887         0       2   \n",
       "887          888         1       1   \n",
       "888          889         0       3   \n",
       "889          890         1       1   \n",
       "890          891         0       3   \n",
       "\n",
       "                                                  Name     Sex   Age  SibSp  \\\n",
       "0                              Braund, Mr. Owen Harris    male  22.0      1   \n",
       "1    Cumings, Mrs. John Bradley (Florence Briggs Th...  female  38.0      1   \n",
       "2                               Heikkinen, Miss. Laina  female  26.0      0   \n",
       "3         Futrelle, Mrs. Jacques Heath (Lily May Peel)  female  35.0      1   \n",
       "4                             Allen, Mr. William Henry    male  35.0      0   \n",
       "..                                                 ...     ...   ...    ...   \n",
       "886                              Montvila, Rev. Juozas    male  27.0      0   \n",
       "887                       Graham, Miss. Margaret Edith  female  19.0      0   \n",
       "888           Johnston, Miss. Catherine Helen \"Carrie\"  female   NaN      1   \n",
       "889                              Behr, Mr. Karl Howell    male  26.0      0   \n",
       "890                                Dooley, Mr. Patrick    male  32.0      0   \n",
       "\n",
       "     Parch            Ticket     Fare Cabin Embarked  \n",
       "0        0         A/5 21171   7.2500   NaN        S  \n",
       "1        0          PC 17599  71.2833   C85        C  \n",
       "2        0  STON/O2. 3101282   7.9250   NaN        S  \n",
       "3        0            113803  53.1000  C123        S  \n",
       "4        0            373450   8.0500   NaN        S  \n",
       "..     ...               ...      ...   ...      ...  \n",
       "886      0            211536  13.0000   NaN        S  \n",
       "887      0            112053  30.0000   B42        S  \n",
       "888      2        W./C. 6607  23.4500   NaN        S  \n",
       "889      0            111369  30.0000  C148        C  \n",
       "890      0            370376   7.7500   NaN        Q  \n",
       "\n",
       "[891 rows x 12 columns]"
      ]
     },
     "execution_count": 259,
     "metadata": {},
     "output_type": "execute_result"
    }
   ],
   "source": [
    "#4\n",
    "\n",
    "df = pd.read_csv(\"train.csv\")\n",
    "df"
   ]
  },
  {
   "cell_type": "code",
   "execution_count": 305,
   "metadata": {
    "scrolled": true
   },
   "outputs": [
    {
     "data": {
      "text/plain": [
       "0      22.000000\n",
       "1      38.000000\n",
       "2      26.000000\n",
       "3      35.000000\n",
       "4      35.000000\n",
       "         ...    \n",
       "886    27.000000\n",
       "887    19.000000\n",
       "888    29.699118\n",
       "889    26.000000\n",
       "890    32.000000\n",
       "Name: Age, Length: 891, dtype: float64"
      ]
     },
     "execution_count": 305,
     "metadata": {},
     "output_type": "execute_result"
    }
   ],
   "source": [
    "df['Age']\n",
    "age = df['Age'].mean()\n",
    "age\n",
    "f1 = df['Age'].fillna(age)\n",
    "f1"
   ]
  },
  {
   "cell_type": "code",
   "execution_count": 309,
   "metadata": {
    "scrolled": false
   },
   "outputs": [
    {
     "data": {
      "text/plain": [
       "0      1\n",
       "1      1\n",
       "2      0\n",
       "3      1\n",
       "4      0\n",
       "      ..\n",
       "886    0\n",
       "887    0\n",
       "888    1\n",
       "889    0\n",
       "890    0\n",
       "Name: SibSp, Length: 891, dtype: int64"
      ]
     },
     "execution_count": 309,
     "metadata": {},
     "output_type": "execute_result"
    }
   ],
   "source": [
    "df['SibSp']\n",
    "sibsp = max(df['SibSp'])\n",
    "df2 = df['SibSp'].fillna(sibsp)\n",
    "df2"
   ]
  },
  {
   "cell_type": "code",
   "execution_count": 314,
   "metadata": {},
   "outputs": [
    {
     "data": {
      "text/plain": [
       "0      0\n",
       "1      0\n",
       "2      0\n",
       "3      0\n",
       "4      0\n",
       "      ..\n",
       "886    0\n",
       "887    0\n",
       "888    2\n",
       "889    0\n",
       "890    0\n",
       "Name: Parch, Length: 891, dtype: int64"
      ]
     },
     "execution_count": 314,
     "metadata": {},
     "output_type": "execute_result"
    }
   ],
   "source": [
    "df['Parch']\n",
    "parch = min(df['Parch'])\n",
    "df3 = df['Parch'].fillna(parch)\n",
    "df3"
   ]
  },
  {
   "cell_type": "code",
   "execution_count": 332,
   "metadata": {},
   "outputs": [
    {
     "data": {
      "text/plain": [
       "0       7.2500\n",
       "1      71.2833\n",
       "2       7.9250\n",
       "3      53.1000\n",
       "4       8.0500\n",
       "        ...   \n",
       "886    13.0000\n",
       "887    30.0000\n",
       "888    23.4500\n",
       "889    30.0000\n",
       "890     7.7500\n",
       "Name: Fare, Length: 891, dtype: float64"
      ]
     },
     "execution_count": 332,
     "metadata": {},
     "output_type": "execute_result"
    }
   ],
   "source": [
    "df['Fare']\n",
    "fare = df['Fare'].mean()\n",
    "df4 = df['Fare'].fillna(fare)\n",
    "df4"
   ]
  },
  {
   "cell_type": "code",
   "execution_count": 329,
   "metadata": {},
   "outputs": [],
   "source": [
    "import scipy.stats as ss"
   ]
  },
  {
   "cell_type": "code",
   "execution_count": 359,
   "metadata": {
    "scrolled": false
   },
   "outputs": [
    {
     "data": {
      "text/plain": [
       "1.0"
      ]
     },
     "execution_count": 359,
     "metadata": {},
     "output_type": "execute_result"
    },
    {
     "data": {
      "image/png": "[encoded data removed]",
      "text/plain": [
       "<Figure size 432x288 with 1 Axes>"
      ]
     },
     "metadata": {
      "needs_background": "light"
     },
     "output_type": "display_data"
    }
   ],
   "source": [
    "#Age\n",
    "\n",
    "ss_df1 = ss.zscore(df1)\n",
    "plt.hist(ss_df1)\n",
    "mean(ss_df1)\n",
    "std(ss_df1)"
   ]
  },
  {
   "cell_type": "code",
   "execution_count": 362,
   "metadata": {},
   "outputs": [
    {
     "ename": "ValueError",
     "evalue": "Expected 2D array, got 1D array instead:\narray=[-0.5924806   0.63878901 -0.2846632   0.40792596  0.40792596  0.\n  1.87005862 -2.13156761 -0.20770885 -1.20811541 -1.97765891  2.17787603\n -0.7463893   0.71574336 -1.20811541  1.94701297 -2.13156761  0.\n  0.10010856  0.          0.40792596  0.33097161 -1.13116105 -0.1307545\n -1.66984151  0.63878901  0.         -0.82334365  0.          0.\n  0.79269771  0.          0.          2.79351083 -0.1307545   0.94660642\n  0.         -0.66943495 -0.900298   -1.20811541  0.79269771 -0.20770885\n  0.         -2.05461326 -0.82334365  0.          0.          0.\n  0.         -0.900298   -1.74679586 -0.66943495  1.48528687 -0.05380014\n  2.71655648  0.         -0.66943495 -0.09227732 -1.90070456 -1.43897846\n -0.5924806   0.63878901  1.17746947 -1.97765891  0.          0.\n -0.05380014 -0.82334365 -0.97725235 -0.2846632   0.17706291 -1.0542067\n -0.66943495 -0.2846632   0.17706291 -0.36161755  0.          0.\n -2.2216042   0.02315421 -0.5924806  -0.05380014  0.         -0.1307545\n -0.97725235  0.25401726 -1.0542067   0.         -0.51552625 -0.4385719\n -0.05380014 -0.7463893   1.25442382 -0.2846632   2.25483038  0.\n  3.17828259 -0.51552625  0.33097161  0.33097161 -0.1307545   0.\n -0.66943495  0.25401726  0.56183466 -0.1307545  -0.66943495  0.\n  0.63878901  0.          1.33137817 -1.16963823 -0.5924806  -0.7463893\n -0.97725235 -0.66943495  3.13980541 -0.05380014 -0.4385719  -2.13156761\n -0.66943495  0.          0.21554008  0.21554008  1.87005862 -1.36202411\n  0.         -0.4385719   0.          1.17746947  0.25401726 -0.7463893\n  1.33137817 -0.05380014 -0.36161755 -0.51552625 -0.82334365  0.56183466\n -1.0542067  -0.4385719   0.         -0.5924806  -0.4385719  -0.82334365\n -0.900298   -0.82334365 -0.20770885 -1.59288716  0.52335749  0.94660642\n  1.63919557 -0.5924806   1.98549015  0.83117489  0.          1.63919557\n -1.0542067   0.02315421  0.          0.          1.10051512  0.79269771\n -0.2846632  -0.97725235 -2.20852197 -1.59288716  0.          1.17746947\n  0.         -0.1307545   2.40873908 -1.97765891 -2.20852197 -0.66943495\n  2.02396733 -0.900298    0.          1.56224122  0.02315421  0.48488031\n  0.          0.         -1.59288716 -2.20852197 -1.97765891  0.\n  0.          1.17746947  0.79269771  0.48488031  0.17706291 -0.82334365\n -0.82334365 -2.05461326  1.10051512  2.17787603  0.          0.94660642\n  0.         -0.4385719  -0.1307545   0.          0.33097161  1.21594664\n -0.900298   -2.13156761  0.17706291 -0.2846632  -1.0542067   0.79269771\n -0.4385719   0.40792596 -0.5924806   0.02315421  0.          0.10010856\n -0.20770885  0.94660642  0.17706291  0.02315421 -1.0542067  -0.20770885\n  1.63919557  0.          0.63878901 -0.5924806  -0.82334365 -0.70791213\n -0.900298    0.          0.40792596 -0.05380014  2.25483038 -1.90070456\n -0.4385719   0.          1.10051512 -1.66984151 -0.82334365  0.25401726\n  0.          0.         -0.05380014 -0.5924806   0.02315421  1.10051512\n -0.36161755 -0.4385719   0.56183466  1.87005862  0.         -0.05380014\n  2.48569343  0.02315421  0.86965206 -0.05380014  0.          0.02315421\n  0.40792596  1.56224122  0.         -2.05461326  1.71614992  0.79269771\n  0.          0.48488031 -1.0542067  -0.36161755  2.17787603  0.40792596\n  0.         -0.36161755  0.86965206  0.56183466  0.          2.56264778\n  1.17746947  0.         -1.74679586  0.40792596  2.71655648 -0.1307545\n -1.0542067  -0.82334365  0.          0.25401726  0.02315421 -0.5924806\n  0.94660642 -0.5924806  -0.2846632  -0.82334365  0.48488031 -0.4385719\n -0.4385719   0.         -0.47704907 -2.13156761  0.          1.56224122\n  0.          0.         -0.82334365  0.          0.         -2.21467831\n  0.         -0.97725235  0.02315421  0.02315421 -0.4385719  -0.900298\n -0.2846632  -0.1307545   1.02356077 -0.2846632  -0.4385719   1.87005862\n  0.10010856  0.79269771 -0.5924806  -0.20770885  0.02315421 -0.5924806\n  0.          0.48488031  2.40873908  0.48488031  0.10010856 -1.0542067\n  0.          1.21594664  0.63878901 -1.0542067   0.          0.\n -0.05380014  0.86965206  1.17746947  1.17746947 -2.13156761 -0.4385719\n -0.1307545  -0.36161755  0.48488031 -0.4385719   0.79269771  0.\n -2.05461326  0.94660642 -0.51552625  0.         -1.13116105 -0.36161755\n  0.         -0.1307545  -0.5924806   0.63878901  0.          0.\n  0.79269771 -0.05380014  1.17746947  0.40792596  0.          0.02315421\n  2.33178473  0.          0.         -0.4385719  -0.36161755 -0.900298\n -0.82334365 -0.5924806  -2.05461326  0.         -0.5924806  -0.20770885\n -0.7463893  -0.82334365  0.94660642 -2.20852197  0.17706291  0.40792596\n  0.         -0.900298   -2.20852197  0.48488031  0.         -0.97725235\n  0.48488031 -0.66943495 -0.1307545  -0.51552625 -0.4385719  -0.5924806\n  0.10010856  1.25442382 -0.51552625 -0.1307545   0.71574336 -0.2846632\n -0.66943495 -0.1307545  -0.7463893   0.33097161  1.63919557 -2.05461326\n -0.66943495  0.          0.          0.          0.25401726  0.\n  1.10051512  0.          0.33097161 -0.900298    0.02315421 -1.51593281\n  0.         -0.66943495 -0.05380014 -0.1307545  -0.900298    0.\n -0.1307545  -0.82334365  0.          0.17706291 -0.1307545   0.\n  0.94660642 -0.97725235  1.56224122 -1.20811541 -0.66943495 -0.4385719\n  2.63960213  0.10010856  1.17746947 -0.7463893  -0.36161755 -0.1307545\n  0.         -1.97765891 -1.28506976  0.33097161 -1.90070456  1.71614992\n  0.48488031  0.          0.02315421  1.48528687  0.         -0.05380014\n  2.71655648  0.          1.56224122  0.          1.40833252  0.33097161\n  1.33137817  1.40833252  0.          0.63878901  0.          2.02396733\n  0.         -2.22776055  0.          0.63878901  0.25401726 -0.51552625\n -0.5924806   0.          0.33097161 -0.05380014 -0.5924806  -2.13156761\n -1.59288716  0.          1.56224122  2.56264778 -0.36161755  0.\n  0.40792596  2.17787603  0.02315421 -1.59288716  0.         -0.66943495\n  1.94701297  3.17828259 -0.66943495  0.          1.87005862  0.\n -0.36161755 -0.4385719  -0.97725235 -0.66943495  0.          0.56183466\n -1.0542067  -0.900298    0.25401726  0.         -0.1307545  -0.2846632\n -0.05380014  0.          0.48488031  1.87005862 -0.4385719   1.33137817\n  0.33097161  0.          0.48488031  0.17706291  0.02315421 -0.5924806\n  0.          1.10051512  0.          0.83117489  1.56224122  0.\n  0.71574336 -0.51552625 -2.13156761  0.         -0.97725235  0.\n  0.02315421 -1.74679586  1.17746947  0.02315421  0.         -0.5924806\n  0.48488031 -1.59288716 -1.43897846  0.17706291  1.56224122  2.63960213\n -0.82334365  0.          0.25401726 -1.66984151 -0.97725235 -0.20770885\n  0.         -0.5924806  -0.5924806   2.48569343  1.40833252  0.\n  0.71574336  0.48488031  0.          0.79269771 -0.1307545   0.\n  0.         -0.4385719  -0.82334365 -0.05380014  0.          0.17706291\n  2.48569343  1.79310427  0.48488031  0.         -1.0542067  -0.82334365\n  0.33097161  0.71574336  0.          0.17706291 -0.36161755  0.71574336\n  1.87005862  0.48488031  0.         -0.900298    1.33137817  2.33178473\n -0.5924806   0.          0.40792596  1.71614992  1.33137817  0.\n  0.56183466  0.48488031  0.          1.48528687  0.          1.48528687\n -0.4385719   0.          0.          1.10051512  0.40792596  0.48488031\n  0.02315421 -0.20770885 -0.5924806   0.79269771  0.71574336  0.\n  0.          0.          0.40792596 -0.4385719   0.33097161 -0.2846632\n -1.97765891 -0.2846632  -0.20770885  0.94660642 -0.7463893  -0.66943495\n -0.66943495  2.40873908  2.10092168 -0.66943495 -0.2846632   0.\n  3.87087174  1.63919557  0.17706291  0.         -1.59288716 -0.1307545\n  0.17706291  0.10010856  0.86965206  0.         -0.7463893  -0.4385719\n -2.13156761  0.         -2.22776055  1.40833252 -0.82334365  2.02396733\n  0.         -0.51552625  0.         -0.900298   -0.66943495  0.\n -0.900298   -0.4385719   0.          0.17706291 -0.51552625  2.17787603\n  1.56224122  0.79269771  1.33137817  0.48488031 -0.7463893   0.17706291\n -0.36161755  0.          1.02356077  0.          0.79269771  0.10010856\n  3.10132824  0.10010856  0.         -0.900298   -0.40009472 -0.900298\n  1.02356077  0.48488031  0.         -0.20770885 -0.7463893  -1.20811541\n  2.33178473 -0.36161755 -1.20811541 -0.82334365 -0.900298   -1.13116105\n  0.10010856 -1.97765891  0.         -0.36161755  2.33178473  1.71614992\n  1.10051512  0.          1.48528687  0.94660642 -0.900298    0.40792596\n -0.900298   -0.36161755 -0.2846632   0.71574336  1.17746947  0.94660642\n -0.5924806   0.         -0.4385719   0.          1.40833252 -0.05380014\n  1.71614992 -0.82334365  0.63878901 -0.20770885  0.          0.25401726\n -1.82375021 -0.97725235  0.33097161  1.56224122 -0.20770885 -0.7463893\n  0.02315421  0.         -0.36161755 -0.36161755 -0.05380014 -1.43897846\n  0.         -0.51552625 -0.51552625 -0.09227732  1.40833252  0.40792596\n  0.          0.          0.          0.48488031 -0.66943495 -0.4385719\n  0.10010856  3.10132824 -1.0542067   0.02315421 -0.82334365  0.10010856\n -1.97765891 -1.82375021  0.25401726 -0.51552625  1.40833252 -2.2339169\n -0.1307545  -0.900298    0.33097161  0.25401726  0.          0.86965206\n -0.7463893   0.48488031 -1.0542067   1.63919557  0.          0.06163138\n  0.          0.17706291 -0.4385719   1.40833252  2.10092168  0.\n  1.87005862 -0.900298    0.         -1.90070456  0.          1.02356077\n -1.28506976 -0.97725235 -0.05380014  0.         -0.36161755 -0.36161755\n -0.900298   -1.66984151 -2.20852197  1.25442382  0.         -1.0542067\n  0.          0.         -0.36161755  0.71574336  1.48528687  0.10010856\n  0.02315421  0.02315421  0.33097161  0.10010856 -1.43897846 -2.25315549\n -0.20770885  0.10010856  0.71574336 -0.900298    0.71574336  0.25401726\n -0.2846632   0.71574336  0.40792596 -1.82375021  0.06163138  0.\n -0.51552625  0.10010856  1.02356077 -1.51593281  1.71614992 -0.20770885\n  0.63878901 -0.20770885 -2.13156761  0.          0.         -2.20852197\n  0.          2.48569343 -1.13116105 -2.2216042   0.         -0.51552625\n -0.900298    0.71574336 -0.66943495  0.          0.17706291  0.\n -0.7463893  -1.0542067   0.02315421  0.36944878 -0.97725235  0.94660642\n  0.          0.40792596 -0.1307545   0.         -1.97765891  3.40914564\n -1.59288716 -1.0542067   1.10051512 -0.900298    1.17746947  1.63919557\n -0.4385719   0.          0.86965206 -0.66943495  1.40833252  0.\n -0.4385719   0.94660642 -0.20770885  0.10010856  0.         -1.97765891\n -0.2846632   1.33137817  0.25401726  1.33137817 -0.1307545  -1.13116105\n -0.7463893  -0.82334365  0.          2.02396733 -0.36161755  0.25401726\n -0.5924806  -0.1307545  -0.36161755  0.71574336 -0.20770885 -0.82334365\n  0.         -0.2846632   0.17706291].\nReshape your data either using array.reshape(-1, 1) if your data has a single feature or array.reshape(1, -1) if it contains a single sample.",
     "output_type": "error",
     "traceback": [
      "\u001b[1;31m---------------------------------------------------------------------------\u001b[0m",
      "\u001b[1;31mValueError\u001b[0m                                Traceback (most recent call last)",
      "\u001b[1;32m<ipython-input-362-3e0ea79e19a1>\u001b[0m in \u001b[0;36m<module>\u001b[1;34m\u001b[0m\n\u001b[0;32m      2\u001b[0m \u001b[0mrobustScaler\u001b[0m \u001b[1;33m=\u001b[0m \u001b[0mRobustScaler\u001b[0m\u001b[1;33m(\u001b[0m\u001b[1;33m)\u001b[0m\u001b[1;33m\u001b[0m\u001b[1;33m\u001b[0m\u001b[0m\n\u001b[0;32m      3\u001b[0m \u001b[0mss_df1\u001b[0m\u001b[1;33m.\u001b[0m\u001b[0mreshape\u001b[0m\u001b[1;33m(\u001b[0m\u001b[1;33m-\u001b[0m\u001b[1;36m1\u001b[0m\u001b[1;33m,\u001b[0m\u001b[1;36m1\u001b[0m\u001b[1;33m)\u001b[0m\u001b[1;33m\u001b[0m\u001b[1;33m\u001b[0m\u001b[0m\n\u001b[1;32m----> 4\u001b[1;33m \u001b[0mprint\u001b[0m\u001b[1;33m(\u001b[0m\u001b[0mrobustScaler\u001b[0m\u001b[1;33m.\u001b[0m\u001b[0mfit\u001b[0m\u001b[1;33m(\u001b[0m\u001b[0mss_df1\u001b[0m\u001b[1;33m)\u001b[0m\u001b[1;33m)\u001b[0m\u001b[1;33m\u001b[0m\u001b[1;33m\u001b[0m\u001b[0m\n\u001b[0m\u001b[0;32m      5\u001b[0m \u001b[0mss_df1_robustScaled\u001b[0m \u001b[1;33m=\u001b[0m \u001b[0mrobustScaler\u001b[0m\u001b[1;33m.\u001b[0m\u001b[0mtransform\u001b[0m\u001b[1;33m(\u001b[0m\u001b[0mss_df1\u001b[0m\u001b[1;33m)\u001b[0m\u001b[1;33m\u001b[0m\u001b[1;33m\u001b[0m\u001b[0m\n",
      "\u001b[1;32m~\\Anaconda3\\lib\\site-packages\\sklearn\\preprocessing\\data.py\u001b[0m in \u001b[0;36mfit\u001b[1;34m(self, X, y)\u001b[0m\n\u001b[0;32m   1155\u001b[0m         \u001b[1;31m# the quantiles\u001b[0m\u001b[1;33m\u001b[0m\u001b[1;33m\u001b[0m\u001b[1;33m\u001b[0m\u001b[0m\n\u001b[0;32m   1156\u001b[0m         X = check_array(X, accept_sparse='csc', copy=self.copy, estimator=self,\n\u001b[1;32m-> 1157\u001b[1;33m                         dtype=FLOAT_DTYPES, force_all_finite='allow-nan')\n\u001b[0m\u001b[0;32m   1158\u001b[0m \u001b[1;33m\u001b[0m\u001b[0m\n\u001b[0;32m   1159\u001b[0m         \u001b[0mq_min\u001b[0m\u001b[1;33m,\u001b[0m \u001b[0mq_max\u001b[0m \u001b[1;33m=\u001b[0m \u001b[0mself\u001b[0m\u001b[1;33m.\u001b[0m\u001b[0mquantile_range\u001b[0m\u001b[1;33m\u001b[0m\u001b[1;33m\u001b[0m\u001b[0m\n",
      "\u001b[1;32m~\\Anaconda3\\lib\\site-packages\\sklearn\\utils\\validation.py\u001b[0m in \u001b[0;36mcheck_array\u001b[1;34m(array, accept_sparse, accept_large_sparse, dtype, order, copy, force_all_finite, ensure_2d, allow_nd, ensure_min_samples, ensure_min_features, warn_on_dtype, estimator)\u001b[0m\n\u001b[0;32m    519\u001b[0m                     \u001b[1;34m\"Reshape your data either using array.reshape(-1, 1) if \"\u001b[0m\u001b[1;33m\u001b[0m\u001b[1;33m\u001b[0m\u001b[0m\n\u001b[0;32m    520\u001b[0m                     \u001b[1;34m\"your data has a single feature or array.reshape(1, -1) \"\u001b[0m\u001b[1;33m\u001b[0m\u001b[1;33m\u001b[0m\u001b[0m\n\u001b[1;32m--> 521\u001b[1;33m                     \"if it contains a single sample.\".format(array))\n\u001b[0m\u001b[0;32m    522\u001b[0m \u001b[1;33m\u001b[0m\u001b[0m\n\u001b[0;32m    523\u001b[0m         \u001b[1;31m# in the future np.flexible dtypes will be handled like object dtypes\u001b[0m\u001b[1;33m\u001b[0m\u001b[1;33m\u001b[0m\u001b[1;33m\u001b[0m\u001b[0m\n",
      "\u001b[1;31mValueError\u001b[0m: Expected 2D array, got 1D array instead:\narray=[-0.5924806   0.63878901 -0.2846632   0.40792596  0.40792596  0.\n  1.87005862 -2.13156761 -0.20770885 -1.20811541 -1.97765891  2.17787603\n -0.7463893   0.71574336 -1.20811541  1.94701297 -2.13156761  0.\n  0.10010856  0.          0.40792596  0.33097161 -1.13116105 -0.1307545\n -1.66984151  0.63878901  0.         -0.82334365  0.          0.\n  0.79269771  0.          0.          2.79351083 -0.1307545   0.94660642\n  0.         -0.66943495 -0.900298   -1.20811541  0.79269771 -0.20770885\n  0.         -2.05461326 -0.82334365  0.          0.          0.\n  0.         -0.900298   -1.74679586 -0.66943495  1.48528687 -0.05380014\n  2.71655648  0.         -0.66943495 -0.09227732 -1.90070456 -1.43897846\n -0.5924806   0.63878901  1.17746947 -1.97765891  0.          0.\n -0.05380014 -0.82334365 -0.97725235 -0.2846632   0.17706291 -1.0542067\n -0.66943495 -0.2846632   0.17706291 -0.36161755  0.          0.\n -2.2216042   0.02315421 -0.5924806  -0.05380014  0.         -0.1307545\n -0.97725235  0.25401726 -1.0542067   0.         -0.51552625 -0.4385719\n -0.05380014 -0.7463893   1.25442382 -0.2846632   2.25483038  0.\n  3.17828259 -0.51552625  0.33097161  0.33097161 -0.1307545   0.\n -0.66943495  0.25401726  0.56183466 -0.1307545  -0.66943495  0.\n  0.63878901  0.          1.33137817 -1.16963823 -0.5924806  -0.7463893\n -0.97725235 -0.66943495  3.13980541 -0.05380014 -0.4385719  -2.13156761\n -0.66943495  0.          0.21554008  0.21554008  1.87005862 -1.36202411\n  0.         -0.4385719   0.          1.17746947  0.25401726 -0.7463893\n  1.33137817 -0.05380014 -0.36161755 -0.51552625 -0.82334365  0.56183466\n -1.0542067  -0.4385719   0.         -0.5924806  -0.4385719  -0.82334365\n -0.900298   -0.82334365 -0.20770885 -1.59288716  0.52335749  0.94660642\n  1.63919557 -0.5924806   1.98549015  0.83117489  0.          1.63919557\n -1.0542067   0.02315421  0.          0.          1.10051512  0.79269771\n -0.2846632  -0.97725235 -2.20852197 -1.59288716  0.          1.17746947\n  0.         -0.1307545   2.40873908 -1.97765891 -2.20852197 -0.66943495\n  2.02396733 -0.900298    0.          1.56224122  0.02315421  0.48488031\n  0.          0.         -1.59288716 -2.20852197 -1.97765891  0.\n  0.          1.17746947  0.79269771  0.48488031  0.17706291 -0.82334365\n -0.82334365 -2.05461326  1.10051512  2.17787603  0.          0.94660642\n  0.         -0.4385719  -0.1307545   0.          0.33097161  1.21594664\n -0.900298   -2.13156761  0.17706291 -0.2846632  -1.0542067   0.79269771\n -0.4385719   0.40792596 -0.5924806   0.02315421  0.          0.10010856\n -0.20770885  0.94660642  0.17706291  0.02315421 -1.0542067  -0.20770885\n  1.63919557  0.          0.63878901 -0.5924806  -0.82334365 -0.70791213\n -0.900298    0.          0.40792596 -0.05380014  2.25483038 -1.90070456\n -0.4385719   0.          1.10051512 -1.66984151 -0.82334365  0.25401726\n  0.          0.         -0.05380014 -0.5924806   0.02315421  1.10051512\n -0.36161755 -0.4385719   0.56183466  1.87005862  0.         -0.05380014\n  2.48569343  0.02315421  0.86965206 -0.05380014  0.          0.02315421\n  0.40792596  1.56224122  0.         -2.05461326  1.71614992  0.79269771\n  0.          0.48488031 -1.0542067  -0.36161755  2.17787603  0.40792596\n  0.         -0.36161755  0.86965206  0.56183466  0.          2.56264778\n  1.17746947  0.         -1.74679586  0.40792596  2.71655648 -0.1307545\n -1.0542067  -0.82334365  0.          0.25401726  0.02315421 -0.5924806\n  0.94660642 -0.5924806  -0.2846632  -0.82334365  0.48488031 -0.4385719\n -0.4385719   0.         -0.47704907 -2.13156761  0.          1.56224122\n  0.          0.         -0.82334365  0.          0.         -2.21467831\n  0.         -0.97725235  0.02315421  0.02315421 -0.4385719  -0.900298\n -0.2846632  -0.1307545   1.02356077 -0.2846632  -0.4385719   1.87005862\n  0.10010856  0.79269771 -0.5924806  -0.20770885  0.02315421 -0.5924806\n  0.          0.48488031  2.40873908  0.48488031  0.10010856 -1.0542067\n  0.          1.21594664  0.63878901 -1.0542067   0.          0.\n -0.05380014  0.86965206  1.17746947  1.17746947 -2.13156761 -0.4385719\n -0.1307545  -0.36161755  0.48488031 -0.4385719   0.79269771  0.\n -2.05461326  0.94660642 -0.51552625  0.         -1.13116105 -0.36161755\n  0.         -0.1307545  -0.5924806   0.63878901  0.          0.\n  0.79269771 -0.05380014  1.17746947  0.40792596  0.          0.02315421\n  2.33178473  0.          0.         -0.4385719  -0.36161755 -0.900298\n -0.82334365 -0.5924806  -2.05461326  0.         -0.5924806  -0.20770885\n -0.7463893  -0.82334365  0.94660642 -2.20852197  0.17706291  0.40792596\n  0.         -0.900298   -2.20852197  0.48488031  0.         -0.97725235\n  0.48488031 -0.66943495 -0.1307545  -0.51552625 -0.4385719  -0.5924806\n  0.10010856  1.25442382 -0.51552625 -0.1307545   0.71574336 -0.2846632\n -0.66943495 -0.1307545  -0.7463893   0.33097161  1.63919557 -2.05461326\n -0.66943495  0.          0.          0.          0.25401726  0.\n  1.10051512  0.          0.33097161 -0.900298    0.02315421 -1.51593281\n  0.         -0.66943495 -0.05380014 -0.1307545  -0.900298    0.\n -0.1307545  -0.82334365  0.          0.17706291 -0.1307545   0.\n  0.94660642 -0.97725235  1.56224122 -1.20811541 -0.66943495 -0.4385719\n  2.63960213  0.10010856  1.17746947 -0.7463893  -0.36161755 -0.1307545\n  0.         -1.97765891 -1.28506976  0.33097161 -1.90070456  1.71614992\n  0.48488031  0.          0.02315421  1.48528687  0.         -0.05380014\n  2.71655648  0.          1.56224122  0.          1.40833252  0.33097161\n  1.33137817  1.40833252  0.          0.63878901  0.          2.02396733\n  0.         -2.22776055  0.          0.63878901  0.25401726 -0.51552625\n -0.5924806   0.          0.33097161 -0.05380014 -0.5924806  -2.13156761\n -1.59288716  0.          1.56224122  2.56264778 -0.36161755  0.\n  0.40792596  2.17787603  0.02315421 -1.59288716  0.         -0.66943495\n  1.94701297  3.17828259 -0.66943495  0.          1.87005862  0.\n -0.36161755 -0.4385719  -0.97725235 -0.66943495  0.          0.56183466\n -1.0542067  -0.900298    0.25401726  0.         -0.1307545  -0.2846632\n -0.05380014  0.          0.48488031  1.87005862 -0.4385719   1.33137817\n  0.33097161  0.          0.48488031  0.17706291  0.02315421 -0.5924806\n  0.          1.10051512  0.          0.83117489  1.56224122  0.\n  0.71574336 -0.51552625 -2.13156761  0.         -0.97725235  0.\n  0.02315421 -1.74679586  1.17746947  0.02315421  0.         -0.5924806\n  0.48488031 -1.59288716 -1.43897846  0.17706291  1.56224122  2.63960213\n -0.82334365  0.          0.25401726 -1.66984151 -0.97725235 -0.20770885\n  0.         -0.5924806  -0.5924806   2.48569343  1.40833252  0.\n  0.71574336  0.48488031  0.          0.79269771 -0.1307545   0.\n  0.         -0.4385719  -0.82334365 -0.05380014  0.          0.17706291\n  2.48569343  1.79310427  0.48488031  0.         -1.0542067  -0.82334365\n  0.33097161  0.71574336  0.          0.17706291 -0.36161755  0.71574336\n  1.87005862  0.48488031  0.         -0.900298    1.33137817  2.33178473\n -0.5924806   0.          0.40792596  1.71614992  1.33137817  0.\n  0.56183466  0.48488031  0.          1.48528687  0.          1.48528687\n -0.4385719   0.          0.          1.10051512  0.40792596  0.48488031\n  0.02315421 -0.20770885 -0.5924806   0.79269771  0.71574336  0.\n  0.          0.          0.40792596 -0.4385719   0.33097161 -0.2846632\n -1.97765891 -0.2846632  -0.20770885  0.94660642 -0.7463893  -0.66943495\n -0.66943495  2.40873908  2.10092168 -0.66943495 -0.2846632   0.\n  3.87087174  1.63919557  0.17706291  0.         -1.59288716 -0.1307545\n  0.17706291  0.10010856  0.86965206  0.         -0.7463893  -0.4385719\n -2.13156761  0.         -2.22776055  1.40833252 -0.82334365  2.02396733\n  0.         -0.51552625  0.         -0.900298   -0.66943495  0.\n -0.900298   -0.4385719   0.          0.17706291 -0.51552625  2.17787603\n  1.56224122  0.79269771  1.33137817  0.48488031 -0.7463893   0.17706291\n -0.36161755  0.          1.02356077  0.          0.79269771  0.10010856\n  3.10132824  0.10010856  0.         -0.900298   -0.40009472 -0.900298\n  1.02356077  0.48488031  0.         -0.20770885 -0.7463893  -1.20811541\n  2.33178473 -0.36161755 -1.20811541 -0.82334365 -0.900298   -1.13116105\n  0.10010856 -1.97765891  0.         -0.36161755  2.33178473  1.71614992\n  1.10051512  0.          1.48528687  0.94660642 -0.900298    0.40792596\n -0.900298   -0.36161755 -0.2846632   0.71574336  1.17746947  0.94660642\n -0.5924806   0.         -0.4385719   0.          1.40833252 -0.05380014\n  1.71614992 -0.82334365  0.63878901 -0.20770885  0.          0.25401726\n -1.82375021 -0.97725235  0.33097161  1.56224122 -0.20770885 -0.7463893\n  0.02315421  0.         -0.36161755 -0.36161755 -0.05380014 -1.43897846\n  0.         -0.51552625 -0.51552625 -0.09227732  1.40833252  0.40792596\n  0.          0.          0.          0.48488031 -0.66943495 -0.4385719\n  0.10010856  3.10132824 -1.0542067   0.02315421 -0.82334365  0.10010856\n -1.97765891 -1.82375021  0.25401726 -0.51552625  1.40833252 -2.2339169\n -0.1307545  -0.900298    0.33097161  0.25401726  0.          0.86965206\n -0.7463893   0.48488031 -1.0542067   1.63919557  0.          0.06163138\n  0.          0.17706291 -0.4385719   1.40833252  2.10092168  0.\n  1.87005862 -0.900298    0.         -1.90070456  0.          1.02356077\n -1.28506976 -0.97725235 -0.05380014  0.         -0.36161755 -0.36161755\n -0.900298   -1.66984151 -2.20852197  1.25442382  0.         -1.0542067\n  0.          0.         -0.36161755  0.71574336  1.48528687  0.10010856\n  0.02315421  0.02315421  0.33097161  0.10010856 -1.43897846 -2.25315549\n -0.20770885  0.10010856  0.71574336 -0.900298    0.71574336  0.25401726\n -0.2846632   0.71574336  0.40792596 -1.82375021  0.06163138  0.\n -0.51552625  0.10010856  1.02356077 -1.51593281  1.71614992 -0.20770885\n  0.63878901 -0.20770885 -2.13156761  0.          0.         -2.20852197\n  0.          2.48569343 -1.13116105 -2.2216042   0.         -0.51552625\n -0.900298    0.71574336 -0.66943495  0.          0.17706291  0.\n -0.7463893  -1.0542067   0.02315421  0.36944878 -0.97725235  0.94660642\n  0.          0.40792596 -0.1307545   0.         -1.97765891  3.40914564\n -1.59288716 -1.0542067   1.10051512 -0.900298    1.17746947  1.63919557\n -0.4385719   0.          0.86965206 -0.66943495  1.40833252  0.\n -0.4385719   0.94660642 -0.20770885  0.10010856  0.         -1.97765891\n -0.2846632   1.33137817  0.25401726  1.33137817 -0.1307545  -1.13116105\n -0.7463893  -0.82334365  0.          2.02396733 -0.36161755  0.25401726\n -0.5924806  -0.1307545  -0.36161755  0.71574336 -0.20770885 -0.82334365\n  0.         -0.2846632   0.17706291].\nReshape your data either using array.reshape(-1, 1) if your data has a single feature or array.reshape(1, -1) if it contains a single sample."
     ]
    }
   ],
   "source": [
    "from sklearn.preprocessing import RobustScaler\n",
    "robustScaler = RobustScaler()\n",
    "ss_df1.reshape(-1,1)\n",
    "print(robustScaler.fit(ss_df1))\n",
    "ss_df1_robustScaled = robustScaler.transform(ss_df1)"
   ]
  },
  {
   "cell_type": "code",
   "execution_count": 356,
   "metadata": {},
   "outputs": [
    {
     "data": {
      "text/plain": [
       "1.0004065596243987"
      ]
     },
     "execution_count": 356,
     "metadata": {},
     "output_type": "execute_result"
    }
   ],
   "source": [
    "np.median(ss_df1) \n",
    "\n",
    "q1 = np.percentile(ss_df1,25) \n",
    "q3 = np.percentile(ss_df1,75)\n",
    "iqr = q3-q1\n",
    "iqr"
   ]
  },
  {
   "cell_type": "code",
   "execution_count": 360,
   "metadata": {},
   "outputs": [
    {
     "data": {
      "text/plain": [
       "-0.47454519624983954"
      ]
     },
     "execution_count": 360,
     "metadata": {},
     "output_type": "execute_result"
    },
    {
     "data": {
      "image/png": "[encoded data removed]",
      "text/plain": [
       "<Figure size 432x288 with 1 Axes>"
      ]
     },
     "metadata": {
      "needs_background": "light"
     },
     "output_type": "display_data"
    }
   ],
   "source": [
    "#Sib Sp\n",
    "\n",
    "ss_df2 = ss.zscore(df2)\n",
    "plt.hist(ss_df2)\n",
    "mean(ss_df2)\n",
    "median(ss_df2)"
   ]
  },
  {
   "cell_type": "code",
   "execution_count": 346,
   "metadata": {},
   "outputs": [
    {
     "data": {
      "text/plain": [
       "0.9999999999999999"
      ]
     },
     "execution_count": 346,
     "metadata": {},
     "output_type": "execute_result"
    },
    {
     "data": {
      "image/png": "[encoded data removed]",
      "text/plain": [
       "<Figure size 432x288 with 1 Axes>"
      ]
     },
     "metadata": {
      "needs_background": "light"
     },
     "output_type": "display_data"
    }
   ],
   "source": [
    "#Parch\n",
    "\n",
    "ss_df3 = ss.zscore(df3)\n",
    "plt.hist(ss_df3)\n",
    "mean(ss_df3)\n",
    "std(ss_df3)"
   ]
  },
  {
   "cell_type": "code",
   "execution_count": 349,
   "metadata": {},
   "outputs": [
    {
     "data": {
      "text/plain": [
       "1.0"
      ]
     },
     "execution_count": 349,
     "metadata": {},
     "output_type": "execute_result"
    },
    {
     "data": {
      "image/png": "[encoded data removed]",
      "text/plain": [
       "<Figure size 432x288 with 1 Axes>"
      ]
     },
     "metadata": {
      "needs_background": "light"
     },
     "output_type": "display_data"
    }
   ],
   "source": [
    "#Fare\n",
    "\n",
    "ss_df4 = ss.zscore(df4)\n",
    "plt.hist(ss_df4)\n",
    "mean(ss_df4)\n",
    "std(ss_df4)"
   ]
  }
 ],
 "metadata": {
  "kernelspec": {
   "display_name": "Python 3",
   "language": "python",
   "name": "python3"
  },
  "language_info": {
   "codemirror_mode": {
    "name": "ipython",
    "version": 3
   },
   "file_extension": ".py",
   "mimetype": "text/x-python",
   "name": "python",
   "nbconvert_exporter": "python",
   "pygments_lexer": "ipython3",
   "version": "3.7.4"
  }
 },
 "nbformat": 4,
 "nbformat_minor": 2
}
