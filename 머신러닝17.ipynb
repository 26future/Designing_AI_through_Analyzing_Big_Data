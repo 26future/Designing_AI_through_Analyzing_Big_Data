{
 "cells": [
  {
   "cell_type": "code",
   "execution_count": 1,
   "metadata": {},
   "outputs": [],
   "source": [
    "import tensorflow as tf\n",
    "import random\n",
    "import pandas as pd\n",
    "import matplotlib.pyplot as plt\n",
    "import seaborn as sns\n",
    "# pip install tqdm\n",
    "from tqdm import tqdm\n",
    "from tensorflow.examples.tutorials.mnist import input_data"
   ]
  },
  {
   "cell_type": "code",
   "execution_count": 2,
   "metadata": {},
   "outputs": [],
   "source": [
    "# weight 초기화"
   ]
  },
  {
   "cell_type": "code",
   "execution_count": 3,
   "metadata": {},
   "outputs": [
    {
     "name": "stdout",
     "output_type": "stream",
     "text": [
      "WARNING:tensorflow:From <ipython-input-3-a839aeb82f4b>:1: read_data_sets (from tensorflow.contrib.learn.python.learn.datasets.mnist) is deprecated and will be removed in a future version.\n",
      "Instructions for updating:\n",
      "Please use alternatives such as official/mnist/dataset.py from tensorflow/models.\n",
      "WARNING:tensorflow:From C:\\Users\\student\\Anaconda3\\lib\\site-packages\\tensorflow_core\\contrib\\learn\\python\\learn\\datasets\\mnist.py:260: maybe_download (from tensorflow.contrib.learn.python.learn.datasets.base) is deprecated and will be removed in a future version.\n",
      "Instructions for updating:\n",
      "Please write your own downloading logic.\n",
      "WARNING:tensorflow:From C:\\Users\\student\\Anaconda3\\lib\\site-packages\\tensorflow_core\\contrib\\learn\\python\\learn\\datasets\\mnist.py:262: extract_images (from tensorflow.contrib.learn.python.learn.datasets.mnist) is deprecated and will be removed in a future version.\n",
      "Instructions for updating:\n",
      "Please use tf.data to implement this functionality.\n",
      "Extracting MNIST_data/train-images-idx3-ubyte.gz\n",
      "WARNING:tensorflow:From C:\\Users\\student\\Anaconda3\\lib\\site-packages\\tensorflow_core\\contrib\\learn\\python\\learn\\datasets\\mnist.py:267: extract_labels (from tensorflow.contrib.learn.python.learn.datasets.mnist) is deprecated and will be removed in a future version.\n",
      "Instructions for updating:\n",
      "Please use tf.data to implement this functionality.\n",
      "Extracting MNIST_data/train-labels-idx1-ubyte.gz\n",
      "WARNING:tensorflow:From C:\\Users\\student\\Anaconda3\\lib\\site-packages\\tensorflow_core\\contrib\\learn\\python\\learn\\datasets\\mnist.py:110: dense_to_one_hot (from tensorflow.contrib.learn.python.learn.datasets.mnist) is deprecated and will be removed in a future version.\n",
      "Instructions for updating:\n",
      "Please use tf.one_hot on tensors.\n",
      "Extracting MNIST_data/t10k-images-idx3-ubyte.gz\n",
      "Extracting MNIST_data/t10k-labels-idx1-ubyte.gz\n",
      "WARNING:tensorflow:From C:\\Users\\student\\Anaconda3\\lib\\site-packages\\tensorflow_core\\contrib\\learn\\python\\learn\\datasets\\mnist.py:290: DataSet.__init__ (from tensorflow.contrib.learn.python.learn.datasets.mnist) is deprecated and will be removed in a future version.\n",
      "Instructions for updating:\n",
      "Please use alternatives such as official/mnist/dataset.py from tensorflow/models.\n"
     ]
    }
   ],
   "source": [
    "mnist = input_data.read_data_sets(\"MNIST_data/\", one_hot=True)"
   ]
  },
  {
   "cell_type": "code",
   "execution_count": 4,
   "metadata": {},
   "outputs": [],
   "source": [
    "trainingEpochs=15\n",
    "batch_size=100"
   ]
  },
  {
   "cell_type": "code",
   "execution_count": 5,
   "metadata": {},
   "outputs": [],
   "source": [
    "x = tf.placeholder(tf.float32, shape=[None,28*28])\n",
    "y = tf.placeholder(tf.float32, shape=[None,10])"
   ]
  },
  {
   "cell_type": "code",
   "execution_count": 6,
   "metadata": {},
   "outputs": [
    {
     "name": "stdout",
     "output_type": "stream",
     "text": [
      "WARNING:tensorflow:\n",
      "The TensorFlow contrib module will not be included in TensorFlow 2.0.\n",
      "For more information, please see:\n",
      "  * https://github.com/tensorflow/community/blob/master/rfcs/20180907-contrib-sunset.md\n",
      "  * https://github.com/tensorflow/addons\n",
      "  * https://github.com/tensorflow/io (for I/O related ops)\n",
      "If you depend on functionality not listed there, please file an issue.\n",
      "\n"
     ]
    }
   ],
   "source": [
    "# w1=tf.get_variable(\"w1\",shape=[784,256], initializer=tf.contrib.layers.xavier_initializer())\n",
    "w1=tf.get_variable(\"w1\",shape=[784,256], initializer=tf.contrib.layers.xavier_initializer())\n",
    "b1=tf.Variable(tf.random_normal([256]))\n",
    "l1=tf.nn.relu(tf.matmul(x,w1)+b1)\n",
    "\n",
    "w2=tf.get_variable(\"w2\",shape=[256,256], initializer=tf.contrib.layers.xavier_initializer())\n",
    "b2=tf.Variable(tf.random_normal([256]))\n",
    "l2=tf.nn.relu(tf.matmul(l1,w2)+b2)\n",
    "\n",
    "w3=tf.get_variable(\"w3\",shape=[256,256], initializer=tf.contrib.layers.xavier_initializer())\n",
    "b3=tf.Variable(tf.random_normal([256]))\n",
    "l3=tf.nn.relu(tf.matmul(l2,w3)+b3)\n",
    "\n",
    "w4=tf.get_variable(\"w4\",shape=[256,256], initializer=tf.contrib.layers.xavier_initializer())\n",
    "b4=tf.Variable(tf.random_normal([256]))\n",
    "l4=tf.nn.relu(tf.matmul(l3,w4)+b4)\n",
    "\n",
    "w5=tf.get_variable(\"w5\",shape=[256,10], initializer=tf.contrib.layers.xavier_initializer())\n",
    "b5=tf.Variable(tf.random_normal([10]))\n",
    "\n",
    "hf=tf.matmul(l4,w5)+b5"
   ]
  },
  {
   "cell_type": "code",
   "execution_count": 7,
   "metadata": {},
   "outputs": [],
   "source": [
    "# 재비어\n",
    "# np.random.randn(입력노드수,출력노드수)/np.sqrt(입력노드수)\n",
    "# tf.contrib.layers.xavier_initializer()\n",
    "\n",
    "# he\n",
    "# np.random.randn(입력노드수,출력노드수)/np.sqrt(입력노드수/2)\n",
    "# tf.keras.initializers.he_normal()"
   ]
  },
  {
   "cell_type": "code",
   "execution_count": 8,
   "metadata": {},
   "outputs": [
    {
     "data": {
      "text/plain": [
       "'\\n-전통적 경사하강법은 매번 미분함 => 속도 느림\\n-확률적 경사하강법(sgd) => 속도 개선\\n-모멘텀(momentum) sgd: 확률적 경사하강법 + 관성\\n-아다그리드 => step size 개선\\n-rmsprop : 아다그리드 개선\\n-아담(Adam) : 모멘텀 + rmsprop\\n\\n'"
      ]
     },
     "execution_count": 8,
     "metadata": {},
     "output_type": "execute_result"
    }
   ],
   "source": [
    "cost = tf.reduce_mean(tf.nn.softmax_cross_entropy_with_logits_v2(logits=hf, labels=y))\n",
    "optimizer = tf.train.AdamOptimizer(0.001).minimize(cost) #가중치 업데이트 방법\n",
    "prediction = tf.equal(tf.argmax(hf,1), tf.argmax(y,1))\n",
    "accuracy = tf.reduce_mean(tf.cast(prediction, tf.float32))\n",
    "\n",
    "\"\"\"\n",
    "-전통적 경사하강법은 매번 미분함 => 속도 느림\n",
    "-확률적 경사하강법(sgd) => 속도 개선\n",
    "-모멘텀(momentum) sgd: 확률적 경사하강법 + 관성\n",
    "-아다그리드 => step size 개선\n",
    "-rmsprop : 아다그리드 개선\n",
    "-아담(Adam) : 모멘텀 + rmsprop\n",
    "\n",
    "\"\"\""
   ]
  },
  {
   "cell_type": "code",
   "execution_count": 9,
   "metadata": {},
   "outputs": [
    {
     "name": "stderr",
     "output_type": "stream",
     "text": [
      "cost:0.303637: 100%|████████████████████████████████████████████████████████████████| 550/550 [00:03<00:00, 172.71it/s]\n",
      "cost:0.112008: 100%|████████████████████████████████████████████████████████████████| 550/550 [00:03<00:00, 178.17it/s]\n",
      "cost:0.076193: 100%|████████████████████████████████████████████████████████████████| 550/550 [00:03<00:00, 177.41it/s]\n",
      "cost:0.059358: 100%|████████████████████████████████████████████████████████████████| 550/550 [00:03<00:00, 178.73it/s]\n",
      "cost:0.046132: 100%|████████████████████████████████████████████████████████████████| 550/550 [00:03<00:00, 177.09it/s]\n",
      "cost:0.037389: 100%|████████████████████████████████████████████████████████████████| 550/550 [00:03<00:00, 178.75it/s]\n",
      "cost:0.032015: 100%|████████████████████████████████████████████████████████████████| 550/550 [00:03<00:00, 178.61it/s]\n",
      "cost:0.026287: 100%|████████████████████████████████████████████████████████████████| 550/550 [00:03<00:00, 178.36it/s]\n",
      "cost:0.025039: 100%|████████████████████████████████████████████████████████████████| 550/550 [00:03<00:00, 179.17it/s]\n",
      "cost:0.022604: 100%|████████████████████████████████████████████████████████████████| 550/550 [00:03<00:00, 178.09it/s]\n",
      "cost:0.020662: 100%|████████████████████████████████████████████████████████████████| 550/550 [00:03<00:00, 174.41it/s]\n",
      "cost:0.017874: 100%|████████████████████████████████████████████████████████████████| 550/550 [00:03<00:00, 173.31it/s]\n",
      "cost:0.015044: 100%|████████████████████████████████████████████████████████████████| 550/550 [00:03<00:00, 174.03it/s]\n",
      "cost:0.016945: 100%|████████████████████████████████████████████████████████████████| 550/550 [00:02<00:00, 184.05it/s]\n",
      "cost:0.011780: 100%|████████████████████████████████████████████████████████████████| 550/550 [00:02<00:00, 195.27it/s]\n"
     ]
    },
    {
     "name": "stdout",
     "output_type": "stream",
     "text": [
      "정확도:  0.9817\n"
     ]
    }
   ],
   "source": [
    "sess = tf.Session()\n",
    "sess.run(tf.global_variables_initializer())\n",
    "for epoch in range(trainingEpochs):\n",
    "    avgCost=0\n",
    "    totalBatch = int(mnist.train.num_examples/batch_size)\n",
    "    \n",
    "    pbar = tqdm(range(totalBatch))\n",
    "    \n",
    "    for i in pbar:  #in range(totalBatch):\n",
    "        batchX, batchY = mnist.train.next_batch(batch_size)\n",
    "        cv, _ = sess.run([cost,optimizer], feed_dict={x:batchX, y:batchY})\n",
    "        avgCost+=cv/totalBatch\n",
    "        pbar.set_description(\"cost:%f\" %avgCost)\n",
    "print(\"정확도: \", sess.run(accuracy, feed_dict={x:mnist.test.images, y:mnist.test.labels}))"
   ]
  },
  {
   "cell_type": "code",
   "execution_count": 10,
   "metadata": {},
   "outputs": [
    {
     "name": "stdout",
     "output_type": "stream",
     "text": [
      "      label  predict\n",
      "115       4        9\n",
      "247       4        2\n",
      "259       6        0\n",
      "321       2        7\n",
      "340       5        3\n",
      "...     ...      ...\n",
      "9839      2        3\n",
      "9888      6        0\n",
      "9892      8        5\n",
      "9922      4        9\n",
      "9980      2        7\n",
      "\n",
      "[183 rows x 2 columns]\n"
     ]
    },
    {
     "data": {
      "image/png": "[encoded data removed]",
      "text/plain": [
       "<Figure size 864x432 with 1 Axes>"
      ]
     },
     "metadata": {
      "needs_background": "light"
     },
     "output_type": "display_data"
    }
   ],
   "source": [
    "#틀린 부분 확인\n",
    "\n",
    "index=[]\n",
    "ori=[]\n",
    "pred=[]\n",
    "labels = sess.run(tf.argmax(mnist.test.labels,1))\n",
    "predictions = sess.run(tf.argmax(hf,1), feed_dict={x:mnist.test.images})\n",
    "for i in range(0,mnist.test.num_examples):\n",
    "    if predictions[i] != labels[i]: #답이 틀렸다면\n",
    "        index.append(i)\n",
    "        ori.append(labels[i])\n",
    "        pred.append(predictions[i])\n",
    "res = pd.DataFrame({\"label\":ori, \"predict\":pred}, index=index)\n",
    "print(res)\n",
    "plt.figure(figsize=(12,6))\n",
    "plt.hist(res['predict'], bins=10)\n",
    "plt.xlabel(\"fault prediction\")\n",
    "plt.grid()\n",
    "plt.show()"
   ]
  },
  {
   "cell_type": "code",
   "execution_count": 11,
   "metadata": {},
   "outputs": [
    {
     "data": {
      "image/png": "[encoded data removed]",
      "text/plain": [
       "<Figure size 864x432 with 1 Axes>"
      ]
     },
     "metadata": {
      "needs_background": "light"
     },
     "output_type": "display_data"
    }
   ],
   "source": [
    "import seaborn as sns\n",
    "plt.figure(figsize=(12,6))\n",
    "sns.violinplot(x='label', y='predict', data=res)\n",
    "plt.xlabel(\"fault prediction\")\n",
    "plt.grid()\n",
    "plt.show()"
   ]
  },
  {
   "cell_type": "code",
   "execution_count": 12,
   "metadata": {},
   "outputs": [
    {
     "data": {
      "image/png": "[encoded data removed]",
      "text/plain": [
       "<Figure size 864x432 with 1 Axes>"
      ]
     },
     "metadata": {
      "needs_background": "light"
     },
     "output_type": "display_data"
    }
   ],
   "source": [
    "plt.figure(figsize=(12,6))\n",
    "sns.swarmplot(x='label', y='predict', data=res)\n",
    "sns.despine(offset=10, trim=True)\n",
    "plt.xlabel(\"fault prediction\")\n",
    "plt.grid()\n",
    "plt.show()"
   ]
  },
  {
   "cell_type": "code",
   "execution_count": 17,
   "metadata": {},
   "outputs": [],
   "source": [
    "ver = res.query(\"label==4\").sample(n=8).index"
   ]
  },
  {
   "cell_type": "code",
   "execution_count": 18,
   "metadata": {},
   "outputs": [
    {
     "data": {
      "text/plain": [
       "Int64Index([2130, 9792, 247, 2877, 8520, 9669, 4382, 9922], dtype='int64')"
      ]
     },
     "execution_count": 18,
     "metadata": {},
     "output_type": "execute_result"
    }
   ],
   "source": [
    "ver"
   ]
  },
  {
   "cell_type": "code",
   "execution_count": 20,
   "metadata": {},
   "outputs": [
    {
     "data": {
      "image/png": "[encoded data removed]",
      "text/plain": [
       "<Figure size 432x288 with 8 Axes>"
      ]
     },
     "metadata": {
      "needs_background": "light"
     },
     "output_type": "display_data"
    }
   ],
   "source": [
    "cnt=0\n",
    "for n in ver:\n",
    "    cnt+=1\n",
    "    plt.subplot(4,4,cnt)\n",
    "    plt.imshow(mnist.test.images[n].reshape(28,28), cmap='Greys')\n",
    "    t=\"label:\"+str(res['label'][n])+\"pred:\"+str(res['predict'][n])\n",
    "    plt.title(t)\n",
    "plt.tight_layout()\n",
    "plt.show()"
   ]
  },
  {
   "cell_type": "markdown",
   "metadata": {},
   "source": [
    "### pima 인디안 분석"
   ]
  },
  {
   "cell_type": "code",
   "execution_count": 21,
   "metadata": {},
   "outputs": [
    {
     "name": "stderr",
     "output_type": "stream",
     "text": [
      "Using TensorFlow backend.\n"
     ]
    }
   ],
   "source": [
    "from keras.models import Sequential\n",
    "from keras.layers import Dense\n",
    "import numpy as np"
   ]
  },
  {
   "cell_type": "code",
   "execution_count": 22,
   "metadata": {},
   "outputs": [],
   "source": [
    "#seed 생성\n",
    "np.random.seed(42)\n",
    "tf.set_random_seed(42)"
   ]
  },
  {
   "cell_type": "code",
   "execution_count": 23,
   "metadata": {},
   "outputs": [],
   "source": [
    "data = np.loadtxt(\"dataset (1)/pima-indians-diabetes.csv\", delimiter=\",\")"
   ]
  },
  {
   "cell_type": "code",
   "execution_count": 24,
   "metadata": {},
   "outputs": [],
   "source": [
    "x = data[:,0:8]\n",
    "y = data[:,8]"
   ]
  },
  {
   "cell_type": "code",
   "execution_count": 25,
   "metadata": {},
   "outputs": [
    {
     "name": "stdout",
     "output_type": "stream",
     "text": [
      "WARNING:tensorflow:From C:\\Users\\student\\Anaconda3\\lib\\site-packages\\tensorflow_core\\python\\ops\\resource_variable_ops.py:1630: calling BaseResourceVariable.__init__ (from tensorflow.python.ops.resource_variable_ops) with constraint is deprecated and will be removed in a future version.\n",
      "Instructions for updating:\n",
      "If using Keras pass *_constraint arguments to layers.\n"
     ]
    }
   ],
   "source": [
    "model = Sequential()\n",
    "model.add(Dense(12, input_dim=8, activation='relu'))\n",
    "model.add(Dense(8, activation='relu'))\n",
    "model.add(Dense(1, activation='sigmoid'))"
   ]
  },
  {
   "cell_type": "code",
   "execution_count": 26,
   "metadata": {},
   "outputs": [
    {
     "name": "stdout",
     "output_type": "stream",
     "text": [
      "WARNING:tensorflow:From C:\\Users\\student\\Anaconda3\\lib\\site-packages\\tensorflow_core\\python\\ops\\nn_impl.py:183: where (from tensorflow.python.ops.array_ops) is deprecated and will be removed in a future version.\n",
      "Instructions for updating:\n",
      "Use tf.where in 2.0, which has the same broadcast rule as np.where\n"
     ]
    }
   ],
   "source": [
    "model.compile(loss=\"binary_crossentropy\", optimizer=\"adam\", metrics=['accuracy'])"
   ]
  },
  {
   "cell_type": "code",
   "execution_count": 27,
   "metadata": {},
   "outputs": [
    {
     "name": "stdout",
     "output_type": "stream",
     "text": [
      "WARNING:tensorflow:From C:\\Users\\student\\Anaconda3\\lib\\site-packages\\keras\\backend\\tensorflow_backend.py:422: The name tf.global_variables is deprecated. Please use tf.compat.v1.global_variables instead.\n",
      "\n",
      "WARNING:tensorflow:From C:\\Users\\student\\Anaconda3\\lib\\site-packages\\keras\\backend\\tensorflow_backend.py:431: The name tf.is_variable_initialized is deprecated. Please use tf.compat.v1.is_variable_initialized instead.\n",
      "\n",
      "WARNING:tensorflow:From C:\\Users\\student\\Anaconda3\\lib\\site-packages\\keras\\backend\\tensorflow_backend.py:438: The name tf.variables_initializer is deprecated. Please use tf.compat.v1.variables_initializer instead.\n",
      "\n",
      "Epoch 1/200\n",
      "768/768 [==============================] - ETA: 17s - loss: 23.9541 - accuracy: 0.40 - ETA: 0s - loss: 20.3348 - accuracy: 0.3263 - 0s 417us/step - loss: 12.6002 - accuracy: 0.3568\n",
      "Epoch 2/200\n",
      "768/768 [==============================] - ETA: 0s - loss: 2.8568 - accuracy: 0.40 - ETA: 0s - loss: 1.7696 - accuracy: 0.52 - 0s 99us/step - loss: 1.6269 - accuracy: 0.5404\n",
      "Epoch 3/200\n",
      "768/768 [==============================] - ETA: 0s - loss: 1.3739 - accuracy: 0.60 - ETA: 0s - loss: 1.1781 - accuracy: 0.59 - 0s 96us/step - loss: 1.1515 - accuracy: 0.6029\n",
      "Epoch 4/200\n",
      "768/768 [==============================] - ETA: 0s - loss: 0.7040 - accuracy: 0.50 - ETA: 0s - loss: 1.0877 - accuracy: 0.59 - 0s 95us/step - loss: 1.0529 - accuracy: 0.5964\n",
      "Epoch 5/200\n",
      "768/768 [==============================] - ETA: 0s - loss: 0.9609 - accuracy: 0.40 - ETA: 0s - loss: 1.0044 - accuracy: 0.59 - 0s 90us/step - loss: 0.9574 - accuracy: 0.5977\n",
      "Epoch 6/200\n",
      "768/768 [==============================] - ETA: 0s - loss: 0.7532 - accuracy: 0.60 - ETA: 0s - loss: 0.9230 - accuracy: 0.59 - 0s 87us/step - loss: 0.8971 - accuracy: 0.6029\n",
      "Epoch 7/200\n",
      "768/768 [==============================] - ETA: 0s - loss: 0.4698 - accuracy: 0.80 - ETA: 0s - loss: 0.8329 - accuracy: 0.63 - 0s 100us/step - loss: 0.8706 - accuracy: 0.5990\n",
      "Epoch 8/200\n",
      "768/768 [==============================] - ETA: 0s - loss: 0.5304 - accuracy: 0.60 - ETA: 0s - loss: 0.8088 - accuracy: 0.61 - 0s 98us/step - loss: 0.8089 - accuracy: 0.6146\n",
      "Epoch 9/200\n",
      "768/768 [==============================] - ETA: 0s - loss: 0.8953 - accuracy: 0.60 - ETA: 0s - loss: 0.8631 - accuracy: 0.59 - 0s 96us/step - loss: 0.8140 - accuracy: 0.6198\n",
      "Epoch 10/200\n",
      "768/768 [==============================] - ETA: 0s - loss: 0.8155 - accuracy: 0.70 - ETA: 0s - loss: 0.7257 - accuracy: 0.62 - 0s 96us/step - loss: 0.7435 - accuracy: 0.6198\n",
      "Epoch 11/200\n",
      "768/768 [==============================] - ETA: 0s - loss: 0.8486 - accuracy: 0.60 - ETA: 0s - loss: 0.7546 - accuracy: 0.62 - 0s 87us/step - loss: 0.7298 - accuracy: 0.6380\n",
      "Epoch 12/200\n",
      "768/768 [==============================] - ETA: 0s - loss: 0.6787 - accuracy: 0.60 - ETA: 0s - loss: 0.7609 - accuracy: 0.61 - 0s 95us/step - loss: 0.7269 - accuracy: 0.6354\n",
      "Epoch 13/200\n",
      "768/768 [==============================] - ETA: 0s - loss: 1.1089 - accuracy: 0.40 - ETA: 0s - loss: 0.7176 - accuracy: 0.63 - 0s 86us/step - loss: 0.7106 - accuracy: 0.6393\n",
      "Epoch 14/200\n",
      "768/768 [==============================] - ETA: 0s - loss: 1.4272 - accuracy: 0.40 - ETA: 0s - loss: 0.7172 - accuracy: 0.64 - 0s 102us/step - loss: 0.7231 - accuracy: 0.6354\n",
      "Epoch 15/200\n",
      "768/768 [==============================] - ETA: 0s - loss: 0.4724 - accuracy: 0.80 - ETA: 0s - loss: 0.7189 - accuracy: 0.63 - 0s 99us/step - loss: 0.6883 - accuracy: 0.6419\n",
      "Epoch 16/200\n",
      "768/768 [==============================] - ETA: 0s - loss: 0.6512 - accuracy: 0.60 - ETA: 0s - loss: 0.6557 - accuracy: 0.67 - 0s 104us/step - loss: 0.6858 - accuracy: 0.6562\n",
      "Epoch 17/200\n",
      "768/768 [==============================] - ETA: 0s - loss: 0.5397 - accuracy: 0.60 - ETA: 0s - loss: 0.7086 - accuracy: 0.65 - 0s 98us/step - loss: 0.7090 - accuracy: 0.6536\n",
      "Epoch 18/200\n",
      "768/768 [==============================] - ETA: 0s - loss: 1.2721 - accuracy: 0.50 - ETA: 0s - loss: 0.6475 - accuracy: 0.67 - 0s 102us/step - loss: 0.6592 - accuracy: 0.6562\n",
      "Epoch 19/200\n",
      "768/768 [==============================] - ETA: 0s - loss: 0.6922 - accuracy: 0.50 - ETA: 0s - loss: 0.6905 - accuracy: 0.66 - 0s 103us/step - loss: 0.6650 - accuracy: 0.6693\n",
      "Epoch 20/200\n",
      "768/768 [==============================] - ETA: 0s - loss: 0.8870 - accuracy: 0.60 - ETA: 0s - loss: 0.6282 - accuracy: 0.67 - 0s 102us/step - loss: 0.6343 - accuracy: 0.6914\n",
      "Epoch 21/200\n",
      "768/768 [==============================] - ETA: 0s - loss: 0.6070 - accuracy: 0.70 - ETA: 0s - loss: 0.6297 - accuracy: 0.66 - 0s 99us/step - loss: 0.6219 - accuracy: 0.6693\n",
      "Epoch 22/200\n",
      "768/768 [==============================] - ETA: 0s - loss: 0.3513 - accuracy: 0.80 - ETA: 0s - loss: 0.6473 - accuracy: 0.66 - 0s 92us/step - loss: 0.6526 - accuracy: 0.6667\n",
      "Epoch 23/200\n",
      "768/768 [==============================] - ETA: 0s - loss: 1.2262 - accuracy: 0.40 - ETA: 0s - loss: 0.6271 - accuracy: 0.67 - 0s 87us/step - loss: 0.6259 - accuracy: 0.6732\n",
      "Epoch 24/200\n",
      "768/768 [==============================] - ETA: 0s - loss: 0.6381 - accuracy: 0.60 - ETA: 0s - loss: 0.6044 - accuracy: 0.67 - 0s 94us/step - loss: 0.6244 - accuracy: 0.6836\n",
      "Epoch 25/200\n",
      "768/768 [==============================] - ETA: 0s - loss: 0.5857 - accuracy: 0.70 - ETA: 0s - loss: 0.5887 - accuracy: 0.68 - 0s 102us/step - loss: 0.6186 - accuracy: 0.6797\n",
      "Epoch 26/200\n",
      "768/768 [==============================] - ETA: 0s - loss: 0.5388 - accuracy: 0.80 - ETA: 0s - loss: 0.5893 - accuracy: 0.68 - 0s 98us/step - loss: 0.5945 - accuracy: 0.6849\n",
      "Epoch 27/200\n",
      "768/768 [==============================] - ETA: 0s - loss: 0.2561 - accuracy: 1.00 - ETA: 0s - loss: 0.6075 - accuracy: 0.69 - 0s 92us/step - loss: 0.6219 - accuracy: 0.7044\n",
      "Epoch 28/200\n",
      "768/768 [==============================] - ETA: 0s - loss: 0.5093 - accuracy: 0.70 - ETA: 0s - loss: 0.6010 - accuracy: 0.69 - 0s 95us/step - loss: 0.6068 - accuracy: 0.6875\n",
      "Epoch 29/200\n",
      "768/768 [==============================] - ETA: 0s - loss: 0.5699 - accuracy: 0.70 - ETA: 0s - loss: 0.5852 - accuracy: 0.70 - 0s 91us/step - loss: 0.5974 - accuracy: 0.6979\n",
      "Epoch 30/200\n",
      "768/768 [==============================] - ETA: 0s - loss: 0.4745 - accuracy: 0.70 - ETA: 0s - loss: 0.6174 - accuracy: 0.69 - 0s 91us/step - loss: 0.6090 - accuracy: 0.6940\n",
      "Epoch 31/200\n",
      "768/768 [==============================] - ETA: 0s - loss: 0.6450 - accuracy: 0.70 - ETA: 0s - loss: 0.5822 - accuracy: 0.71 - 0s 94us/step - loss: 0.5875 - accuracy: 0.6992\n",
      "Epoch 32/200\n",
      "768/768 [==============================] - ETA: 0s - loss: 0.3226 - accuracy: 1.00 - ETA: 0s - loss: 0.5961 - accuracy: 0.70 - 0s 94us/step - loss: 0.5958 - accuracy: 0.7148\n",
      "Epoch 33/200\n",
      "768/768 [==============================] - ETA: 0s - loss: 0.6783 - accuracy: 0.70 - ETA: 0s - loss: 0.6518 - accuracy: 0.69 - 0s 91us/step - loss: 0.6320 - accuracy: 0.6914\n",
      "Epoch 34/200\n",
      "768/768 [==============================] - ETA: 0s - loss: 0.5360 - accuracy: 0.80 - ETA: 0s - loss: 0.5895 - accuracy: 0.70 - 0s 90us/step - loss: 0.5938 - accuracy: 0.7044\n",
      "Epoch 35/200\n",
      "768/768 [==============================] - ETA: 0s - loss: 0.4497 - accuracy: 0.80 - ETA: 0s - loss: 0.6233 - accuracy: 0.68 - 0s 96us/step - loss: 0.6092 - accuracy: 0.6784\n",
      "Epoch 36/200\n",
      "768/768 [==============================] - ETA: 0s - loss: 0.6940 - accuracy: 0.70 - ETA: 0s - loss: 0.5829 - accuracy: 0.71 - 0s 95us/step - loss: 0.5872 - accuracy: 0.7201\n",
      "Epoch 37/200\n",
      "768/768 [==============================] - ETA: 0s - loss: 0.4225 - accuracy: 0.90 - ETA: 0s - loss: 0.5897 - accuracy: 0.71 - 0s 92us/step - loss: 0.5821 - accuracy: 0.7070\n",
      "Epoch 38/200\n",
      "768/768 [==============================] - ETA: 0s - loss: 0.5486 - accuracy: 0.60 - ETA: 0s - loss: 0.5886 - accuracy: 0.71 - 0s 85us/step - loss: 0.5787 - accuracy: 0.7201\n",
      "Epoch 39/200\n",
      "768/768 [==============================] - ETA: 0s - loss: 0.6662 - accuracy: 0.70 - ETA: 0s - loss: 0.5954 - accuracy: 0.70 - 0s 85us/step - loss: 0.5814 - accuracy: 0.7083\n",
      "Epoch 40/200\n",
      "768/768 [==============================] - ETA: 0s - loss: 0.5007 - accuracy: 0.70 - ETA: 0s - loss: 0.5599 - accuracy: 0.72 - 0s 83us/step - loss: 0.5723 - accuracy: 0.7201\n",
      "Epoch 41/200\n",
      "768/768 [==============================] - ETA: 0s - loss: 0.5169 - accuracy: 0.70 - ETA: 0s - loss: 0.5557 - accuracy: 0.73 - 0s 83us/step - loss: 0.5583 - accuracy: 0.7266\n",
      "Epoch 42/200\n",
      "768/768 [==============================] - ETA: 0s - loss: 0.5789 - accuracy: 0.70 - ETA: 0s - loss: 0.5683 - accuracy: 0.71 - 0s 120us/step - loss: 0.5841 - accuracy: 0.7044\n",
      "Epoch 43/200\n",
      "768/768 [==============================] - ETA: 0s - loss: 0.3493 - accuracy: 0.90 - ETA: 0s - loss: 0.5801 - accuracy: 0.72 - 0s 90us/step - loss: 0.5763 - accuracy: 0.7188\n",
      "Epoch 44/200\n",
      "768/768 [==============================] - ETA: 0s - loss: 0.6748 - accuracy: 0.70 - ETA: 0s - loss: 0.5954 - accuracy: 0.70 - 0s 90us/step - loss: 0.5891 - accuracy: 0.7109\n",
      "Epoch 45/200\n",
      "768/768 [==============================] - ETA: 0s - loss: 0.7578 - accuracy: 0.60 - ETA: 0s - loss: 0.5878 - accuracy: 0.71 - 0s 91us/step - loss: 0.5662 - accuracy: 0.7266\n",
      "Epoch 46/200\n",
      "768/768 [==============================] - ETA: 0s - loss: 0.5255 - accuracy: 0.80 - ETA: 0s - loss: 0.5872 - accuracy: 0.72 - 0s 87us/step - loss: 0.5800 - accuracy: 0.7240\n",
      "Epoch 47/200\n",
      "768/768 [==============================] - ETA: 0s - loss: 0.4171 - accuracy: 0.90 - ETA: 0s - loss: 0.5636 - accuracy: 0.73 - 0s 83us/step - loss: 0.5556 - accuracy: 0.7331\n",
      "Epoch 48/200\n",
      "768/768 [==============================] - ETA: 0s - loss: 0.5506 - accuracy: 0.60 - ETA: 0s - loss: 0.5691 - accuracy: 0.71 - 0s 82us/step - loss: 0.5641 - accuracy: 0.7214\n",
      "Epoch 49/200\n",
      "768/768 [==============================] - ETA: 0s - loss: 0.3371 - accuracy: 0.90 - ETA: 0s - loss: 0.5609 - accuracy: 0.70 - 0s 85us/step - loss: 0.5583 - accuracy: 0.7096\n",
      "Epoch 50/200\n",
      "768/768 [==============================] - ETA: 0s - loss: 0.7757 - accuracy: 0.60 - ETA: 0s - loss: 0.5796 - accuracy: 0.71 - 0s 87us/step - loss: 0.5889 - accuracy: 0.7122\n",
      "Epoch 51/200\n",
      "768/768 [==============================] - ETA: 0s - loss: 0.6759 - accuracy: 0.60 - ETA: 0s - loss: 0.5619 - accuracy: 0.69 - 0s 90us/step - loss: 0.5614 - accuracy: 0.7031\n",
      "Epoch 52/200\n",
      "768/768 [==============================] - ETA: 0s - loss: 0.4031 - accuracy: 1.00 - ETA: 0s - loss: 0.5563 - accuracy: 0.72 - 0s 90us/step - loss: 0.5583 - accuracy: 0.7331\n",
      "Epoch 53/200\n",
      "768/768 [==============================] - ETA: 0s - loss: 0.2948 - accuracy: 1.00 - ETA: 0s - loss: 0.6130 - accuracy: 0.67 - 0s 96us/step - loss: 0.6032 - accuracy: 0.6875\n",
      "Epoch 54/200\n",
      "768/768 [==============================] - ETA: 0s - loss: 0.4065 - accuracy: 0.90 - ETA: 0s - loss: 0.5418 - accuracy: 0.73 - 0s 95us/step - loss: 0.5615 - accuracy: 0.7253\n",
      "Epoch 55/200\n",
      "768/768 [==============================] - ETA: 0s - loss: 0.4462 - accuracy: 0.80 - ETA: 0s - loss: 0.5649 - accuracy: 0.73 - 0s 92us/step - loss: 0.5762 - accuracy: 0.7161\n",
      "Epoch 56/200\n",
      "768/768 [==============================] - ETA: 0s - loss: 0.7694 - accuracy: 0.60 - ETA: 0s - loss: 0.5663 - accuracy: 0.72 - 0s 91us/step - loss: 0.5545 - accuracy: 0.7318\n",
      "Epoch 57/200\n",
      "768/768 [==============================] - ETA: 0s - loss: 0.3145 - accuracy: 0.90 - ETA: 0s - loss: 0.5633 - accuracy: 0.75 - 0s 89us/step - loss: 0.5505 - accuracy: 0.7474\n",
      "Epoch 58/200\n",
      "768/768 [==============================] - ETA: 0s - loss: 0.7857 - accuracy: 0.50 - ETA: 0s - loss: 0.5510 - accuracy: 0.71 - 0s 83us/step - loss: 0.5455 - accuracy: 0.7201\n",
      "Epoch 59/200\n",
      "768/768 [==============================] - ETA: 0s - loss: 0.3564 - accuracy: 0.80 - ETA: 0s - loss: 0.5260 - accuracy: 0.73 - 0s 82us/step - loss: 0.5417 - accuracy: 0.7266\n",
      "Epoch 60/200\n",
      "768/768 [==============================] - ETA: 0s - loss: 0.3983 - accuracy: 0.90 - ETA: 0s - loss: 0.5573 - accuracy: 0.71 - 0s 95us/step - loss: 0.5518 - accuracy: 0.7214\n",
      "Epoch 61/200\n",
      "768/768 [==============================] - ETA: 0s - loss: 0.6191 - accuracy: 0.80 - ETA: 0s - loss: 0.5485 - accuracy: 0.73 - 0s 92us/step - loss: 0.5449 - accuracy: 0.7396\n",
      "Epoch 62/200\n",
      "768/768 [==============================] - ETA: 0s - loss: 0.3750 - accuracy: 1.00 - ETA: 0s - loss: 0.5539 - accuracy: 0.73 - 0s 89us/step - loss: 0.5511 - accuracy: 0.7370\n",
      "Epoch 63/200\n",
      "768/768 [==============================] - ETA: 0s - loss: 0.6584 - accuracy: 0.60 - ETA: 0s - loss: 0.5545 - accuracy: 0.73 - 0s 83us/step - loss: 0.5513 - accuracy: 0.7318\n",
      "Epoch 64/200\n",
      "768/768 [==============================] - ETA: 0s - loss: 0.5136 - accuracy: 0.70 - ETA: 0s - loss: 0.5361 - accuracy: 0.73 - 0s 91us/step - loss: 0.5438 - accuracy: 0.7253\n",
      "Epoch 65/200\n",
      "768/768 [==============================] - ETA: 0s - loss: 0.5368 - accuracy: 0.60 - ETA: 0s - loss: 0.5366 - accuracy: 0.70 - 0s 92us/step - loss: 0.5346 - accuracy: 0.7148\n",
      "Epoch 66/200\n",
      "768/768 [==============================] - ETA: 0s - loss: 0.5390 - accuracy: 0.70 - ETA: 0s - loss: 0.5462 - accuracy: 0.73 - 0s 91us/step - loss: 0.5533 - accuracy: 0.7279\n",
      "Epoch 67/200\n",
      "768/768 [==============================] - ETA: 0s - loss: 0.3815 - accuracy: 0.80 - ETA: 0s - loss: 0.5458 - accuracy: 0.72 - 0s 82us/step - loss: 0.5530 - accuracy: 0.7161\n",
      "Epoch 68/200\n",
      "768/768 [==============================] - ETA: 0s - loss: 0.3122 - accuracy: 0.90 - ETA: 0s - loss: 0.5408 - accuracy: 0.71 - 0s 82us/step - loss: 0.5441 - accuracy: 0.7214\n",
      "Epoch 69/200\n",
      "768/768 [==============================] - ETA: 0s - loss: 0.4023 - accuracy: 0.80 - ETA: 0s - loss: 0.5413 - accuracy: 0.74 - 0s 84us/step - loss: 0.5415 - accuracy: 0.7357\n",
      "Epoch 70/200\n",
      "768/768 [==============================] - ETA: 0s - loss: 0.3349 - accuracy: 0.90 - ETA: 0s - loss: 0.5676 - accuracy: 0.71 - 0s 86us/step - loss: 0.5567 - accuracy: 0.7253\n",
      "Epoch 71/200\n",
      "768/768 [==============================] - ETA: 0s - loss: 0.2625 - accuracy: 0.90 - ETA: 0s - loss: 0.5166 - accuracy: 0.74 - 0s 92us/step - loss: 0.5333 - accuracy: 0.7370\n",
      "Epoch 72/200\n",
      "768/768 [==============================] - ETA: 0s - loss: 0.7437 - accuracy: 0.50 - ETA: 0s - loss: 0.5434 - accuracy: 0.71 - 0s 86us/step - loss: 0.5281 - accuracy: 0.7357\n",
      "Epoch 73/200\n",
      "768/768 [==============================] - ETA: 0s - loss: 0.4080 - accuracy: 0.90 - ETA: 0s - loss: 0.5345 - accuracy: 0.73 - 0s 90us/step - loss: 0.5247 - accuracy: 0.7409\n",
      "Epoch 74/200\n",
      "768/768 [==============================] - ETA: 0s - loss: 0.4088 - accuracy: 0.90 - ETA: 0s - loss: 0.5502 - accuracy: 0.73 - 0s 96us/step - loss: 0.5322 - accuracy: 0.7461\n",
      "Epoch 75/200\n",
      "768/768 [==============================] - ETA: 0s - loss: 0.4971 - accuracy: 0.80 - ETA: 0s - loss: 0.5407 - accuracy: 0.73 - 0s 90us/step - loss: 0.5404 - accuracy: 0.7383\n",
      "Epoch 76/200\n",
      "768/768 [==============================] - ETA: 0s - loss: 0.3250 - accuracy: 0.90 - ETA: 0s - loss: 0.5336 - accuracy: 0.73 - 0s 86us/step - loss: 0.5286 - accuracy: 0.7422\n",
      "Epoch 77/200\n",
      "768/768 [==============================] - ETA: 0s - loss: 0.7004 - accuracy: 0.50 - ETA: 0s - loss: 0.5340 - accuracy: 0.75 - 0s 82us/step - loss: 0.5385 - accuracy: 0.7500\n",
      "Epoch 78/200\n",
      "768/768 [==============================] - ETA: 0s - loss: 0.6423 - accuracy: 0.70 - ETA: 0s - loss: 0.5306 - accuracy: 0.73 - 0s 85us/step - loss: 0.5251 - accuracy: 0.7396\n",
      "Epoch 79/200\n",
      "768/768 [==============================] - ETA: 0s - loss: 0.4248 - accuracy: 0.70 - ETA: 0s - loss: 0.5229 - accuracy: 0.74 - 0s 87us/step - loss: 0.5314 - accuracy: 0.7370\n",
      "Epoch 80/200\n",
      "768/768 [==============================] - ETA: 0s - loss: 0.5793 - accuracy: 0.70 - ETA: 0s - loss: 0.5291 - accuracy: 0.74 - 0s 90us/step - loss: 0.5342 - accuracy: 0.7396\n",
      "Epoch 81/200\n",
      "768/768 [==============================] - ETA: 0s - loss: 1.0448 - accuracy: 0.60 - ETA: 0s - loss: 0.5124 - accuracy: 0.74 - 0s 96us/step - loss: 0.5237 - accuracy: 0.7266\n",
      "Epoch 82/200\n",
      "768/768 [==============================] - ETA: 0s - loss: 0.5801 - accuracy: 0.80 - ETA: 0s - loss: 0.5460 - accuracy: 0.73 - 0s 94us/step - loss: 0.5372 - accuracy: 0.7357\n",
      "Epoch 83/200\n",
      "768/768 [==============================] - ETA: 0s - loss: 0.4633 - accuracy: 0.70 - ETA: 0s - loss: 0.5350 - accuracy: 0.73 - 0s 89us/step - loss: 0.5248 - accuracy: 0.7370\n",
      "Epoch 84/200\n",
      "768/768 [==============================] - ETA: 0s - loss: 0.6219 - accuracy: 0.90 - ETA: 0s - loss: 0.5275 - accuracy: 0.74 - 0s 83us/step - loss: 0.5309 - accuracy: 0.7435\n"
     ]
    },
    {
     "name": "stdout",
     "output_type": "stream",
     "text": [
      "Epoch 85/200\n",
      "768/768 [==============================] - ETA: 0s - loss: 0.4906 - accuracy: 0.60 - ETA: 0s - loss: 0.5177 - accuracy: 0.74 - 0s 89us/step - loss: 0.5230 - accuracy: 0.7396\n",
      "Epoch 86/200\n",
      "768/768 [==============================] - ETA: 0s - loss: 0.2874 - accuracy: 0.90 - ETA: 0s - loss: 0.5121 - accuracy: 0.74 - 0s 87us/step - loss: 0.5154 - accuracy: 0.7461\n",
      "Epoch 87/200\n",
      "768/768 [==============================] - ETA: 0s - loss: 0.2499 - accuracy: 1.00 - ETA: 0s - loss: 0.5393 - accuracy: 0.74 - 0s 87us/step - loss: 0.5393 - accuracy: 0.7396\n",
      "Epoch 88/200\n",
      "768/768 [==============================] - ETA: 0s - loss: 0.3043 - accuracy: 0.90 - ETA: 0s - loss: 0.5231 - accuracy: 0.74 - 0s 89us/step - loss: 0.5257 - accuracy: 0.7474\n",
      "Epoch 89/200\n",
      "768/768 [==============================] - ETA: 0s - loss: 0.3144 - accuracy: 0.90 - ETA: 0s - loss: 0.5506 - accuracy: 0.72 - 0s 98us/step - loss: 0.5396 - accuracy: 0.7240\n",
      "Epoch 90/200\n",
      "768/768 [==============================] - ETA: 0s - loss: 0.4813 - accuracy: 0.60 - ETA: 0s - loss: 0.5305 - accuracy: 0.74 - 0s 102us/step - loss: 0.5193 - accuracy: 0.7435\n",
      "Epoch 91/200\n",
      "768/768 [==============================] - ETA: 0s - loss: 0.4454 - accuracy: 0.90 - ETA: 0s - loss: 0.5343 - accuracy: 0.74 - 0s 92us/step - loss: 0.5334 - accuracy: 0.7370\n",
      "Epoch 92/200\n",
      "768/768 [==============================] - ETA: 0s - loss: 0.4534 - accuracy: 0.80 - ETA: 0s - loss: 0.5315 - accuracy: 0.73 - 0s 85us/step - loss: 0.5336 - accuracy: 0.7422\n",
      "Epoch 93/200\n",
      "768/768 [==============================] - ETA: 0s - loss: 0.4814 - accuracy: 0.60 - ETA: 0s - loss: 0.4974 - accuracy: 0.77 - 0s 84us/step - loss: 0.5196 - accuracy: 0.7526\n",
      "Epoch 94/200\n",
      "768/768 [==============================] - ETA: 0s - loss: 0.5673 - accuracy: 0.70 - ETA: 0s - loss: 0.5156 - accuracy: 0.75 - 0s 83us/step - loss: 0.5145 - accuracy: 0.7513\n",
      "Epoch 95/200\n",
      "768/768 [==============================] - ETA: 0s - loss: 0.7101 - accuracy: 0.60 - ETA: 0s - loss: 0.4983 - accuracy: 0.75 - 0s 89us/step - loss: 0.5162 - accuracy: 0.7474\n",
      "Epoch 96/200\n",
      "768/768 [==============================] - ETA: 0s - loss: 0.3337 - accuracy: 0.80 - ETA: 0s - loss: 0.5299 - accuracy: 0.74 - 0s 89us/step - loss: 0.5355 - accuracy: 0.7409\n",
      "Epoch 97/200\n",
      "768/768 [==============================] - ETA: 0s - loss: 0.5752 - accuracy: 0.60 - ETA: 0s - loss: 0.5107 - accuracy: 0.73 - 0s 90us/step - loss: 0.5221 - accuracy: 0.7253\n",
      "Epoch 98/200\n",
      "768/768 [==============================] - ETA: 0s - loss: 0.6358 - accuracy: 0.60 - ETA: 0s - loss: 0.5294 - accuracy: 0.72 - 0s 91us/step - loss: 0.5306 - accuracy: 0.7253\n",
      "Epoch 99/200\n",
      "768/768 [==============================] - ETA: 0s - loss: 0.4034 - accuracy: 0.90 - ETA: 0s - loss: 0.5122 - accuracy: 0.75 - 0s 92us/step - loss: 0.5188 - accuracy: 0.7526\n",
      "Epoch 100/200\n",
      "768/768 [==============================] - ETA: 0s - loss: 0.5704 - accuracy: 0.60 - ETA: 0s - loss: 0.5140 - accuracy: 0.75 - 0s 95us/step - loss: 0.5094 - accuracy: 0.7500\n",
      "Epoch 101/200\n",
      "768/768 [==============================] - ETA: 0s - loss: 0.8152 - accuracy: 0.60 - ETA: 0s - loss: 0.5236 - accuracy: 0.73 - 0s 85us/step - loss: 0.5194 - accuracy: 0.7435\n",
      "Epoch 102/200\n",
      "768/768 [==============================] - ETA: 0s - loss: 0.3440 - accuracy: 0.90 - ETA: 0s - loss: 0.5220 - accuracy: 0.73 - 0s 90us/step - loss: 0.5228 - accuracy: 0.7344\n",
      "Epoch 103/200\n",
      "768/768 [==============================] - ETA: 0s - loss: 0.2458 - accuracy: 0.90 - ETA: 0s - loss: 0.4968 - accuracy: 0.75 - 0s 90us/step - loss: 0.5324 - accuracy: 0.7266\n",
      "Epoch 104/200\n",
      "768/768 [==============================] - ETA: 0s - loss: 0.6741 - accuracy: 0.70 - ETA: 0s - loss: 0.5335 - accuracy: 0.72 - 0s 94us/step - loss: 0.5204 - accuracy: 0.7370\n",
      "Epoch 105/200\n",
      "768/768 [==============================] - ETA: 0s - loss: 0.4587 - accuracy: 0.70 - ETA: 0s - loss: 0.5040 - accuracy: 0.74 - 0s 91us/step - loss: 0.5047 - accuracy: 0.7513\n",
      "Epoch 106/200\n",
      "768/768 [==============================] - ETA: 0s - loss: 0.4024 - accuracy: 0.90 - ETA: 0s - loss: 0.5119 - accuracy: 0.74 - 0s 89us/step - loss: 0.5114 - accuracy: 0.7422\n",
      "Epoch 107/200\n",
      "768/768 [==============================] - ETA: 0s - loss: 0.7107 - accuracy: 0.40 - ETA: 0s - loss: 0.5030 - accuracy: 0.74 - 0s 91us/step - loss: 0.5110 - accuracy: 0.7409\n",
      "Epoch 108/200\n",
      "768/768 [==============================] - ETA: 0s - loss: 0.5253 - accuracy: 0.60 - ETA: 0s - loss: 0.4928 - accuracy: 0.76 - 0s 91us/step - loss: 0.5141 - accuracy: 0.7474\n",
      "Epoch 109/200\n",
      "768/768 [==============================] - ETA: 0s - loss: 0.3752 - accuracy: 0.90 - ETA: 0s - loss: 0.5112 - accuracy: 0.75 - 0s 92us/step - loss: 0.5033 - accuracy: 0.7578\n",
      "Epoch 110/200\n",
      "768/768 [==============================] - ETA: 0s - loss: 0.6533 - accuracy: 0.60 - ETA: 0s - loss: 0.5054 - accuracy: 0.74 - 0s 91us/step - loss: 0.5034 - accuracy: 0.7487\n",
      "Epoch 111/200\n",
      "768/768 [==============================] - ETA: 0s - loss: 0.5621 - accuracy: 0.70 - ETA: 0s - loss: 0.5259 - accuracy: 0.72 - 0s 91us/step - loss: 0.5084 - accuracy: 0.7435\n",
      "Epoch 112/200\n",
      "768/768 [==============================] - ETA: 0s - loss: 0.6734 - accuracy: 0.70 - ETA: 0s - loss: 0.5112 - accuracy: 0.75 - 0s 91us/step - loss: 0.5138 - accuracy: 0.7422\n",
      "Epoch 113/200\n",
      "768/768 [==============================] - ETA: 0s - loss: 0.3439 - accuracy: 0.80 - ETA: 0s - loss: 0.5027 - accuracy: 0.74 - 0s 90us/step - loss: 0.5047 - accuracy: 0.7461\n",
      "Epoch 114/200\n",
      "768/768 [==============================] - ETA: 0s - loss: 0.4893 - accuracy: 0.70 - ETA: 0s - loss: 0.5025 - accuracy: 0.75 - 0s 86us/step - loss: 0.5107 - accuracy: 0.7487\n",
      "Epoch 115/200\n",
      "768/768 [==============================] - ETA: 0s - loss: 0.6871 - accuracy: 0.60 - ETA: 0s - loss: 0.4957 - accuracy: 0.76 - 0s 90us/step - loss: 0.5069 - accuracy: 0.7578\n",
      "Epoch 116/200\n",
      "768/768 [==============================] - ETA: 0s - loss: 0.4944 - accuracy: 0.80 - ETA: 0s - loss: 0.5148 - accuracy: 0.74 - 0s 91us/step - loss: 0.5398 - accuracy: 0.7318\n",
      "Epoch 117/200\n",
      "768/768 [==============================] - ETA: 0s - loss: 0.4927 - accuracy: 0.70 - ETA: 0s - loss: 0.5112 - accuracy: 0.73 - 0s 94us/step - loss: 0.5095 - accuracy: 0.7461\n",
      "Epoch 118/200\n",
      "768/768 [==============================] - ETA: 0s - loss: 0.4609 - accuracy: 0.80 - ETA: 0s - loss: 0.4706 - accuracy: 0.76 - 0s 92us/step - loss: 0.4954 - accuracy: 0.7578\n",
      "Epoch 119/200\n",
      "768/768 [==============================] - ETA: 0s - loss: 0.5328 - accuracy: 0.70 - ETA: 0s - loss: 0.5074 - accuracy: 0.74 - 0s 89us/step - loss: 0.5002 - accuracy: 0.7578\n",
      "Epoch 120/200\n",
      "768/768 [==============================] - ETA: 0s - loss: 0.3851 - accuracy: 0.90 - ETA: 0s - loss: 0.4988 - accuracy: 0.75 - 0s 87us/step - loss: 0.4984 - accuracy: 0.7591\n",
      "Epoch 121/200\n",
      "768/768 [==============================] - ETA: 0s - loss: 0.5714 - accuracy: 0.70 - ETA: 0s - loss: 0.5073 - accuracy: 0.75 - 0s 86us/step - loss: 0.5043 - accuracy: 0.7539\n",
      "Epoch 122/200\n",
      "768/768 [==============================] - ETA: 0s - loss: 0.8170 - accuracy: 0.50 - ETA: 0s - loss: 0.5085 - accuracy: 0.74 - 0s 86us/step - loss: 0.5215 - accuracy: 0.7357\n",
      "Epoch 123/200\n",
      "768/768 [==============================] - ETA: 0s - loss: 0.2845 - accuracy: 0.90 - ETA: 0s - loss: 0.4974 - accuracy: 0.76 - 0s 89us/step - loss: 0.5010 - accuracy: 0.7630\n",
      "Epoch 124/200\n",
      "768/768 [==============================] - ETA: 0s - loss: 0.3968 - accuracy: 0.90 - ETA: 0s - loss: 0.4972 - accuracy: 0.77 - 0s 91us/step - loss: 0.5023 - accuracy: 0.7617\n",
      "Epoch 125/200\n",
      "768/768 [==============================] - ETA: 0s - loss: 0.3375 - accuracy: 0.90 - ETA: 0s - loss: 0.5242 - accuracy: 0.75 - 0s 104us/step - loss: 0.4988 - accuracy: 0.7747\n",
      "Epoch 126/200\n",
      "768/768 [==============================] - ETA: 0s - loss: 0.4955 - accuracy: 0.70 - ETA: 0s - loss: 0.4949 - accuracy: 0.75 - 0s 89us/step - loss: 0.5163 - accuracy: 0.7383\n",
      "Epoch 127/200\n",
      "768/768 [==============================] - ETA: 0s - loss: 0.4094 - accuracy: 0.70 - ETA: 0s - loss: 0.5141 - accuracy: 0.75 - 0s 87us/step - loss: 0.5159 - accuracy: 0.7513\n",
      "Epoch 128/200\n",
      "768/768 [==============================] - ETA: 0s - loss: 0.3773 - accuracy: 0.90 - ETA: 0s - loss: 0.5013 - accuracy: 0.76 - 0s 89us/step - loss: 0.4999 - accuracy: 0.7643\n",
      "Epoch 129/200\n",
      "768/768 [==============================] - ETA: 0s - loss: 0.2353 - accuracy: 0.90 - ETA: 0s - loss: 0.4785 - accuracy: 0.78 - 0s 96us/step - loss: 0.4943 - accuracy: 0.7721\n",
      "Epoch 130/200\n",
      "768/768 [==============================] - ETA: 0s - loss: 0.5009 - accuracy: 0.60 - ETA: 0s - loss: 0.5082 - accuracy: 0.75 - 0s 95us/step - loss: 0.5131 - accuracy: 0.7474\n",
      "Epoch 131/200\n",
      "768/768 [==============================] - ETA: 0s - loss: 0.5086 - accuracy: 0.60 - ETA: 0s - loss: 0.5038 - accuracy: 0.75 - 0s 118us/step - loss: 0.4987 - accuracy: 0.7604\n",
      "Epoch 132/200\n",
      "768/768 [==============================] - ETA: 0s - loss: 0.5050 - accuracy: 0.70 - ETA: 0s - loss: 0.4789 - accuracy: 0.76 - 0s 86us/step - loss: 0.4955 - accuracy: 0.7578\n",
      "Epoch 133/200\n",
      "768/768 [==============================] - ETA: 0s - loss: 0.5710 - accuracy: 0.70 - ETA: 0s - loss: 0.5012 - accuracy: 0.76 - 0s 84us/step - loss: 0.5002 - accuracy: 0.7552\n",
      "Epoch 134/200\n",
      "768/768 [==============================] - ETA: 0s - loss: 0.5434 - accuracy: 0.70 - ETA: 0s - loss: 0.4892 - accuracy: 0.77 - 0s 92us/step - loss: 0.4910 - accuracy: 0.7708\n",
      "Epoch 135/200\n",
      "768/768 [==============================] - ETA: 0s - loss: 0.5722 - accuracy: 0.70 - ETA: 0s - loss: 0.5055 - accuracy: 0.76 - 0s 89us/step - loss: 0.5001 - accuracy: 0.7578\n",
      "Epoch 136/200\n",
      "768/768 [==============================] - ETA: 0s - loss: 0.9335 - accuracy: 0.70 - ETA: 0s - loss: 0.5044 - accuracy: 0.75 - 0s 92us/step - loss: 0.5019 - accuracy: 0.7604\n",
      "Epoch 137/200\n",
      "768/768 [==============================] - ETA: 0s - loss: 0.2746 - accuracy: 0.90 - ETA: 0s - loss: 0.4991 - accuracy: 0.74 - 0s 91us/step - loss: 0.4994 - accuracy: 0.7526\n",
      "Epoch 138/200\n",
      "768/768 [==============================] - ETA: 0s - loss: 0.6566 - accuracy: 0.60 - ETA: 0s - loss: 0.4964 - accuracy: 0.76 - 0s 105us/step - loss: 0.5035 - accuracy: 0.7565\n",
      "Epoch 139/200\n",
      "768/768 [==============================] - ETA: 0s - loss: 0.6290 - accuracy: 0.70 - ETA: 0s - loss: 0.5097 - accuracy: 0.74 - 0s 94us/step - loss: 0.4979 - accuracy: 0.7539\n",
      "Epoch 140/200\n",
      "768/768 [==============================] - ETA: 0s - loss: 0.3829 - accuracy: 0.80 - ETA: 0s - loss: 0.5191 - accuracy: 0.75 - 0s 86us/step - loss: 0.5145 - accuracy: 0.7539\n",
      "Epoch 141/200\n",
      "768/768 [==============================] - ETA: 0s - loss: 0.4153 - accuracy: 0.90 - ETA: 0s - loss: 0.4913 - accuracy: 0.76 - 0s 79us/step - loss: 0.4990 - accuracy: 0.7539\n",
      "Epoch 142/200\n",
      "768/768 [==============================] - ETA: 0s - loss: 0.5165 - accuracy: 0.70 - ETA: 0s - loss: 0.4994 - accuracy: 0.75 - 0s 90us/step - loss: 0.4953 - accuracy: 0.7552\n",
      "Epoch 143/200\n",
      "768/768 [==============================] - ETA: 0s - loss: 0.6551 - accuracy: 0.70 - ETA: 0s - loss: 0.4918 - accuracy: 0.75 - 0s 90us/step - loss: 0.4870 - accuracy: 0.7617\n",
      "Epoch 144/200\n",
      "768/768 [==============================] - ETA: 0s - loss: 0.5849 - accuracy: 0.50 - ETA: 0s - loss: 0.5004 - accuracy: 0.74 - 0s 70us/step - loss: 0.4976 - accuracy: 0.7487\n",
      "Epoch 145/200\n",
      "768/768 [==============================] - ETA: 0s - loss: 0.3179 - accuracy: 0.80 - ETA: 0s - loss: 0.5031 - accuracy: 0.75 - 0s 96us/step - loss: 0.5009 - accuracy: 0.7539\n",
      "Epoch 146/200\n",
      "768/768 [==============================] - ETA: 0s - loss: 0.7359 - accuracy: 0.60 - ETA: 0s - loss: 0.5011 - accuracy: 0.75 - 0s 67us/step - loss: 0.5045 - accuracy: 0.7500\n",
      "Epoch 147/200\n",
      "768/768 [==============================] - ETA: 0s - loss: 0.3556 - accuracy: 0.70 - 0s 61us/step - loss: 0.5017 - accuracy: 0.7552\n",
      "Epoch 148/200\n",
      "768/768 [==============================] - ETA: 0s - loss: 0.7111 - accuracy: 0.60 - 0s 61us/step - loss: 0.4959 - accuracy: 0.7630\n",
      "Epoch 149/200\n",
      "768/768 [==============================] - ETA: 0s - loss: 0.7429 - accuracy: 0.60 - 0s 61us/step - loss: 0.5079 - accuracy: 0.7552\n",
      "Epoch 150/200\n",
      "768/768 [==============================] - ETA: 0s - loss: 0.5474 - accuracy: 0.60 - ETA: 0s - loss: 0.4844 - accuracy: 0.76 - 0s 86us/step - loss: 0.4825 - accuracy: 0.7604\n",
      "Epoch 151/200\n",
      "768/768 [==============================] - ETA: 0s - loss: 0.3320 - accuracy: 0.80 - ETA: 0s - loss: 0.4752 - accuracy: 0.77 - 0s 98us/step - loss: 0.4768 - accuracy: 0.7826\n",
      "Epoch 152/200\n",
      "768/768 [==============================] - ETA: 0s - loss: 0.5254 - accuracy: 0.70 - ETA: 0s - loss: 0.4758 - accuracy: 0.76 - 0s 98us/step - loss: 0.4860 - accuracy: 0.7578\n",
      "Epoch 153/200\n",
      "768/768 [==============================] - ETA: 0s - loss: 0.4159 - accuracy: 0.80 - ETA: 0s - loss: 0.4859 - accuracy: 0.75 - 0s 94us/step - loss: 0.4876 - accuracy: 0.7630\n",
      "Epoch 154/200\n",
      "768/768 [==============================] - ETA: 0s - loss: 0.3965 - accuracy: 0.90 - ETA: 0s - loss: 0.4970 - accuracy: 0.74 - 0s 81us/step - loss: 0.4990 - accuracy: 0.7487\n",
      "Epoch 155/200\n",
      "768/768 [==============================] - ETA: 0s - loss: 0.4994 - accuracy: 0.90 - ETA: 0s - loss: 0.5094 - accuracy: 0.75 - 0s 115us/step - loss: 0.5071 - accuracy: 0.7500\n",
      "Epoch 156/200\n",
      "768/768 [==============================] - ETA: 0s - loss: 0.3988 - accuracy: 0.90 - ETA: 0s - loss: 0.4872 - accuracy: 0.76 - 0s 73us/step - loss: 0.4848 - accuracy: 0.7617\n",
      "Epoch 157/200\n",
      "768/768 [==============================] - ETA: 0s - loss: 0.4044 - accuracy: 0.80 - ETA: 0s - loss: 0.4829 - accuracy: 0.76 - 0s 96us/step - loss: 0.4955 - accuracy: 0.7565\n",
      "Epoch 158/200\n",
      "768/768 [==============================] - ETA: 0s - loss: 0.6762 - accuracy: 0.60 - ETA: 0s - loss: 0.4941 - accuracy: 0.76 - 0s 92us/step - loss: 0.5018 - accuracy: 0.7578\n",
      "Epoch 159/200\n",
      "768/768 [==============================] - ETA: 0s - loss: 0.8164 - accuracy: 0.70 - ETA: 0s - loss: 0.4961 - accuracy: 0.77 - 0s 98us/step - loss: 0.5062 - accuracy: 0.7539\n",
      "Epoch 160/200\n",
      "768/768 [==============================] - ETA: 0s - loss: 0.5191 - accuracy: 0.90 - ETA: 0s - loss: 0.4859 - accuracy: 0.76 - 0s 94us/step - loss: 0.4873 - accuracy: 0.7721\n",
      "Epoch 161/200\n",
      "768/768 [==============================] - ETA: 0s - loss: 0.5512 - accuracy: 0.80 - ETA: 0s - loss: 0.4961 - accuracy: 0.73 - 0s 90us/step - loss: 0.4964 - accuracy: 0.7357\n",
      "Epoch 162/200\n",
      "768/768 [==============================] - ETA: 0s - loss: 0.9983 - accuracy: 0.70 - ETA: 0s - loss: 0.4990 - accuracy: 0.75 - 0s 73us/step - loss: 0.4989 - accuracy: 0.7578\n",
      "Epoch 163/200\n",
      "768/768 [==============================] - ETA: 0s - loss: 1.0420 - accuracy: 0.50 - ETA: 0s - loss: 0.4956 - accuracy: 0.76 - 0s 81us/step - loss: 0.4958 - accuracy: 0.7617\n",
      "Epoch 164/200\n",
      "768/768 [==============================] - ETA: 0s - loss: 0.4430 - accuracy: 0.80 - ETA: 0s - loss: 0.4878 - accuracy: 0.76 - 0s 100us/step - loss: 0.4825 - accuracy: 0.7760\n",
      "Epoch 165/200\n",
      "768/768 [==============================] - ETA: 0s - loss: 0.2748 - accuracy: 1.00 - ETA: 0s - loss: 0.4945 - accuracy: 0.76 - 0s 81us/step - loss: 0.4914 - accuracy: 0.7682\n",
      "Epoch 166/200\n",
      "768/768 [==============================] - ETA: 0s - loss: 0.2984 - accuracy: 0.90 - ETA: 0s - loss: 0.4704 - accuracy: 0.77 - 0s 98us/step - loss: 0.4849 - accuracy: 0.7708\n",
      "Epoch 167/200\n",
      "768/768 [==============================] - ETA: 0s - loss: 0.3231 - accuracy: 0.90 - ETA: 0s - loss: 0.4848 - accuracy: 0.76 - 0s 98us/step - loss: 0.4877 - accuracy: 0.7630\n",
      "Epoch 168/200\n",
      "768/768 [==============================] - ETA: 0s - loss: 0.6033 - accuracy: 0.70 - ETA: 0s - loss: 0.4965 - accuracy: 0.76 - 0s 92us/step - loss: 0.4818 - accuracy: 0.7734\n",
      "Epoch 169/200\n",
      "768/768 [==============================] - ETA: 0s - loss: 0.9349 - accuracy: 0.40 - ETA: 0s - loss: 0.4928 - accuracy: 0.75 - 0s 79us/step - loss: 0.4921 - accuracy: 0.7552\n",
      "Epoch 170/200\n",
      "768/768 [==============================] - ETA: 0s - loss: 0.4781 - accuracy: 0.70 - 0s 67us/step - loss: 0.4912 - accuracy: 0.7435\n",
      "Epoch 171/200\n",
      "768/768 [==============================] - ETA: 0s - loss: 0.3174 - accuracy: 0.80 - ETA: 0s - loss: 0.4770 - accuracy: 0.76 - 0s 81us/step - loss: 0.4847 - accuracy: 0.7695\n",
      "Epoch 172/200\n"
     ]
    },
    {
     "name": "stdout",
     "output_type": "stream",
     "text": [
      "768/768 [==============================] - ETA: 0s - loss: 0.5840 - accuracy: 0.70 - ETA: 0s - loss: 0.5098 - accuracy: 0.73 - 0s 82us/step - loss: 0.4995 - accuracy: 0.7461\n",
      "Epoch 173/200\n",
      "768/768 [==============================] - ETA: 0s - loss: 0.4371 - accuracy: 0.80 - ETA: 0s - loss: 0.5384 - accuracy: 0.74 - 0s 87us/step - loss: 0.5242 - accuracy: 0.7552\n",
      "Epoch 174/200\n",
      "768/768 [==============================] - ETA: 0s - loss: 0.4952 - accuracy: 0.70 - ETA: 0s - loss: 0.5011 - accuracy: 0.74 - 0s 96us/step - loss: 0.5083 - accuracy: 0.7422\n",
      "Epoch 175/200\n",
      "768/768 [==============================] - ETA: 0s - loss: 0.4999 - accuracy: 0.70 - ETA: 0s - loss: 0.4949 - accuracy: 0.75 - 0s 95us/step - loss: 0.4891 - accuracy: 0.7630\n",
      "Epoch 176/200\n",
      "768/768 [==============================] - ETA: 0s - loss: 0.6488 - accuracy: 0.50 - ETA: 0s - loss: 0.4772 - accuracy: 0.78 - 0s 87us/step - loss: 0.4873 - accuracy: 0.7773\n",
      "Epoch 177/200\n",
      "768/768 [==============================] - ETA: 0s - loss: 0.4310 - accuracy: 0.90 - 0s 61us/step - loss: 0.4802 - accuracy: 0.7812\n",
      "Epoch 178/200\n",
      "768/768 [==============================] - ETA: 0s - loss: 0.5968 - accuracy: 0.70 - ETA: 0s - loss: 0.4851 - accuracy: 0.75 - 0s 84us/step - loss: 0.4839 - accuracy: 0.7513\n",
      "Epoch 179/200\n",
      "768/768 [==============================] - ETA: 0s - loss: 0.3648 - accuracy: 0.80 - ETA: 0s - loss: 0.4755 - accuracy: 0.75 - 0s 95us/step - loss: 0.4860 - accuracy: 0.7565\n",
      "Epoch 180/200\n",
      "768/768 [==============================] - ETA: 0s - loss: 0.5065 - accuracy: 0.60 - ETA: 0s - loss: 0.5054 - accuracy: 0.73 - 0s 94us/step - loss: 0.4904 - accuracy: 0.7526\n",
      "Epoch 181/200\n",
      "768/768 [==============================] - ETA: 0s - loss: 0.6654 - accuracy: 0.60 - ETA: 0s - loss: 0.4831 - accuracy: 0.77 - 0s 94us/step - loss: 0.4802 - accuracy: 0.7708\n",
      "Epoch 182/200\n",
      "768/768 [==============================] - ETA: 0s - loss: 0.9142 - accuracy: 0.40 - 0s 59us/step - loss: 0.4871 - accuracy: 0.7656\n",
      "Epoch 183/200\n",
      "768/768 [==============================] - ETA: 0s - loss: 0.4232 - accuracy: 0.70 - ETA: 0s - loss: 0.4832 - accuracy: 0.75 - 0s 67us/step - loss: 0.4783 - accuracy: 0.7643\n",
      "Epoch 184/200\n",
      "768/768 [==============================] - ETA: 0s - loss: 0.4539 - accuracy: 0.90 - 0s 61us/step - loss: 0.4871 - accuracy: 0.7839\n",
      "Epoch 185/200\n",
      "768/768 [==============================] - ETA: 0s - loss: 0.8345 - accuracy: 0.40 - 0s 61us/step - loss: 0.4757 - accuracy: 0.7721\n",
      "Epoch 186/200\n",
      "768/768 [==============================] - ETA: 0s - loss: 0.2511 - accuracy: 1.00 - ETA: 0s - loss: 0.4584 - accuracy: 0.77 - 0s 86us/step - loss: 0.4707 - accuracy: 0.7721\n",
      "Epoch 187/200\n",
      "768/768 [==============================] - ETA: 0s - loss: 0.3128 - accuracy: 0.90 - ETA: 0s - loss: 0.4729 - accuracy: 0.78 - 0s 88us/step - loss: 0.4779 - accuracy: 0.7812\n",
      "Epoch 188/200\n",
      "768/768 [==============================] - ETA: 0s - loss: 0.7052 - accuracy: 0.60 - ETA: 0s - loss: 0.4950 - accuracy: 0.75 - 0s 98us/step - loss: 0.4906 - accuracy: 0.7604\n",
      "Epoch 189/200\n",
      "768/768 [==============================] - ETA: 0s - loss: 0.3023 - accuracy: 0.90 - ETA: 0s - loss: 0.4979 - accuracy: 0.76 - 0s 96us/step - loss: 0.5134 - accuracy: 0.7591\n",
      "Epoch 190/200\n",
      "768/768 [==============================] - ETA: 0s - loss: 0.5052 - accuracy: 0.70 - ETA: 0s - loss: 0.4854 - accuracy: 0.76 - 0s 91us/step - loss: 0.4778 - accuracy: 0.7773\n",
      "Epoch 191/200\n",
      "768/768 [==============================] - ETA: 0s - loss: 0.2351 - accuracy: 1.00 - 0s 56us/step - loss: 0.4835 - accuracy: 0.7865\n",
      "Epoch 192/200\n",
      "768/768 [==============================] - ETA: 0s - loss: 0.5781 - accuracy: 0.70 - ETA: 0s - loss: 0.4726 - accuracy: 0.78 - 0s 86us/step - loss: 0.4747 - accuracy: 0.7852\n",
      "Epoch 193/200\n",
      "768/768 [==============================] - ETA: 0s - loss: 0.4281 - accuracy: 0.70 - ETA: 0s - loss: 0.5217 - accuracy: 0.75 - 0s 87us/step - loss: 0.5084 - accuracy: 0.7604\n",
      "Epoch 194/200\n",
      "768/768 [==============================] - ETA: 0s - loss: 0.1482 - accuracy: 1.00 - ETA: 0s - loss: 0.4782 - accuracy: 0.75 - 0s 89us/step - loss: 0.4803 - accuracy: 0.7578\n",
      "Epoch 195/200\n",
      "768/768 [==============================] - ETA: 0s - loss: 0.5480 - accuracy: 0.70 - ETA: 0s - loss: 0.4655 - accuracy: 0.77 - 0s 89us/step - loss: 0.4787 - accuracy: 0.7695\n",
      "Epoch 196/200\n",
      "768/768 [==============================] - ETA: 0s - loss: 0.3312 - accuracy: 0.80 - ETA: 0s - loss: 0.4730 - accuracy: 0.76 - 0s 86us/step - loss: 0.4816 - accuracy: 0.7630\n",
      "Epoch 197/200\n",
      "768/768 [==============================] - ETA: 0s - loss: 0.2825 - accuracy: 0.90 - ETA: 0s - loss: 0.5132 - accuracy: 0.75 - 0s 87us/step - loss: 0.5079 - accuracy: 0.7617\n",
      "Epoch 198/200\n",
      "768/768 [==============================] - ETA: 0s - loss: 0.5945 - accuracy: 0.70 - ETA: 0s - loss: 0.4852 - accuracy: 0.76 - 0s 89us/step - loss: 0.4729 - accuracy: 0.7747\n",
      "Epoch 199/200\n",
      "768/768 [==============================] - ETA: 0s - loss: 0.4708 - accuracy: 0.70 - ETA: 0s - loss: 0.4752 - accuracy: 0.78 - 0s 87us/step - loss: 0.4919 - accuracy: 0.7721\n",
      "Epoch 200/200\n",
      "768/768 [==============================] - ETA: 0s - loss: 0.4229 - accuracy: 0.70 - ETA: 0s - loss: 0.4815 - accuracy: 0.75 - 0s 87us/step - loss: 0.4770 - accuracy: 0.7617\n"
     ]
    },
    {
     "data": {
      "text/plain": [
       "<keras.callbacks.callbacks.History at 0x14e37628608>"
      ]
     },
     "execution_count": 27,
     "metadata": {},
     "output_type": "execute_result"
    }
   ],
   "source": [
    "model.fit(x, y, epochs=200, batch_size=10)"
   ]
  },
  {
   "cell_type": "code",
   "execution_count": 28,
   "metadata": {},
   "outputs": [
    {
     "name": "stdout",
     "output_type": "stream",
     "text": [
      "768/768 [==============================] - ETA:  - 0s 55us/step\n"
     ]
    },
    {
     "data": {
      "text/plain": [
       "[0.46693534031510353, 0.78125]"
      ]
     },
     "execution_count": 28,
     "metadata": {},
     "output_type": "execute_result"
    }
   ],
   "source": [
    "model.evaluate(x,y)"
   ]
  },
  {
   "cell_type": "code",
   "execution_count": null,
   "metadata": {},
   "outputs": [],
   "source": []
  },
  {
   "cell_type": "code",
   "execution_count": 29,
   "metadata": {},
   "outputs": [],
   "source": [
    "from keras.datasets import mnist\n",
    "(trainImage, trainLabel),(testImage,testLabel)= mnist.load_data()"
   ]
  },
  {
   "cell_type": "code",
   "execution_count": 30,
   "metadata": {},
   "outputs": [
    {
     "data": {
      "image/png": "[encoded data removed]",
      "text/plain": [
       "<Figure size 432x288 with 1 Axes>"
      ]
     },
     "metadata": {
      "needs_background": "light"
     },
     "output_type": "display_data"
    }
   ],
   "source": [
    "digit = trainImage[3]\n",
    "plt.imshow(digit, cmap=plt.cm.binary)\n",
    "plt.show()"
   ]
  },
  {
   "cell_type": "code",
   "execution_count": 31,
   "metadata": {},
   "outputs": [],
   "source": [
    "model2 = Sequential()\n",
    "model2.add(Dense(512, input_shape=(28*28,), activation='relu'))\n",
    "model2.add(Dense(10, activation='softmax'))"
   ]
  },
  {
   "cell_type": "code",
   "execution_count": 32,
   "metadata": {},
   "outputs": [],
   "source": [
    "model2.compile(loss='categorical_crossentropy', optimizer='rmsprop', metrics=['accuracy'])"
   ]
  },
  {
   "cell_type": "code",
   "execution_count": 33,
   "metadata": {},
   "outputs": [],
   "source": [
    "trainImage = trainImage.reshape((60000,28*28))\n",
    "trainImage = trainImage.astype('float32')/255\n",
    "testImage = testImage.reshape((10000,28*28))\n",
    "testImage = testImage.astype('float32')/255"
   ]
  },
  {
   "cell_type": "code",
   "execution_count": 34,
   "metadata": {},
   "outputs": [],
   "source": [
    "from keras.utils import to_categorical\n",
    "trainLabel = to_categorical(trainLabel)\n",
    "testLabel = to_categorical(testLabel)"
   ]
  },
  {
   "cell_type": "code",
   "execution_count": 35,
   "metadata": {},
   "outputs": [
    {
     "name": "stdout",
     "output_type": "stream",
     "text": [
      "Epoch 1/5\n",
      "60000/60000 [==============================] - ETA: 50s - loss: 2.3178 - accuracy: 0.085 - ETA: 10s - loss: 1.4258 - accuracy: 0.545 - ETA: 6s - loss: 1.0388 - accuracy: 0.690 - ETA: 5s - loss: 0.8592 - accuracy: 0.74 - ETA: 4s - loss: 0.7562 - accuracy: 0.78 - ETA: 4s - loss: 0.6785 - accuracy: 0.80 - ETA: 3s - loss: 0.6338 - accuracy: 0.81 - ETA: 3s - loss: 0.6017 - accuracy: 0.82 - ETA: 3s - loss: 0.5723 - accuracy: 0.83 - ETA: 3s - loss: 0.5486 - accuracy: 0.84 - ETA: 3s - loss: 0.5237 - accuracy: 0.85 - ETA: 3s - loss: 0.5035 - accuracy: 0.85 - ETA: 2s - loss: 0.4863 - accuracy: 0.85 - ETA: 2s - loss: 0.4729 - accuracy: 0.86 - ETA: 2s - loss: 0.4596 - accuracy: 0.86 - ETA: 2s - loss: 0.4460 - accuracy: 0.87 - ETA: 2s - loss: 0.4357 - accuracy: 0.87 - ETA: 2s - loss: 0.4247 - accuracy: 0.87 - ETA: 2s - loss: 0.4117 - accuracy: 0.88 - ETA: 2s - loss: 0.4038 - accuracy: 0.88 - ETA: 2s - loss: 0.3955 - accuracy: 0.88 - ETA: 2s - loss: 0.3859 - accuracy: 0.88 - ETA: 2s - loss: 0.3787 - accuracy: 0.89 - ETA: 2s - loss: 0.3734 - accuracy: 0.89 - ETA: 2s - loss: 0.3680 - accuracy: 0.89 - ETA: 1s - loss: 0.3617 - accuracy: 0.89 - ETA: 1s - loss: 0.3561 - accuracy: 0.89 - ETA: 1s - loss: 0.3513 - accuracy: 0.89 - ETA: 1s - loss: 0.3467 - accuracy: 0.89 - ETA: 1s - loss: 0.3431 - accuracy: 0.90 - ETA: 1s - loss: 0.3375 - accuracy: 0.90 - ETA: 1s - loss: 0.3329 - accuracy: 0.90 - ETA: 1s - loss: 0.3289 - accuracy: 0.90 - ETA: 1s - loss: 0.3248 - accuracy: 0.90 - ETA: 1s - loss: 0.3204 - accuracy: 0.90 - ETA: 1s - loss: 0.3149 - accuracy: 0.90 - ETA: 1s - loss: 0.3103 - accuracy: 0.91 - ETA: 1s - loss: 0.3067 - accuracy: 0.91 - ETA: 1s - loss: 0.3034 - accuracy: 0.91 - ETA: 1s - loss: 0.3008 - accuracy: 0.91 - ETA: 1s - loss: 0.2986 - accuracy: 0.91 - ETA: 1s - loss: 0.2959 - accuracy: 0.91 - ETA: 0s - loss: 0.2934 - accuracy: 0.91 - ETA: 0s - loss: 0.2905 - accuracy: 0.91 - ETA: 0s - loss: 0.2882 - accuracy: 0.91 - ETA: 0s - loss: 0.2858 - accuracy: 0.91 - ETA: 0s - loss: 0.2834 - accuracy: 0.91 - ETA: 0s - loss: 0.2809 - accuracy: 0.91 - ETA: 0s - loss: 0.2786 - accuracy: 0.91 - ETA: 0s - loss: 0.2756 - accuracy: 0.91 - ETA: 0s - loss: 0.2735 - accuracy: 0.92 - ETA: 0s - loss: 0.2705 - accuracy: 0.92 - ETA: 0s - loss: 0.2681 - accuracy: 0.92 - ETA: 0s - loss: 0.2655 - accuracy: 0.92 - ETA: 0s - loss: 0.2640 - accuracy: 0.92 - ETA: 0s - loss: 0.2623 - accuracy: 0.92 - ETA: 0s - loss: 0.2613 - accuracy: 0.92 - ETA: 0s - loss: 0.2597 - accuracy: 0.92 - ETA: 0s - loss: 0.2581 - accuracy: 0.92 - ETA: 0s - loss: 0.2565 - accuracy: 0.92 - ETA: 0s - loss: 0.2549 - accuracy: 0.92 - ETA: 0s - loss: 0.2527 - accuracy: 0.92 - 3s 56us/step - loss: 0.2525 - accuracy: 0.9264\n",
      "Epoch 2/5\n",
      "60000/60000 [==============================] - ETA: 3s - loss: 0.0939 - accuracy: 0.96 - ETA: 3s - loss: 0.1127 - accuracy: 0.96 - ETA: 3s - loss: 0.1173 - accuracy: 0.96 - ETA: 3s - loss: 0.1155 - accuracy: 0.96 - ETA: 3s - loss: 0.1179 - accuracy: 0.96 - ETA: 3s - loss: 0.1131 - accuracy: 0.96 - ETA: 2s - loss: 0.1119 - accuracy: 0.96 - ETA: 2s - loss: 0.1098 - accuracy: 0.96 - ETA: 2s - loss: 0.1135 - accuracy: 0.96 - ETA: 2s - loss: 0.1095 - accuracy: 0.96 - ETA: 2s - loss: 0.1097 - accuracy: 0.96 - ETA: 2s - loss: 0.1126 - accuracy: 0.96 - ETA: 2s - loss: 0.1119 - accuracy: 0.96 - ETA: 2s - loss: 0.1112 - accuracy: 0.96 - ETA: 2s - loss: 0.1112 - accuracy: 0.96 - ETA: 2s - loss: 0.1101 - accuracy: 0.96 - ETA: 2s - loss: 0.1089 - accuracy: 0.96 - ETA: 2s - loss: 0.1097 - accuracy: 0.96 - ETA: 2s - loss: 0.1091 - accuracy: 0.96 - ETA: 2s - loss: 0.1088 - accuracy: 0.96 - ETA: 1s - loss: 0.1087 - accuracy: 0.96 - ETA: 1s - loss: 0.1080 - accuracy: 0.96 - ETA: 1s - loss: 0.1083 - accuracy: 0.96 - ETA: 1s - loss: 0.1083 - accuracy: 0.96 - ETA: 1s - loss: 0.1091 - accuracy: 0.96 - ETA: 1s - loss: 0.1103 - accuracy: 0.96 - ETA: 1s - loss: 0.1104 - accuracy: 0.96 - ETA: 1s - loss: 0.1105 - accuracy: 0.96 - ETA: 1s - loss: 0.1107 - accuracy: 0.96 - ETA: 1s - loss: 0.1110 - accuracy: 0.96 - ETA: 1s - loss: 0.1098 - accuracy: 0.96 - ETA: 1s - loss: 0.1093 - accuracy: 0.96 - ETA: 1s - loss: 0.1082 - accuracy: 0.96 - ETA: 1s - loss: 0.1078 - accuracy: 0.96 - ETA: 1s - loss: 0.1069 - accuracy: 0.96 - ETA: 1s - loss: 0.1065 - accuracy: 0.96 - ETA: 1s - loss: 0.1066 - accuracy: 0.96 - ETA: 1s - loss: 0.1070 - accuracy: 0.96 - ETA: 0s - loss: 0.1068 - accuracy: 0.96 - ETA: 0s - loss: 0.1062 - accuracy: 0.96 - ETA: 0s - loss: 0.1063 - accuracy: 0.96 - ETA: 0s - loss: 0.1057 - accuracy: 0.96 - ETA: 0s - loss: 0.1056 - accuracy: 0.96 - ETA: 0s - loss: 0.1053 - accuracy: 0.96 - ETA: 0s - loss: 0.1055 - accuracy: 0.96 - ETA: 0s - loss: 0.1055 - accuracy: 0.96 - ETA: 0s - loss: 0.1055 - accuracy: 0.96 - ETA: 0s - loss: 0.1054 - accuracy: 0.96 - ETA: 0s - loss: 0.1049 - accuracy: 0.96 - ETA: 0s - loss: 0.1048 - accuracy: 0.96 - ETA: 0s - loss: 0.1047 - accuracy: 0.96 - ETA: 0s - loss: 0.1048 - accuracy: 0.96 - ETA: 0s - loss: 0.1041 - accuracy: 0.96 - ETA: 0s - loss: 0.1038 - accuracy: 0.96 - ETA: 0s - loss: 0.1037 - accuracy: 0.96 - ETA: 0s - loss: 0.1031 - accuracy: 0.96 - 3s 51us/step - loss: 0.1030 - accuracy: 0.9699\n",
      "Epoch 3/5\n",
      "60000/60000 [==============================] - ETA: 3s - loss: 0.0762 - accuracy: 0.98 - ETA: 3s - loss: 0.0636 - accuracy: 0.98 - ETA: 3s - loss: 0.0639 - accuracy: 0.98 - ETA: 3s - loss: 0.0686 - accuracy: 0.98 - ETA: 3s - loss: 0.0691 - accuracy: 0.98 - ETA: 2s - loss: 0.0683 - accuracy: 0.98 - ETA: 2s - loss: 0.0636 - accuracy: 0.98 - ETA: 2s - loss: 0.0646 - accuracy: 0.98 - ETA: 2s - loss: 0.0658 - accuracy: 0.98 - ETA: 2s - loss: 0.0671 - accuracy: 0.98 - ETA: 2s - loss: 0.0670 - accuracy: 0.98 - ETA: 2s - loss: 0.0666 - accuracy: 0.98 - ETA: 2s - loss: 0.0656 - accuracy: 0.98 - ETA: 2s - loss: 0.0672 - accuracy: 0.98 - ETA: 2s - loss: 0.0668 - accuracy: 0.98 - ETA: 2s - loss: 0.0671 - accuracy: 0.98 - ETA: 2s - loss: 0.0675 - accuracy: 0.97 - ETA: 2s - loss: 0.0674 - accuracy: 0.97 - ETA: 2s - loss: 0.0681 - accuracy: 0.97 - ETA: 2s - loss: 0.0686 - accuracy: 0.97 - ETA: 2s - loss: 0.0685 - accuracy: 0.97 - ETA: 1s - loss: 0.0687 - accuracy: 0.97 - ETA: 1s - loss: 0.0690 - accuracy: 0.97 - ETA: 1s - loss: 0.0691 - accuracy: 0.97 - ETA: 1s - loss: 0.0690 - accuracy: 0.97 - ETA: 1s - loss: 0.0699 - accuracy: 0.97 - ETA: 1s - loss: 0.0694 - accuracy: 0.97 - ETA: 1s - loss: 0.0697 - accuracy: 0.97 - ETA: 1s - loss: 0.0696 - accuracy: 0.97 - ETA: 1s - loss: 0.0695 - accuracy: 0.97 - ETA: 1s - loss: 0.0700 - accuracy: 0.97 - ETA: 1s - loss: 0.0701 - accuracy: 0.97 - ETA: 1s - loss: 0.0693 - accuracy: 0.97 - ETA: 1s - loss: 0.0689 - accuracy: 0.97 - ETA: 1s - loss: 0.0691 - accuracy: 0.97 - ETA: 1s - loss: 0.0698 - accuracy: 0.97 - ETA: 1s - loss: 0.0698 - accuracy: 0.97 - ETA: 1s - loss: 0.0694 - accuracy: 0.97 - ETA: 1s - loss: 0.0692 - accuracy: 0.97 - ETA: 1s - loss: 0.0690 - accuracy: 0.97 - ETA: 0s - loss: 0.0689 - accuracy: 0.97 - ETA: 0s - loss: 0.0689 - accuracy: 0.97 - ETA: 0s - loss: 0.0688 - accuracy: 0.97 - ETA: 0s - loss: 0.0689 - accuracy: 0.97 - ETA: 0s - loss: 0.0691 - accuracy: 0.97 - ETA: 0s - loss: 0.0685 - accuracy: 0.97 - ETA: 0s - loss: 0.0685 - accuracy: 0.97 - ETA: 0s - loss: 0.0686 - accuracy: 0.97 - ETA: 0s - loss: 0.0688 - accuracy: 0.97 - ETA: 0s - loss: 0.0685 - accuracy: 0.97 - ETA: 0s - loss: 0.0685 - accuracy: 0.97 - ETA: 0s - loss: 0.0681 - accuracy: 0.97 - ETA: 0s - loss: 0.0682 - accuracy: 0.97 - ETA: 0s - loss: 0.0688 - accuracy: 0.97 - ETA: 0s - loss: 0.0694 - accuracy: 0.97 - ETA: 0s - loss: 0.0691 - accuracy: 0.97 - ETA: 0s - loss: 0.0688 - accuracy: 0.97 - 3s 51us/step - loss: 0.0684 - accuracy: 0.9795\n",
      "Epoch 4/5\n",
      "60000/60000 [==============================] - ETA: 3s - loss: 0.0326 - accuracy: 0.99 - ETA: 2s - loss: 0.0383 - accuracy: 0.98 - ETA: 2s - loss: 0.0462 - accuracy: 0.98 - ETA: 2s - loss: 0.0433 - accuracy: 0.98 - ETA: 2s - loss: 0.0457 - accuracy: 0.98 - ETA: 2s - loss: 0.0462 - accuracy: 0.98 - ETA: 2s - loss: 0.0451 - accuracy: 0.98 - ETA: 2s - loss: 0.0443 - accuracy: 0.98 - ETA: 2s - loss: 0.0465 - accuracy: 0.98 - ETA: 2s - loss: 0.0464 - accuracy: 0.98 - ETA: 2s - loss: 0.0462 - accuracy: 0.98 - ETA: 2s - loss: 0.0470 - accuracy: 0.98 - ETA: 2s - loss: 0.0467 - accuracy: 0.98 - ETA: 2s - loss: 0.0461 - accuracy: 0.98 - ETA: 1s - loss: 0.0482 - accuracy: 0.98 - ETA: 1s - loss: 0.0483 - accuracy: 0.98 - ETA: 1s - loss: 0.0485 - accuracy: 0.98 - ETA: 1s - loss: 0.0482 - accuracy: 0.98 - ETA: 1s - loss: 0.0488 - accuracy: 0.98 - ETA: 1s - loss: 0.0489 - accuracy: 0.98 - ETA: 1s - loss: 0.0500 - accuracy: 0.98 - ETA: 1s - loss: 0.0492 - accuracy: 0.98 - ETA: 1s - loss: 0.0495 - accuracy: 0.98 - ETA: 1s - loss: 0.0498 - accuracy: 0.98 - ETA: 1s - loss: 0.0497 - accuracy: 0.98 - ETA: 1s - loss: 0.0498 - accuracy: 0.98 - ETA: 1s - loss: 0.0498 - accuracy: 0.98 - ETA: 1s - loss: 0.0495 - accuracy: 0.98 - ETA: 1s - loss: 0.0495 - accuracy: 0.98 - ETA: 1s - loss: 0.0491 - accuracy: 0.98 - ETA: 1s - loss: 0.0490 - accuracy: 0.98 - ETA: 1s - loss: 0.0491 - accuracy: 0.98 - ETA: 0s - loss: 0.0485 - accuracy: 0.98 - ETA: 0s - loss: 0.0483 - accuracy: 0.98 - ETA: 0s - loss: 0.0483 - accuracy: 0.98 - ETA: 0s - loss: 0.0489 - accuracy: 0.98 - ETA: 0s - loss: 0.0493 - accuracy: 0.98 - ETA: 0s - loss: 0.0496 - accuracy: 0.98 - ETA: 0s - loss: 0.0499 - accuracy: 0.98 - ETA: 0s - loss: 0.0501 - accuracy: 0.98 - ETA: 0s - loss: 0.0504 - accuracy: 0.98 - ETA: 0s - loss: 0.0508 - accuracy: 0.98 - ETA: 0s - loss: 0.0505 - accuracy: 0.98 - ETA: 0s - loss: 0.0506 - accuracy: 0.98 - ETA: 0s - loss: 0.0505 - accuracy: 0.98 - ETA: 0s - loss: 0.0505 - accuracy: 0.98 - ETA: 0s - loss: 0.0502 - accuracy: 0.98 - ETA: 0s - loss: 0.0505 - accuracy: 0.98 - ETA: 0s - loss: 0.0502 - accuracy: 0.98 - 3s 47us/step - loss: 0.0508 - accuracy: 0.9843\n",
      "Epoch 5/5\n",
      "60000/60000 [==============================] - ETA: 3s - loss: 0.0730 - accuracy: 0.96 - ETA: 2s - loss: 0.0328 - accuracy: 0.98 - ETA: 2s - loss: 0.0376 - accuracy: 0.98 - ETA: 2s - loss: 0.0350 - accuracy: 0.99 - ETA: 2s - loss: 0.0340 - accuracy: 0.98 - ETA: 2s - loss: 0.0361 - accuracy: 0.98 - ETA: 2s - loss: 0.0360 - accuracy: 0.98 - ETA: 2s - loss: 0.0363 - accuracy: 0.98 - ETA: 2s - loss: 0.0365 - accuracy: 0.98 - ETA: 2s - loss: 0.0362 - accuracy: 0.98 - ETA: 2s - loss: 0.0368 - accuracy: 0.98 - ETA: 2s - loss: 0.0374 - accuracy: 0.98 - ETA: 2s - loss: 0.0365 - accuracy: 0.98 - ETA: 2s - loss: 0.0364 - accuracy: 0.98 - ETA: 2s - loss: 0.0361 - accuracy: 0.98 - ETA: 2s - loss: 0.0356 - accuracy: 0.98 - ETA: 2s - loss: 0.0357 - accuracy: 0.98 - ETA: 1s - loss: 0.0354 - accuracy: 0.98 - ETA: 1s - loss: 0.0354 - accuracy: 0.98 - ETA: 1s - loss: 0.0350 - accuracy: 0.99 - ETA: 1s - loss: 0.0354 - accuracy: 0.98 - ETA: 1s - loss: 0.0355 - accuracy: 0.98 - ETA: 1s - loss: 0.0347 - accuracy: 0.99 - ETA: 1s - loss: 0.0349 - accuracy: 0.99 - ETA: 1s - loss: 0.0353 - accuracy: 0.98 - ETA: 1s - loss: 0.0353 - accuracy: 0.98 - ETA: 1s - loss: 0.0356 - accuracy: 0.98 - ETA: 1s - loss: 0.0358 - accuracy: 0.98 - ETA: 1s - loss: 0.0360 - accuracy: 0.98 - ETA: 1s - loss: 0.0361 - accuracy: 0.98 - ETA: 1s - loss: 0.0358 - accuracy: 0.98 - ETA: 1s - loss: 0.0356 - accuracy: 0.98 - ETA: 1s - loss: 0.0356 - accuracy: 0.98 - ETA: 0s - loss: 0.0361 - accuracy: 0.98 - ETA: 0s - loss: 0.0366 - accuracy: 0.98 - ETA: 0s - loss: 0.0366 - accuracy: 0.98 - ETA: 0s - loss: 0.0366 - accuracy: 0.98 - ETA: 0s - loss: 0.0367 - accuracy: 0.98 - ETA: 0s - loss: 0.0369 - accuracy: 0.98 - ETA: 0s - loss: 0.0369 - accuracy: 0.98 - ETA: 0s - loss: 0.0373 - accuracy: 0.98 - ETA: 0s - loss: 0.0374 - accuracy: 0.98 - ETA: 0s - loss: 0.0376 - accuracy: 0.98 - ETA: 0s - loss: 0.0377 - accuracy: 0.98 - ETA: 0s - loss: 0.0375 - accuracy: 0.98 - ETA: 0s - loss: 0.0376 - accuracy: 0.98 - ETA: 0s - loss: 0.0375 - accuracy: 0.98 - ETA: 0s - loss: 0.0376 - accuracy: 0.98 - ETA: 0s - loss: 0.0376 - accuracy: 0.98 - ETA: 0s - loss: 0.0378 - accuracy: 0.98 - 3s 48us/step - loss: 0.0377 - accuracy: 0.9886\n"
     ]
    },
    {
     "data": {
      "text/plain": [
       "<keras.callbacks.callbacks.History at 0x14e37a8a1c8>"
      ]
     },
     "execution_count": 35,
     "metadata": {},
     "output_type": "execute_result"
    }
   ],
   "source": [
    "model2.fit(trainImage, trainLabel, epochs=5, batch_size=128)"
   ]
  },
  {
   "cell_type": "code",
   "execution_count": 36,
   "metadata": {},
   "outputs": [
    {
     "name": "stdout",
     "output_type": "stream",
     "text": [
      "10000/10000 [==============================] - ETA:  - ETA:  - ETA:  - ETA:  - ETA:  - ETA:  - ETA:  - ETA:  - 0s 40us/step\n"
     ]
    },
    {
     "data": {
      "text/plain": [
       "0.9786999821662903"
      ]
     },
     "execution_count": 36,
     "metadata": {},
     "output_type": "execute_result"
    }
   ],
   "source": [
    "l, a = model2.evaluate(testImage, testLabel)\n",
    "a"
   ]
  },
  {
   "cell_type": "code",
   "execution_count": 37,
   "metadata": {},
   "outputs": [
    {
     "data": {
      "text/plain": [
       "'\\n일반적(텐서플로): 이미지(128, 높이, 너비, 채널)\\n씨아노: 이미지(128, 채널, 높이, 너비)\\n\\n비디오: 5차원 텐서, 프레임(이미지)의 연속 (프레임, 높이, 너비, 채널)\\nex) 60초 짜리, 100*200 유튜브 비디오, 초당 4개의 프레임을 샘플링\\n4*60=240프레임\\n비디오 클립 5개\\n(5, 240, 100, 200, 3)\\n'"
      ]
     },
     "execution_count": 37,
     "metadata": {},
     "output_type": "execute_result"
    }
   ],
   "source": [
    "\"\"\"\n",
    "일반적(텐서플로): 이미지(128, 높이, 너비, 채널)\n",
    "씨아노: 이미지(128, 채널, 높이, 너비)\n",
    "\n",
    "비디오: 5차원 텐서, 프레임(이미지)의 연속 (프레임, 높이, 너비, 채널)\n",
    "ex) 60초 짜리, 100*200 유튜브 비디오, 초당 4개의 프레임을 샘플링\n",
    "4*60=240프레임\n",
    "비디오 클립 5개\n",
    "(5, 240, 100, 200, 3)\n",
    "\"\"\""
   ]
  },
  {
   "cell_type": "markdown",
   "metadata": {},
   "source": [
    "### 영화 리뷰 분류"
   ]
  },
  {
   "cell_type": "code",
   "execution_count": 38,
   "metadata": {},
   "outputs": [],
   "source": [
    "from keras.datasets import imdb"
   ]
  },
  {
   "cell_type": "code",
   "execution_count": 39,
   "metadata": {},
   "outputs": [],
   "source": [
    "(trainData,trainLabel), (testData,testLabel) = imdb.load_data(num_words=10000)\n",
    "#자주 사용된 10000게 단어만 추출 사용"
   ]
  },
  {
   "cell_type": "code",
   "execution_count": 40,
   "metadata": {},
   "outputs": [
    {
     "data": {
      "text/plain": [
       "(25000,)"
      ]
     },
     "execution_count": 40,
     "metadata": {},
     "output_type": "execute_result"
    }
   ],
   "source": [
    "trainData.shape"
   ]
  },
  {
   "cell_type": "code",
   "execution_count": 51,
   "metadata": {},
   "outputs": [
    {
     "data": {
      "text/plain": [
       "1"
      ]
     },
     "execution_count": 51,
     "metadata": {},
     "output_type": "execute_result"
    }
   ],
   "source": [
    "trainData[0]\n",
    "trainLabel[0] #긍정"
   ]
  },
  {
   "cell_type": "code",
   "execution_count": 52,
   "metadata": {},
   "outputs": [
    {
     "name": "stdout",
     "output_type": "stream",
     "text": [
      "9999\n"
     ]
    }
   ],
   "source": [
    "print(max([max(seq) for seq in trainData]))"
   ]
  },
  {
   "cell_type": "code",
   "execution_count": 53,
   "metadata": {},
   "outputs": [
    {
     "data": {
      "text/plain": [
       "{'fawn': 34701,\n",
       " 'tsukino': 52006,\n",
       " 'nunnery': 52007,\n",
       " 'sonja': 16816,\n",
       " 'vani': 63951,\n",
       " 'woods': 1408,\n",
       " 'spiders': 16115,\n",
       " 'hanging': 2345,\n",
       " 'woody': 2289,\n",
       " 'trawling': 52008,\n",
       " \"hold's\": 52009,\n",
       " 'comically': 11307,\n",
       " 'localized': 40830,\n",
       " 'disobeying': 30568,\n",
       " \"'royale\": 52010,\n",
       " \"harpo's\": 40831,\n",
       " 'canet': 52011,\n",
       " 'aileen': 19313,\n",
       " 'acurately': 52012,\n",
       " \"diplomat's\": 52013,\n",
       " 'rickman': 25242,\n",
       " 'arranged': 6746,\n",
       " 'rumbustious': 52014,\n",
       " 'familiarness': 52015,\n",
       " \"spider'\": 52016,\n",
       " 'hahahah': 68804,\n",
       " \"wood'\": 52017,\n",
       " 'transvestism': 40833,\n",
       " \"hangin'\": 34702,\n",
       " 'bringing': 2338,\n",
       " 'seamier': 40834,\n",
       " 'wooded': 34703,\n",
       " 'bravora': 52018,\n",
       " 'grueling': 16817,\n",
       " 'wooden': 1636,\n",
       " 'wednesday': 16818,\n",
       " \"'prix\": 52019,\n",
       " 'altagracia': 34704,\n",
       " 'circuitry': 52020,\n",
       " 'crotch': 11585,\n",
       " 'busybody': 57766,\n",
       " \"tart'n'tangy\": 52021,\n",
       " 'burgade': 14129,\n",
       " 'thrace': 52023,\n",
       " \"tom's\": 11038,\n",
       " 'snuggles': 52025,\n",
       " 'francesco': 29114,\n",
       " 'complainers': 52027,\n",
       " 'templarios': 52125,\n",
       " '272': 40835,\n",
       " '273': 52028,\n",
       " 'zaniacs': 52130,\n",
       " '275': 34706,\n",
       " 'consenting': 27631,\n",
       " 'snuggled': 40836,\n",
       " 'inanimate': 15492,\n",
       " 'uality': 52030,\n",
       " 'bronte': 11926,\n",
       " 'errors': 4010,\n",
       " 'dialogs': 3230,\n",
       " \"yomada's\": 52031,\n",
       " \"madman's\": 34707,\n",
       " 'dialoge': 30585,\n",
       " 'usenet': 52033,\n",
       " 'videodrome': 40837,\n",
       " \"kid'\": 26338,\n",
       " 'pawed': 52034,\n",
       " \"'girlfriend'\": 30569,\n",
       " \"'pleasure\": 52035,\n",
       " \"'reloaded'\": 52036,\n",
       " \"kazakos'\": 40839,\n",
       " 'rocque': 52037,\n",
       " 'mailings': 52038,\n",
       " 'brainwashed': 11927,\n",
       " 'mcanally': 16819,\n",
       " \"tom''\": 52039,\n",
       " 'kurupt': 25243,\n",
       " 'affiliated': 21905,\n",
       " 'babaganoosh': 52040,\n",
       " \"noe's\": 40840,\n",
       " 'quart': 40841,\n",
       " 'kids': 359,\n",
       " 'uplifting': 5034,\n",
       " 'controversy': 7093,\n",
       " 'kida': 21906,\n",
       " 'kidd': 23379,\n",
       " \"error'\": 52041,\n",
       " 'neurologist': 52042,\n",
       " 'spotty': 18510,\n",
       " 'cobblers': 30570,\n",
       " 'projection': 9878,\n",
       " 'fastforwarding': 40842,\n",
       " 'sters': 52043,\n",
       " \"eggar's\": 52044,\n",
       " 'etherything': 52045,\n",
       " 'gateshead': 40843,\n",
       " 'airball': 34708,\n",
       " 'unsinkable': 25244,\n",
       " 'stern': 7180,\n",
       " \"cervi's\": 52046,\n",
       " 'dnd': 40844,\n",
       " 'dna': 11586,\n",
       " 'insecurity': 20598,\n",
       " \"'reboot'\": 52047,\n",
       " 'trelkovsky': 11037,\n",
       " 'jaekel': 52048,\n",
       " 'sidebars': 52049,\n",
       " \"sforza's\": 52050,\n",
       " 'distortions': 17633,\n",
       " 'mutinies': 52051,\n",
       " 'sermons': 30602,\n",
       " '7ft': 40846,\n",
       " 'boobage': 52052,\n",
       " \"o'bannon's\": 52053,\n",
       " 'populations': 23380,\n",
       " 'chulak': 52054,\n",
       " 'mesmerize': 27633,\n",
       " 'quinnell': 52055,\n",
       " 'yahoo': 10307,\n",
       " 'meteorologist': 52057,\n",
       " 'beswick': 42577,\n",
       " 'boorman': 15493,\n",
       " 'voicework': 40847,\n",
       " \"ster'\": 52058,\n",
       " 'blustering': 22922,\n",
       " 'hj': 52059,\n",
       " 'intake': 27634,\n",
       " 'morally': 5621,\n",
       " 'jumbling': 40849,\n",
       " 'bowersock': 52060,\n",
       " \"'porky's'\": 52061,\n",
       " 'gershon': 16821,\n",
       " 'ludicrosity': 40850,\n",
       " 'coprophilia': 52062,\n",
       " 'expressively': 40851,\n",
       " \"india's\": 19500,\n",
       " \"post's\": 34710,\n",
       " 'wana': 52063,\n",
       " 'wang': 5283,\n",
       " 'wand': 30571,\n",
       " 'wane': 25245,\n",
       " 'edgeways': 52321,\n",
       " 'titanium': 34711,\n",
       " 'pinta': 40852,\n",
       " 'want': 178,\n",
       " 'pinto': 30572,\n",
       " 'whoopdedoodles': 52065,\n",
       " 'tchaikovsky': 21908,\n",
       " 'travel': 2103,\n",
       " \"'victory'\": 52066,\n",
       " 'copious': 11928,\n",
       " 'gouge': 22433,\n",
       " \"chapters'\": 52067,\n",
       " 'barbra': 6702,\n",
       " 'uselessness': 30573,\n",
       " \"wan'\": 52068,\n",
       " 'assimilated': 27635,\n",
       " 'petiot': 16116,\n",
       " 'most\\x85and': 52069,\n",
       " 'dinosaurs': 3930,\n",
       " 'wrong': 352,\n",
       " 'seda': 52070,\n",
       " 'stollen': 52071,\n",
       " 'sentencing': 34712,\n",
       " 'ouroboros': 40853,\n",
       " 'assimilates': 40854,\n",
       " 'colorfully': 40855,\n",
       " 'glenne': 27636,\n",
       " 'dongen': 52072,\n",
       " 'subplots': 4760,\n",
       " 'kiloton': 52073,\n",
       " 'chandon': 23381,\n",
       " \"effect'\": 34713,\n",
       " 'snugly': 27637,\n",
       " 'kuei': 40856,\n",
       " 'welcomed': 9092,\n",
       " 'dishonor': 30071,\n",
       " 'concurrence': 52075,\n",
       " 'stoicism': 23382,\n",
       " \"guys'\": 14896,\n",
       " \"beroemd'\": 52077,\n",
       " 'butcher': 6703,\n",
       " \"melfi's\": 40857,\n",
       " 'aargh': 30623,\n",
       " 'playhouse': 20599,\n",
       " 'wickedly': 11308,\n",
       " 'fit': 1180,\n",
       " 'labratory': 52078,\n",
       " 'lifeline': 40859,\n",
       " 'screaming': 1927,\n",
       " 'fix': 4287,\n",
       " 'cineliterate': 52079,\n",
       " 'fic': 52080,\n",
       " 'fia': 52081,\n",
       " 'fig': 34714,\n",
       " 'fmvs': 52082,\n",
       " 'fie': 52083,\n",
       " 'reentered': 52084,\n",
       " 'fin': 30574,\n",
       " 'doctresses': 52085,\n",
       " 'fil': 52086,\n",
       " 'zucker': 12606,\n",
       " 'ached': 31931,\n",
       " 'counsil': 52088,\n",
       " 'paterfamilias': 52089,\n",
       " 'songwriter': 13885,\n",
       " 'shivam': 34715,\n",
       " 'hurting': 9654,\n",
       " 'effects': 299,\n",
       " 'slauther': 52090,\n",
       " \"'flame'\": 52091,\n",
       " 'sommerset': 52092,\n",
       " 'interwhined': 52093,\n",
       " 'whacking': 27638,\n",
       " 'bartok': 52094,\n",
       " 'barton': 8775,\n",
       " 'frewer': 21909,\n",
       " \"fi'\": 52095,\n",
       " 'ingrid': 6192,\n",
       " 'stribor': 30575,\n",
       " 'approporiately': 52096,\n",
       " 'wobblyhand': 52097,\n",
       " 'tantalisingly': 52098,\n",
       " 'ankylosaurus': 52099,\n",
       " 'parasites': 17634,\n",
       " 'childen': 52100,\n",
       " \"jenkins'\": 52101,\n",
       " 'metafiction': 52102,\n",
       " 'golem': 17635,\n",
       " 'indiscretion': 40860,\n",
       " \"reeves'\": 23383,\n",
       " \"inamorata's\": 57781,\n",
       " 'brittannica': 52104,\n",
       " 'adapt': 7916,\n",
       " \"russo's\": 30576,\n",
       " 'guitarists': 48246,\n",
       " 'abbott': 10553,\n",
       " 'abbots': 40861,\n",
       " 'lanisha': 17649,\n",
       " 'magickal': 40863,\n",
       " 'mattter': 52105,\n",
       " \"'willy\": 52106,\n",
       " 'pumpkins': 34716,\n",
       " 'stuntpeople': 52107,\n",
       " 'estimate': 30577,\n",
       " 'ugghhh': 40864,\n",
       " 'gameplay': 11309,\n",
       " \"wern't\": 52108,\n",
       " \"n'sync\": 40865,\n",
       " 'sickeningly': 16117,\n",
       " 'chiara': 40866,\n",
       " 'disturbed': 4011,\n",
       " 'portmanteau': 40867,\n",
       " 'ineffectively': 52109,\n",
       " \"duchonvey's\": 82143,\n",
       " \"nasty'\": 37519,\n",
       " 'purpose': 1285,\n",
       " 'lazers': 52112,\n",
       " 'lightened': 28105,\n",
       " 'kaliganj': 52113,\n",
       " 'popularism': 52114,\n",
       " \"damme's\": 18511,\n",
       " 'stylistics': 30578,\n",
       " 'mindgaming': 52115,\n",
       " 'spoilerish': 46449,\n",
       " \"'corny'\": 52117,\n",
       " 'boerner': 34718,\n",
       " 'olds': 6792,\n",
       " 'bakelite': 52118,\n",
       " 'renovated': 27639,\n",
       " 'forrester': 27640,\n",
       " \"lumiere's\": 52119,\n",
       " 'gaskets': 52024,\n",
       " 'needed': 884,\n",
       " 'smight': 34719,\n",
       " 'master': 1297,\n",
       " \"edie's\": 25905,\n",
       " 'seeber': 40868,\n",
       " 'hiya': 52120,\n",
       " 'fuzziness': 52121,\n",
       " 'genesis': 14897,\n",
       " 'rewards': 12607,\n",
       " 'enthrall': 30579,\n",
       " \"'about\": 40869,\n",
       " \"recollection's\": 52122,\n",
       " 'mutilated': 11039,\n",
       " 'fatherlands': 52123,\n",
       " \"fischer's\": 52124,\n",
       " 'positively': 5399,\n",
       " '270': 34705,\n",
       " 'ahmed': 34720,\n",
       " 'zatoichi': 9836,\n",
       " 'bannister': 13886,\n",
       " 'anniversaries': 52127,\n",
       " \"helm's\": 30580,\n",
       " \"'work'\": 52128,\n",
       " 'exclaimed': 34721,\n",
       " \"'unfunny'\": 52129,\n",
       " '274': 52029,\n",
       " 'feeling': 544,\n",
       " \"wanda's\": 52131,\n",
       " 'dolan': 33266,\n",
       " '278': 52133,\n",
       " 'peacoat': 52134,\n",
       " 'brawny': 40870,\n",
       " 'mishra': 40871,\n",
       " 'worlders': 40872,\n",
       " 'protags': 52135,\n",
       " 'skullcap': 52136,\n",
       " 'dastagir': 57596,\n",
       " 'affairs': 5622,\n",
       " 'wholesome': 7799,\n",
       " 'hymen': 52137,\n",
       " 'paramedics': 25246,\n",
       " 'unpersons': 52138,\n",
       " 'heavyarms': 52139,\n",
       " 'affaire': 52140,\n",
       " 'coulisses': 52141,\n",
       " 'hymer': 40873,\n",
       " 'kremlin': 52142,\n",
       " 'shipments': 30581,\n",
       " 'pixilated': 52143,\n",
       " \"'00s\": 30582,\n",
       " 'diminishing': 18512,\n",
       " 'cinematic': 1357,\n",
       " 'resonates': 14898,\n",
       " 'simplify': 40874,\n",
       " \"nature'\": 40875,\n",
       " 'temptresses': 40876,\n",
       " 'reverence': 16822,\n",
       " 'resonated': 19502,\n",
       " 'dailey': 34722,\n",
       " '2\\x85': 52144,\n",
       " 'treize': 27641,\n",
       " 'majo': 52145,\n",
       " 'kiya': 21910,\n",
       " 'woolnough': 52146,\n",
       " 'thanatos': 39797,\n",
       " 'sandoval': 35731,\n",
       " 'dorama': 40879,\n",
       " \"o'shaughnessy\": 52147,\n",
       " 'tech': 4988,\n",
       " 'fugitives': 32018,\n",
       " 'teck': 30583,\n",
       " \"'e'\": 76125,\n",
       " 'doesn’t': 40881,\n",
       " 'purged': 52149,\n",
       " 'saying': 657,\n",
       " \"martians'\": 41095,\n",
       " 'norliss': 23418,\n",
       " 'dickey': 27642,\n",
       " 'dicker': 52152,\n",
       " \"'sependipity\": 52153,\n",
       " 'padded': 8422,\n",
       " 'ordell': 57792,\n",
       " \"sturges'\": 40882,\n",
       " 'independentcritics': 52154,\n",
       " 'tempted': 5745,\n",
       " \"atkinson's\": 34724,\n",
       " 'hounded': 25247,\n",
       " 'apace': 52155,\n",
       " 'clicked': 15494,\n",
       " \"'humor'\": 30584,\n",
       " \"martino's\": 17177,\n",
       " \"'supporting\": 52156,\n",
       " 'warmongering': 52032,\n",
       " \"zemeckis's\": 34725,\n",
       " 'lube': 21911,\n",
       " 'shocky': 52157,\n",
       " 'plate': 7476,\n",
       " 'plata': 40883,\n",
       " 'sturgess': 40884,\n",
       " \"nerds'\": 40885,\n",
       " 'plato': 20600,\n",
       " 'plath': 34726,\n",
       " 'platt': 40886,\n",
       " 'mcnab': 52159,\n",
       " 'clumsiness': 27643,\n",
       " 'altogether': 3899,\n",
       " 'massacring': 42584,\n",
       " 'bicenntinial': 52160,\n",
       " 'skaal': 40887,\n",
       " 'droning': 14360,\n",
       " 'lds': 8776,\n",
       " 'jaguar': 21912,\n",
       " \"cale's\": 34727,\n",
       " 'nicely': 1777,\n",
       " 'mummy': 4588,\n",
       " \"lot's\": 18513,\n",
       " 'patch': 10086,\n",
       " 'kerkhof': 50202,\n",
       " \"leader's\": 52161,\n",
       " \"'movie\": 27644,\n",
       " 'uncomfirmed': 52162,\n",
       " 'heirloom': 40888,\n",
       " 'wrangle': 47360,\n",
       " 'emotion\\x85': 52163,\n",
       " \"'stargate'\": 52164,\n",
       " 'pinoy': 40889,\n",
       " 'conchatta': 40890,\n",
       " 'broeke': 41128,\n",
       " 'advisedly': 40891,\n",
       " \"barker's\": 17636,\n",
       " 'descours': 52166,\n",
       " 'lots': 772,\n",
       " 'lotr': 9259,\n",
       " 'irs': 9879,\n",
       " 'lott': 52167,\n",
       " 'xvi': 40892,\n",
       " 'irk': 34728,\n",
       " 'irl': 52168,\n",
       " 'ira': 6887,\n",
       " 'belzer': 21913,\n",
       " 'irc': 52169,\n",
       " 'ire': 27645,\n",
       " 'requisites': 40893,\n",
       " 'discipline': 7693,\n",
       " 'lyoko': 52961,\n",
       " 'extend': 11310,\n",
       " 'nature': 873,\n",
       " \"'dickie'\": 52170,\n",
       " 'optimist': 40894,\n",
       " 'lapping': 30586,\n",
       " 'superficial': 3900,\n",
       " 'vestment': 52171,\n",
       " 'extent': 2823,\n",
       " 'tendons': 52172,\n",
       " \"heller's\": 52173,\n",
       " 'quagmires': 52174,\n",
       " 'miyako': 52175,\n",
       " 'moocow': 20601,\n",
       " \"coles'\": 52176,\n",
       " 'lookit': 40895,\n",
       " 'ravenously': 52177,\n",
       " 'levitating': 40896,\n",
       " 'perfunctorily': 52178,\n",
       " 'lookin': 30587,\n",
       " \"lot'\": 40898,\n",
       " 'lookie': 52179,\n",
       " 'fearlessly': 34870,\n",
       " 'libyan': 52181,\n",
       " 'fondles': 40899,\n",
       " 'gopher': 35714,\n",
       " 'wearying': 40901,\n",
       " \"nz's\": 52182,\n",
       " 'minuses': 27646,\n",
       " 'puposelessly': 52183,\n",
       " 'shandling': 52184,\n",
       " 'decapitates': 31268,\n",
       " 'humming': 11929,\n",
       " \"'nother\": 40902,\n",
       " 'smackdown': 21914,\n",
       " 'underdone': 30588,\n",
       " 'frf': 40903,\n",
       " 'triviality': 52185,\n",
       " 'fro': 25248,\n",
       " 'bothers': 8777,\n",
       " \"'kensington\": 52186,\n",
       " 'much': 73,\n",
       " 'muco': 34730,\n",
       " 'wiseguy': 22615,\n",
       " \"richie's\": 27648,\n",
       " 'tonino': 40904,\n",
       " 'unleavened': 52187,\n",
       " 'fry': 11587,\n",
       " \"'tv'\": 40905,\n",
       " 'toning': 40906,\n",
       " 'obese': 14361,\n",
       " 'sensationalized': 30589,\n",
       " 'spiv': 40907,\n",
       " 'spit': 6259,\n",
       " 'arkin': 7364,\n",
       " 'charleton': 21915,\n",
       " 'jeon': 16823,\n",
       " 'boardroom': 21916,\n",
       " 'doubts': 4989,\n",
       " 'spin': 3084,\n",
       " 'hepo': 53083,\n",
       " 'wildcat': 27649,\n",
       " 'venoms': 10584,\n",
       " 'misconstrues': 52191,\n",
       " 'mesmerising': 18514,\n",
       " 'misconstrued': 40908,\n",
       " 'rescinds': 52192,\n",
       " 'prostrate': 52193,\n",
       " 'majid': 40909,\n",
       " 'climbed': 16479,\n",
       " 'canoeing': 34731,\n",
       " 'majin': 52195,\n",
       " 'animie': 57804,\n",
       " 'sylke': 40910,\n",
       " 'conditioned': 14899,\n",
       " 'waddell': 40911,\n",
       " '3\\x85': 52196,\n",
       " 'hyperdrive': 41188,\n",
       " 'conditioner': 34732,\n",
       " 'bricklayer': 53153,\n",
       " 'hong': 2576,\n",
       " 'memoriam': 52198,\n",
       " 'inventively': 30592,\n",
       " \"levant's\": 25249,\n",
       " 'portobello': 20638,\n",
       " 'remand': 52200,\n",
       " 'mummified': 19504,\n",
       " 'honk': 27650,\n",
       " 'spews': 19505,\n",
       " 'visitations': 40912,\n",
       " 'mummifies': 52201,\n",
       " 'cavanaugh': 25250,\n",
       " 'zeon': 23385,\n",
       " \"jungle's\": 40913,\n",
       " 'viertel': 34733,\n",
       " 'frenchmen': 27651,\n",
       " 'torpedoes': 52202,\n",
       " 'schlessinger': 52203,\n",
       " 'torpedoed': 34734,\n",
       " 'blister': 69876,\n",
       " 'cinefest': 52204,\n",
       " 'furlough': 34735,\n",
       " 'mainsequence': 52205,\n",
       " 'mentors': 40914,\n",
       " 'academic': 9094,\n",
       " 'stillness': 20602,\n",
       " 'academia': 40915,\n",
       " 'lonelier': 52206,\n",
       " 'nibby': 52207,\n",
       " \"losers'\": 52208,\n",
       " 'cineastes': 40916,\n",
       " 'corporate': 4449,\n",
       " 'massaging': 40917,\n",
       " 'bellow': 30593,\n",
       " 'absurdities': 19506,\n",
       " 'expetations': 53241,\n",
       " 'nyfiken': 40918,\n",
       " 'mehras': 75638,\n",
       " 'lasse': 52209,\n",
       " 'visability': 52210,\n",
       " 'militarily': 33946,\n",
       " \"elder'\": 52211,\n",
       " 'gainsbourg': 19023,\n",
       " 'hah': 20603,\n",
       " 'hai': 13420,\n",
       " 'haj': 34736,\n",
       " 'hak': 25251,\n",
       " 'hal': 4311,\n",
       " 'ham': 4892,\n",
       " 'duffer': 53259,\n",
       " 'haa': 52213,\n",
       " 'had': 66,\n",
       " 'advancement': 11930,\n",
       " 'hag': 16825,\n",
       " \"hand'\": 25252,\n",
       " 'hay': 13421,\n",
       " 'mcnamara': 20604,\n",
       " \"mozart's\": 52214,\n",
       " 'duffel': 30731,\n",
       " 'haq': 30594,\n",
       " 'har': 13887,\n",
       " 'has': 44,\n",
       " 'hat': 2401,\n",
       " 'hav': 40919,\n",
       " 'haw': 30595,\n",
       " 'figtings': 52215,\n",
       " 'elders': 15495,\n",
       " 'underpanted': 52216,\n",
       " 'pninson': 52217,\n",
       " 'unequivocally': 27652,\n",
       " \"barbara's\": 23673,\n",
       " \"bello'\": 52219,\n",
       " 'indicative': 12997,\n",
       " 'yawnfest': 40920,\n",
       " 'hexploitation': 52220,\n",
       " \"loder's\": 52221,\n",
       " 'sleuthing': 27653,\n",
       " \"justin's\": 32622,\n",
       " \"'ball\": 52222,\n",
       " \"'summer\": 52223,\n",
       " \"'demons'\": 34935,\n",
       " \"mormon's\": 52225,\n",
       " \"laughton's\": 34737,\n",
       " 'debell': 52226,\n",
       " 'shipyard': 39724,\n",
       " 'unabashedly': 30597,\n",
       " 'disks': 40401,\n",
       " 'crowd': 2290,\n",
       " 'crowe': 10087,\n",
       " \"vancouver's\": 56434,\n",
       " 'mosques': 34738,\n",
       " 'crown': 6627,\n",
       " 'culpas': 52227,\n",
       " 'crows': 27654,\n",
       " 'surrell': 53344,\n",
       " 'flowless': 52229,\n",
       " 'sheirk': 52230,\n",
       " \"'three\": 40923,\n",
       " \"peterson'\": 52231,\n",
       " 'ooverall': 52232,\n",
       " 'perchance': 40924,\n",
       " 'bottom': 1321,\n",
       " 'chabert': 53363,\n",
       " 'sneha': 52233,\n",
       " 'inhuman': 13888,\n",
       " 'ichii': 52234,\n",
       " 'ursla': 52235,\n",
       " 'completly': 30598,\n",
       " 'moviedom': 40925,\n",
       " 'raddick': 52236,\n",
       " 'brundage': 51995,\n",
       " 'brigades': 40926,\n",
       " 'starring': 1181,\n",
       " \"'goal'\": 52237,\n",
       " 'caskets': 52238,\n",
       " 'willcock': 52239,\n",
       " \"threesome's\": 52240,\n",
       " \"mosque'\": 52241,\n",
       " \"cover's\": 52242,\n",
       " 'spaceships': 17637,\n",
       " 'anomalous': 40927,\n",
       " 'ptsd': 27655,\n",
       " 'shirdan': 52243,\n",
       " 'obscenity': 21962,\n",
       " 'lemmings': 30599,\n",
       " 'duccio': 30600,\n",
       " \"levene's\": 52244,\n",
       " \"'gorby'\": 52245,\n",
       " \"teenager's\": 25255,\n",
       " 'marshall': 5340,\n",
       " 'honeymoon': 9095,\n",
       " 'shoots': 3231,\n",
       " 'despised': 12258,\n",
       " 'okabasho': 52246,\n",
       " 'fabric': 8289,\n",
       " 'cannavale': 18515,\n",
       " 'raped': 3537,\n",
       " \"tutt's\": 52247,\n",
       " 'grasping': 17638,\n",
       " 'despises': 18516,\n",
       " \"thief's\": 40928,\n",
       " 'rapes': 8926,\n",
       " 'raper': 52248,\n",
       " \"eyre'\": 27656,\n",
       " 'walchek': 52249,\n",
       " \"elmo's\": 23386,\n",
       " 'perfumes': 40929,\n",
       " 'spurting': 21918,\n",
       " \"exposition'\\x85\": 52250,\n",
       " 'denoting': 52251,\n",
       " 'thesaurus': 34740,\n",
       " \"shoot'\": 40930,\n",
       " 'bonejack': 49759,\n",
       " 'simpsonian': 52253,\n",
       " 'hebetude': 30601,\n",
       " \"hallow's\": 34741,\n",
       " 'desperation\\x85': 52254,\n",
       " 'incinerator': 34742,\n",
       " 'congratulations': 10308,\n",
       " 'humbled': 52255,\n",
       " \"else's\": 5924,\n",
       " 'trelkovski': 40845,\n",
       " \"rape'\": 52256,\n",
       " \"'chapters'\": 59386,\n",
       " '1600s': 52257,\n",
       " 'martian': 7253,\n",
       " 'nicest': 25256,\n",
       " 'eyred': 52259,\n",
       " 'passenger': 9457,\n",
       " 'disgrace': 6041,\n",
       " 'moderne': 52260,\n",
       " 'barrymore': 5120,\n",
       " 'yankovich': 52261,\n",
       " 'moderns': 40931,\n",
       " 'studliest': 52262,\n",
       " 'bedsheet': 52263,\n",
       " 'decapitation': 14900,\n",
       " 'slurring': 52264,\n",
       " \"'nunsploitation'\": 52265,\n",
       " \"'character'\": 34743,\n",
       " 'cambodia': 9880,\n",
       " 'rebelious': 52266,\n",
       " 'pasadena': 27657,\n",
       " 'crowne': 40932,\n",
       " \"'bedchamber\": 52267,\n",
       " 'conjectural': 52268,\n",
       " 'appologize': 52269,\n",
       " 'halfassing': 52270,\n",
       " 'paycheque': 57816,\n",
       " 'palms': 20606,\n",
       " \"'islands\": 52271,\n",
       " 'hawked': 40933,\n",
       " 'palme': 21919,\n",
       " 'conservatively': 40934,\n",
       " 'larp': 64007,\n",
       " 'palma': 5558,\n",
       " 'smelling': 21920,\n",
       " 'aragorn': 12998,\n",
       " 'hawker': 52272,\n",
       " 'hawkes': 52273,\n",
       " 'explosions': 3975,\n",
       " 'loren': 8059,\n",
       " \"pyle's\": 52274,\n",
       " 'shootout': 6704,\n",
       " \"mike's\": 18517,\n",
       " \"driscoll's\": 52275,\n",
       " 'cogsworth': 40935,\n",
       " \"britian's\": 52276,\n",
       " 'childs': 34744,\n",
       " \"portrait's\": 52277,\n",
       " 'chain': 3626,\n",
       " 'whoever': 2497,\n",
       " 'puttered': 52278,\n",
       " 'childe': 52279,\n",
       " 'maywether': 52280,\n",
       " 'chair': 3036,\n",
       " \"rance's\": 52281,\n",
       " 'machu': 34745,\n",
       " 'ballet': 4517,\n",
       " 'grapples': 34746,\n",
       " 'summerize': 76152,\n",
       " 'freelance': 30603,\n",
       " \"andrea's\": 52283,\n",
       " '\\x91very': 52284,\n",
       " 'coolidge': 45879,\n",
       " 'mache': 18518,\n",
       " 'balled': 52285,\n",
       " 'grappled': 40937,\n",
       " 'macha': 18519,\n",
       " 'underlining': 21921,\n",
       " 'macho': 5623,\n",
       " 'oversight': 19507,\n",
       " 'machi': 25257,\n",
       " 'verbally': 11311,\n",
       " 'tenacious': 21922,\n",
       " 'windshields': 40938,\n",
       " 'paychecks': 18557,\n",
       " 'jerk': 3396,\n",
       " \"good'\": 11931,\n",
       " 'prancer': 34748,\n",
       " 'prances': 21923,\n",
       " 'olympus': 52286,\n",
       " 'lark': 21924,\n",
       " 'embark': 10785,\n",
       " 'gloomy': 7365,\n",
       " 'jehaan': 52287,\n",
       " 'turaqui': 52288,\n",
       " \"child'\": 20607,\n",
       " 'locked': 2894,\n",
       " 'pranced': 52289,\n",
       " 'exact': 2588,\n",
       " 'unattuned': 52290,\n",
       " 'minute': 783,\n",
       " 'skewed': 16118,\n",
       " 'hodgins': 40940,\n",
       " 'skewer': 34749,\n",
       " 'think\\x85': 52291,\n",
       " 'rosenstein': 38765,\n",
       " 'helmit': 52292,\n",
       " 'wrestlemanias': 34750,\n",
       " 'hindered': 16826,\n",
       " \"martha's\": 30604,\n",
       " 'cheree': 52293,\n",
       " \"pluckin'\": 52294,\n",
       " 'ogles': 40941,\n",
       " 'heavyweight': 11932,\n",
       " 'aada': 82190,\n",
       " 'chopping': 11312,\n",
       " 'strongboy': 61534,\n",
       " 'hegemonic': 41342,\n",
       " 'adorns': 40942,\n",
       " 'xxth': 41346,\n",
       " 'nobuhiro': 34751,\n",
       " 'capitães': 52298,\n",
       " 'kavogianni': 52299,\n",
       " 'antwerp': 13422,\n",
       " 'celebrated': 6538,\n",
       " 'roarke': 52300,\n",
       " 'baggins': 40943,\n",
       " 'cheeseburgers': 31270,\n",
       " 'matras': 52301,\n",
       " \"nineties'\": 52302,\n",
       " \"'craig'\": 52303,\n",
       " 'celebrates': 12999,\n",
       " 'unintentionally': 3383,\n",
       " 'drafted': 14362,\n",
       " 'climby': 52304,\n",
       " '303': 52305,\n",
       " 'oldies': 18520,\n",
       " 'climbs': 9096,\n",
       " 'honour': 9655,\n",
       " 'plucking': 34752,\n",
       " '305': 30074,\n",
       " 'address': 5514,\n",
       " 'menjou': 40944,\n",
       " \"'freak'\": 42592,\n",
       " 'dwindling': 19508,\n",
       " 'benson': 9458,\n",
       " 'white’s': 52307,\n",
       " 'shamelessness': 40945,\n",
       " 'impacted': 21925,\n",
       " 'upatz': 52308,\n",
       " 'cusack': 3840,\n",
       " \"flavia's\": 37567,\n",
       " 'effette': 52309,\n",
       " 'influx': 34753,\n",
       " 'boooooooo': 52310,\n",
       " 'dimitrova': 52311,\n",
       " 'houseman': 13423,\n",
       " 'bigas': 25259,\n",
       " 'boylen': 52312,\n",
       " 'phillipenes': 52313,\n",
       " 'fakery': 40946,\n",
       " \"grandpa's\": 27658,\n",
       " 'darnell': 27659,\n",
       " 'undergone': 19509,\n",
       " 'handbags': 52315,\n",
       " 'perished': 21926,\n",
       " 'pooped': 37778,\n",
       " 'vigour': 27660,\n",
       " 'opposed': 3627,\n",
       " 'etude': 52316,\n",
       " \"caine's\": 11799,\n",
       " 'doozers': 52317,\n",
       " 'photojournals': 34754,\n",
       " 'perishes': 52318,\n",
       " 'constrains': 34755,\n",
       " 'migenes': 40948,\n",
       " 'consoled': 30605,\n",
       " 'alastair': 16827,\n",
       " 'wvs': 52319,\n",
       " 'ooooooh': 52320,\n",
       " 'approving': 34756,\n",
       " 'consoles': 40949,\n",
       " 'disparagement': 52064,\n",
       " 'futureistic': 52322,\n",
       " 'rebounding': 52323,\n",
       " \"'date\": 52324,\n",
       " 'gregoire': 52325,\n",
       " 'rutherford': 21927,\n",
       " 'americanised': 34757,\n",
       " 'novikov': 82196,\n",
       " 'following': 1042,\n",
       " 'munroe': 34758,\n",
       " \"morita'\": 52326,\n",
       " 'christenssen': 52327,\n",
       " 'oatmeal': 23106,\n",
       " 'fossey': 25260,\n",
       " 'livered': 40950,\n",
       " 'listens': 13000,\n",
       " \"'marci\": 76164,\n",
       " \"otis's\": 52330,\n",
       " 'thanking': 23387,\n",
       " 'maude': 16019,\n",
       " 'extensions': 34759,\n",
       " 'ameteurish': 52332,\n",
       " \"commender's\": 52333,\n",
       " 'agricultural': 27661,\n",
       " 'convincingly': 4518,\n",
       " 'fueled': 17639,\n",
       " 'mahattan': 54014,\n",
       " \"paris's\": 40952,\n",
       " 'vulkan': 52336,\n",
       " 'stapes': 52337,\n",
       " 'odysessy': 52338,\n",
       " 'harmon': 12259,\n",
       " 'surfing': 4252,\n",
       " 'halloran': 23494,\n",
       " 'unbelieveably': 49580,\n",
       " \"'offed'\": 52339,\n",
       " 'quadrant': 30607,\n",
       " 'inhabiting': 19510,\n",
       " 'nebbish': 34760,\n",
       " 'forebears': 40953,\n",
       " 'skirmish': 34761,\n",
       " 'ocassionally': 52340,\n",
       " \"'resist\": 52341,\n",
       " 'impactful': 21928,\n",
       " 'spicier': 52342,\n",
       " 'touristy': 40954,\n",
       " \"'football'\": 52343,\n",
       " 'webpage': 40955,\n",
       " 'exurbia': 52345,\n",
       " 'jucier': 52346,\n",
       " 'professors': 14901,\n",
       " 'structuring': 34762,\n",
       " 'jig': 30608,\n",
       " 'overlord': 40956,\n",
       " 'disconnect': 25261,\n",
       " 'sniffle': 82201,\n",
       " 'slimeball': 40957,\n",
       " 'jia': 40958,\n",
       " 'milked': 16828,\n",
       " 'banjoes': 40959,\n",
       " 'jim': 1237,\n",
       " 'workforces': 52348,\n",
       " 'jip': 52349,\n",
       " 'rotweiller': 52350,\n",
       " 'mundaneness': 34763,\n",
       " \"'ninja'\": 52351,\n",
       " \"dead'\": 11040,\n",
       " \"cipriani's\": 40960,\n",
       " 'modestly': 20608,\n",
       " \"professor'\": 52352,\n",
       " 'shacked': 40961,\n",
       " 'bashful': 34764,\n",
       " 'sorter': 23388,\n",
       " 'overpowering': 16120,\n",
       " 'workmanlike': 18521,\n",
       " 'henpecked': 27662,\n",
       " 'sorted': 18522,\n",
       " \"jōb's\": 52354,\n",
       " \"'always\": 52355,\n",
       " \"'baptists\": 34765,\n",
       " 'dreamcatchers': 52356,\n",
       " \"'silence'\": 52357,\n",
       " 'hickory': 21929,\n",
       " 'fun\\x97yet': 52358,\n",
       " 'breakumentary': 52359,\n",
       " 'didn': 15496,\n",
       " 'didi': 52360,\n",
       " 'pealing': 52361,\n",
       " 'dispite': 40962,\n",
       " \"italy's\": 25262,\n",
       " 'instability': 21930,\n",
       " 'quarter': 6539,\n",
       " 'quartet': 12608,\n",
       " 'padmé': 52362,\n",
       " \"'bleedmedry\": 52363,\n",
       " 'pahalniuk': 52364,\n",
       " 'honduras': 52365,\n",
       " 'bursting': 10786,\n",
       " \"pablo's\": 41465,\n",
       " 'irremediably': 52367,\n",
       " 'presages': 40963,\n",
       " 'bowlegged': 57832,\n",
       " 'dalip': 65183,\n",
       " 'entering': 6260,\n",
       " 'newsradio': 76172,\n",
       " 'presaged': 54150,\n",
       " \"giallo's\": 27663,\n",
       " 'bouyant': 40964,\n",
       " 'amerterish': 52368,\n",
       " 'rajni': 18523,\n",
       " 'leeves': 30610,\n",
       " 'macauley': 34767,\n",
       " 'seriously': 612,\n",
       " 'sugercoma': 52369,\n",
       " 'grimstead': 52370,\n",
       " \"'fairy'\": 52371,\n",
       " 'zenda': 30611,\n",
       " \"'twins'\": 52372,\n",
       " 'realisation': 17640,\n",
       " 'highsmith': 27664,\n",
       " 'raunchy': 7817,\n",
       " 'incentives': 40965,\n",
       " 'flatson': 52374,\n",
       " 'snooker': 35097,\n",
       " 'crazies': 16829,\n",
       " 'crazier': 14902,\n",
       " 'grandma': 7094,\n",
       " 'napunsaktha': 52375,\n",
       " 'workmanship': 30612,\n",
       " 'reisner': 52376,\n",
       " \"sanford's\": 61306,\n",
       " '\\x91doña': 52377,\n",
       " 'modest': 6108,\n",
       " \"everything's\": 19153,\n",
       " 'hamer': 40966,\n",
       " \"couldn't'\": 52379,\n",
       " 'quibble': 13001,\n",
       " 'socking': 52380,\n",
       " 'tingler': 21931,\n",
       " 'gutman': 52381,\n",
       " 'lachlan': 40967,\n",
       " 'tableaus': 52382,\n",
       " 'headbanger': 52383,\n",
       " 'spoken': 2847,\n",
       " 'cerebrally': 34768,\n",
       " \"'road\": 23490,\n",
       " 'tableaux': 21932,\n",
       " \"proust's\": 40968,\n",
       " 'periodical': 40969,\n",
       " \"shoveller's\": 52385,\n",
       " 'tamara': 25263,\n",
       " 'affords': 17641,\n",
       " 'concert': 3249,\n",
       " \"yara's\": 87955,\n",
       " 'someome': 52386,\n",
       " 'lingering': 8424,\n",
       " \"abraham's\": 41511,\n",
       " 'beesley': 34769,\n",
       " 'cherbourg': 34770,\n",
       " 'kagan': 28624,\n",
       " 'snatch': 9097,\n",
       " \"miyazaki's\": 9260,\n",
       " 'absorbs': 25264,\n",
       " \"koltai's\": 40970,\n",
       " 'tingled': 64027,\n",
       " 'crossroads': 19511,\n",
       " 'rehab': 16121,\n",
       " 'falworth': 52389,\n",
       " 'sequals': 52390,\n",
       " ...}"
      ]
     },
     "execution_count": 53,
     "metadata": {},
     "output_type": "execute_result"
    }
   ],
   "source": [
    "wordIndex = imdb.get_word_index()\n",
    "wordIndex"
   ]
  },
  {
   "cell_type": "code",
   "execution_count": 54,
   "metadata": {},
   "outputs": [],
   "source": [
    "rev_wordIndex = dict([(value,key) for (key,value) in wordIndex.items()])"
   ]
  },
  {
   "cell_type": "code",
   "execution_count": 55,
   "metadata": {},
   "outputs": [],
   "source": [
    "#i가 0, 1, 2, 3 일때는 \"?\"를 get\n",
    "decReview = \" \".join([rev_wordIndex.get(i-3, \"?\") for i in trainData[0]])"
   ]
  },
  {
   "cell_type": "code",
   "execution_count": 56,
   "metadata": {},
   "outputs": [
    {
     "data": {
      "text/plain": [
       "\"? this film was just brilliant casting location scenery story direction everyone's really suited the part they played and you could just imagine being there robert ? is an amazing actor and now the same being director ? father came from the same scottish island as myself so i loved the fact there was a real connection with this film the witty remarks throughout the film were great it was just brilliant so much that i bought the film as soon as it was released for ? and would recommend it to everyone to watch and the fly fishing was amazing really cried at the end it was so sad and you know what they say if you cry at a film it must have been good and this definitely was also ? to the two little boy's that played the ? of norman and paul they were just brilliant children are often left out of the ? list i think because the stars that play them all grown up are such a big profile for the whole film but these children are amazing and should be praised for what they have done don't you think the whole story was so lovely because it was true and was someone's life after all that was shared with us all\""
      ]
     },
     "execution_count": 56,
     "metadata": {},
     "output_type": "execute_result"
    }
   ],
   "source": [
    "decReview"
   ]
  },
  {
   "cell_type": "code",
   "execution_count": 57,
   "metadata": {},
   "outputs": [],
   "source": [
    "# 동일한 길이의 리스트가 되도록 패딩 작업 수행\n",
    "# 원핫인코딩"
   ]
  },
  {
   "cell_type": "code",
   "execution_count": 58,
   "metadata": {},
   "outputs": [],
   "source": [
    "def vec_seq(data, dim=10000):\n",
    "    res = np.zeros((len(data), dim))\n",
    "    for i, s in enumerate(data):\n",
    "        res[i,s]=1\n",
    "    return res\n",
    "    \n",
    "xTrain = vec_seq(trainData)  #훈련 데이터 -> 벡터로 변환\n",
    "xTest = vec_seq(testData)\n",
    "    "
   ]
  },
  {
   "cell_type": "code",
   "execution_count": 59,
   "metadata": {},
   "outputs": [
    {
     "data": {
      "text/plain": [
       "array([0., 1., 1., ..., 0., 0., 0.])"
      ]
     },
     "execution_count": 59,
     "metadata": {},
     "output_type": "execute_result"
    }
   ],
   "source": [
    "xTrain[0]\n",
    "xTest[0]"
   ]
  },
  {
   "cell_type": "code",
   "execution_count": 60,
   "metadata": {},
   "outputs": [],
   "source": [
    "yTrain = trainLabel.astype(\"float32\")\n",
    "yTest = trainLabel.astype(\"float32\")"
   ]
  },
  {
   "cell_type": "code",
   "execution_count": 61,
   "metadata": {},
   "outputs": [
    {
     "data": {
      "text/plain": [
       "(25000,)"
      ]
     },
     "execution_count": 61,
     "metadata": {},
     "output_type": "execute_result"
    }
   ],
   "source": [
    "yTrain.shape"
   ]
  },
  {
   "cell_type": "code",
   "execution_count": 62,
   "metadata": {},
   "outputs": [],
   "source": [
    "#신경망 모델\n",
    "model = Sequential()\n",
    "model.add(Dense(16, activation=\"relu\", input_shape=(10000,)))\n",
    "model.add(Dense(16, activation=\"relu\"))\n",
    "model.add(Dense(1, activation=\"sigmoid\"))\n"
   ]
  },
  {
   "cell_type": "code",
   "execution_count": 63,
   "metadata": {},
   "outputs": [],
   "source": [
    "model.compile(loss=\"binary_crossentropy\", optimizer=\"rmsprop\", metrics=['accuracy'])"
   ]
  },
  {
   "cell_type": "code",
   "execution_count": 64,
   "metadata": {},
   "outputs": [],
   "source": [
    "xVal = xTrain[:10000]\n",
    "p_xTrain = xTrain[10000:]\n",
    "yVal = yTrain[:10000]\n",
    "p_yTrain = yTrain[10000:]"
   ]
  },
  {
   "cell_type": "code",
   "execution_count": 66,
   "metadata": {
    "scrolled": true
   },
   "outputs": [
    {
     "name": "stdout",
     "output_type": "stream",
     "text": [
      "Train on 15000 samples, validate on 10000 samples\n",
      "Epoch 1/20\n",
      "15000/15000 [==============================] - ETA: 1s - loss: 0.0219 - accuracy: 0.99 - ETA: 1s - loss: 0.0173 - accuracy: 0.99 - ETA: 1s - loss: 0.0155 - accuracy: 0.99 - ETA: 1s - loss: 0.0143 - accuracy: 0.99 - ETA: 1s - loss: 0.0143 - accuracy: 0.99 - ETA: 1s - loss: 0.0142 - accuracy: 0.99 - ETA: 1s - loss: 0.0140 - accuracy: 0.99 - ETA: 1s - loss: 0.0139 - accuracy: 0.99 - ETA: 1s - loss: 0.0135 - accuracy: 0.99 - ETA: 1s - loss: 0.0137 - accuracy: 0.99 - ETA: 1s - loss: 0.0136 - accuracy: 0.99 - ETA: 0s - loss: 0.0136 - accuracy: 0.99 - ETA: 0s - loss: 0.0134 - accuracy: 0.99 - ETA: 0s - loss: 0.0133 - accuracy: 0.99 - ETA: 0s - loss: 0.0140 - accuracy: 0.99 - ETA: 0s - loss: 0.0137 - accuracy: 0.99 - ETA: 0s - loss: 0.0138 - accuracy: 0.99 - ETA: 0s - loss: 0.0141 - accuracy: 0.99 - ETA: 0s - loss: 0.0143 - accuracy: 0.99 - ETA: 0s - loss: 0.0142 - accuracy: 0.99 - ETA: 0s - loss: 0.0143 - accuracy: 0.99 - ETA: 0s - loss: 0.0143 - accuracy: 0.99 - ETA: 0s - loss: 0.0145 - accuracy: 0.99 - ETA: 0s - loss: 0.0154 - accuracy: 0.99 - ETA: 0s - loss: 0.0182 - accuracy: 0.99 - ETA: 0s - loss: 0.0217 - accuracy: 0.99 - ETA: 0s - loss: 0.0222 - accuracy: 0.99 - ETA: 0s - loss: 0.0220 - accuracy: 0.99 - ETA: 0s - loss: 0.0219 - accuracy: 0.99 - 3s 172us/step - loss: 0.0219 - accuracy: 0.9958 - val_loss: 0.5617 - val_accuracy: 0.8685\n",
      "Epoch 2/20\n",
      "15000/15000 [==============================] - ETA: 1s - loss: 0.0151 - accuracy: 0.99 - ETA: 1s - loss: 0.0134 - accuracy: 0.99 - ETA: 1s - loss: 0.0116 - accuracy: 0.99 - ETA: 1s - loss: 0.0115 - accuracy: 0.99 - ETA: 1s - loss: 0.0114 - accuracy: 0.99 - ETA: 1s - loss: 0.0107 - accuracy: 0.99 - ETA: 1s - loss: 0.0104 - accuracy: 0.99 - ETA: 1s - loss: 0.0106 - accuracy: 0.99 - ETA: 1s - loss: 0.0111 - accuracy: 0.99 - ETA: 1s - loss: 0.0113 - accuracy: 0.99 - ETA: 1s - loss: 0.0111 - accuracy: 0.99 - ETA: 0s - loss: 0.0108 - accuracy: 0.99 - ETA: 0s - loss: 0.0107 - accuracy: 0.99 - ETA: 0s - loss: 0.0106 - accuracy: 0.99 - ETA: 0s - loss: 0.0107 - accuracy: 0.99 - ETA: 0s - loss: 0.0107 - accuracy: 0.99 - ETA: 0s - loss: 0.0108 - accuracy: 0.99 - ETA: 0s - loss: 0.0108 - accuracy: 0.99 - ETA: 0s - loss: 0.0111 - accuracy: 0.99 - ETA: 0s - loss: 0.0111 - accuracy: 0.99 - ETA: 0s - loss: 0.0110 - accuracy: 0.99 - ETA: 0s - loss: 0.0109 - accuracy: 0.99 - ETA: 0s - loss: 0.0110 - accuracy: 0.99 - ETA: 0s - loss: 0.0113 - accuracy: 0.99 - ETA: 0s - loss: 0.0114 - accuracy: 0.99 - ETA: 0s - loss: 0.0114 - accuracy: 0.99 - ETA: 0s - loss: 0.0114 - accuracy: 0.99 - ETA: 0s - loss: 0.0113 - accuracy: 0.99 - 2s 162us/step - loss: 0.0113 - accuracy: 0.9991 - val_loss: 0.6067 - val_accuracy: 0.8668\n",
      "Epoch 3/20\n",
      "15000/15000 [==============================] - ETA: 1s - loss: 0.0078 - accuracy: 1.00 - ETA: 1s - loss: 0.0068 - accuracy: 1.00 - ETA: 1s - loss: 0.0079 - accuracy: 1.00 - ETA: 1s - loss: 0.0085 - accuracy: 1.00 - ETA: 1s - loss: 0.0089 - accuracy: 0.99 - ETA: 1s - loss: 0.0087 - accuracy: 0.99 - ETA: 1s - loss: 0.0091 - accuracy: 0.99 - ETA: 1s - loss: 0.0094 - accuracy: 0.99 - ETA: 1s - loss: 0.0097 - accuracy: 0.99 - ETA: 0s - loss: 0.0115 - accuracy: 0.99 - ETA: 0s - loss: 0.0142 - accuracy: 0.99 - ETA: 0s - loss: 0.0158 - accuracy: 0.99 - ETA: 0s - loss: 0.0159 - accuracy: 0.99 - ETA: 0s - loss: 0.0150 - accuracy: 0.99 - ETA: 0s - loss: 0.0145 - accuracy: 0.99 - ETA: 0s - loss: 0.0138 - accuracy: 0.99 - ETA: 0s - loss: 0.0136 - accuracy: 0.99 - ETA: 0s - loss: 0.0133 - accuracy: 0.99 - ETA: 0s - loss: 0.0131 - accuracy: 0.99 - ETA: 0s - loss: 0.0129 - accuracy: 0.99 - ETA: 0s - loss: 0.0128 - accuracy: 0.99 - ETA: 0s - loss: 0.0127 - accuracy: 0.99 - ETA: 0s - loss: 0.0128 - accuracy: 0.99 - ETA: 0s - loss: 0.0127 - accuracy: 0.99 - ETA: 0s - loss: 0.0125 - accuracy: 0.99 - ETA: 0s - loss: 0.0125 - accuracy: 0.99 - ETA: 0s - loss: 0.0125 - accuracy: 0.99 - 2s 155us/step - loss: 0.0125 - accuracy: 0.9987 - val_loss: 0.6254 - val_accuracy: 0.8637\n",
      "Epoch 4/20\n",
      "15000/15000 [==============================] - ETA: 1s - loss: 0.0080 - accuracy: 0.99 - ETA: 1s - loss: 0.0069 - accuracy: 0.99 - ETA: 1s - loss: 0.0067 - accuracy: 0.99 - ETA: 1s - loss: 0.0065 - accuracy: 0.99 - ETA: 1s - loss: 0.0064 - accuracy: 0.99 - ETA: 1s - loss: 0.0064 - accuracy: 0.99 - ETA: 1s - loss: 0.0063 - accuracy: 0.99 - ETA: 1s - loss: 0.0061 - accuracy: 0.99 - ETA: 0s - loss: 0.0061 - accuracy: 0.99 - ETA: 0s - loss: 0.0060 - accuracy: 0.99 - ETA: 0s - loss: 0.0060 - accuracy: 0.99 - ETA: 0s - loss: 0.0061 - accuracy: 0.99 - ETA: 0s - loss: 0.0063 - accuracy: 0.99 - ETA: 0s - loss: 0.0071 - accuracy: 0.99 - ETA: 0s - loss: 0.0086 - accuracy: 0.99 - ETA: 0s - loss: 0.0116 - accuracy: 0.99 - ETA: 0s - loss: 0.0128 - accuracy: 0.99 - ETA: 0s - loss: 0.0125 - accuracy: 0.99 - ETA: 0s - loss: 0.0122 - accuracy: 0.99 - ETA: 0s - loss: 0.0122 - accuracy: 0.99 - ETA: 0s - loss: 0.0121 - accuracy: 0.99 - ETA: 0s - loss: 0.0118 - accuracy: 0.99 - ETA: 0s - loss: 0.0117 - accuracy: 0.99 - ETA: 0s - loss: 0.0117 - accuracy: 0.99 - ETA: 0s - loss: 0.0115 - accuracy: 0.99 - ETA: 0s - loss: 0.0114 - accuracy: 0.99 - ETA: 0s - loss: 0.0113 - accuracy: 0.99 - 2s 165us/step - loss: 0.0112 - accuracy: 0.9982 - val_loss: 0.6571 - val_accuracy: 0.8668\n",
      "Epoch 5/20\n",
      "15000/15000 [==============================] - ETA: 1s - loss: 0.0047 - accuracy: 1.00 - ETA: 1s - loss: 0.0051 - accuracy: 1.00 - ETA: 1s - loss: 0.0060 - accuracy: 0.99 - ETA: 1s - loss: 0.0057 - accuracy: 0.99 - ETA: 1s - loss: 0.0055 - accuracy: 0.99 - ETA: 1s - loss: 0.0058 - accuracy: 0.99 - ETA: 1s - loss: 0.0055 - accuracy: 0.99 - ETA: 1s - loss: 0.0056 - accuracy: 0.99 - ETA: 1s - loss: 0.0055 - accuracy: 0.99 - ETA: 1s - loss: 0.0054 - accuracy: 0.99 - ETA: 1s - loss: 0.0053 - accuracy: 0.99 - ETA: 0s - loss: 0.0052 - accuracy: 0.99 - ETA: 0s - loss: 0.0052 - accuracy: 0.99 - ETA: 0s - loss: 0.0051 - accuracy: 0.99 - ETA: 0s - loss: 0.0053 - accuracy: 0.99 - ETA: 0s - loss: 0.0052 - accuracy: 0.99 - ETA: 0s - loss: 0.0055 - accuracy: 0.99 - ETA: 0s - loss: 0.0054 - accuracy: 0.99 - ETA: 0s - loss: 0.0054 - accuracy: 0.99 - ETA: 0s - loss: 0.0054 - accuracy: 0.99 - ETA: 0s - loss: 0.0054 - accuracy: 0.99 - ETA: 0s - loss: 0.0054 - accuracy: 0.99 - ETA: 0s - loss: 0.0055 - accuracy: 0.99 - ETA: 0s - loss: 0.0056 - accuracy: 0.99 - ETA: 0s - loss: 0.0060 - accuracy: 0.99 - ETA: 0s - loss: 0.0074 - accuracy: 0.99 - ETA: 0s - loss: 0.0087 - accuracy: 0.99 - ETA: 0s - loss: 0.0091 - accuracy: 0.99 - ETA: 0s - loss: 0.0090 - accuracy: 0.99 - 2s 166us/step - loss: 0.0090 - accuracy: 0.9985 - val_loss: 0.6943 - val_accuracy: 0.8659\n",
      "Epoch 6/20\n",
      "15000/15000 [==============================] - ETA: 1s - loss: 0.0052 - accuracy: 0.99 - ETA: 1s - loss: 0.0047 - accuracy: 0.99 - ETA: 1s - loss: 0.0044 - accuracy: 0.99 - ETA: 1s - loss: 0.0054 - accuracy: 0.99 - ETA: 1s - loss: 0.0049 - accuracy: 0.99 - ETA: 1s - loss: 0.0046 - accuracy: 0.99 - ETA: 1s - loss: 0.0047 - accuracy: 0.99 - ETA: 1s - loss: 0.0046 - accuracy: 0.99 - ETA: 1s - loss: 0.0045 - accuracy: 0.99 - ETA: 1s - loss: 0.0044 - accuracy: 0.99 - ETA: 0s - loss: 0.0044 - accuracy: 0.99 - ETA: 0s - loss: 0.0045 - accuracy: 0.99 - ETA: 0s - loss: 0.0045 - accuracy: 0.99 - ETA: 0s - loss: 0.0045 - accuracy: 0.99 - ETA: 0s - loss: 0.0045 - accuracy: 0.99 - ETA: 0s - loss: 0.0044 - accuracy: 0.99 - ETA: 0s - loss: 0.0045 - accuracy: 0.99 - ETA: 0s - loss: 0.0045 - accuracy: 0.99 - ETA: 0s - loss: 0.0045 - accuracy: 0.99 - ETA: 0s - loss: 0.0045 - accuracy: 0.99 - ETA: 0s - loss: 0.0045 - accuracy: 0.99 - ETA: 0s - loss: 0.0045 - accuracy: 0.99 - ETA: 0s - loss: 0.0045 - accuracy: 0.99 - ETA: 0s - loss: 0.0045 - accuracy: 0.99 - ETA: 0s - loss: 0.0045 - accuracy: 0.99 - ETA: 0s - loss: 0.0045 - accuracy: 0.99 - ETA: 0s - loss: 0.0045 - accuracy: 0.99 - ETA: 0s - loss: 0.0044 - accuracy: 0.99 - 2s 166us/step - loss: 0.0044 - accuracy: 0.9998 - val_loss: 0.7218 - val_accuracy: 0.8607\n",
      "Epoch 7/20\n",
      "15000/15000 [==============================] - ETA: 1s - loss: 0.0044 - accuracy: 1.00 - ETA: 1s - loss: 0.0037 - accuracy: 1.00 - ETA: 1s - loss: 0.0033 - accuracy: 1.00 - ETA: 1s - loss: 0.0032 - accuracy: 1.00 - ETA: 1s - loss: 0.0032 - accuracy: 1.00 - ETA: 1s - loss: 0.0030 - accuracy: 1.00 - ETA: 1s - loss: 0.0029 - accuracy: 1.00 - ETA: 1s - loss: 0.0029 - accuracy: 1.00 - ETA: 1s - loss: 0.0029 - accuracy: 1.00 - ETA: 1s - loss: 0.0032 - accuracy: 0.99 - ETA: 1s - loss: 0.0032 - accuracy: 0.99 - ETA: 0s - loss: 0.0035 - accuracy: 0.99 - ETA: 0s - loss: 0.0035 - accuracy: 0.99 - ETA: 0s - loss: 0.0035 - accuracy: 0.99 - ETA: 0s - loss: 0.0035 - accuracy: 0.99 - ETA: 0s - loss: 0.0036 - accuracy: 0.99 - ETA: 0s - loss: 0.0041 - accuracy: 0.99 - ETA: 0s - loss: 0.0061 - accuracy: 0.99 - ETA: 0s - loss: 0.0079 - accuracy: 0.99 - ETA: 0s - loss: 0.0082 - accuracy: 0.99 - ETA: 0s - loss: 0.0080 - accuracy: 0.99 - ETA: 0s - loss: 0.0079 - accuracy: 0.99 - ETA: 0s - loss: 0.0077 - accuracy: 0.99 - ETA: 0s - loss: 0.0075 - accuracy: 0.99 - ETA: 0s - loss: 0.0073 - accuracy: 0.99 - ETA: 0s - loss: 0.0072 - accuracy: 0.99 - ETA: 0s - loss: 0.0071 - accuracy: 0.99 - ETA: 0s - loss: 0.0070 - accuracy: 0.99 - ETA: 0s - loss: 0.0068 - accuracy: 0.99 - 3s 168us/step - loss: 0.0068 - accuracy: 0.9988 - val_loss: 0.7585 - val_accuracy: 0.8633\n",
      "Epoch 8/20\n",
      "15000/15000 [==============================] - ETA: 1s - loss: 0.0019 - accuracy: 1.00 - ETA: 1s - loss: 0.0021 - accuracy: 1.00 - ETA: 1s - loss: 0.0019 - accuracy: 1.00 - ETA: 1s - loss: 0.0020 - accuracy: 1.00 - ETA: 1s - loss: 0.0020 - accuracy: 1.00 - ETA: 1s - loss: 0.0020 - accuracy: 1.00 - ETA: 1s - loss: 0.0022 - accuracy: 1.00 - ETA: 1s - loss: 0.0023 - accuracy: 1.00 - ETA: 1s - loss: 0.0023 - accuracy: 1.00 - ETA: 1s - loss: 0.0023 - accuracy: 1.00 - ETA: 1s - loss: 0.0023 - accuracy: 1.00 - ETA: 0s - loss: 0.0023 - accuracy: 1.00 - ETA: 0s - loss: 0.0022 - accuracy: 1.00 - ETA: 0s - loss: 0.0023 - accuracy: 1.00 - ETA: 0s - loss: 0.0023 - accuracy: 1.00 - ETA: 0s - loss: 0.0023 - accuracy: 1.00 - ETA: 0s - loss: 0.0023 - accuracy: 1.00 - ETA: 0s - loss: 0.0024 - accuracy: 0.99 - ETA: 0s - loss: 0.0024 - accuracy: 0.99 - ETA: 0s - loss: 0.0024 - accuracy: 0.99 - ETA: 0s - loss: 0.0025 - accuracy: 0.99 - ETA: 0s - loss: 0.0026 - accuracy: 0.99 - ETA: 0s - loss: 0.0026 - accuracy: 0.99 - ETA: 0s - loss: 0.0026 - accuracy: 0.99 - ETA: 0s - loss: 0.0026 - accuracy: 0.99 - ETA: 0s - loss: 0.0027 - accuracy: 0.99 - ETA: 0s - loss: 0.0027 - accuracy: 0.99 - ETA: 0s - loss: 0.0027 - accuracy: 0.99 - ETA: 0s - loss: 0.0027 - accuracy: 0.99 - 3s 167us/step - loss: 0.0027 - accuracy: 0.9999 - val_loss: 0.8058 - val_accuracy: 0.8617\n",
      "Epoch 9/20\n",
      "15000/15000 [==============================] - ETA: 1s - loss: 0.0017 - accuracy: 1.00 - ETA: 1s - loss: 0.0017 - accuracy: 1.00 - ETA: 1s - loss: 0.0016 - accuracy: 1.00 - ETA: 1s - loss: 0.0016 - accuracy: 1.00 - ETA: 1s - loss: 0.0015 - accuracy: 1.00 - ETA: 1s - loss: 0.0016 - accuracy: 1.00 - ETA: 1s - loss: 0.0016 - accuracy: 1.00 - ETA: 1s - loss: 0.0016 - accuracy: 1.00 - ETA: 1s - loss: 0.0016 - accuracy: 1.00 - ETA: 1s - loss: 0.0020 - accuracy: 0.99 - ETA: 0s - loss: 0.0019 - accuracy: 0.99 - ETA: 0s - loss: 0.0020 - accuracy: 0.99 - ETA: 0s - loss: 0.0021 - accuracy: 0.99 - ETA: 0s - loss: 0.0029 - accuracy: 0.99 - ETA: 0s - loss: 0.0061 - accuracy: 0.99 - ETA: 0s - loss: 0.0085 - accuracy: 0.99 - ETA: 0s - loss: 0.0084 - accuracy: 0.99 - ETA: 0s - loss: 0.0081 - accuracy: 0.99 - ETA: 0s - loss: 0.0078 - accuracy: 0.99 - ETA: 0s - loss: 0.0075 - accuracy: 0.99 - ETA: 0s - loss: 0.0073 - accuracy: 0.99 - ETA: 0s - loss: 0.0070 - accuracy: 0.99 - ETA: 0s - loss: 0.0068 - accuracy: 0.99 - ETA: 0s - loss: 0.0066 - accuracy: 0.99 - ETA: 0s - loss: 0.0065 - accuracy: 0.99 - ETA: 0s - loss: 0.0063 - accuracy: 0.99 - ETA: 0s - loss: 0.0061 - accuracy: 0.99 - ETA: 0s - loss: 0.0060 - accuracy: 0.99 - ETA: 0s - loss: 0.0059 - accuracy: 0.99 - 2s 164us/step - loss: 0.0059 - accuracy: 0.9986 - val_loss: 0.8252 - val_accuracy: 0.8617\n",
      "Epoch 10/20\n",
      "15000/15000 [==============================] - ETA: 1s - loss: 0.0011 - accuracy: 1.00 - ETA: 1s - loss: 0.0010 - accuracy: 1.00 - ETA: 1s - loss: 0.0011 - accuracy: 1.00 - ETA: 1s - loss: 0.0013 - accuracy: 1.00 - ETA: 1s - loss: 0.0014 - accuracy: 1.00 - ETA: 1s - loss: 0.0014 - accuracy: 1.00 - ETA: 1s - loss: 0.0017 - accuracy: 0.99 - ETA: 1s - loss: 0.0017 - accuracy: 0.99 - ETA: 1s - loss: 0.0016 - accuracy: 0.99 - ETA: 1s - loss: 0.0017 - accuracy: 0.99 - ETA: 1s - loss: 0.0017 - accuracy: 0.99 - ETA: 0s - loss: 0.0016 - accuracy: 0.99 - ETA: 0s - loss: 0.0016 - accuracy: 0.99 - ETA: 0s - loss: 0.0016 - accuracy: 0.99 - ETA: 0s - loss: 0.0016 - accuracy: 0.99 - ETA: 0s - loss: 0.0016 - accuracy: 0.99 - ETA: 0s - loss: 0.0016 - accuracy: 0.99 - ETA: 0s - loss: 0.0016 - accuracy: 0.99 - ETA: 0s - loss: 0.0016 - accuracy: 0.99 - ETA: 0s - loss: 0.0016 - accuracy: 0.99 - ETA: 0s - loss: 0.0016 - accuracy: 0.99 - ETA: 0s - loss: 0.0015 - accuracy: 0.99 - ETA: 0s - loss: 0.0015 - accuracy: 0.99 - ETA: 0s - loss: 0.0016 - accuracy: 0.99 - ETA: 0s - loss: 0.0016 - accuracy: 0.99 - ETA: 0s - loss: 0.0016 - accuracy: 0.99 - ETA: 0s - loss: 0.0017 - accuracy: 0.99 - ETA: 0s - loss: 0.0017 - accuracy: 0.99 - ETA: 0s - loss: 0.0017 - accuracy: 0.99 - 2s 166us/step - loss: 0.0017 - accuracy: 0.9999 - val_loss: 0.8649 - val_accuracy: 0.8629\n",
      "Epoch 11/20\n",
      "15000/15000 [==============================] - ETA: 1s - loss: 0.0013 - accuracy: 1.00 - ETA: 1s - loss: 0.0011 - accuracy: 1.00 - ETA: 1s - loss: 0.0011 - accuracy: 1.00 - ETA: 1s - loss: 0.0011 - accuracy: 1.00 - ETA: 1s - loss: 0.0012 - accuracy: 1.00 - ETA: 1s - loss: 0.0012 - accuracy: 1.00 - ETA: 1s - loss: 0.0012 - accuracy: 1.00 - ETA: 1s - loss: 0.0012 - accuracy: 1.00 - ETA: 1s - loss: 0.0012 - accuracy: 1.00 - ETA: 1s - loss: 0.0012 - accuracy: 1.00 - ETA: 1s - loss: 0.0012 - accuracy: 1.00 - ETA: 0s - loss: 0.0012 - accuracy: 1.00 - ETA: 0s - loss: 0.0013 - accuracy: 0.99 - ETA: 0s - loss: 0.0013 - accuracy: 0.99 - ETA: 0s - loss: 0.0013 - accuracy: 0.99 - ETA: 0s - loss: 0.0013 - accuracy: 0.99 - ETA: 0s - loss: 0.0013 - accuracy: 0.99 - ETA: 0s - loss: 0.0013 - accuracy: 0.99 - ETA: 0s - loss: 0.0013 - accuracy: 0.99 - ETA: 0s - loss: 0.0013 - accuracy: 0.99 - ETA: 0s - loss: 0.0013 - accuracy: 0.99 - ETA: 0s - loss: 0.0014 - accuracy: 0.99 - ETA: 0s - loss: 0.0022 - accuracy: 0.99 - ETA: 0s - loss: 0.0040 - accuracy: 0.99 - ETA: 0s - loss: 0.0042 - accuracy: 0.99 - ETA: 0s - loss: 0.0041 - accuracy: 0.99 - ETA: 0s - loss: 0.0041 - accuracy: 0.99 - ETA: 0s - loss: 0.0040 - accuracy: 0.99 - ETA: 0s - loss: 0.0039 - accuracy: 0.99 - 3s 168us/step - loss: 0.0039 - accuracy: 0.9993 - val_loss: 0.9012 - val_accuracy: 0.8607\n",
      "Epoch 12/20\n",
      "15000/15000 [==============================] - ETA: 1s - loss: 0.0010 - accuracy: 1.00 - ETA: 1s - loss: 9.5087e-04 - accuracy: 1.00 - ETA: 1s - loss: 9.2581e-04 - accuracy: 1.00 - ETA: 1s - loss: 9.0777e-04 - accuracy: 1.00 - ETA: 1s - loss: 8.7223e-04 - accuracy: 1.00 - ETA: 1s - loss: 8.4519e-04 - accuracy: 1.00 - ETA: 1s - loss: 8.5088e-04 - accuracy: 1.00 - ETA: 1s - loss: 8.8558e-04 - accuracy: 1.00 - ETA: 1s - loss: 8.6751e-04 - accuracy: 1.00 - ETA: 1s - loss: 8.5356e-04 - accuracy: 1.00 - ETA: 1s - loss: 8.7549e-04 - accuracy: 1.00 - ETA: 0s - loss: 8.8509e-04 - accuracy: 1.00 - ETA: 0s - loss: 8.8820e-04 - accuracy: 1.00 - ETA: 0s - loss: 8.7798e-04 - accuracy: 1.00 - ETA: 0s - loss: 8.8548e-04 - accuracy: 1.00 - ETA: 0s - loss: 8.8987e-04 - accuracy: 1.00 - ETA: 0s - loss: 8.7392e-04 - accuracy: 1.00 - ETA: 0s - loss: 9.3218e-04 - accuracy: 1.00 - ETA: 0s - loss: 9.3246e-04 - accuracy: 1.00 - ETA: 0s - loss: 9.9382e-04 - accuracy: 1.00 - ETA: 0s - loss: 9.8503e-04 - accuracy: 1.00 - ETA: 0s - loss: 9.7633e-04 - accuracy: 1.00 - ETA: 0s - loss: 9.7968e-04 - accuracy: 1.00 - ETA: 0s - loss: 9.7693e-04 - accuracy: 1.00 - ETA: 0s - loss: 9.8619e-04 - accuracy: 1.00 - ETA: 0s - loss: 9.8214e-04 - accuracy: 1.00 - ETA: 0s - loss: 9.7331e-04 - accuracy: 1.00 - ETA: 0s - loss: 9.7956e-04 - accuracy: 1.00 - 3s 172us/step - loss: 9.8221e-04 - accuracy: 1.0000 - val_loss: 0.9231 - val_accuracy: 0.8588\n"
     ]
    },
    {
     "name": "stdout",
     "output_type": "stream",
     "text": [
      "Epoch 13/20\n",
      "15000/15000 [==============================] - ETA: 1s - loss: 0.0013 - accuracy: 1.00 - ETA: 1s - loss: 9.8870e-04 - accuracy: 1.00 - ETA: 1s - loss: 9.2656e-04 - accuracy: 1.00 - ETA: 1s - loss: 8.4135e-04 - accuracy: 1.00 - ETA: 1s - loss: 8.3984e-04 - accuracy: 1.00 - ETA: 1s - loss: 8.0362e-04 - accuracy: 1.00 - ETA: 1s - loss: 7.7210e-04 - accuracy: 1.00 - ETA: 1s - loss: 7.5963e-04 - accuracy: 1.00 - ETA: 1s - loss: 7.4550e-04 - accuracy: 1.00 - ETA: 1s - loss: 7.2505e-04 - accuracy: 1.00 - ETA: 1s - loss: 7.0799e-04 - accuracy: 1.00 - ETA: 0s - loss: 7.1532e-04 - accuracy: 1.00 - ETA: 0s - loss: 7.1360e-04 - accuracy: 1.00 - ETA: 0s - loss: 7.2915e-04 - accuracy: 1.00 - ETA: 0s - loss: 7.3379e-04 - accuracy: 1.00 - ETA: 0s - loss: 7.2530e-04 - accuracy: 1.00 - ETA: 0s - loss: 7.2806e-04 - accuracy: 1.00 - ETA: 0s - loss: 7.4392e-04 - accuracy: 1.00 - ETA: 0s - loss: 7.4799e-04 - accuracy: 1.00 - ETA: 0s - loss: 7.5700e-04 - accuracy: 1.00 - ETA: 0s - loss: 7.5957e-04 - accuracy: 1.00 - ETA: 0s - loss: 7.7220e-04 - accuracy: 1.00 - ETA: 0s - loss: 7.7429e-04 - accuracy: 1.00 - ETA: 0s - loss: 7.7843e-04 - accuracy: 1.00 - ETA: 0s - loss: 7.8314e-04 - accuracy: 1.00 - ETA: 0s - loss: 7.8209e-04 - accuracy: 1.00 - ETA: 0s - loss: 7.7474e-04 - accuracy: 1.00 - ETA: 0s - loss: 8.1657e-04 - accuracy: 1.00 - ETA: 0s - loss: 8.1944e-04 - accuracy: 1.00 - 3s 169us/step - loss: 8.2469e-04 - accuracy: 1.0000 - val_loss: 0.9778 - val_accuracy: 0.8577\n",
      "Epoch 14/20\n",
      "15000/15000 [==============================] - ETA: 1s - loss: 5.2768e-04 - accuracy: 1.00 - ETA: 1s - loss: 4.8561e-04 - accuracy: 1.00 - ETA: 1s - loss: 4.9551e-04 - accuracy: 1.00 - ETA: 1s - loss: 5.0078e-04 - accuracy: 1.00 - ETA: 1s - loss: 4.9759e-04 - accuracy: 1.00 - ETA: 1s - loss: 5.0413e-04 - accuracy: 1.00 - ETA: 1s - loss: 5.2183e-04 - accuracy: 1.00 - ETA: 1s - loss: 5.1555e-04 - accuracy: 1.00 - ETA: 1s - loss: 5.0281e-04 - accuracy: 1.00 - ETA: 1s - loss: 5.1696e-04 - accuracy: 1.00 - ETA: 0s - loss: 5.1516e-04 - accuracy: 1.00 - ETA: 0s - loss: 5.5124e-04 - accuracy: 1.00 - ETA: 0s - loss: 6.6523e-04 - accuracy: 1.00 - ETA: 0s - loss: 0.0023 - accuracy: 0.9999   - ETA: 0s - loss: 0.0040 - accuracy: 0.99 - ETA: 0s - loss: 0.0047 - accuracy: 0.99 - ETA: 0s - loss: 0.0044 - accuracy: 0.99 - ETA: 0s - loss: 0.0043 - accuracy: 0.99 - ETA: 0s - loss: 0.0041 - accuracy: 0.99 - ETA: 0s - loss: 0.0039 - accuracy: 0.99 - ETA: 0s - loss: 0.0037 - accuracy: 0.99 - ETA: 0s - loss: 0.0036 - accuracy: 0.99 - ETA: 0s - loss: 0.0035 - accuracy: 0.99 - ETA: 0s - loss: 0.0034 - accuracy: 0.99 - ETA: 0s - loss: 0.0033 - accuracy: 0.99 - ETA: 0s - loss: 0.0032 - accuracy: 0.99 - ETA: 0s - loss: 0.0031 - accuracy: 0.99 - ETA: 0s - loss: 0.0030 - accuracy: 0.99 - ETA: 0s - loss: 0.0029 - accuracy: 0.99 - 3s 168us/step - loss: 0.0029 - accuracy: 0.9993 - val_loss: 1.0162 - val_accuracy: 0.8597\n",
      "Epoch 15/20\n",
      "15000/15000 [==============================] - ETA: 1s - loss: 2.8715e-04 - accuracy: 1.00 - ETA: 1s - loss: 5.3117e-04 - accuracy: 1.00 - ETA: 1s - loss: 4.6420e-04 - accuracy: 1.00 - ETA: 1s - loss: 4.5510e-04 - accuracy: 1.00 - ETA: 1s - loss: 4.2369e-04 - accuracy: 1.00 - ETA: 1s - loss: 4.2022e-04 - accuracy: 1.00 - ETA: 1s - loss: 4.3002e-04 - accuracy: 1.00 - ETA: 1s - loss: 4.1895e-04 - accuracy: 1.00 - ETA: 1s - loss: 4.1173e-04 - accuracy: 1.00 - ETA: 1s - loss: 4.0513e-04 - accuracy: 1.00 - ETA: 1s - loss: 4.0357e-04 - accuracy: 1.00 - ETA: 0s - loss: 4.1552e-04 - accuracy: 1.00 - ETA: 0s - loss: 4.0640e-04 - accuracy: 1.00 - ETA: 0s - loss: 4.1135e-04 - accuracy: 1.00 - ETA: 0s - loss: 4.0759e-04 - accuracy: 1.00 - ETA: 0s - loss: 4.1736e-04 - accuracy: 1.00 - ETA: 0s - loss: 4.2147e-04 - accuracy: 1.00 - ETA: 0s - loss: 4.2114e-04 - accuracy: 1.00 - ETA: 0s - loss: 4.1951e-04 - accuracy: 1.00 - ETA: 0s - loss: 4.2927e-04 - accuracy: 1.00 - ETA: 0s - loss: 4.2700e-04 - accuracy: 1.00 - ETA: 0s - loss: 4.5940e-04 - accuracy: 1.00 - ETA: 0s - loss: 4.5453e-04 - accuracy: 1.00 - ETA: 0s - loss: 4.5254e-04 - accuracy: 1.00 - ETA: 0s - loss: 4.5653e-04 - accuracy: 1.00 - ETA: 0s - loss: 4.6077e-04 - accuracy: 1.00 - ETA: 0s - loss: 4.5819e-04 - accuracy: 1.00 - ETA: 0s - loss: 4.5513e-04 - accuracy: 1.00 - ETA: 0s - loss: 4.5262e-04 - accuracy: 1.00 - 3s 169us/step - loss: 4.5455e-04 - accuracy: 1.0000 - val_loss: 1.0394 - val_accuracy: 0.8581\n",
      "Epoch 16/20\n",
      "15000/15000 [==============================] - ETA: 1s - loss: 4.0100e-04 - accuracy: 1.00 - ETA: 1s - loss: 3.5285e-04 - accuracy: 1.00 - ETA: 1s - loss: 3.2698e-04 - accuracy: 1.00 - ETA: 1s - loss: 3.5053e-04 - accuracy: 1.00 - ETA: 1s - loss: 3.4141e-04 - accuracy: 1.00 - ETA: 1s - loss: 3.4334e-04 - accuracy: 1.00 - ETA: 1s - loss: 3.3791e-04 - accuracy: 1.00 - ETA: 1s - loss: 3.3485e-04 - accuracy: 1.00 - ETA: 1s - loss: 3.2470e-04 - accuracy: 1.00 - ETA: 1s - loss: 3.1613e-04 - accuracy: 1.00 - ETA: 1s - loss: 3.1535e-04 - accuracy: 1.00 - ETA: 1s - loss: 3.1228e-04 - accuracy: 1.00 - ETA: 0s - loss: 3.4896e-04 - accuracy: 1.00 - ETA: 0s - loss: 3.4290e-04 - accuracy: 1.00 - ETA: 0s - loss: 3.4334e-04 - accuracy: 1.00 - ETA: 0s - loss: 3.3728e-04 - accuracy: 1.00 - ETA: 0s - loss: 3.7272e-04 - accuracy: 1.00 - ETA: 0s - loss: 3.7558e-04 - accuracy: 1.00 - ETA: 0s - loss: 3.7387e-04 - accuracy: 1.00 - ETA: 0s - loss: 3.6908e-04 - accuracy: 1.00 - ETA: 0s - loss: 3.6970e-04 - accuracy: 1.00 - ETA: 0s - loss: 3.6519e-04 - accuracy: 1.00 - ETA: 0s - loss: 3.6720e-04 - accuracy: 1.00 - ETA: 0s - loss: 3.6368e-04 - accuracy: 1.00 - ETA: 0s - loss: 3.6464e-04 - accuracy: 1.00 - ETA: 0s - loss: 3.6146e-04 - accuracy: 1.00 - ETA: 0s - loss: 3.7126e-04 - accuracy: 1.00 - ETA: 0s - loss: 3.7189e-04 - accuracy: 1.00 - ETA: 0s - loss: 3.8569e-04 - accuracy: 1.00 - 3s 173us/step - loss: 4.9849e-04 - accuracy: 0.9999 - val_loss: 1.1388 - val_accuracy: 0.8494\n",
      "Epoch 17/20\n",
      "15000/15000 [==============================] - ETA: 1s - loss: 0.0012 - accuracy: 1.00 - ETA: 1s - loss: 7.7924e-04 - accuracy: 1.00 - ETA: 1s - loss: 6.0411e-04 - accuracy: 1.00 - ETA: 1s - loss: 5.4570e-04 - accuracy: 1.00 - ETA: 1s - loss: 4.9384e-04 - accuracy: 1.00 - ETA: 1s - loss: 4.5006e-04 - accuracy: 1.00 - ETA: 1s - loss: 4.3128e-04 - accuracy: 1.00 - ETA: 1s - loss: 4.1638e-04 - accuracy: 1.00 - ETA: 1s - loss: 3.9164e-04 - accuracy: 1.00 - ETA: 1s - loss: 3.8318e-04 - accuracy: 1.00 - ETA: 1s - loss: 3.7094e-04 - accuracy: 1.00 - ETA: 0s - loss: 3.5216e-04 - accuracy: 1.00 - ETA: 0s - loss: 3.4716e-04 - accuracy: 1.00 - ETA: 0s - loss: 3.3784e-04 - accuracy: 1.00 - ETA: 0s - loss: 3.3573e-04 - accuracy: 1.00 - ETA: 0s - loss: 3.2785e-04 - accuracy: 1.00 - ETA: 0s - loss: 3.2594e-04 - accuracy: 1.00 - ETA: 0s - loss: 3.4086e-04 - accuracy: 1.00 - ETA: 0s - loss: 3.3977e-04 - accuracy: 1.00 - ETA: 0s - loss: 3.3544e-04 - accuracy: 1.00 - ETA: 0s - loss: 3.2975e-04 - accuracy: 1.00 - ETA: 0s - loss: 3.3074e-04 - accuracy: 1.00 - ETA: 0s - loss: 3.3951e-04 - accuracy: 1.00 - ETA: 0s - loss: 3.3641e-04 - accuracy: 1.00 - ETA: 0s - loss: 3.3064e-04 - accuracy: 1.00 - ETA: 0s - loss: 3.3431e-04 - accuracy: 1.00 - ETA: 0s - loss: 3.3560e-04 - accuracy: 1.00 - ETA: 0s - loss: 3.3506e-04 - accuracy: 1.00 - 3s 170us/step - loss: 3.3359e-04 - accuracy: 1.0000 - val_loss: 1.1171 - val_accuracy: 0.8560\n",
      "Epoch 18/20\n",
      "15000/15000 [==============================] - ETA: 1s - loss: 2.9861e-04 - accuracy: 1.00 - ETA: 1s - loss: 2.5380e-04 - accuracy: 1.00 - ETA: 1s - loss: 2.2456e-04 - accuracy: 1.00 - ETA: 1s - loss: 2.1443e-04 - accuracy: 1.00 - ETA: 1s - loss: 2.1050e-04 - accuracy: 1.00 - ETA: 1s - loss: 2.1526e-04 - accuracy: 1.00 - ETA: 1s - loss: 2.1088e-04 - accuracy: 1.00 - ETA: 1s - loss: 2.1765e-04 - accuracy: 1.00 - ETA: 1s - loss: 2.5731e-04 - accuracy: 1.00 - ETA: 1s - loss: 2.6418e-04 - accuracy: 1.00 - ETA: 1s - loss: 2.5747e-04 - accuracy: 1.00 - ETA: 0s - loss: 2.5868e-04 - accuracy: 1.00 - ETA: 0s - loss: 2.5184e-04 - accuracy: 1.00 - ETA: 0s - loss: 2.4572e-04 - accuracy: 1.00 - ETA: 0s - loss: 2.4439e-04 - accuracy: 1.00 - ETA: 0s - loss: 2.4361e-04 - accuracy: 1.00 - ETA: 0s - loss: 2.5229e-04 - accuracy: 1.00 - ETA: 0s - loss: 2.5066e-04 - accuracy: 1.00 - ETA: 0s - loss: 2.4625e-04 - accuracy: 1.00 - ETA: 0s - loss: 2.4268e-04 - accuracy: 1.00 - ETA: 0s - loss: 2.4107e-04 - accuracy: 1.00 - ETA: 0s - loss: 2.4850e-04 - accuracy: 1.00 - ETA: 0s - loss: 2.8418e-04 - accuracy: 1.00 - ETA: 0s - loss: 0.0014 - accuracy: 0.9998   - ETA: 0s - loss: 0.0019 - accuracy: 0.99 - ETA: 0s - loss: 0.0019 - accuracy: 0.99 - ETA: 0s - loss: 0.0018 - accuracy: 0.99 - ETA: 0s - loss: 0.0018 - accuracy: 0.99 - ETA: 0s - loss: 0.0017 - accuracy: 0.99 - 3s 167us/step - loss: 0.0017 - accuracy: 0.9997 - val_loss: 1.1619 - val_accuracy: 0.8572\n",
      "Epoch 19/20\n",
      "15000/15000 [==============================] - ETA: 1s - loss: 2.0472e-04 - accuracy: 1.00 - ETA: 1s - loss: 2.0425e-04 - accuracy: 1.00 - ETA: 1s - loss: 2.0025e-04 - accuracy: 1.00 - ETA: 1s - loss: 1.9410e-04 - accuracy: 1.00 - ETA: 1s - loss: 1.7714e-04 - accuracy: 1.00 - ETA: 1s - loss: 1.7422e-04 - accuracy: 1.00 - ETA: 1s - loss: 1.6994e-04 - accuracy: 1.00 - ETA: 1s - loss: 1.6387e-04 - accuracy: 1.00 - ETA: 1s - loss: 1.5928e-04 - accuracy: 1.00 - ETA: 1s - loss: 1.6087e-04 - accuracy: 1.00 - ETA: 1s - loss: 1.5826e-04 - accuracy: 1.00 - ETA: 0s - loss: 1.5413e-04 - accuracy: 1.00 - ETA: 0s - loss: 1.5217e-04 - accuracy: 1.00 - ETA: 0s - loss: 1.6938e-04 - accuracy: 1.00 - ETA: 0s - loss: 1.6624e-04 - accuracy: 1.00 - ETA: 0s - loss: 1.6863e-04 - accuracy: 1.00 - ETA: 0s - loss: 1.6905e-04 - accuracy: 1.00 - ETA: 0s - loss: 1.6624e-04 - accuracy: 1.00 - ETA: 0s - loss: 1.6397e-04 - accuracy: 1.00 - ETA: 0s - loss: 1.6279e-04 - accuracy: 1.00 - ETA: 0s - loss: 1.6314e-04 - accuracy: 1.00 - ETA: 0s - loss: 1.6258e-04 - accuracy: 1.00 - ETA: 0s - loss: 1.6446e-04 - accuracy: 1.00 - ETA: 0s - loss: 1.6780e-04 - accuracy: 1.00 - ETA: 0s - loss: 1.6764e-04 - accuracy: 1.00 - ETA: 0s - loss: 1.6889e-04 - accuracy: 1.00 - ETA: 0s - loss: 1.6958e-04 - accuracy: 1.00 - ETA: 0s - loss: 1.7051e-04 - accuracy: 1.00 - ETA: 0s - loss: 1.7026e-04 - accuracy: 1.00 - 3s 173us/step - loss: 1.7072e-04 - accuracy: 1.0000 - val_loss: 1.1772 - val_accuracy: 0.8569\n",
      "Epoch 20/20\n",
      "15000/15000 [==============================] - ETA: 1s - loss: 1.0740e-04 - accuracy: 1.00 - ETA: 1s - loss: 1.1149e-04 - accuracy: 1.00 - ETA: 1s - loss: 1.1334e-04 - accuracy: 1.00 - ETA: 1s - loss: 1.1401e-04 - accuracy: 1.00 - ETA: 1s - loss: 1.2365e-04 - accuracy: 1.00 - ETA: 1s - loss: 1.2549e-04 - accuracy: 1.00 - ETA: 1s - loss: 1.2755e-04 - accuracy: 1.00 - ETA: 1s - loss: 1.3028e-04 - accuracy: 1.00 - ETA: 1s - loss: 1.2775e-04 - accuracy: 1.00 - ETA: 1s - loss: 1.2685e-04 - accuracy: 1.00 - ETA: 1s - loss: 1.2665e-04 - accuracy: 1.00 - ETA: 1s - loss: 1.3767e-04 - accuracy: 1.00 - ETA: 0s - loss: 1.3593e-04 - accuracy: 1.00 - ETA: 0s - loss: 1.5103e-04 - accuracy: 1.00 - ETA: 0s - loss: 1.4849e-04 - accuracy: 1.00 - ETA: 0s - loss: 1.4584e-04 - accuracy: 1.00 - ETA: 0s - loss: 1.4337e-04 - accuracy: 1.00 - ETA: 0s - loss: 1.4215e-04 - accuracy: 1.00 - ETA: 0s - loss: 1.4400e-04 - accuracy: 1.00 - ETA: 0s - loss: 1.4261e-04 - accuracy: 1.00 - ETA: 0s - loss: 1.4430e-04 - accuracy: 1.00 - ETA: 0s - loss: 1.4376e-04 - accuracy: 1.00 - ETA: 0s - loss: 1.4281e-04 - accuracy: 1.00 - ETA: 0s - loss: 1.4151e-04 - accuracy: 1.00 - ETA: 0s - loss: 1.4009e-04 - accuracy: 1.00 - ETA: 0s - loss: 1.4030e-04 - accuracy: 1.00 - ETA: 0s - loss: 1.4045e-04 - accuracy: 1.00 - ETA: 0s - loss: 1.4059e-04 - accuracy: 1.00 - 3s 169us/step - loss: 1.4036e-04 - accuracy: 1.0000 - val_loss: 1.2092 - val_accuracy: 0.8570\n"
     ]
    }
   ],
   "source": [
    "history = model.fit(p_xTrain, p_yTrain, epochs=20, batch_size=512, validation_data=(xVal,yVal))"
   ]
  },
  {
   "cell_type": "code",
   "execution_count": 67,
   "metadata": {},
   "outputs": [
    {
     "data": {
      "text/plain": [
       "dict_keys(['val_loss', 'val_accuracy', 'loss', 'accuracy'])"
      ]
     },
     "execution_count": 67,
     "metadata": {},
     "output_type": "execute_result"
    }
   ],
   "source": [
    "historyDict = history.history\n",
    "historyDict.keys()"
   ]
  },
  {
   "cell_type": "code",
   "execution_count": 68,
   "metadata": {},
   "outputs": [],
   "source": [
    "acc = history.history['accuracy']\n",
    "val_acc = history.history['val_accuracy']\n",
    "loss = history.history['loss']\n",
    "val_loss = history.history['val_loss']"
   ]
  },
  {
   "cell_type": "code",
   "execution_count": 69,
   "metadata": {},
   "outputs": [
    {
     "data": {
      "image/png": "[encoded data removed]",
      "text/plain": [
       "<Figure size 432x288 with 1 Axes>"
      ]
     },
     "metadata": {
      "needs_background": "light"
     },
     "output_type": "display_data"
    }
   ],
   "source": [
    "epo = range(1,len(acc)+1)\n",
    "plt.plot(epo, loss, 'bo', label=\"Traing loss\")\n",
    "plt.plot(epo, val_loss, 'b', label=\"Val loss\")\n",
    "plt.xlabel(\"epoch\")\n",
    "plt.ylabel(\"Loss\")\n",
    "plt.legend()\n",
    "plt.show()"
   ]
  },
  {
   "cell_type": "code",
   "execution_count": 70,
   "metadata": {},
   "outputs": [
    {
     "data": {
      "image/png": "[encoded data removed]",
      "text/plain": [
       "<Figure size 432x288 with 1 Axes>"
      ]
     },
     "metadata": {
      "needs_background": "light"
     },
     "output_type": "display_data"
    }
   ],
   "source": [
    "plt.plot(epo, acc, 'bo', label=\"Traing acc\")\n",
    "plt.plot(epo, val_acc, 'b', label=\"Val acc\")\n",
    "plt.xlabel(\"epoch\")\n",
    "plt.ylabel(\"acc\")\n",
    "plt.legend()\n",
    "plt.show()"
   ]
  },
  {
   "cell_type": "code",
   "execution_count": 71,
   "metadata": {},
   "outputs": [
    {
     "name": "stdout",
     "output_type": "stream",
     "text": [
      "25000/25000 [==============================] - ETA:  - ETA:  - ETA:  - ETA:  - ETA:  - ETA:  - ETA:  - ETA:  - ETA:  - ETA:  - ETA:  - ETA:  - ETA:  - ETA:  - ETA:  - ETA:  - ETA:  - ETA:  - ETA:  - ETA:  - ETA:  - ETA:  - ETA:  - ETA:  - ETA:  - ETA:  - ETA:  - ETA:  - ETA:  - ETA:  - ETA:  - ETA:  - ETA:  - ETA:  - ETA:  - ETA:  - ETA:  - ETA:  - ETA:  - ETA:  - ETA:  - ETA:  - ETA:  - ETA:  - ETA:  - ETA:  - ETA:  - ETA:  - ETA:  - ETA:  - ETA:  - ETA:  - ETA:  - ETA:  - ETA:  - ETA:  - ETA:  - ETA:  - ETA:  - ETA:  - ETA:  - ETA:  - ETA:  - ETA:  - ETA:  - ETA:  - 3s 135us/step\n"
     ]
    },
    {
     "data": {
      "text/plain": [
       "[7.587515596313477, 0.4979200065135956]"
      ]
     },
     "execution_count": 71,
     "metadata": {},
     "output_type": "execute_result"
    }
   ],
   "source": [
    "model.evaluate(xTest,yTest)"
   ]
  },
  {
   "cell_type": "code",
   "execution_count": 72,
   "metadata": {},
   "outputs": [
    {
     "data": {
      "text/plain": [
       "array([[1.3422966e-04],\n",
       "       [1.0000000e+00],\n",
       "       [9.9994779e-01],\n",
       "       ...,\n",
       "       [6.1720610e-05],\n",
       "       [7.2339177e-04],\n",
       "       [1.9928652e-01]], dtype=float32)"
      ]
     },
     "execution_count": 72,
     "metadata": {},
     "output_type": "execute_result"
    }
   ],
   "source": [
    "model.predict(xTest)"
   ]
  }
 ],
 "metadata": {
  "kernelspec": {
   "display_name": "Python 3",
   "language": "python",
   "name": "python3"
  },
  "language_info": {
   "codemirror_mode": {
    "name": "ipython",
    "version": 3
   },
   "file_extension": ".py",
   "mimetype": "text/x-python",
   "name": "python",
   "nbconvert_exporter": "python",
   "pygments_lexer": "ipython3",
   "version": "3.7.4"
  }
 },
 "nbformat": 4,
 "nbformat_minor": 2
}
