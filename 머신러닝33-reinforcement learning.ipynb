{
 "cells": [
  {
   "cell_type": "code",
   "execution_count": null,
   "metadata": {},
   "outputs": [],
   "source": [
    "import pandas as pd\n",
    "import numpy as np\n",
    "import gym\n",
    "from gym.envs.registration import register\n",
    "import matplotlib.pyplot as plt"
   ]
  },
  {
   "cell_type": "code",
   "execution_count": null,
   "metadata": {},
   "outputs": [],
   "source": [
    "register(id= \"FrozenLakeNotSlippery-v5\", entry_point=\"gym.envs.toy_text:FrozenLakeEnv\", \n",
    "        kwargs={\"map\":\"4x4\", \"is_slippery\":False})"
   ]
  },
  {
   "cell_type": "code",
   "execution_count": null,
   "metadata": {},
   "outputs": [],
   "source": [
    "env = gym.make(\"FrozenLakeNotSlippery-v5\")\n",
    "observation = env.reset()"
   ]
  },
  {
   "cell_type": "code",
   "execution_count": null,
   "metadata": {},
   "outputs": [],
   "source": [
    "env.observation_space.n #16(4*4), state\n",
    "env.action_space.n  #4, action\n",
    "Q = np.zeros([env.observation_space.n, env.action_space.n])"
   ]
  },
  {
   "cell_type": "code",
   "execution_count": null,
   "metadata": {},
   "outputs": [],
   "source": [
    "Q\n",
    "num_episodes=1000 #에피소드 : epoch\n",
    "decayRate=0.9"
   ]
  },
  {
   "cell_type": "code",
   "execution_count": null,
   "metadata": {},
   "outputs": [],
   "source": [
    "rList=[]\n",
    "for i in range(0,num_episodes):\n",
    "    state = env.reset()\n",
    "    e = 1. / ((i//100)+1) #(i/100) : 1~10 => e=1~0.1\n",
    "    rAll = 0 #한 episode별 reward의 합\n",
    "    done = False #hole or Goal => True\n",
    "    \n",
    "    while not done:\n",
    "        if np.random.randn(1) < e:\n",
    "            action = env.action_space.sample()\n",
    "        else: #exploit\n",
    "            action = np.argmax(Q[state,:])\n",
    "        newState, reward, done, _ = env.step(action)\n",
    "        Q[state,action] = reward + decayRate * np.max(Q[newState,:])\n",
    "        rAll+=reward\n",
    "        state = newState\n",
    "        rList.append(rAll)\n",
    "            \n",
    "print(\"강화학습 종료\")  "
   ]
  }
 ],
 "metadata": {
  "kernelspec": {
   "display_name": "Python 3",
   "language": "python",
   "name": "python3"
  },
  "language_info": {
   "codemirror_mode": {
    "name": "ipython",
    "version": 3
   },
   "file_extension": ".py",
   "mimetype": "text/x-python",
   "name": "python",
   "nbconvert_exporter": "python",
   "pygments_lexer": "ipython3",
   "version": "3.7.4"
  }
 },
 "nbformat": 4,
 "nbformat_minor": 2
}
