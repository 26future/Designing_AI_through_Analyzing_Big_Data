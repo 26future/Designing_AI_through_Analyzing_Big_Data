{
 "cells": [
  {
   "cell_type": "code",
   "execution_count": 5,
   "metadata": {},
   "outputs": [],
   "source": [
    "from keras.preprocessing.text import Tokenizer\n",
    "# tokenizer: 토큰화\n",
    "tok = Tokenizer()\n",
    "text = \"Regret for wasted time is more wasted time\"\n",
    "tok.fit_on_texts([text]) #사전을 생성\n",
    "#[text]: 단어 단위 토큰화\n",
    "#text: 문자 단위 토큰화"
   ]
  },
  {
   "cell_type": "code",
   "execution_count": 8,
   "metadata": {},
   "outputs": [],
   "source": [
    "tok.word_index\n",
    "test = \"Regret for wasted hour is more wasted time\"\n",
    "seq = tok.texts_to_sequences([test])\n",
    "#사전에 test에 저장된 단어가 있는지 확인"
   ]
  },
  {
   "cell_type": "code",
   "execution_count": 14,
   "metadata": {},
   "outputs": [
    {
     "data": {
      "text/plain": [
       "array([[1, 2, 3],\n",
       "       [3, 4, 5],\n",
       "       [6, 7, 0]])"
      ]
     },
     "execution_count": 14,
     "metadata": {},
     "output_type": "execute_result"
    }
   ],
   "source": [
    "from keras.preprocessing.sequence import pad_sequences\n",
    "#pad_sequences: 샘플의 길이를 동일하게 해주는 함수\n",
    "pad_sequences([[1,2,3],[2,3,4,5],[6,7]],maxlen=3, padding='post')"
   ]
  },
  {
   "cell_type": "code",
   "execution_count": null,
   "metadata": {},
   "outputs": [],
   "source": [
    "#워드 임베딩: 문장 내의 단어들을 밀집벡터로 만드는 작업 (Embedding)\n",
    "#원핫벡터(고차원, 희소벡터, 기억장소낭비)\n",
    "#밀집벡터(저차원, 실수값)\n",
    "# ex) 원핫벡터:001000....0000\n",
    "# ex) 밀집벡터: [0.1, -1.5, 1.9, 2.4]\n",
    "\n",
    "# ex) text = [[0,1,2,3],[3,4,1,5]]\n",
    "# => Embedding(6,2,4)  #6:단어개수(input_dim), 2:벡터크기(output_dim), 5:시퀀스길이(input_length)\n",
    "# => 0 -> [1.3, 1.5], 1 -> [2.5, 4.1]..."
   ]
  },
  {
   "cell_type": "code",
   "execution_count": 21,
   "metadata": {},
   "outputs": [],
   "source": [
    "# functional API\n",
    "from keras.layers import Input, Dense, LSTM\n",
    "from keras.models import Model"
   ]
  },
  {
   "cell_type": "code",
   "execution_count": 20,
   "metadata": {},
   "outputs": [],
   "source": [
    "# inp = Input(shape=(10,)) #10개 입력\n",
    "# h1 = Dense(32, activation='relu')(inp)\n",
    "# h2 = Dense(16, activation='relu')(h1)\n",
    "# outp = Dense(1, activation='sigmoid')(h2)\n",
    "# model = Model(inputs=inp, outputs=outp)"
   ]
  },
  {
   "cell_type": "code",
   "execution_count": null,
   "metadata": {},
   "outputs": [],
   "source": [
    "# model.compile(optimizer=\"rmsprop\", loss='categorical_crossentropy', metrics=['accuracy'])\n",
    "# model.fit(xdata, ydata)"
   ]
  },
  {
   "cell_type": "code",
   "execution_count": null,
   "metadata": {},
   "outputs": [],
   "source": [
    "#rnn 구조를 함수형 api로 표현"
   ]
  },
  {
   "cell_type": "code",
   "execution_count": 23,
   "metadata": {},
   "outputs": [],
   "source": [
    "inp = Input(shape=(50,1))\n",
    "h1 = LSTM(10)(inp)\n",
    "h2 = Dense(10, activation=\"relu\")(h1)\n",
    "outp = Dense(1, activation='sigmoid')(h2)\n",
    "model = Model(inputs=inp, outputs=outp)"
   ]
  },
  {
   "cell_type": "code",
   "execution_count": 25,
   "metadata": {},
   "outputs": [],
   "source": [
    "#MLP (Multi-Layer Perceptron) 로 텍스트 분류\n",
    "from keras.preprocessing.text import Tokenizer\n",
    "import numpy as np"
   ]
  },
  {
   "cell_type": "code",
   "execution_count": 26,
   "metadata": {},
   "outputs": [],
   "source": [
    "texts = ['먹고 싶은 사과', '먹고 싶은 바나나', '길고 노란 바나나 바나나', '저는 과일이 좋아요']"
   ]
  },
  {
   "cell_type": "code",
   "execution_count": 27,
   "metadata": {},
   "outputs": [
    {
     "name": "stdout",
     "output_type": "stream",
     "text": [
      "{'바나나': 1, '먹고': 2, '싶은': 3, '사과': 4, '길고': 5, '노란': 6, '저는': 7, '과일이': 8, '좋아요': 9}\n"
     ]
    }
   ],
   "source": [
    "#토큰화\n",
    "tok = Tokenizer()\n",
    "tok.fit_on_texts(texts)\n",
    "print(tok.word_index)"
   ]
  },
  {
   "cell_type": "code",
   "execution_count": 31,
   "metadata": {},
   "outputs": [
    {
     "data": {
      "text/plain": [
       "array([[0.        , 0.        , 0.33333333, 0.33333333, 0.33333333,\n",
       "        0.        , 0.        , 0.        , 0.        , 0.        ],\n",
       "       [0.        , 0.33333333, 0.33333333, 0.33333333, 0.        ,\n",
       "        0.        , 0.        , 0.        , 0.        , 0.        ],\n",
       "       [0.        , 0.5       , 0.        , 0.        , 0.        ,\n",
       "        0.25      , 0.25      , 0.        , 0.        , 0.        ],\n",
       "       [0.        , 0.        , 0.        , 0.        , 0.        ,\n",
       "        0.        , 0.        , 0.33333333, 0.33333333, 0.33333333]])"
      ]
     },
     "execution_count": 31,
     "metadata": {},
     "output_type": "execute_result"
    }
   ],
   "source": [
    "tok.texts_to_matrix(texts, mode='tfidf') #DTM\n",
    "# tok.texts_to_matrix(texts, mode='count')\n",
    "tok.texts_to_matrix(texts, mode='binary') #단어의 존재 유무\n",
    "tok.texts_to_matrix(texts, mode='freq') #문장 단위 등장 비율"
   ]
  },
  {
   "cell_type": "code",
   "execution_count": 32,
   "metadata": {},
   "outputs": [],
   "source": [
    "import pandas as pd\n",
    "from sklearn.datasets import fetch_20newsgroups\n",
    "from keras.utils import to_categorical\n",
    "import matplotlib.pyplot as plt"
   ]
  },
  {
   "cell_type": "code",
   "execution_count": 33,
   "metadata": {},
   "outputs": [],
   "source": [
    "newsData = fetch_20newsgroups(subset='train') #test, all 지정 가능"
   ]
  },
  {
   "cell_type": "code",
   "execution_count": 34,
   "metadata": {},
   "outputs": [
    {
     "name": "stdout",
     "output_type": "stream",
     "text": [
      "dict_keys(['data', 'filenames', 'target_names', 'target', 'DESCR'])\n"
     ]
    }
   ],
   "source": [
    "print(newsData.keys())"
   ]
  },
  {
   "cell_type": "code",
   "execution_count": 39,
   "metadata": {},
   "outputs": [
    {
     "name": "stdout",
     "output_type": "stream",
     "text": [
      "[7 4 4 ... 3 1 8]\n",
      "['alt.atheism', 'comp.graphics', 'comp.os.ms-windows.misc', 'comp.sys.ibm.pc.hardware', 'comp.sys.mac.hardware', 'comp.windows.x', 'misc.forsale', 'rec.autos', 'rec.motorcycles', 'rec.sport.baseball', 'rec.sport.hockey', 'sci.crypt', 'sci.electronics', 'sci.med', 'sci.space', 'soc.religion.christian', 'talk.politics.guns', 'talk.politics.mideast', 'talk.politics.misc', 'talk.religion.misc']\n"
     ]
    }
   ],
   "source": [
    "len(newsData.data) #11314\n",
    "print(newsData.target)\n",
    "print(newsData.target_names)"
   ]
  },
  {
   "cell_type": "code",
   "execution_count": 45,
   "metadata": {},
   "outputs": [],
   "source": [
    "df = pd.DataFrame(newsData.data, columns=['email'])\n",
    "df['target'] = newsData.target\n",
    "df['target'] = pd.Series(newsData.target)"
   ]
  },
  {
   "cell_type": "code",
   "execution_count": 47,
   "metadata": {},
   "outputs": [
    {
     "name": "stdout",
     "output_type": "stream",
     "text": [
      "<class 'pandas.core.frame.DataFrame'>\n",
      "RangeIndex: 11314 entries, 0 to 11313\n",
      "Data columns (total 2 columns):\n",
      "email     11314 non-null object\n",
      "target    11314 non-null int32\n",
      "dtypes: int32(1), object(1)\n",
      "memory usage: 132.7+ KB\n"
     ]
    }
   ],
   "source": [
    "df.info()"
   ]
  },
  {
   "cell_type": "code",
   "execution_count": 49,
   "metadata": {},
   "outputs": [
    {
     "data": {
      "text/plain": [
       "False"
      ]
     },
     "execution_count": 49,
     "metadata": {},
     "output_type": "execute_result"
    }
   ],
   "source": [
    "df.isnull().values.any()"
   ]
  },
  {
   "cell_type": "code",
   "execution_count": 55,
   "metadata": {},
   "outputs": [
    {
     "data": {
      "text/plain": [
       "<matplotlib.axes._subplots.AxesSubplot at 0x2a083192548>"
      ]
     },
     "execution_count": 55,
     "metadata": {},
     "output_type": "execute_result"
    },
    {
     "data": {
      "image/png": "[encoded data removed]",
      "text/plain": [
       "<Figure size 432x288 with 1 Axes>"
      ]
     },
     "metadata": {
      "needs_background": "light"
     },
     "output_type": "display_data"
    }
   ],
   "source": [
    "df['email'].nunique() #unique 한 값들의 개수 : 11314개 샘플\n",
    "df['target'].nunique() #20가지 주제\n",
    "#주제별 샘플의 개수 확인\n",
    "df['target'].value_counts().plot(kind='bar')"
   ]
  },
  {
   "cell_type": "code",
   "execution_count": 56,
   "metadata": {},
   "outputs": [
    {
     "data": {
      "text/plain": [
       "target\n",
       "0     480\n",
       "1     584\n",
       "2     591\n",
       "3     590\n",
       "4     578\n",
       "5     593\n",
       "6     585\n",
       "7     594\n",
       "8     598\n",
       "9     597\n",
       "10    600\n",
       "11    595\n",
       "12    591\n",
       "13    594\n",
       "14    593\n",
       "15    599\n",
       "16    546\n",
       "17    564\n",
       "18    465\n",
       "19    377\n",
       "dtype: int64"
      ]
     },
     "execution_count": 56,
     "metadata": {},
     "output_type": "execute_result"
    }
   ],
   "source": [
    "df.groupby('target').size()"
   ]
  },
  {
   "cell_type": "code",
   "execution_count": 57,
   "metadata": {},
   "outputs": [],
   "source": [
    "newsDataTest = fetch_20newsgroups(subset='test', shuffle=True)"
   ]
  },
  {
   "cell_type": "code",
   "execution_count": 58,
   "metadata": {},
   "outputs": [],
   "source": [
    "trainEmail = df['email']\n",
    "trainLabel = df['target']"
   ]
  },
  {
   "cell_type": "code",
   "execution_count": 59,
   "metadata": {},
   "outputs": [],
   "source": [
    "testEmail = newsDataTest.data #테스트 데이터 본문\n",
    "testLabel = newsDataTest.target"
   ]
  },
  {
   "cell_type": "code",
   "execution_count": 66,
   "metadata": {},
   "outputs": [],
   "source": [
    "def preData(trainData, testData, mode): #preprocessing\n",
    "    tok = Tokenizer(num_words=10000) #빈도수가 가장 높은 상위 10000개의 단어를 사용하여 토큰화\n",
    "    tok.fit_on_texts(trainData)\n",
    "    xTrain = tok.texts_to_matrix(trainData, mode=mode)\n",
    "    xTest = tok.texts_to_matrix(testData, mode=mode)\n",
    "    return xTrain, xTest, tok.index_word\n",
    "    \n",
    "xTrain, xTest, index_word = preData(trainEmail, testEmail, 'binary')"
   ]
  },
  {
   "cell_type": "code",
   "execution_count": 63,
   "metadata": {},
   "outputs": [
    {
     "data": {
      "text/plain": [
       "(11314,)"
      ]
     },
     "execution_count": 63,
     "metadata": {},
     "output_type": "execute_result"
    }
   ],
   "source": [
    "xTrain.shape\n",
    "xTest.shape\n",
    "trainLabel.shape #(11314,)"
   ]
  },
  {
   "cell_type": "code",
   "execution_count": 64,
   "metadata": {},
   "outputs": [],
   "source": [
    "yTrain = to_categorical(trainLabel, 20)\n",
    "yTest = to_categorical(testLabel, 20)"
   ]
  },
  {
   "cell_type": "code",
   "execution_count": 65,
   "metadata": {},
   "outputs": [
    {
     "data": {
      "text/plain": [
       "(11314, 20)"
      ]
     },
     "execution_count": 65,
     "metadata": {},
     "output_type": "execute_result"
    }
   ],
   "source": [
    "yTrain.shape #(11314, 20)"
   ]
  },
  {
   "cell_type": "code",
   "execution_count": 68,
   "metadata": {},
   "outputs": [
    {
     "data": {
      "text/plain": [
       "'proportion'"
      ]
     },
     "execution_count": 68,
     "metadata": {},
     "output_type": "execute_result"
    }
   ],
   "source": [
    "index_word[10000]"
   ]
  },
  {
   "cell_type": "code",
   "execution_count": 70,
   "metadata": {},
   "outputs": [],
   "source": [
    "#NLP 기반 텍스트 분류 모델\n",
    "from keras.layers import Dropout\n",
    "from keras.models import Sequential"
   ]
  },
  {
   "cell_type": "code",
   "execution_count": 71,
   "metadata": {},
   "outputs": [],
   "source": [
    "def fitEval(xTrain, yTrain, xTest, yTest): #fit & evaluate 수행 함수\n",
    "    model = Sequential()\n",
    "    model.add(Dense(256, input_shape=(10000,), activation='relu'))\n",
    "    model.add(Dropout(0.5))\n",
    "    model.add(Dense(128, activation='relu'))\n",
    "    model.add(Dropout(0.5))\n",
    "    model.add(Dense(20, activation='softmax'))\n",
    "    \n",
    "    model.compile(loss='categorical_crossentropy', optimizer='adam', metrics=['accuracy'])\n",
    "    model.fit(xTrain, yTrain, batch_size=128, epochs=5, validation_split=0.1, verbose=1)\n",
    "    score = model.evaluate(xTest, yTest, batch_size=128)\n",
    "    return score[1]"
   ]
  },
  {
   "cell_type": "code",
   "execution_count": 72,
   "metadata": {},
   "outputs": [
    {
     "name": "stdout",
     "output_type": "stream",
     "text": [
      "WARNING:tensorflow:From C:\\Users\\student\\Anaconda3\\lib\\site-packages\\keras\\backend\\tensorflow_backend.py:422: The name tf.global_variables is deprecated. Please use tf.compat.v1.global_variables instead.\n",
      "\n",
      "Train on 10182 samples, validate on 1132 samples\n",
      "Epoch 1/5\n",
      "10182/10182 [==============================] - 4s 409us/step - loss: 2.2834 - accuracy: 0.3398 - val_loss: 0.9427 - val_accuracy: 0.8277\n",
      "Epoch 2/5\n",
      "10182/10182 [==============================] - 4s 378us/step - loss: 0.8449 - accuracy: 0.7773 - val_loss: 0.4406 - val_accuracy: 0.8913\n",
      "Epoch 3/5\n",
      "10182/10182 [==============================] - 4s 381us/step - loss: 0.4267 - accuracy: 0.8874 - val_loss: 0.3379 - val_accuracy: 0.9117\n",
      "Epoch 4/5\n",
      "10182/10182 [==============================] - 4s 382us/step - loss: 0.2554 - accuracy: 0.9346 - val_loss: 0.3007 - val_accuracy: 0.9170\n",
      "Epoch 5/5\n",
      "10182/10182 [==============================] - 4s 381us/step - loss: 0.1694 - accuracy: 0.9606 - val_loss: 0.2773 - val_accuracy: 0.9223\n",
      "7532/7532 [==============================] - 1s 132us/step\n"
     ]
    }
   ],
   "source": [
    "score = fitEval(xTrain, yTrain, xTest, yTest)\n",
    "#모델 훈련 & 평가\n",
    "#score : 모델 정확도"
   ]
  },
  {
   "cell_type": "code",
   "execution_count": 73,
   "metadata": {},
   "outputs": [
    {
     "data": {
      "text/plain": [
       "0.8293945789337158"
      ]
     },
     "execution_count": 73,
     "metadata": {},
     "output_type": "execute_result"
    }
   ],
   "source": [
    "score"
   ]
  },
  {
   "cell_type": "code",
   "execution_count": 74,
   "metadata": {},
   "outputs": [
    {
     "name": "stdout",
     "output_type": "stream",
     "text": [
      "Train on 10182 samples, validate on 1132 samples\n",
      "Epoch 1/5\n",
      "10182/10182 [==============================] - 4s 401us/step - loss: 2.2728 - accuracy: 0.3463 - val_loss: 0.9472 - val_accuracy: 0.8375\n",
      "Epoch 2/5\n",
      "10182/10182 [==============================] - 4s 376us/step - loss: 0.8621 - accuracy: 0.7633 - val_loss: 0.4424 - val_accuracy: 0.9037\n",
      "Epoch 3/5\n",
      "10182/10182 [==============================] - 4s 377us/step - loss: 0.4382 - accuracy: 0.8868 - val_loss: 0.3445 - val_accuracy: 0.9072\n",
      "Epoch 4/5\n",
      "10182/10182 [==============================] - 4s 377us/step - loss: 0.2588 - accuracy: 0.9363 - val_loss: 0.3132 - val_accuracy: 0.9143\n",
      "Epoch 5/5\n",
      "10182/10182 [==============================] - 4s 376us/step - loss: 0.1817 - accuracy: 0.9540 - val_loss: 0.2890 - val_accuracy: 0.9152\n",
      "7532/7532 [==============================] - 1s 127us/step\n",
      "정확도: 0.8321827054023743\n"
     ]
    }
   ],
   "source": [
    "xTrain, xTest, _ = preData(trainEmail, testEmail, 'binary')\n",
    "score = fitEval(xTrain, yTrain, xTest, yTest)\n",
    "print('정확도:', score)"
   ]
  }
 ],
 "metadata": {
  "kernelspec": {
   "display_name": "Python 3",
   "language": "python",
   "name": "python3"
  },
  "language_info": {
   "codemirror_mode": {
    "name": "ipython",
    "version": 3
   },
   "file_extension": ".py",
   "mimetype": "text/x-python",
   "name": "python",
   "nbconvert_exporter": "python",
   "pygments_lexer": "ipython3",
   "version": "3.7.4"
  }
 },
 "nbformat": 4,
 "nbformat_minor": 2
}
