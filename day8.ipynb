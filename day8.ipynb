{
 "cells": [
  {
   "cell_type": "code",
   "execution_count": 1,
   "metadata": {},
   "outputs": [
    {
     "data": {
      "text/plain": [
       "''"
      ]
     },
     "execution_count": 1,
     "metadata": {},
     "output_type": "execute_result"
    }
   ],
   "source": [
    "\"\"\"\n",
    "동전 종류: 10,50,100\n",
    "최소의 동전을 사용하여 거스름돈 반환\n",
    "ex) 120원 반환: 10-12, 50-2/10-2, 100-1/10-2\n",
    "정답: 100원 1개, 10원 2개 =>3개\n",
    "\n",
    "\n",
    "\n",
    "2) 동전 종류: 10,50,100\n",
    "최소의 동전을 사용하여 거스름돈 반환\n",
    "ex) 120원 반환: 10-12, 60-2, 100-1/10-2\n",
    "정답: 60원 2개 => 2개\n",
    "=>solution: 완전탐색(backtraking(되추적, DP(동적계획법))\n",
    "\n",
    "\"\"\""
   ]
  },
  {
   "cell_type": "code",
   "execution_count": null,
   "metadata": {},
   "outputs": [],
   "source": [
    "#1. []\n",
    "#[]: [] 사이의 문자들과 매치  [A-K],[0-9],[^0-9]\n",
    "#정규식: [ABCDE]\n",
    "#문자열 A: 매치, BLUE: 매치, DRY: 매치, SKY: 매치안됨\n",
    "\n",
    "#2. \n",
    "#\\d <=> [0-9], \\D <=> [^0-9]\n",
    "#\\w <-> [a-zA-Z0-9_], \\W <-> [^a-zA-Z0-9_]\n",
    "\n",
    "#3.\n",
    "#.(dot): 모든 문자\n",
    "#정규식: a.b <=> a + 모든문자 + b\n",
    "#문자열 aab : 매치, a0b: 매치, abb: 매치안됨\n",
    "\n",
    "#*(0번 이상 반복)\n",
    "#정규식: ca*t\n",
    "#문자열 ct : 매치, cat: 매치, caaaat: 매치\n",
    "            \n",
    "#+(1번 이상 반복)\n",
    "#정규식: ca+t <-> a가 1번 이상 반복\n",
    "#문자열 ct : 매치안됨, cat: 매치, caaaat: 매치\n",
    "            \n",
    "#ca{2}t <=> c + a는 반드시 2번 반복 + t\n",
    "#문자열 cat: 매치안됨, caat: 매치\n",
    "        \n",
    "#{2,5}: 2~5번 반복\\\n",
    "#ca{2,5}t <=> c + a는 2번이상 5번 이하 + t\n",
    "#문자열 cat: 매치 안됨, caaat: 매치\n",
    "        \n",
    "#cat?5 <=> c + a(a가 있어도 없어도 됨) + t"
   ]
  },
  {
   "cell_type": "code",
   "execution_count": null,
   "metadata": {},
   "outputs": [],
   "source": [
    "#re.match('a.b', 'abb')\n",
    "#re.match(패턴, 문자열)"
   ]
  },
  {
   "cell_type": "code",
   "execution_count": 6,
   "metadata": {},
   "outputs": [
    {
     "name": "stdout",
     "output_type": "stream",
     "text": [
      "<re.Match object; span=(0, 1), match='h'>\n",
      "<re.Match object; span=(0, 7), match='hellohi'>\n",
      "<re.Match object; span=(0, 7), match='hellohi'>\n",
      "<re.Match object; span=(0, 10), match='hellohi123'>\n",
      "<re.Match object; span=(0, 5), match='반가워안녕'>\n"
     ]
    }
   ],
   "source": [
    "import re\n",
    "\n",
    "print(re.match('[a-zA-Z]','hellohi123'))\n",
    "print(re.match('[a-zA-Z]*','hellohi123'))\n",
    "print(re.match('[a-zA-Z]+','hellohi123'))\n",
    "print(re.match('[a-zA-Z0-9]+','hellohi123'))\n",
    "print(re.match('[가-핳]+','반가워안녕ㅋㅋㅋ'))\n",
    "\n",
    "#print(re.match('[^a-zA-Z]+','hellohi123')) \n",
    "#print(re.match('^[a-zA-Z]+','hellohi123')) #대괄호 밖에 꺽쇠가 있는 경우에는 '패턴 문자'로 시작하면 매치\n",
    "#print(re.match('[^A-Z]', 'Hello'))\n",
    "#print(re.match('[^A-Z]', 'hello'))\n",
    "\n",
    "#print(re.match('[0-9]+','123abc456')) #123\n",
    "#print(re.match('^[0-9]+','123abc456')) #123\n",
    "\n",
    "#print(re.search('[0-9]+$','123abc456')) #456\n",
    "#print(re.match('^[0-9]+','123abc456')) \n",
    "\n",
    "#print(re.match(\"\\D+\",\"aB가10\")) #\\D: 숫자가 아님\n",
    "#print(re.match(\"\\w+\",\"aB가10\")) #\\w: 숫자+문자\n",
    "#print(re.match(\"\\w+\",\"aB가_10\")) #\\w: 숫자+문자+ '_'\n",
    "#print(re.match(\"\\W+\",\"[#^:]\")) #\\w: not (숫자+문자+ '_')\n",
    "\n",
    "#\\s: whitespace 문자, \\n, \\r, \\t, \\f\n",
    "# print(re.match(\"\\s+\",\"  test\"))\n",
    "# print(re.match(\"[a-zA-Z0-9\\s]+\",\"test HI 99 안녕\"))"
   ]
  },
  {
   "cell_type": "code",
   "execution_count": 26,
   "metadata": {},
   "outputs": [
    {
     "name": "stdout",
     "output_type": "stream",
     "text": [
      "<re.Match object; span=(1, 3), match='**'>\n"
     ]
    }
   ],
   "source": [
    "#특수문자는 앞에 역슬래쉬를 붙여야 함\n",
    "\n",
    "#수식에서 제곱(**)이 사용됐는지 여부 확인?\n",
    "print(re.search(\"\\*+\",'3**8'))  #3의 8승"
   ]
  },
  {
   "cell_type": "code",
   "execution_count": 35,
   "metadata": {},
   "outputs": [
    {
     "data": {
      "text/plain": [
       "<re.Match object; span=(0, 2), match='12'>"
      ]
     },
     "execution_count": 35,
     "metadata": {},
     "output_type": "execute_result"
    }
   ],
   "source": [
    "#re.compile() #정규식을 저장 => 객체 (패턴)\n",
    "\n",
    "pat = re.compile('[0-9]+')\n",
    "pat.match('123')\n",
    "pat.match('abc')\n",
    "pat.match('12가나다')"
   ]
  },
  {
   "cell_type": "code",
   "execution_count": null,
   "metadata": {},
   "outputs": [],
   "source": [
    "\"\"\"\n",
    "정규식을 작성하는 일반적인 형식\n",
    "1) 패턴을 저장(re.compile함수)\n",
    "2) 패턴을 사용하여 문자열 검색을 수행\n",
    "(match, search, findall, finditer 함수 사용)\n",
    "\n",
    "match: 문자열의 처음부터 정규식과 매치되는지 조사\n",
    "search: 문자열 전체에 대해서 정규식과 매치되는지 조사\n",
    "findall: 정규식과 매치되는 모든 문자열을 리스트로 리턴\n",
    "finditer: 정규식과 매치되는 모든 문자열을 반복가능한 객체로 리턴\n",
    "\"\"\""
   ]
  },
  {
   "cell_type": "code",
   "execution_count": 37,
   "metadata": {},
   "outputs": [],
   "source": [
    "p = re.compile('[a-z]+') #패턴 저장"
   ]
  },
  {
   "cell_type": "code",
   "execution_count": 38,
   "metadata": {},
   "outputs": [
    {
     "name": "stdout",
     "output_type": "stream",
     "text": [
      "<re.Match object; span=(0, 6), match='python'>\n"
     ]
    }
   ],
   "source": [
    "#match: 문자열의 처음부터~ 정규식과 매치\n",
    "m = p.match('python')\n",
    "print(m)"
   ]
  },
  {
   "cell_type": "code",
   "execution_count": 42,
   "metadata": {},
   "outputs": [
    {
     "name": "stdout",
     "output_type": "stream",
     "text": [
      "매치됨 python\n",
      "<re.Match object; span=(0, 6), match='python'>\n"
     ]
    }
   ],
   "source": [
    "m = p.match('python')\n",
    "if m:\n",
    "    print('매치됨', m.group()) #매치된 문자열 출력\n",
    "else:\n",
    "    print('매치안됨')\n",
    "\n",
    "print(m)"
   ]
  },
  {
   "cell_type": "code",
   "execution_count": 46,
   "metadata": {},
   "outputs": [
    {
     "name": "stdout",
     "output_type": "stream",
     "text": [
      "<re.Match object; span=(0, 6), match='python'>\n",
      "<re.Match object; span=(2, 8), match='python'>\n"
     ]
    }
   ],
   "source": [
    "m = p.search('python')\n",
    "print(m)\n",
    "\n",
    "m = p.search('9 python 7 java')\n",
    "print(m)"
   ]
  },
  {
   "cell_type": "code",
   "execution_count": 47,
   "metadata": {},
   "outputs": [
    {
     "name": "stdout",
     "output_type": "stream",
     "text": [
      "['ife', 'is', 'too', 'short']\n"
     ]
    }
   ],
   "source": [
    "res = p.findall(\"Life is too short\") #[a-z]+\n",
    "print(res)"
   ]
  },
  {
   "cell_type": "code",
   "execution_count": 48,
   "metadata": {},
   "outputs": [
    {
     "name": "stdout",
     "output_type": "stream",
     "text": [
      "<callable_iterator object at 0x000001BF3B295A08>\n"
     ]
    }
   ],
   "source": [
    "res = p.finditer(\"Life is too short\") #[a-z]+\n",
    "print(res)"
   ]
  },
  {
   "cell_type": "code",
   "execution_count": 49,
   "metadata": {},
   "outputs": [
    {
     "name": "stdout",
     "output_type": "stream",
     "text": [
      "<re.Match object; span=(1, 4), match='ife'>\n",
      "<re.Match object; span=(5, 7), match='is'>\n",
      "<re.Match object; span=(8, 11), match='too'>\n",
      "<re.Match object; span=(12, 17), match='short'>\n"
     ]
    }
   ],
   "source": [
    "for r in res:\n",
    "    print(r)"
   ]
  },
  {
   "cell_type": "code",
   "execution_count": 63,
   "metadata": {},
   "outputs": [],
   "source": [
    "p = re.compile('[a-z]+') #패턴 저장\n",
    "res = p.finditer(\"Life is too short\") #[a-z]+"
   ]
  },
  {
   "cell_type": "code",
   "execution_count": 64,
   "metadata": {},
   "outputs": [
    {
     "name": "stdout",
     "output_type": "stream",
     "text": [
      "1\n",
      "4\n",
      "ife\n",
      "(1, 4)\n",
      "5\n",
      "7\n",
      "is\n",
      "(5, 7)\n",
      "8\n",
      "11\n",
      "too\n",
      "(8, 11)\n",
      "12\n",
      "17\n",
      "short\n",
      "(12, 17)\n"
     ]
    }
   ],
   "source": [
    "for r in res:\n",
    "    print(r.start()) #매치 시작된 위치\n",
    "    print(r.end()) #매치 끝 위치\n",
    "\n",
    "    print(r.group()) #매치 문자열\n",
    "    print(r.span()) #(시작, 끝)"
   ]
  },
  {
   "cell_type": "code",
   "execution_count": null,
   "metadata": {},
   "outputs": [],
   "source": [
    "#p = re.compile('[a-z]+')\n",
    "#m = p.match(\"multi\")\n",
    "#<=> 같은 의미\n",
    "#m = re.match(\"[a-z]+\",'multi')"
   ]
  },
  {
   "cell_type": "code",
   "execution_count": 75,
   "metadata": {},
   "outputs": [
    {
     "name": "stdout",
     "output_type": "stream",
     "text": [
      "None\n",
      "<re.Match object; span=(0, 3), match='a\\nb'>\n",
      "<re.Match object; span=(0, 1), match='p'>\n"
     ]
    },
    {
     "ename": "AttributeError",
     "evalue": "module 're' has no attribute 'i'",
     "output_type": "error",
     "traceback": [
      "\u001b[1;31m---------------------------------------------------------------------------\u001b[0m",
      "\u001b[1;31mAttributeError\u001b[0m                            Traceback (most recent call last)",
      "\u001b[1;32m<ipython-input-75-32923c8239ac>\u001b[0m in \u001b[0;36m<module>\u001b[1;34m\u001b[0m\n\u001b[0;32m     16\u001b[0m \u001b[0mp\u001b[0m\u001b[1;33m=\u001b[0m\u001b[0mre\u001b[0m\u001b[1;33m.\u001b[0m\u001b[0mcompile\u001b[0m\u001b[1;33m(\u001b[0m\u001b[1;34m'[a-z]'\u001b[0m\u001b[1;33m)\u001b[0m\u001b[1;33m\u001b[0m\u001b[1;33m\u001b[0m\u001b[0m\n\u001b[0;32m     17\u001b[0m \u001b[0mprint\u001b[0m\u001b[1;33m(\u001b[0m\u001b[0mp\u001b[0m\u001b[1;33m.\u001b[0m\u001b[0mmatch\u001b[0m\u001b[1;33m(\u001b[0m\u001b[1;34m'python'\u001b[0m\u001b[1;33m)\u001b[0m\u001b[1;33m)\u001b[0m\u001b[1;33m\u001b[0m\u001b[1;33m\u001b[0m\u001b[0m\n\u001b[1;32m---> 18\u001b[1;33m \u001b[0mp\u001b[0m\u001b[1;33m=\u001b[0m\u001b[0mre\u001b[0m\u001b[1;33m.\u001b[0m\u001b[0mcompile\u001b[0m\u001b[1;33m(\u001b[0m\u001b[1;34m'[a-z]'\u001b[0m\u001b[1;33m,\u001b[0m \u001b[0mre\u001b[0m\u001b[1;33m.\u001b[0m\u001b[0mi\u001b[0m\u001b[1;33m)\u001b[0m\u001b[1;33m\u001b[0m\u001b[1;33m\u001b[0m\u001b[0m\n\u001b[0m\u001b[0;32m     19\u001b[0m \u001b[0mprint\u001b[0m\u001b[1;33m(\u001b[0m\u001b[0mp\u001b[0m\u001b[1;33m.\u001b[0m\u001b[0mmatch\u001b[0m\u001b[1;33m(\u001b[0m\u001b[1;34m'Python'\u001b[0m\u001b[1;33m)\u001b[0m\u001b[1;33m)\u001b[0m\u001b[1;33m\u001b[0m\u001b[1;33m\u001b[0m\u001b[0m\n",
      "\u001b[1;31mAttributeError\u001b[0m: module 're' has no attribute 'i'"
     ]
    }
   ],
   "source": [
    "#정규식 컴파일 옵션\n",
    "p = re.compile('a.b') # .은 모든 문자와 매치(\\n은 제외)\n",
    "#m = p.match('acb')\n",
    "m = p.match('a\\nb')\n",
    "print(m)\n",
    "\n",
    "# DOTALL 옵션: .을 사용할 때 \\n문자도 포함하고자 하는 경우\n",
    "\n",
    "p = re.compile('a.b', re.DOTALL) \n",
    "#m = p.match('acb')\n",
    "m = p.match('a\\nb')\n",
    "print(m)\n",
    "\n",
    "#re.i 옵션: ignorecase는 대소문자 구분없이 수행\n",
    "\n",
    "p = re.compile('[a-z]')\n",
    "print(p.match('python'))\n",
    "p = re.compile('[a-z]', re.i) #'[a-zA-Z]와 같음'\n",
    "print(p.match('Python'))"
   ]
  },
  {
   "cell_type": "code",
   "execution_count": 80,
   "metadata": {},
   "outputs": [
    {
     "name": "stdout",
     "output_type": "stream",
     "text": [
      "<re.Match object; span=(0, 10), match='python one'>\n",
      "<re.Match object; span=(0, 10), match='python one'>\n",
      "['python one']\n",
      "['python one', 'python two']\n"
     ]
    }
   ],
   "source": [
    "#MULTILINE 옵션\n",
    "\n",
    "text = \"\"\"python one\n",
    "python two\n",
    "you need python\n",
    "\"\"\"\n",
    "\n",
    "p = re.compile(\"^python\\s\\w+\")\n",
    "print(p.match(text))\n",
    "print(p.search(text))\n",
    "print(p.findall(text)) \n",
    "# ^를 문자열 전체의 처음에 대해서 적용\n",
    "\n",
    "#그런데, 내가 원하는 것은 문자열 전체가 아니라,\n",
    "#문자열의 각 라인 단위로 정규식(^)를 적용 => MULTILINE\n",
    "\n",
    "p = re.compile(\"^python\\s\\w+\", re.MULTILINE)\n",
    "print(p.findall(text)) "
   ]
  },
  {
   "cell_type": "code",
   "execution_count": 84,
   "metadata": {},
   "outputs": [
    {
     "name": "stdout",
     "output_type": "stream",
     "text": [
      "None\n"
     ]
    }
   ],
   "source": [
    "pat = re.compile(\"Bye|Hi\")\n",
    "m = pat.match(\"ByeHello\")\n",
    "m = pat.match(\"HiHello\")\n",
    "m = pat.match(\"Hello\")\n",
    "\n",
    "print(m)"
   ]
  },
  {
   "cell_type": "code",
   "execution_count": 86,
   "metadata": {},
   "outputs": [
    {
     "name": "stdout",
     "output_type": "stream",
     "text": [
      "<re.Match object; span=(0, 4), match='Life'>\n",
      "<re.Match object; span=(12, 17), match='short'>\n"
     ]
    }
   ],
   "source": [
    "print(re.search(\"^Life\", \"Life is too short\"))\n",
    "#Life로 시작하는 문자열 패턴식 지정\n",
    "print(re.search(\"short$\", \"Life is too short\"))\n",
    "#short로 끝나는 문자열 패턴식 지정"
   ]
  },
  {
   "cell_type": "code",
   "execution_count": 91,
   "metadata": {},
   "outputs": [
    {
     "name": "stdout",
     "output_type": "stream",
     "text": [
      "xyzxyz\n"
     ]
    }
   ],
   "source": [
    "#그루핑: 패턴식 내부에 괄호로 묶어서 표현\n",
    "#소괄호로 묶인 부분이 그룹이 됨\n",
    "#xyz 문자열이 계속해서 반복되는지 확인 정규식?\n",
    "# (xyz)+\n",
    "pat = re.compile('(xyz)+')\n",
    "m = pat.search('xyzxyzxyk ok')\n",
    "print(m.group()) #매칭된 문자열 확인"
   ]
  },
  {
   "cell_type": "code",
   "execution_count": 102,
   "metadata": {},
   "outputs": [
    {
     "name": "stdout",
     "output_type": "stream",
     "text": [
      "None\n"
     ]
    }
   ],
   "source": [
    "\"\"\"\n",
    "kim 010-2345-6789\n",
    "hong 02-1234-5678\n",
    "lee seoul (x)\n",
    "park 010 1234 5656 (x)\n",
    "\"\"\"\n",
    "\n",
    "pat = re.compile(\"\\w+\\s+\\d+[-]\\d+[-]\\d+\")\n",
    "#m = pat.search(\"kim 010-2345-6789\")\n",
    "#m = pat.search(\"hong 02-1234-5678\")\n",
    "m = pat.search(\"park 010 1234 5656\")\n",
    "\n",
    "print(m)"
   ]
  },
  {
   "cell_type": "code",
   "execution_count": 106,
   "metadata": {},
   "outputs": [],
   "source": [
    "pat = re.compile(\"(\\w+)\\s+\\d+[-]\\d+[-]\\d+\")\n",
    "m = pat.search(\"kim 010-2345-6789\")"
   ]
  },
  {
   "cell_type": "code",
   "execution_count": 110,
   "metadata": {},
   "outputs": [
    {
     "name": "stdout",
     "output_type": "stream",
     "text": [
      "kim 010-2345-6789\n",
      "kim\n",
      "kim 010-2345-6789\n"
     ]
    }
   ],
   "source": [
    "print(m.group())\n",
    "#(): 그루핑 기호\n",
    "#이름 그루핑 (\\w+)\n",
    "print(m.group(1))  #첫번째 그룹에 해당되는 문자열\n",
    "#print(m.group(2)) #그룹이 없으므로 에러\n",
    "print(m.group(0)) #매칭된 전체 문자열"
   ]
  },
  {
   "cell_type": "code",
   "execution_count": 111,
   "metadata": {},
   "outputs": [
    {
     "name": "stdout",
     "output_type": "stream",
     "text": [
      "kim 010-2345-6789\n",
      "kim\n",
      "010\n",
      "2345\n",
      "6789\n"
     ]
    }
   ],
   "source": [
    "pat = re.compile(\"(\\w+)\\s+(\\d+)[-](\\d+)[-](\\d+)\")\n",
    "m = pat.search(\"kim 010-2345-6789\")\n",
    "\n",
    "print(m.group(0))\n",
    "print(m.group(1))\n",
    "print(m.group(2))\n",
    "print(m.group(3))\n",
    "print(m.group(4))"
   ]
  },
  {
   "cell_type": "code",
   "execution_count": 113,
   "metadata": {},
   "outputs": [
    {
     "name": "stdout",
     "output_type": "stream",
     "text": [
      "kim 010-2345-6789\n",
      "kim\n",
      "010\n",
      "2345-6789\n",
      "2345\n",
      "6789\n"
     ]
    }
   ],
   "source": [
    "pat = re.compile(\"(\\w+)\\s+(\\d+)[-]((\\d+)[-](\\d+))\")\n",
    "m = pat.search(\"kim 010-2345-6789\")\n",
    "\n",
    "print(m.group(0))\n",
    "print(m.group(1))\n",
    "print(m.group(2))\n",
    "print(m.group(3))\n",
    "print(m.group(4))\n",
    "print(m.group(5))"
   ]
  },
  {
   "cell_type": "code",
   "execution_count": 115,
   "metadata": {},
   "outputs": [
    {
     "name": "stdout",
     "output_type": "stream",
     "text": [
      "kim 010-2345-6789\n",
      "kim\n",
      "kim\n"
     ]
    }
   ],
   "source": [
    "#그루핑시 이름을 부여\n",
    "#pat = re.compile(\"(\\w+)\\s+(\\d+)[-]((\\d+)[-](\\d+))\")\n",
    "#이름 부여 : 형식) (?P<그룹명>...)\n",
    "#(\\w+) => (?P<name>\\w+)\n",
    "\n",
    "pat = re.compile(\"(?P<name>\\w+)\\s+(\\d+)[-]((\\d+)[-](\\d+))\")\n",
    "m = pat.search(\"kim 010-2345-6789\")\n",
    "print(m.group(0))\n",
    "print(m.group(1))\n",
    "print(m.group(\"name\"))"
   ]
  },
  {
   "cell_type": "code",
   "execution_count": null,
   "metadata": {},
   "outputs": [],
   "source": [
    "#텍스트 수집 -> 전처리 -> 워드임베딩(숫자 변환(인코딩))\n",
    "#-> 얕은(깊은) 신경막 모델 설계 -> 모델링 -> 비교,예측 작업"
   ]
  },
  {
   "cell_type": "code",
   "execution_count": 120,
   "metadata": {},
   "outputs": [
    {
     "data": {
      "text/plain": [
       "'color socks and color shoes'"
      ]
     },
     "execution_count": 120,
     "metadata": {},
     "output_type": "execute_result"
    }
   ],
   "source": [
    "pat = re.compile(\"red\")\n",
    "pat.sub('color', 'blue socks and red shoes') #치환\n",
    "#pat.sub(바꿀문자열, 대상문자열)\n",
    "#해석? 대상문자열에서 패턴이 발견되면 바꿀문자열로 변경\n",
    "\n",
    "#blue 또는 red는 모두 color로 변경하시오\n",
    "#치환 결과 => 'color socks and color shoes'\n",
    "pat = re.compile('blue|red')\n",
    "pat.sub('color', 'blue socks and red shoes')"
   ]
  },
  {
   "cell_type": "code",
   "execution_count": 123,
   "metadata": {},
   "outputs": [
    {
     "data": {
      "text/plain": [
       "'대한민국,대한민국 좋은 나라 대한민국 대한민국 대한민국'"
      ]
     },
     "execution_count": 123,
     "metadata": {},
     "output_type": "execute_result"
    }
   ],
   "source": [
    "pat = re.compile('are') #패턴\n",
    "pat.sub('R', \"You are dozing off. I'm also sleepy\") #문자열에서\n",
    "#'are'패턴이 발견되면, 'R'로 치환\n",
    "\n",
    "\n",
    "#우리나라,한국,코리아, 대한민국 <=> 대한민국\n",
    "pat=re.compile('우리나라|한국|코리아|대한민국')\n",
    "pat.sub('대한민국','대한민국,우리나라 좋은 나라 한국 코리아 대한민국')"
   ]
  }
 ],
 "metadata": {
  "kernelspec": {
   "display_name": "Python 3",
   "language": "python",
   "name": "python3"
  },
  "language_info": {
   "codemirror_mode": {
    "name": "ipython",
    "version": 3
   },
   "file_extension": ".py",
   "mimetype": "text/x-python",
   "name": "python",
   "nbconvert_exporter": "python",
   "pygments_lexer": "ipython3",
   "version": "3.7.4"
  }
 },
 "nbformat": 4,
 "nbformat_minor": 2
}
