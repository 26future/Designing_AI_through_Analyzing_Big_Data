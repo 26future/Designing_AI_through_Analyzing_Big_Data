{
 "cells": [
  {
   "cell_type": "code",
   "execution_count": 1,
   "metadata": {},
   "outputs": [],
   "source": [
    "import tensorflow as tf\n",
    "import numpy as np"
   ]
  },
  {
   "cell_type": "code",
   "execution_count": 2,
   "metadata": {},
   "outputs": [],
   "source": [
    "idx2char = ['h','i','e','l','o']\n",
    "# hihello 문자열, hihell -> ihello\n",
    "xdata = [[0,1,0,2,3,3]] #hihell (입력)\n",
    "# [None,sequence_length,input_dim] \n",
    "xOneHot = [[\n",
    "    [1,0,0,0,0], #h\n",
    "    [0,1,0,0,0], #i\n",
    "    [1,0,0,0,0], #h\n",
    "    [0,0,1,0,0], #e\n",
    "    [0,0,0,1,0], #l\n",
    "    [0,0,0,1,0]  #l\n",
    "]]\n",
    "ydata = [[1,0,2,3,3,4]] #ihello (출력)"
   ]
  },
  {
   "cell_type": "code",
   "execution_count": 3,
   "metadata": {},
   "outputs": [
    {
     "data": {
      "text/plain": [
       "(1, 6, 5)"
      ]
     },
     "execution_count": 3,
     "metadata": {},
     "output_type": "execute_result"
    }
   ],
   "source": [
    "np.shape(xOneHot)"
   ]
  },
  {
   "cell_type": "code",
   "execution_count": 4,
   "metadata": {},
   "outputs": [],
   "source": [
    "num_classes=5\n",
    "input_dim=5  #원핫인코딩 했을 때의 크기\n",
    "hidden_size=5  #RNN(LSTM) CELL에서 출력의 크기\n",
    "batch_size=1  #학습하고자 하는 문장 1개\n",
    "sequence_length=6 #출력되는 문자의 길이\n",
    "learning_rate=0.1"
   ]
  },
  {
   "cell_type": "code",
   "execution_count": 5,
   "metadata": {},
   "outputs": [],
   "source": [
    "x = tf.placeholder(tf.float32, [None,sequence_length,input_dim])\n",
    "y = tf.placeholder(tf.int32, [None,sequence_length])"
   ]
  },
  {
   "cell_type": "code",
   "execution_count": 6,
   "metadata": {},
   "outputs": [
    {
     "name": "stdout",
     "output_type": "stream",
     "text": [
      "WARNING:tensorflow:\n",
      "The TensorFlow contrib module will not be included in TensorFlow 2.0.\n",
      "For more information, please see:\n",
      "  * https://github.com/tensorflow/community/blob/master/rfcs/20180907-contrib-sunset.md\n",
      "  * https://github.com/tensorflow/addons\n",
      "  * https://github.com/tensorflow/io (for I/O related ops)\n",
      "If you depend on functionality not listed there, please file an issue.\n",
      "\n",
      "WARNING:tensorflow:From <ipython-input-6-6c23ede72a13>:1: BasicLSTMCell.__init__ (from tensorflow.python.ops.rnn_cell_impl) is deprecated and will be removed in a future version.\n",
      "Instructions for updating:\n",
      "This class is equivalent as tf.keras.layers.LSTMCell, and will be replaced by that in Tensorflow 2.0.\n",
      "WARNING:tensorflow:From <ipython-input-6-6c23ede72a13>:3: dynamic_rnn (from tensorflow.python.ops.rnn) is deprecated and will be removed in a future version.\n",
      "Instructions for updating:\n",
      "Please use `keras.layers.RNN(cell)`, which is equivalent to this API\n",
      "WARNING:tensorflow:From C:\\Users\\student\\Anaconda3\\lib\\site-packages\\tensorflow_core\\python\\ops\\rnn_cell_impl.py:735: Layer.add_variable (from tensorflow.python.keras.engine.base_layer) is deprecated and will be removed in a future version.\n",
      "Instructions for updating:\n",
      "Please use `layer.add_weight` method instead.\n",
      "WARNING:tensorflow:From C:\\Users\\student\\Anaconda3\\lib\\site-packages\\tensorflow_core\\python\\ops\\rnn_cell_impl.py:739: calling Zeros.__init__ (from tensorflow.python.ops.init_ops) with dtype is deprecated and will be removed in a future version.\n",
      "Instructions for updating:\n",
      "Call initializer instance with the dtype argument instead of passing it to the constructor\n"
     ]
    }
   ],
   "source": [
    "cell = tf.contrib.rnn.BasicLSTMCell(num_units=hidden_size, state_is_tuple=True)\n",
    "initial_state = cell.zero_state(batch_size, tf.float32)\n",
    "output, _states = tf.nn.dynamic_rnn(cell, x, initial_state=initial_state, dtype=tf.float32)"
   ]
  },
  {
   "cell_type": "code",
   "execution_count": 7,
   "metadata": {},
   "outputs": [],
   "source": [
    "# Ct-1 : 이전 주어의 성별 정보 * ft"
   ]
  },
  {
   "cell_type": "code",
   "execution_count": 8,
   "metadata": {},
   "outputs": [
    {
     "name": "stdout",
     "output_type": "stream",
     "text": [
      "WARNING:tensorflow:From C:\\Users\\student\\Anaconda3\\lib\\site-packages\\tensorflow_core\\contrib\\layers\\python\\layers\\layers.py:1866: Layer.apply (from tensorflow.python.keras.engine.base_layer) is deprecated and will be removed in a future version.\n",
      "Instructions for updating:\n",
      "Please use `layer.__call__` method instead.\n"
     ]
    }
   ],
   "source": [
    "xForFc = tf.reshape(output,[-1,hidden_size])\n",
    "output = tf.contrib.layers.fully_connected(inputs=xForFc, num_outputs=num_classes, activation_fn=None)\n",
    "output = tf.reshape(output, [batch_size, sequence_length, num_classes])"
   ]
  },
  {
   "cell_type": "code",
   "execution_count": 9,
   "metadata": {},
   "outputs": [],
   "source": [
    "weights = tf.ones([batch_size, sequence_length])"
   ]
  },
  {
   "cell_type": "code",
   "execution_count": 10,
   "metadata": {},
   "outputs": [],
   "source": [
    "sequence_loss = tf.contrib.seq2seq.sequence_loss(logits=output, targets=y, weights=weights)"
   ]
  },
  {
   "cell_type": "code",
   "execution_count": 11,
   "metadata": {},
   "outputs": [],
   "source": [
    "loss =  tf.reduce_mean(sequence_loss)\n",
    "train = tf.train.AdamOptimizer(learning_rate).minimize(loss)"
   ]
  },
  {
   "cell_type": "code",
   "execution_count": 12,
   "metadata": {},
   "outputs": [],
   "source": [
    "prediction = tf.argmax(output, axis=2)"
   ]
  },
  {
   "cell_type": "code",
   "execution_count": 13,
   "metadata": {
    "scrolled": true
   },
   "outputs": [
    {
     "name": "stdout",
     "output_type": "stream",
     "text": [
      "0 cost: 1.6656989 prediction: [[2 3 3 2 3 3]] true Y: [[1, 0, 2, 3, 3, 4]]\n",
      "\n",
      "prediction str: ellell\n",
      "1 cost: 1.5590636 prediction: [[3 3 3 3 3 3]] true Y: [[1, 0, 2, 3, 3, 4]]\n",
      "\n",
      "prediction str: llllll\n",
      "2 cost: 1.5031433 prediction: [[3 3 3 3 3 3]] true Y: [[1, 0, 2, 3, 3, 4]]\n",
      "\n",
      "prediction str: llllll\n",
      "3 cost: 1.4413904 prediction: [[3 3 3 3 3 3]] true Y: [[1, 0, 2, 3, 3, 4]]\n",
      "\n",
      "prediction str: llllll\n",
      "4 cost: 1.3661939 prediction: [[3 3 3 3 3 3]] true Y: [[1, 0, 2, 3, 3, 4]]\n",
      "\n",
      "prediction str: llllll\n",
      "5 cost: 1.2736318 prediction: [[3 3 3 3 3 4]] true Y: [[1, 0, 2, 3, 3, 4]]\n",
      "\n",
      "prediction str: lllllo\n",
      "6 cost: 1.1587087 prediction: [[3 3 3 3 3 4]] true Y: [[1, 0, 2, 3, 3, 4]]\n",
      "\n",
      "prediction str: lllllo\n",
      "7 cost: 1.0231987 prediction: [[3 0 3 3 3 4]] true Y: [[1, 0, 2, 3, 3, 4]]\n",
      "\n",
      "prediction str: lhlllo\n",
      "8 cost: 0.8769531 prediction: [[3 0 3 3 3 4]] true Y: [[1, 0, 2, 3, 3, 4]]\n",
      "\n",
      "prediction str: lhlllo\n",
      "9 cost: 0.7395393 prediction: [[3 0 2 3 3 4]] true Y: [[1, 0, 2, 3, 3, 4]]\n",
      "\n",
      "prediction str: lhello\n",
      "10 cost: 0.6260007 prediction: [[2 0 2 3 3 4]] true Y: [[1, 0, 2, 3, 3, 4]]\n",
      "\n",
      "prediction str: ehello\n",
      "11 cost: 0.5308722 prediction: [[2 0 2 3 3 4]] true Y: [[1, 0, 2, 3, 3, 4]]\n",
      "\n",
      "prediction str: ehello\n",
      "12 cost: 0.45187452 prediction: [[2 0 2 3 3 4]] true Y: [[1, 0, 2, 3, 3, 4]]\n",
      "\n",
      "prediction str: ehello\n",
      "13 cost: 0.38786313 prediction: [[2 0 2 3 3 4]] true Y: [[1, 0, 2, 3, 3, 4]]\n",
      "\n",
      "prediction str: ehello\n",
      "14 cost: 0.33425245 prediction: [[1 0 2 3 3 4]] true Y: [[1, 0, 2, 3, 3, 4]]\n",
      "\n",
      "prediction str: ihello\n",
      "15 cost: 0.29037657 prediction: [[1 0 2 3 3 4]] true Y: [[1, 0, 2, 3, 3, 4]]\n",
      "\n",
      "prediction str: ihello\n",
      "16 cost: 0.25495544 prediction: [[1 0 2 3 3 4]] true Y: [[1, 0, 2, 3, 3, 4]]\n",
      "\n",
      "prediction str: ihello\n",
      "17 cost: 0.22417611 prediction: [[1 0 2 3 3 4]] true Y: [[1, 0, 2, 3, 3, 4]]\n",
      "\n",
      "prediction str: ihello\n",
      "18 cost: 0.19620867 prediction: [[1 0 2 3 3 4]] true Y: [[1, 0, 2, 3, 3, 4]]\n",
      "\n",
      "prediction str: ihello\n",
      "19 cost: 0.17112117 prediction: [[1 0 2 3 3 4]] true Y: [[1, 0, 2, 3, 3, 4]]\n",
      "\n",
      "prediction str: ihello\n",
      "20 cost: 0.14862855 prediction: [[1 0 2 3 3 4]] true Y: [[1, 0, 2, 3, 3, 4]]\n",
      "\n",
      "prediction str: ihello\n",
      "21 cost: 0.12807138 prediction: [[1 0 2 3 3 4]] true Y: [[1, 0, 2, 3, 3, 4]]\n",
      "\n",
      "prediction str: ihello\n",
      "22 cost: 0.109182395 prediction: [[1 0 2 3 3 4]] true Y: [[1, 0, 2, 3, 3, 4]]\n",
      "\n",
      "prediction str: ihello\n",
      "23 cost: 0.092164256 prediction: [[1 0 2 3 3 4]] true Y: [[1, 0, 2, 3, 3, 4]]\n",
      "\n",
      "prediction str: ihello\n",
      "24 cost: 0.07716391 prediction: [[1 0 2 3 3 4]] true Y: [[1, 0, 2, 3, 3, 4]]\n",
      "\n",
      "prediction str: ihello\n",
      "25 cost: 0.06409473 prediction: [[1 0 2 3 3 4]] true Y: [[1, 0, 2, 3, 3, 4]]\n",
      "\n",
      "prediction str: ihello\n",
      "26 cost: 0.052822504 prediction: [[1 0 2 3 3 4]] true Y: [[1, 0, 2, 3, 3, 4]]\n",
      "\n",
      "prediction str: ihello\n",
      "27 cost: 0.043276537 prediction: [[1 0 2 3 3 4]] true Y: [[1, 0, 2, 3, 3, 4]]\n",
      "\n",
      "prediction str: ihello\n",
      "28 cost: 0.035373777 prediction: [[1 0 2 3 3 4]] true Y: [[1, 0, 2, 3, 3, 4]]\n",
      "\n",
      "prediction str: ihello\n",
      "29 cost: 0.028928779 prediction: [[1 0 2 3 3 4]] true Y: [[1, 0, 2, 3, 3, 4]]\n",
      "\n",
      "prediction str: ihello\n",
      "30 cost: 0.02369342 prediction: [[1 0 2 3 3 4]] true Y: [[1, 0, 2, 3, 3, 4]]\n",
      "\n",
      "prediction str: ihello\n",
      "31 cost: 0.019449616 prediction: [[1 0 2 3 3 4]] true Y: [[1, 0, 2, 3, 3, 4]]\n",
      "\n",
      "prediction str: ihello\n",
      "32 cost: 0.016036486 prediction: [[1 0 2 3 3 4]] true Y: [[1, 0, 2, 3, 3, 4]]\n",
      "\n",
      "prediction str: ihello\n",
      "33 cost: 0.013323204 prediction: [[1 0 2 3 3 4]] true Y: [[1, 0, 2, 3, 3, 4]]\n",
      "\n",
      "prediction str: ihello\n",
      "34 cost: 0.01118626 prediction: [[1 0 2 3 3 4]] true Y: [[1, 0, 2, 3, 3, 4]]\n",
      "\n",
      "prediction str: ihello\n",
      "35 cost: 0.009508586 prediction: [[1 0 2 3 3 4]] true Y: [[1, 0, 2, 3, 3, 4]]\n",
      "\n",
      "prediction str: ihello\n",
      "36 cost: 0.008186475 prediction: [[1 0 2 3 3 4]] true Y: [[1, 0, 2, 3, 3, 4]]\n",
      "\n",
      "prediction str: ihello\n",
      "37 cost: 0.0071352194 prediction: [[1 0 2 3 3 4]] true Y: [[1, 0, 2, 3, 3, 4]]\n",
      "\n",
      "prediction str: ihello\n",
      "38 cost: 0.006289 prediction: [[1 0 2 3 3 4]] true Y: [[1, 0, 2, 3, 3, 4]]\n",
      "\n",
      "prediction str: ihello\n",
      "39 cost: 0.0055989367 prediction: [[1 0 2 3 3 4]] true Y: [[1, 0, 2, 3, 3, 4]]\n",
      "\n",
      "prediction str: ihello\n",
      "40 cost: 0.005029542 prediction: [[1 0 2 3 3 4]] true Y: [[1, 0, 2, 3, 3, 4]]\n",
      "\n",
      "prediction str: ihello\n",
      "41 cost: 0.004554921 prediction: [[1 0 2 3 3 4]] true Y: [[1, 0, 2, 3, 3, 4]]\n",
      "\n",
      "prediction str: ihello\n",
      "42 cost: 0.0041556833 prediction: [[1 0 2 3 3 4]] true Y: [[1, 0, 2, 3, 3, 4]]\n",
      "\n",
      "prediction str: ihello\n",
      "43 cost: 0.0038171401 prediction: [[1 0 2 3 3 4]] true Y: [[1, 0, 2, 3, 3, 4]]\n",
      "\n",
      "prediction str: ihello\n",
      "44 cost: 0.0035275298 prediction: [[1 0 2 3 3 4]] true Y: [[1, 0, 2, 3, 3, 4]]\n",
      "\n",
      "prediction str: ihello\n",
      "45 cost: 0.0032777034 prediction: [[1 0 2 3 3 4]] true Y: [[1, 0, 2, 3, 3, 4]]\n",
      "\n",
      "prediction str: ihello\n",
      "46 cost: 0.0030602897 prediction: [[1 0 2 3 3 4]] true Y: [[1, 0, 2, 3, 3, 4]]\n",
      "\n",
      "prediction str: ihello\n",
      "47 cost: 0.0028700575 prediction: [[1 0 2 3 3 4]] true Y: [[1, 0, 2, 3, 3, 4]]\n",
      "\n",
      "prediction str: ihello\n",
      "48 cost: 0.002702656 prediction: [[1 0 2 3 3 4]] true Y: [[1, 0, 2, 3, 3, 4]]\n",
      "\n",
      "prediction str: ihello\n",
      "49 cost: 0.002555095 prediction: [[1 0 2 3 3 4]] true Y: [[1, 0, 2, 3, 3, 4]]\n",
      "\n",
      "prediction str: ihello\n",
      "50 cost: 0.0024245346 prediction: [[1 0 2 3 3 4]] true Y: [[1, 0, 2, 3, 3, 4]]\n",
      "\n",
      "prediction str: ihello\n",
      "51 cost: 0.0023085105 prediction: [[1 0 2 3 3 4]] true Y: [[1, 0, 2, 3, 3, 4]]\n",
      "\n",
      "prediction str: ihello\n",
      "52 cost: 0.002204771 prediction: [[1 0 2 3 3 4]] true Y: [[1, 0, 2, 3, 3, 4]]\n",
      "\n",
      "prediction str: ihello\n",
      "53 cost: 0.00211134 prediction: [[1 0 2 3 3 4]] true Y: [[1, 0, 2, 3, 3, 4]]\n",
      "\n",
      "prediction str: ihello\n",
      "54 cost: 0.0020268147 prediction: [[1 0 2 3 3 4]] true Y: [[1, 0, 2, 3, 3, 4]]\n",
      "\n",
      "prediction str: ihello\n",
      "55 cost: 0.0019499487 prediction: [[1 0 2 3 3 4]] true Y: [[1, 0, 2, 3, 3, 4]]\n",
      "\n",
      "prediction str: ihello\n",
      "56 cost: 0.0018799916 prediction: [[1 0 2 3 3 4]] true Y: [[1, 0, 2, 3, 3, 4]]\n",
      "\n",
      "prediction str: ihello\n",
      "57 cost: 0.0018162908 prediction: [[1 0 2 3 3 4]] true Y: [[1, 0, 2, 3, 3, 4]]\n",
      "\n",
      "prediction str: ihello\n",
      "58 cost: 0.0017581932 prediction: [[1 0 2 3 3 4]] true Y: [[1, 0, 2, 3, 3, 4]]\n",
      "\n",
      "prediction str: ihello\n",
      "59 cost: 0.0017050067 prediction: [[1 0 2 3 3 4]] true Y: [[1, 0, 2, 3, 3, 4]]\n",
      "\n",
      "prediction str: ihello\n",
      "60 cost: 0.0016560782 prediction: [[1 0 2 3 3 4]] true Y: [[1, 0, 2, 3, 3, 4]]\n",
      "\n",
      "prediction str: ihello\n",
      "61 cost: 0.0016108332 prediction: [[1 0 2 3 3 4]] true Y: [[1, 0, 2, 3, 3, 4]]\n",
      "\n",
      "prediction str: ihello\n",
      "62 cost: 0.001568857 prediction: [[1 0 2 3 3 4]] true Y: [[1, 0, 2, 3, 3, 4]]\n",
      "\n",
      "prediction str: ihello\n",
      "63 cost: 0.0015297533 prediction: [[1 0 2 3 3 4]] true Y: [[1, 0, 2, 3, 3, 4]]\n",
      "\n",
      "prediction str: ihello\n",
      "64 cost: 0.0014935228 prediction: [[1 0 2 3 3 4]] true Y: [[1, 0, 2, 3, 3, 4]]\n",
      "\n",
      "prediction str: ihello\n",
      "65 cost: 0.0014597493 prediction: [[1 0 2 3 3 4]] true Y: [[1, 0, 2, 3, 3, 4]]\n",
      "\n",
      "prediction str: ihello\n",
      "66 cost: 0.0014283741 prediction: [[1 0 2 3 3 4]] true Y: [[1, 0, 2, 3, 3, 4]]\n",
      "\n",
      "prediction str: ihello\n",
      "67 cost: 0.0013989215 prediction: [[1 0 2 3 3 4]] true Y: [[1, 0, 2, 3, 3, 4]]\n",
      "\n",
      "prediction str: ihello\n",
      "68 cost: 0.0013713717 prediction: [[1 0 2 3 3 4]] true Y: [[1, 0, 2, 3, 3, 4]]\n",
      "\n",
      "prediction str: ihello\n",
      "69 cost: 0.0013454277 prediction: [[1 0 2 3 3 4]] true Y: [[1, 0, 2, 3, 3, 4]]\n",
      "\n",
      "prediction str: ihello\n",
      "70 cost: 0.0013208912 prediction: [[1 0 2 3 3 4]] true Y: [[1, 0, 2, 3, 3, 4]]\n",
      "\n",
      "prediction str: ihello\n",
      "71 cost: 0.0012977821 prediction: [[1 0 2 3 3 4]] true Y: [[1, 0, 2, 3, 3, 4]]\n",
      "\n",
      "prediction str: ihello\n",
      "72 cost: 0.0012759616 prediction: [[1 0 2 3 3 4]] true Y: [[1, 0, 2, 3, 3, 4]]\n",
      "\n",
      "prediction str: ihello\n",
      "73 cost: 0.0012553505 prediction: [[1 0 2 3 3 4]] true Y: [[1, 0, 2, 3, 3, 4]]\n",
      "\n",
      "prediction str: ihello\n",
      "74 cost: 0.0012358101 prediction: [[1 0 2 3 3 4]] true Y: [[1, 0, 2, 3, 3, 4]]\n",
      "\n",
      "prediction str: ihello\n",
      "75 cost: 0.0012172015 prediction: [[1 0 2 3 3 4]] true Y: [[1, 0, 2, 3, 3, 4]]\n",
      "\n",
      "prediction str: ihello\n",
      "76 cost: 0.0011994255 prediction: [[1 0 2 3 3 4]] true Y: [[1, 0, 2, 3, 3, 4]]\n",
      "\n",
      "prediction str: ihello\n",
      "77 cost: 0.0011824825 prediction: [[1 0 2 3 3 4]] true Y: [[1, 0, 2, 3, 3, 4]]\n",
      "\n",
      "prediction str: ihello\n",
      "78 cost: 0.0011662134 prediction: [[1 0 2 3 3 4]] true Y: [[1, 0, 2, 3, 3, 4]]\n",
      "\n",
      "prediction str: ihello\n",
      "79 cost: 0.0011506584 prediction: [[1 0 2 3 3 4]] true Y: [[1, 0, 2, 3, 3, 4]]\n",
      "\n",
      "prediction str: ihello\n",
      "80 cost: 0.0011358173 prediction: [[1 0 2 3 3 4]] true Y: [[1, 0, 2, 3, 3, 4]]\n",
      "\n",
      "prediction str: ihello\n",
      "81 cost: 0.0011214918 prediction: [[1 0 2 3 3 4]] true Y: [[1, 0, 2, 3, 3, 4]]\n",
      "\n",
      "prediction str: ihello\n",
      "82 cost: 0.001107662 prediction: [[1 0 2 3 3 4]] true Y: [[1, 0, 2, 3, 3, 4]]\n",
      "\n",
      "prediction str: ihello\n",
      "83 cost: 0.0010944671 prediction: [[1 0 2 3 3 4]] true Y: [[1, 0, 2, 3, 3, 4]]\n",
      "\n",
      "prediction str: ihello\n",
      "84 cost: 0.0010815893 prediction: [[1 0 2 3 3 4]] true Y: [[1, 0, 2, 3, 3, 4]]\n",
      "\n",
      "prediction str: ihello\n",
      "85 cost: 0.0010691679 prediction: [[1 0 2 3 3 4]] true Y: [[1, 0, 2, 3, 3, 4]]\n",
      "\n",
      "prediction str: ihello\n",
      "86 cost: 0.001057143 prediction: [[1 0 2 3 3 4]] true Y: [[1, 0, 2, 3, 3, 4]]\n",
      "\n",
      "prediction str: ihello\n",
      "87 cost: 0.0010454751 prediction: [[1 0 2 3 3 4]] true Y: [[1, 0, 2, 3, 3, 4]]\n",
      "\n",
      "prediction str: ihello\n",
      "88 cost: 0.0010341643 prediction: [[1 0 2 3 3 4]] true Y: [[1, 0, 2, 3, 3, 4]]\n",
      "\n",
      "prediction str: ihello\n",
      "89 cost: 0.0010232105 prediction: [[1 0 2 3 3 4]] true Y: [[1, 0, 2, 3, 3, 4]]\n",
      "\n",
      "prediction str: ihello\n",
      "90 cost: 0.001012554 prediction: [[1 0 2 3 3 4]] true Y: [[1, 0, 2, 3, 3, 4]]\n",
      "\n",
      "prediction str: ihello\n",
      "91 cost: 0.0010021158 prediction: [[1 0 2 3 3 4]] true Y: [[1, 0, 2, 3, 3, 4]]\n",
      "\n",
      "prediction str: ihello\n",
      "92 cost: 0.0009920148 prediction: [[1 0 2 3 3 4]] true Y: [[1, 0, 2, 3, 3, 4]]\n",
      "\n",
      "prediction str: ihello\n",
      "93 cost: 0.0009821319 prediction: [[1 0 2 3 3 4]] true Y: [[1, 0, 2, 3, 3, 4]]\n",
      "\n",
      "prediction str: ihello\n",
      "94 cost: 0.0009724871 prediction: [[1 0 2 3 3 4]] true Y: [[1, 0, 2, 3, 3, 4]]\n",
      "\n",
      "prediction str: ihello\n",
      "95 cost: 0.0009630802 prediction: [[1 0 2 3 3 4]] true Y: [[1, 0, 2, 3, 3, 4]]\n",
      "\n",
      "prediction str: ihello\n",
      "96 cost: 0.0009538916 prediction: [[1 0 2 3 3 4]] true Y: [[1, 0, 2, 3, 3, 4]]\n",
      "\n",
      "prediction str: ihello\n",
      "97 cost: 0.00094490126 prediction: [[1 0 2 3 3 4]] true Y: [[1, 0, 2, 3, 3, 4]]\n",
      "\n",
      "prediction str: ihello\n",
      "98 cost: 0.0009361491 prediction: [[1 0 2 3 3 4]] true Y: [[1, 0, 2, 3, 3, 4]]\n",
      "\n",
      "prediction str: ihello\n",
      "99 cost: 0.0009274562 prediction: [[1 0 2 3 3 4]] true Y: [[1, 0, 2, 3, 3, 4]]\n",
      "\n",
      "prediction str: ihello\n"
     ]
    }
   ],
   "source": [
    "with tf.Session() as sess:\n",
    "    sess.run(tf.global_variables_initializer())\n",
    "    for i in range(100):\n",
    "        lossv, _ = sess.run([loss,train], feed_dict={x:xOneHot, y:ydata})\n",
    "        res = sess.run(prediction, feed_dict={x:xOneHot})\n",
    "        print(i, \"cost:\", lossv, \"prediction:\", res, \"true Y:\", ydata)\n",
    "        \n",
    "        s = [idx2char[c] for c in np.squeeze(res)]\n",
    "        print(\"\\nprediction str:\", \"\".join(s))          "
   ]
  },
  {
   "cell_type": "code",
   "execution_count": 14,
   "metadata": {},
   "outputs": [
    {
     "data": {
      "text/plain": [
       "(2, 1)"
      ]
     },
     "execution_count": 14,
     "metadata": {},
     "output_type": "execute_result"
    }
   ],
   "source": [
    "# [1,2]  =>  axis=0  => [[1,2]]\n",
    "# [1,2]  =>  axis=1  => [[1],[2]]\n",
    "   \n",
    "x = np.array([1,2])\n",
    "x.shape\n",
    "y = np.expand_dims(x, axis=1)  #차원 늘리기\n",
    "y.shape"
   ]
  },
  {
   "cell_type": "code",
   "execution_count": 15,
   "metadata": {},
   "outputs": [
    {
     "data": {
      "text/plain": [
       "array([[1],\n",
       "       [2]])"
      ]
     },
     "execution_count": 15,
     "metadata": {},
     "output_type": "execute_result"
    }
   ],
   "source": [
    "y"
   ]
  },
  {
   "cell_type": "code",
   "execution_count": 16,
   "metadata": {},
   "outputs": [
    {
     "data": {
      "text/plain": [
       "(1, 3, 1)"
      ]
     },
     "execution_count": 16,
     "metadata": {},
     "output_type": "execute_result"
    }
   ],
   "source": [
    "x = np.array([[[0],[1],[2]]])\n",
    "x.shape"
   ]
  },
  {
   "cell_type": "code",
   "execution_count": 17,
   "metadata": {},
   "outputs": [
    {
     "data": {
      "text/plain": [
       "array([0, 1, 2])"
      ]
     },
     "execution_count": 17,
     "metadata": {},
     "output_type": "execute_result"
    }
   ],
   "source": [
    "np.squeeze(x)"
   ]
  },
  {
   "cell_type": "code",
   "execution_count": 18,
   "metadata": {},
   "outputs": [],
   "source": [
    "tf.reset_default_graph()"
   ]
  },
  {
   "cell_type": "code",
   "execution_count": 19,
   "metadata": {},
   "outputs": [],
   "source": [
    "hidden_size=2\n",
    "cell = tf.contrib.rnn.BasicLSTMCell(num_units=hidden_size)\n",
    "# 출력 shape = (1,1,2)"
   ]
  },
  {
   "cell_type": "code",
   "execution_count": 20,
   "metadata": {},
   "outputs": [],
   "source": [
    "data = np.array([[[1,0,0,0]]], dtype=np.float32)\n",
    "# xdata shape = (1,1,4)"
   ]
  },
  {
   "cell_type": "code",
   "execution_count": 21,
   "metadata": {
    "scrolled": true
   },
   "outputs": [
    {
     "ename": "ValueError",
     "evalue": "Expected input tensor Tensor(\"rnn/Const:0\", shape=(), dtype=int32) to have rank at least 2",
     "output_type": "error",
     "traceback": [
      "\u001b[1;31m---------------------------------------------------------------------------\u001b[0m",
      "\u001b[1;31mValueError\u001b[0m                                Traceback (most recent call last)",
      "\u001b[1;32m<ipython-input-21-eea275b3bf4d>\u001b[0m in \u001b[0;36m<module>\u001b[1;34m\u001b[0m\n\u001b[0;32m      1\u001b[0m \u001b[0msess\u001b[0m \u001b[1;33m=\u001b[0m \u001b[0mtf\u001b[0m\u001b[1;33m.\u001b[0m\u001b[0mSession\u001b[0m\u001b[1;33m(\u001b[0m\u001b[1;33m)\u001b[0m\u001b[1;33m\u001b[0m\u001b[1;33m\u001b[0m\u001b[0m\n\u001b[1;32m----> 2\u001b[1;33m \u001b[0moutput\u001b[0m\u001b[1;33m,\u001b[0m \u001b[0m_states\u001b[0m \u001b[1;33m=\u001b[0m \u001b[0mtf\u001b[0m\u001b[1;33m.\u001b[0m\u001b[0mnn\u001b[0m\u001b[1;33m.\u001b[0m\u001b[0mdynamic_rnn\u001b[0m\u001b[1;33m(\u001b[0m\u001b[0mcell\u001b[0m\u001b[1;33m,\u001b[0m \u001b[0mxdata\u001b[0m\u001b[1;33m,\u001b[0m \u001b[0mdtype\u001b[0m\u001b[1;33m=\u001b[0m\u001b[0mtf\u001b[0m\u001b[1;33m.\u001b[0m\u001b[0mfloat32\u001b[0m\u001b[1;33m)\u001b[0m\u001b[1;33m\u001b[0m\u001b[1;33m\u001b[0m\u001b[0m\n\u001b[0m\u001b[0;32m      3\u001b[0m \u001b[0msess\u001b[0m\u001b[1;33m.\u001b[0m\u001b[0mrun\u001b[0m\u001b[1;33m(\u001b[0m\u001b[0mtf\u001b[0m\u001b[1;33m.\u001b[0m\u001b[0mglobal_variables_initializer\u001b[0m\u001b[1;33m(\u001b[0m\u001b[1;33m)\u001b[0m\u001b[1;33m)\u001b[0m\u001b[1;33m\u001b[0m\u001b[1;33m\u001b[0m\u001b[0m\n\u001b[0;32m      4\u001b[0m \u001b[0mprint\u001b[0m\u001b[1;33m(\u001b[0m\u001b[0msess\u001b[0m\u001b[1;33m.\u001b[0m\u001b[0mrun\u001b[0m\u001b[1;33m(\u001b[0m\u001b[0moutput\u001b[0m\u001b[1;33m)\u001b[0m\u001b[1;33m)\u001b[0m\u001b[1;33m\u001b[0m\u001b[1;33m\u001b[0m\u001b[0m\n",
      "\u001b[1;32m~\\Anaconda3\\lib\\site-packages\\tensorflow_core\\python\\util\\deprecation.py\u001b[0m in \u001b[0;36mnew_func\u001b[1;34m(*args, **kwargs)\u001b[0m\n\u001b[0;32m    322\u001b[0m               \u001b[1;34m'in a future version'\u001b[0m \u001b[1;32mif\u001b[0m \u001b[0mdate\u001b[0m \u001b[1;32mis\u001b[0m \u001b[1;32mNone\u001b[0m \u001b[1;32melse\u001b[0m \u001b[1;33m(\u001b[0m\u001b[1;34m'after %s'\u001b[0m \u001b[1;33m%\u001b[0m \u001b[0mdate\u001b[0m\u001b[1;33m)\u001b[0m\u001b[1;33m,\u001b[0m\u001b[1;33m\u001b[0m\u001b[1;33m\u001b[0m\u001b[0m\n\u001b[0;32m    323\u001b[0m               instructions)\n\u001b[1;32m--> 324\u001b[1;33m       \u001b[1;32mreturn\u001b[0m \u001b[0mfunc\u001b[0m\u001b[1;33m(\u001b[0m\u001b[1;33m*\u001b[0m\u001b[0margs\u001b[0m\u001b[1;33m,\u001b[0m \u001b[1;33m**\u001b[0m\u001b[0mkwargs\u001b[0m\u001b[1;33m)\u001b[0m\u001b[1;33m\u001b[0m\u001b[1;33m\u001b[0m\u001b[0m\n\u001b[0m\u001b[0;32m    325\u001b[0m     return tf_decorator.make_decorator(\n\u001b[0;32m    326\u001b[0m         \u001b[0mfunc\u001b[0m\u001b[1;33m,\u001b[0m \u001b[0mnew_func\u001b[0m\u001b[1;33m,\u001b[0m \u001b[1;34m'deprecated'\u001b[0m\u001b[1;33m,\u001b[0m\u001b[1;33m\u001b[0m\u001b[1;33m\u001b[0m\u001b[0m\n",
      "\u001b[1;32m~\\Anaconda3\\lib\\site-packages\\tensorflow_core\\python\\ops\\rnn.py\u001b[0m in \u001b[0;36mdynamic_rnn\u001b[1;34m(cell, inputs, sequence_length, initial_state, dtype, parallel_iterations, swap_memory, time_major, scope)\u001b[0m\n\u001b[0;32m    667\u001b[0m           name=\"sequence_length\")\n\u001b[0;32m    668\u001b[0m \u001b[1;33m\u001b[0m\u001b[0m\n\u001b[1;32m--> 669\u001b[1;33m     \u001b[0mbatch_size\u001b[0m \u001b[1;33m=\u001b[0m \u001b[0m_best_effort_input_batch_size\u001b[0m\u001b[1;33m(\u001b[0m\u001b[0mflat_input\u001b[0m\u001b[1;33m)\u001b[0m\u001b[1;33m\u001b[0m\u001b[1;33m\u001b[0m\u001b[0m\n\u001b[0m\u001b[0;32m    670\u001b[0m \u001b[1;33m\u001b[0m\u001b[0m\n\u001b[0;32m    671\u001b[0m     \u001b[1;32mif\u001b[0m \u001b[0minitial_state\u001b[0m \u001b[1;32mis\u001b[0m \u001b[1;32mnot\u001b[0m \u001b[1;32mNone\u001b[0m\u001b[1;33m:\u001b[0m\u001b[1;33m\u001b[0m\u001b[1;33m\u001b[0m\u001b[0m\n",
      "\u001b[1;32m~\\Anaconda3\\lib\\site-packages\\tensorflow_core\\python\\ops\\rnn.py\u001b[0m in \u001b[0;36m_best_effort_input_batch_size\u001b[1;34m(flat_input)\u001b[0m\n\u001b[0;32m     86\u001b[0m     \u001b[1;32mif\u001b[0m \u001b[0mshape\u001b[0m\u001b[1;33m.\u001b[0m\u001b[0mrank\u001b[0m \u001b[1;33m<\u001b[0m \u001b[1;36m2\u001b[0m\u001b[1;33m:\u001b[0m\u001b[1;33m\u001b[0m\u001b[1;33m\u001b[0m\u001b[0m\n\u001b[0;32m     87\u001b[0m       raise ValueError(\"Expected input tensor %s to have rank at least 2\" %\n\u001b[1;32m---> 88\u001b[1;33m                        input_)\n\u001b[0m\u001b[0;32m     89\u001b[0m     \u001b[0mbatch_size\u001b[0m \u001b[1;33m=\u001b[0m \u001b[0mshape\u001b[0m\u001b[1;33m.\u001b[0m\u001b[0mdims\u001b[0m\u001b[1;33m[\u001b[0m\u001b[1;36m1\u001b[0m\u001b[1;33m]\u001b[0m\u001b[1;33m.\u001b[0m\u001b[0mvalue\u001b[0m\u001b[1;33m\u001b[0m\u001b[1;33m\u001b[0m\u001b[0m\n\u001b[0;32m     90\u001b[0m     \u001b[1;32mif\u001b[0m \u001b[0mbatch_size\u001b[0m \u001b[1;32mis\u001b[0m \u001b[1;32mnot\u001b[0m \u001b[1;32mNone\u001b[0m\u001b[1;33m:\u001b[0m\u001b[1;33m\u001b[0m\u001b[1;33m\u001b[0m\u001b[0m\n",
      "\u001b[1;31mValueError\u001b[0m: Expected input tensor Tensor(\"rnn/Const:0\", shape=(), dtype=int32) to have rank at least 2"
     ]
    }
   ],
   "source": [
    "sess = tf.Session()\n",
    "output, _states = tf.nn.dynamic_rnn(cell, xdata, dtype=tf.float32)\n",
    "sess.run(tf.global_variables_initializer())\n",
    "print(sess.run(output))"
   ]
  },
  {
   "cell_type": "code",
   "execution_count": null,
   "metadata": {},
   "outputs": [],
   "source": [
    "# input shape = (단어 개수, 입력글자수, 원핫 크기)\n",
    "# output shape = (단어 개수, 입력글자수)"
   ]
  },
  {
   "cell_type": "code",
   "execution_count": 22,
   "metadata": {},
   "outputs": [],
   "source": [
    "tf.reset_default_graph()"
   ]
  },
  {
   "cell_type": "code",
   "execution_count": null,
   "metadata": {},
   "outputs": [],
   "source": [
    "# h -> [1,0,0,0]\n",
    "xdata = np.array([[h,e,l,l,o],\n",
    "                  [e,o,l,l,l],\n",
    "                  [l,l,e,e,l]], dtype=np.float32)\n",
    "hidden_size=2\n",
    "cell = tf.contrib.rnn.BasicLSTMCell(num_units=hidden_size) #출력: 2개\n",
    "sess = tf.Session()\n",
    "output, _states = tf.nn.dynamic_rnn(cell, xdata, dtype=tf.float32)\n",
    "sess.run(tf.global_variables_initializer())\n",
    "print(sess.run(output))"
   ]
  },
  {
   "cell_type": "code",
   "execution_count": 25,
   "metadata": {},
   "outputs": [],
   "source": [
    "from tensorflow.examples.tutorials.mnist import input_data"
   ]
  },
  {
   "cell_type": "code",
   "execution_count": 26,
   "metadata": {
    "scrolled": true
   },
   "outputs": [
    {
     "name": "stdout",
     "output_type": "stream",
     "text": [
      "WARNING:tensorflow:From <ipython-input-26-6fa84048fdd1>:1: read_data_sets (from tensorflow.contrib.learn.python.learn.datasets.mnist) is deprecated and will be removed in a future version.\n",
      "Instructions for updating:\n",
      "Please use alternatives such as official/mnist/dataset.py from tensorflow/models.\n",
      "WARNING:tensorflow:From C:\\Users\\student\\Anaconda3\\lib\\site-packages\\tensorflow_core\\contrib\\learn\\python\\learn\\datasets\\mnist.py:260: maybe_download (from tensorflow.contrib.learn.python.learn.datasets.base) is deprecated and will be removed in a future version.\n",
      "Instructions for updating:\n",
      "Please write your own downloading logic.\n",
      "WARNING:tensorflow:From C:\\Users\\student\\Anaconda3\\lib\\site-packages\\tensorflow_core\\contrib\\learn\\python\\learn\\datasets\\base.py:252: _internal_retry.<locals>.wrap.<locals>.wrapped_fn (from tensorflow.contrib.learn.python.learn.datasets.base) is deprecated and will be removed in a future version.\n",
      "Instructions for updating:\n",
      "Please use urllib or similar directly.\n",
      "Successfully downloaded train-images-idx3-ubyte.gz 9912422 bytes.\n",
      "WARNING:tensorflow:From C:\\Users\\student\\Anaconda3\\lib\\site-packages\\tensorflow_core\\contrib\\learn\\python\\learn\\datasets\\mnist.py:262: extract_images (from tensorflow.contrib.learn.python.learn.datasets.mnist) is deprecated and will be removed in a future version.\n",
      "Instructions for updating:\n",
      "Please use tf.data to implement this functionality.\n",
      "Extracting ./mnist/data/train-images-idx3-ubyte.gz\n",
      "Successfully downloaded train-labels-idx1-ubyte.gz 28881 bytes.\n",
      "WARNING:tensorflow:From C:\\Users\\student\\Anaconda3\\lib\\site-packages\\tensorflow_core\\contrib\\learn\\python\\learn\\datasets\\mnist.py:267: extract_labels (from tensorflow.contrib.learn.python.learn.datasets.mnist) is deprecated and will be removed in a future version.\n",
      "Instructions for updating:\n",
      "Please use tf.data to implement this functionality.\n",
      "Extracting ./mnist/data/train-labels-idx1-ubyte.gz\n",
      "WARNING:tensorflow:From C:\\Users\\student\\Anaconda3\\lib\\site-packages\\tensorflow_core\\contrib\\learn\\python\\learn\\datasets\\mnist.py:110: dense_to_one_hot (from tensorflow.contrib.learn.python.learn.datasets.mnist) is deprecated and will be removed in a future version.\n",
      "Instructions for updating:\n",
      "Please use tf.one_hot on tensors.\n",
      "Successfully downloaded t10k-images-idx3-ubyte.gz 1648877 bytes.\n",
      "Extracting ./mnist/data/t10k-images-idx3-ubyte.gz\n",
      "Successfully downloaded t10k-labels-idx1-ubyte.gz 4542 bytes.\n",
      "Extracting ./mnist/data/t10k-labels-idx1-ubyte.gz\n",
      "WARNING:tensorflow:From C:\\Users\\student\\Anaconda3\\lib\\site-packages\\tensorflow_core\\contrib\\learn\\python\\learn\\datasets\\mnist.py:290: DataSet.__init__ (from tensorflow.contrib.learn.python.learn.datasets.mnist) is deprecated and will be removed in a future version.\n",
      "Instructions for updating:\n",
      "Please use alternatives such as official/mnist/dataset.py from tensorflow/models.\n"
     ]
    }
   ],
   "source": [
    "mnist = input_data.read_data_sets(\"./mnist/data/\", one_hot=True)"
   ]
  },
  {
   "cell_type": "code",
   "execution_count": 27,
   "metadata": {},
   "outputs": [],
   "source": [
    "lr=0.01\n",
    "total_epoch=30\n",
    "batch_size=128\n",
    "\n",
    "n_input=28 #한번에 입력받는 데이터 개수\n",
    "n_step=28 #28줄\n",
    "n_hidden=128 #셀에서 나가는 출력의 개수\n",
    "n_class=10  #숫자의 종류(0~9)"
   ]
  },
  {
   "cell_type": "code",
   "execution_count": 28,
   "metadata": {},
   "outputs": [],
   "source": [
    "#신경망\n",
    "x = tf.placeholder(tf.float32, [None,n_step,n_input])\n",
    "y = tf.placeholder(tf.float32, [None,n_class])"
   ]
  },
  {
   "cell_type": "code",
   "execution_count": 32,
   "metadata": {},
   "outputs": [],
   "source": [
    "w = tf.Variable(tf.random_normal([n_hidden, n_class]))\n",
    "b = tf.Variable(tf.random_normal([n_class]))"
   ]
  },
  {
   "cell_type": "code",
   "execution_count": 29,
   "metadata": {},
   "outputs": [],
   "source": [
    "#rnn 학습할 셀을 생성\n",
    "cell = tf.nn.rnn_cell.BasicLSTMCell(n_hidden)"
   ]
  },
  {
   "cell_type": "code",
   "execution_count": 31,
   "metadata": {},
   "outputs": [],
   "source": [
    "#rnn 망 구성\n",
    "outputs, _states = tf.nn.dynamic_rnn(cell, x, dtype=tf.float32)\n",
    "#outputs : [batch_size, n_step, n_hidden]\n",
    "# => 구조 변경(y형태로) => y:[batch_size, n_class]\n",
    "\n",
    "#      0    ,  1    ,   2\n",
    "#[batch_size, n_step, n_hidden] -> \n",
    "# [n_step, batch_size, n_hidden]\n",
    "#     1    ,  0      ,  2\n",
    "outputs = tf.transpose(outputs, [1,0,2])\n",
    "outputs = outputs[-1]"
   ]
  },
  {
   "cell_type": "code",
   "execution_count": 33,
   "metadata": {},
   "outputs": [],
   "source": [
    "model = tf.matmul(outputs,w) + b\n",
    "cost = tf.reduce_mean(tf.nn.softmax_cross_entropy_with_logits_v2(logits=model, labels=y))\n",
    "opt = tf.train.AdamOptimizer(lr).minimize(cost)"
   ]
  },
  {
   "cell_type": "code",
   "execution_count": 34,
   "metadata": {},
   "outputs": [],
   "source": [
    "#신경망 모델 학습\n",
    "sess = tf.Session()\n",
    "sess.run(tf.global_variables_initializer())"
   ]
  },
  {
   "cell_type": "code",
   "execution_count": 35,
   "metadata": {},
   "outputs": [],
   "source": [
    "total_batch = int(mnist.train.num_examples/batch_size)"
   ]
  },
  {
   "cell_type": "code",
   "execution_count": 36,
   "metadata": {},
   "outputs": [
    {
     "name": "stdout",
     "output_type": "stream",
     "text": [
      "에폭:    1 cost 평균: 0.344\n",
      "에폭:    2 cost 평균: 0.088\n",
      "에폭:    3 cost 평균: 0.063\n",
      "에폭:    4 cost 평균: 0.048\n",
      "에폭:    5 cost 평균: 0.043\n",
      "에폭:    6 cost 평균: 0.045\n",
      "에폭:    7 cost 평균: 0.034\n",
      "에폭:    8 cost 평균: 0.035\n",
      "에폭:    9 cost 평균: 0.035\n",
      "에폭:   10 cost 평균: 0.029\n",
      "에폭:   11 cost 평균: 0.030\n",
      "에폭:   12 cost 평균: 0.028\n",
      "에폭:   13 cost 평균: 0.026\n",
      "에폭:   14 cost 평균: 0.029\n",
      "에폭:   15 cost 평균: 0.025\n",
      "에폭:   16 cost 평균: 0.025\n",
      "에폭:   17 cost 평균: 0.022\n",
      "에폭:   18 cost 평균: 0.022\n",
      "에폭:   19 cost 평균: 0.025\n",
      "에폭:   20 cost 평균: 0.025\n",
      "에폭:   21 cost 평균: 0.019\n",
      "에폭:   22 cost 평균: 0.022\n",
      "에폭:   23 cost 평균: 0.023\n",
      "에폭:   24 cost 평균: 0.021\n",
      "에폭:   25 cost 평균: 0.020\n",
      "에폭:   26 cost 평균: 0.021\n",
      "에폭:   27 cost 평균: 0.020\n",
      "에폭:   28 cost 평균: 0.017\n",
      "에폭:   29 cost 평균: 0.020\n",
      "에폭:   30 cost 평균: 0.016\n"
     ]
    }
   ],
   "source": [
    "for epoch in range(total_epoch):\n",
    "    total_cost=0\n",
    "    for i in range(total_batch):\n",
    "        batchX, batchY = mnist.train.next_batch(batch_size)\n",
    "        batchX = batchX.reshape((batch_size, n_step, n_input))\n",
    "        #128,784 -> 128,28,28\n",
    "        _, costv = sess.run([opt, cost], feed_dict={x:batchX, y:batchY})\n",
    "        total_cost+=costv\n",
    "    print(\"에폭:\", \"%4d\" %(epoch+1), \"cost 평균:\", \"{:.3f}\".format(total_cost/total_batch))"
   ]
  },
  {
   "cell_type": "code",
   "execution_count": 37,
   "metadata": {},
   "outputs": [
    {
     "name": "stdout",
     "output_type": "stream",
     "text": [
      "0.9853\n"
     ]
    }
   ],
   "source": [
    "isCorrect = tf.equal(tf.argmax(model,1), tf.argmax(y,1))\n",
    "accuracy = tf.reduce_mean(tf.cast(isCorrect, tf.float32))\n",
    "testSize = len(mnist.test.images)\n",
    "testX = mnist.test.images.reshape(testSize, n_step, n_input)\n",
    "testY = mnist.test.labels\n",
    "\n",
    "print(sess.run(accuracy, feed_dict={x:testX, y:testY}))"
   ]
  }
 ],
 "metadata": {
  "kernelspec": {
   "display_name": "Python 3",
   "language": "python",
   "name": "python3"
  },
  "language_info": {
   "codemirror_mode": {
    "name": "ipython",
    "version": 3
   },
   "file_extension": ".py",
   "mimetype": "text/x-python",
   "name": "python",
   "nbconvert_exporter": "python",
   "pygments_lexer": "ipython3",
   "version": "3.7.4"
  }
 },
 "nbformat": 4,
 "nbformat_minor": 2
}
